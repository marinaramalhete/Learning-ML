{
 "cells": [
  {
   "cell_type": "markdown",
   "metadata": {},
   "source": [
    "# Previsão de Links\n",
    "\n",
    "#### 1 - Carregando Bibliotecas e Redes"
   ]
  },
  {
   "cell_type": "code",
   "execution_count": 1,
   "metadata": {},
   "outputs": [
    {
     "data": {
      "image/png": "[encoded data removed]",
      "text/plain": [
       "<Figure size 432x288 with 1 Axes>"
      ]
     },
     "metadata": {},
     "output_type": "display_data"
    }
   ],
   "source": [
    "import networkx as nx\n",
    "import collections\n",
    "import matplotlib.pyplot as plt\n",
    "import numpy as np\n",
    "%matplotlib inline\n",
    "\n",
    "G = nx.Graph()\n",
    "G.add_edges_from([('A','B'),('A','D'),('B','D'),\n",
    "                  ('D','C'),('A','E'),('B','C'),\n",
    "                  ('E','F'),('C','F'),('E','G')])\n",
    "G.add_edges_from([('G','F'),('G','I'),('G','H')])\n",
    "\n",
    "\n",
    "colors = []\n",
    "for v in G:\n",
    "    colors.append(G.degree(v));\n",
    "\n",
    "nx.draw_kamada_kawai(G, node_color=colors, with_labels=True, cmap=plt.cm.Oranges, node_size=500, font_weight='bold')\n",
    "plt.show()"
   ]
  },
  {
   "cell_type": "markdown",
   "metadata": {},
   "source": [
    "#### 2 - Vizinhos comuns"
   ]
  },
  {
   "cell_type": "code",
   "execution_count": 2,
   "metadata": {},
   "outputs": [
    {
     "data": {
      "text/plain": [
       "['B', 'D']"
      ]
     },
     "execution_count": 2,
     "metadata": {},
     "output_type": "execute_result"
    }
   ],
   "source": [
    "CN = nx.common_neighbors(G, 'A', 'C')\n",
    "\n",
    "list(CN)"
   ]
  },
  {
   "cell_type": "markdown",
   "metadata": {},
   "source": [
    "#### 3 - Coeficiente de Jaccard"
   ]
  },
  {
   "cell_type": "code",
   "execution_count": 3,
   "metadata": {},
   "outputs": [
    {
     "data": {
      "text/plain": [
       "[('G', 'A', 0.16666666666666666),\n",
       " ('G', 'B', 0.0),\n",
       " ('G', 'D', 0.0),\n",
       " ('G', 'C', 0.16666666666666666),\n",
       " ('B', 'H', 0.0),\n",
       " ('B', 'E', 0.2),\n",
       " ('B', 'I', 0.0),\n",
       " ('B', 'F', 0.2),\n",
       " ('H', 'C', 0.0),\n",
       " ('H', 'E', 0.3333333333333333),\n",
       " ('H', 'A', 0.0),\n",
       " ('H', 'D', 0.0),\n",
       " ('H', 'I', 1.0),\n",
       " ('H', 'F', 0.3333333333333333),\n",
       " ('C', 'I', 0.0),\n",
       " ('C', 'E', 0.2),\n",
       " ('C', 'A', 0.5),\n",
       " ('E', 'I', 0.3333333333333333),\n",
       " ('E', 'D', 0.2),\n",
       " ('D', 'I', 0.0),\n",
       " ('D', 'F', 0.2),\n",
       " ('A', 'I', 0.0),\n",
       " ('A', 'F', 0.2),\n",
       " ('I', 'F', 0.3333333333333333)]"
      ]
     },
     "execution_count": 3,
     "metadata": {},
     "output_type": "execute_result"
    }
   ],
   "source": [
    "jacc = nx.jaccard_coefficient(G)\n",
    "list(jacc)"
   ]
  },
  {
   "cell_type": "markdown",
   "metadata": {},
   "source": [
    "#### 4 - Índice de Alocação de Recursos"
   ]
  },
  {
   "cell_type": "code",
   "execution_count": 4,
   "metadata": {},
   "outputs": [
    {
     "data": {
      "text/plain": [
       "[('G', 'A', 0.3333333333333333),\n",
       " ('G', 'B', 0),\n",
       " ('G', 'D', 0),\n",
       " ('G', 'C', 0.3333333333333333),\n",
       " ('B', 'H', 0),\n",
       " ('B', 'E', 0.3333333333333333),\n",
       " ('B', 'I', 0),\n",
       " ('B', 'F', 0.3333333333333333),\n",
       " ('H', 'C', 0),\n",
       " ('H', 'E', 0.25),\n",
       " ('H', 'A', 0),\n",
       " ('H', 'D', 0),\n",
       " ('H', 'I', 0.25),\n",
       " ('H', 'F', 0.25),\n",
       " ('C', 'I', 0),\n",
       " ('C', 'E', 0.3333333333333333),\n",
       " ('C', 'A', 0.6666666666666666),\n",
       " ('E', 'I', 0.25),\n",
       " ('E', 'D', 0.3333333333333333),\n",
       " ('D', 'I', 0),\n",
       " ('D', 'F', 0.3333333333333333),\n",
       " ('A', 'I', 0),\n",
       " ('A', 'F', 0.3333333333333333),\n",
       " ('I', 'F', 0.25)]"
      ]
     },
     "execution_count": 4,
     "metadata": {},
     "output_type": "execute_result"
    }
   ],
   "source": [
    "list(nx.resource_allocation_index(G))"
   ]
  },
  {
   "cell_type": "markdown",
   "metadata": {},
   "source": [
    "#### 5 - Índice de Adamic-Adar"
   ]
  },
  {
   "cell_type": "code",
   "execution_count": 5,
   "metadata": {},
   "outputs": [
    {
     "data": {
      "text/plain": [
       "[('G', 'A', 0.9102392266268373),\n",
       " ('G', 'B', 0),\n",
       " ('G', 'D', 0),\n",
       " ('G', 'C', 0.9102392266268373),\n",
       " ('B', 'H', 0),\n",
       " ('B', 'E', 0.9102392266268373),\n",
       " ('B', 'I', 0),\n",
       " ('B', 'F', 0.9102392266268373),\n",
       " ('H', 'C', 0),\n",
       " ('H', 'E', 0.7213475204444817),\n",
       " ('H', 'A', 0),\n",
       " ('H', 'D', 0),\n",
       " ('H', 'I', 0.7213475204444817),\n",
       " ('H', 'F', 0.7213475204444817),\n",
       " ('C', 'I', 0),\n",
       " ('C', 'E', 0.9102392266268373),\n",
       " ('C', 'A', 1.8204784532536746),\n",
       " ('E', 'I', 0.7213475204444817),\n",
       " ('E', 'D', 0.9102392266268373),\n",
       " ('D', 'I', 0),\n",
       " ('D', 'F', 0.9102392266268373),\n",
       " ('A', 'I', 0),\n",
       " ('A', 'F', 0.9102392266268373),\n",
       " ('I', 'F', 0.7213475204444817)]"
      ]
     },
     "execution_count": 5,
     "metadata": {},
     "output_type": "execute_result"
    }
   ],
   "source": [
    "list(nx.adamic_adar_index(G))"
   ]
  },
  {
   "cell_type": "markdown",
   "metadata": {},
   "source": [
    "#### 6 - Escore Preferential Attachment"
   ]
  },
  {
   "cell_type": "code",
   "execution_count": 6,
   "metadata": {},
   "outputs": [
    {
     "data": {
      "text/plain": [
       "[('G', 'A', 12),\n",
       " ('G', 'B', 12),\n",
       " ('G', 'D', 12),\n",
       " ('G', 'C', 12),\n",
       " ('B', 'H', 3),\n",
       " ('B', 'E', 9),\n",
       " ('B', 'I', 3),\n",
       " ('B', 'F', 9),\n",
       " ('H', 'C', 3),\n",
       " ('H', 'E', 3),\n",
       " ('H', 'A', 3),\n",
       " ('H', 'D', 3),\n",
       " ('H', 'I', 1),\n",
       " ('H', 'F', 3),\n",
       " ('C', 'I', 3),\n",
       " ('C', 'E', 9),\n",
       " ('C', 'A', 9),\n",
       " ('E', 'I', 3),\n",
       " ('E', 'D', 9),\n",
       " ('D', 'I', 3),\n",
       " ('D', 'F', 9),\n",
       " ('A', 'I', 3),\n",
       " ('A', 'F', 9),\n",
       " ('I', 'F', 3)]"
      ]
     },
     "execution_count": 6,
     "metadata": {},
     "output_type": "execute_result"
    }
   ],
   "source": [
    "list(nx.preferential_attachment(G))"
   ]
  },
  {
   "cell_type": "markdown",
   "metadata": {},
   "source": [
    "#### 7 - Criando comunidades"
   ]
  },
  {
   "cell_type": "code",
   "execution_count": 8,
   "metadata": {},
   "outputs": [],
   "source": [
    "G.nodes['A']['community'] = 0\n",
    "G.nodes['B']['community'] = 0\n",
    "G.nodes['C']['community'] = 0\n",
    "G.nodes['D']['community'] = 0\n",
    "G.nodes['E']['community'] = 1\n",
    "G.nodes['F']['community'] = 1\n",
    "G.nodes['G']['community'] = 1\n",
    "G.nodes['H']['community'] = 1\n",
    "G.nodes['I']['community'] = 1"
   ]
  },
  {
   "cell_type": "markdown",
   "metadata": {},
   "source": [
    "#### 8 - Soundarajan-Hopcroft"
   ]
  },
  {
   "cell_type": "code",
   "execution_count": 9,
   "metadata": {
    "scrolled": true
   },
   "outputs": [
    {
     "data": {
      "text/plain": [
       "[('G', 'A', 1),\n",
       " ('G', 'B', 0),\n",
       " ('G', 'D', 0),\n",
       " ('G', 'C', 1),\n",
       " ('B', 'H', 0),\n",
       " ('B', 'E', 1),\n",
       " ('B', 'I', 0),\n",
       " ('B', 'F', 1),\n",
       " ('H', 'C', 0),\n",
       " ('H', 'E', 2),\n",
       " ('H', 'A', 0),\n",
       " ('H', 'D', 0),\n",
       " ('H', 'I', 2),\n",
       " ('H', 'F', 2),\n",
       " ('C', 'I', 0),\n",
       " ('C', 'E', 1),\n",
       " ('C', 'A', 4),\n",
       " ('E', 'I', 2),\n",
       " ('E', 'D', 1),\n",
       " ('D', 'I', 0),\n",
       " ('D', 'F', 1),\n",
       " ('A', 'I', 0),\n",
       " ('A', 'F', 1),\n",
       " ('I', 'F', 2)]"
      ]
     },
     "execution_count": 9,
     "metadata": {},
     "output_type": "execute_result"
    }
   ],
   "source": [
    "list(nx.cn_soundarajan_hopcroft(G))"
   ]
  },
  {
   "cell_type": "markdown",
   "metadata": {},
   "source": [
    "#### 9 - Alocação de Recursos com Soundarajan-Hopcroft"
   ]
  },
  {
   "cell_type": "code",
   "execution_count": 10,
   "metadata": {
    "scrolled": true
   },
   "outputs": [
    {
     "data": {
      "text/plain": [
       "[('G', 'A', 0),\n",
       " ('G', 'B', 0),\n",
       " ('G', 'D', 0),\n",
       " ('G', 'C', 0),\n",
       " ('B', 'H', 0),\n",
       " ('B', 'E', 0),\n",
       " ('B', 'I', 0),\n",
       " ('B', 'F', 0),\n",
       " ('H', 'C', 0),\n",
       " ('H', 'E', 0.25),\n",
       " ('H', 'A', 0),\n",
       " ('H', 'D', 0),\n",
       " ('H', 'I', 0.25),\n",
       " ('H', 'F', 0.25),\n",
       " ('C', 'I', 0),\n",
       " ('C', 'E', 0),\n",
       " ('C', 'A', 0.6666666666666666),\n",
       " ('E', 'I', 0.25),\n",
       " ('E', 'D', 0),\n",
       " ('D', 'I', 0),\n",
       " ('D', 'F', 0),\n",
       " ('A', 'I', 0),\n",
       " ('A', 'F', 0),\n",
       " ('I', 'F', 0.25)]"
      ]
     },
     "execution_count": 10,
     "metadata": {},
     "output_type": "execute_result"
    }
   ],
   "source": [
    "list(nx.ra_index_soundarajan_hopcroft(G))"
   ]
  },
  {
   "cell_type": "code",
   "execution_count": null,
   "metadata": {},
   "outputs": [],
   "source": []
  }
 ],
 "metadata": {
  "kernelspec": {
   "display_name": "Python 3 (ipykernel)",
   "language": "python",
   "name": "python3"
  },
  "language_info": {
   "codemirror_mode": {
    "name": "ipython",
    "version": 3
   },
   "file_extension": ".py",
   "mimetype": "text/x-python",
   "name": "python",
   "nbconvert_exporter": "python",
   "pygments_lexer": "ipython3",
   "version": "3.8.0"
  }
 },
 "nbformat": 4,
 "nbformat_minor": 2
}
