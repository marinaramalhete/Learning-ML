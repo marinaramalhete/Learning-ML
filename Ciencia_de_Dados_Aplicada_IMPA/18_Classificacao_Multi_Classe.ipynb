{
 "cells": [
  {
   "cell_type": "markdown",
   "metadata": {},
   "source": [
    "# Estudos de Caso - Classificação Multi-classe\n",
    "\n",
    "\n",
    "#### 1 - Importando a base de dados"
   ]
  },
  {
   "cell_type": "code",
   "execution_count": 1,
   "metadata": {
    "scrolled": false
   },
   "outputs": [],
   "source": [
    "%matplotlib inline\n",
    "import pandas as pd"
   ]
  },
  {
   "cell_type": "markdown",
   "metadata": {},
   "source": [
    "Data -> https://www.kaggle.com/dushyantv/consumer_complaints"
   ]
  },
  {
   "cell_type": "code",
   "execution_count": 2,
   "metadata": {},
   "outputs": [
    {
     "data": {
      "text/html": [
       "<div>\n",
       "<style scoped>\n",
       "    .dataframe tbody tr th:only-of-type {\n",
       "        vertical-align: middle;\n",
       "    }\n",
       "\n",
       "    .dataframe tbody tr th {\n",
       "        vertical-align: top;\n",
       "    }\n",
       "\n",
       "    .dataframe thead th {\n",
       "        text-align: right;\n",
       "    }\n",
       "</style>\n",
       "<table border=\"1\" class=\"dataframe\">\n",
       "  <thead>\n",
       "    <tr style=\"text-align: right;\">\n",
       "      <th></th>\n",
       "      <th>Date received</th>\n",
       "      <th>Product</th>\n",
       "      <th>Sub-product</th>\n",
       "      <th>Issue</th>\n",
       "      <th>Sub-issue</th>\n",
       "      <th>Consumer Complaint</th>\n",
       "      <th>Company Public Response</th>\n",
       "      <th>Company</th>\n",
       "      <th>State</th>\n",
       "      <th>ZIP code</th>\n",
       "      <th>Tags</th>\n",
       "      <th>Consumer consent provided?</th>\n",
       "      <th>Submitted via</th>\n",
       "      <th>Date Sent to Company</th>\n",
       "      <th>Company Response to Consumer</th>\n",
       "      <th>Timely response?</th>\n",
       "      <th>Consumer disputed?</th>\n",
       "      <th>Complaint ID</th>\n",
       "      <th>Unnamed: 18</th>\n",
       "    </tr>\n",
       "  </thead>\n",
       "  <tbody>\n",
       "    <tr>\n",
       "      <th>149494</th>\n",
       "      <td>03/14/2016</td>\n",
       "      <td>Payday loan</td>\n",
       "      <td>NaN</td>\n",
       "      <td>Can't contact lender</td>\n",
       "      <td>NaN</td>\n",
       "      <td>I have been receiving harassing threatening ph...</td>\n",
       "      <td>Company believes complaint caused principally ...</td>\n",
       "      <td>EZCORP, INC.</td>\n",
       "      <td>OH</td>\n",
       "      <td>453XX</td>\n",
       "      <td>NaN</td>\n",
       "      <td>Consent provided</td>\n",
       "      <td>Web</td>\n",
       "      <td>03/14/2016</td>\n",
       "      <td>Closed with explanation</td>\n",
       "      <td>Yes</td>\n",
       "      <td>No</td>\n",
       "      <td>1831941</td>\n",
       "      <td>NaN</td>\n",
       "    </tr>\n",
       "    <tr>\n",
       "      <th>467117</th>\n",
       "      <td>01/20/2016</td>\n",
       "      <td>Credit reporting</td>\n",
       "      <td>NaN</td>\n",
       "      <td>Credit monitoring or identity protection</td>\n",
       "      <td>Problem with fraud alerts</td>\n",
       "      <td>NaN</td>\n",
       "      <td>Company chooses not to provide a public response</td>\n",
       "      <td>TRANSUNION INTERMEDIATE HOLDINGS, INC.</td>\n",
       "      <td>IN</td>\n",
       "      <td>46341</td>\n",
       "      <td>Older American, Servicemember</td>\n",
       "      <td>NaN</td>\n",
       "      <td>Phone</td>\n",
       "      <td>01/20/2016</td>\n",
       "      <td>Closed with non-monetary relief</td>\n",
       "      <td>Yes</td>\n",
       "      <td>No</td>\n",
       "      <td>1750672</td>\n",
       "      <td>NaN</td>\n",
       "    </tr>\n",
       "    <tr>\n",
       "      <th>743113</th>\n",
       "      <td>09/27/2013</td>\n",
       "      <td>Mortgage</td>\n",
       "      <td>Conventional fixed mortgage</td>\n",
       "      <td>Loan modification,collection,foreclosure</td>\n",
       "      <td>NaN</td>\n",
       "      <td>NaN</td>\n",
       "      <td>NaN</td>\n",
       "      <td>Statebridge Company</td>\n",
       "      <td>GA</td>\n",
       "      <td>30052</td>\n",
       "      <td>NaN</td>\n",
       "      <td>NaN</td>\n",
       "      <td>Web</td>\n",
       "      <td>09/27/2013</td>\n",
       "      <td>Closed with explanation</td>\n",
       "      <td>Yes</td>\n",
       "      <td>No</td>\n",
       "      <td>545186</td>\n",
       "      <td>NaN</td>\n",
       "    </tr>\n",
       "    <tr>\n",
       "      <th>545672</th>\n",
       "      <td>06/13/2014</td>\n",
       "      <td>Student loan</td>\n",
       "      <td>Non-federal student loan</td>\n",
       "      <td>Dealing with my lender or servicer</td>\n",
       "      <td>Need information about my balance/terms</td>\n",
       "      <td>NaN</td>\n",
       "      <td>NaN</td>\n",
       "      <td>AES/PHEAA</td>\n",
       "      <td>GA</td>\n",
       "      <td>30607</td>\n",
       "      <td>NaN</td>\n",
       "      <td>NaN</td>\n",
       "      <td>Web</td>\n",
       "      <td>06/13/2014</td>\n",
       "      <td>Closed with explanation</td>\n",
       "      <td>Yes</td>\n",
       "      <td>Yes</td>\n",
       "      <td>893762</td>\n",
       "      <td>NaN</td>\n",
       "    </tr>\n",
       "    <tr>\n",
       "      <th>55857</th>\n",
       "      <td>07-06-2015</td>\n",
       "      <td>Credit reporting</td>\n",
       "      <td>NaN</td>\n",
       "      <td>Incorrect information on credit report</td>\n",
       "      <td>Information is not mine</td>\n",
       "      <td>NaN</td>\n",
       "      <td>NaN</td>\n",
       "      <td>EQUIFAX, INC.</td>\n",
       "      <td>NC</td>\n",
       "      <td>28334</td>\n",
       "      <td>NaN</td>\n",
       "      <td>Consent not provided</td>\n",
       "      <td>Web</td>\n",
       "      <td>07-06-2015</td>\n",
       "      <td>Closed with explanation</td>\n",
       "      <td>Yes</td>\n",
       "      <td>No</td>\n",
       "      <td>1453534</td>\n",
       "      <td>NaN</td>\n",
       "    </tr>\n",
       "  </tbody>\n",
       "</table>\n",
       "</div>"
      ],
      "text/plain": [
       "       Date received           Product                  Sub-product  \\\n",
       "149494    03/14/2016       Payday loan                          NaN   \n",
       "467117    01/20/2016  Credit reporting                          NaN   \n",
       "743113    09/27/2013          Mortgage  Conventional fixed mortgage   \n",
       "545672    06/13/2014      Student loan     Non-federal student loan   \n",
       "55857     07-06-2015  Credit reporting                          NaN   \n",
       "\n",
       "                                           Issue  \\\n",
       "149494                      Can't contact lender   \n",
       "467117  Credit monitoring or identity protection   \n",
       "743113  Loan modification,collection,foreclosure   \n",
       "545672        Dealing with my lender or servicer   \n",
       "55857     Incorrect information on credit report   \n",
       "\n",
       "                                      Sub-issue  \\\n",
       "149494                                      NaN   \n",
       "467117                Problem with fraud alerts   \n",
       "743113                                      NaN   \n",
       "545672  Need information about my balance/terms   \n",
       "55857                   Information is not mine   \n",
       "\n",
       "                                       Consumer Complaint  \\\n",
       "149494  I have been receiving harassing threatening ph...   \n",
       "467117                                                NaN   \n",
       "743113                                                NaN   \n",
       "545672                                                NaN   \n",
       "55857                                                 NaN   \n",
       "\n",
       "                                  Company Public Response  \\\n",
       "149494  Company believes complaint caused principally ...   \n",
       "467117   Company chooses not to provide a public response   \n",
       "743113                                                NaN   \n",
       "545672                                                NaN   \n",
       "55857                                                 NaN   \n",
       "\n",
       "                                       Company State ZIP code  \\\n",
       "149494                            EZCORP, INC.    OH    453XX   \n",
       "467117  TRANSUNION INTERMEDIATE HOLDINGS, INC.    IN    46341   \n",
       "743113                     Statebridge Company    GA    30052   \n",
       "545672                               AES/PHEAA    GA    30607   \n",
       "55857                            EQUIFAX, INC.    NC    28334   \n",
       "\n",
       "                                 Tags Consumer consent provided?  \\\n",
       "149494                            NaN           Consent provided   \n",
       "467117  Older American, Servicemember                        NaN   \n",
       "743113                            NaN                        NaN   \n",
       "545672                            NaN                        NaN   \n",
       "55857                             NaN       Consent not provided   \n",
       "\n",
       "       Submitted via Date Sent to Company     Company Response to Consumer  \\\n",
       "149494           Web           03/14/2016          Closed with explanation   \n",
       "467117         Phone           01/20/2016  Closed with non-monetary relief   \n",
       "743113           Web           09/27/2013          Closed with explanation   \n",
       "545672           Web           06/13/2014          Closed with explanation   \n",
       "55857            Web           07-06-2015          Closed with explanation   \n",
       "\n",
       "       Timely response? Consumer disputed?  Complaint ID  Unnamed: 18  \n",
       "149494              Yes                 No       1831941          NaN  \n",
       "467117              Yes                 No       1750672          NaN  \n",
       "743113              Yes                 No        545186          NaN  \n",
       "545672              Yes                Yes        893762          NaN  \n",
       "55857               Yes                 No       1453534          NaN  "
      ]
     },
     "execution_count": 2,
     "metadata": {},
     "output_type": "execute_result"
    }
   ],
   "source": [
    "df = pd.read_csv('./Data/Consumer_Complaints.csv')\n",
    "df = df.sample(frac=0.05, random_state=10)\n",
    "df.head()"
   ]
  },
  {
   "cell_type": "code",
   "execution_count": 3,
   "metadata": {},
   "outputs": [
    {
     "data": {
      "text/plain": [
       "Index(['Date received', 'Product', 'Sub-product', 'Issue', 'Sub-issue',\n",
       "       'Consumer Complaint', 'Company Public Response', 'Company', 'State',\n",
       "       'ZIP code', 'Tags', 'Consumer consent provided?', 'Submitted via',\n",
       "       'Date Sent to Company', 'Company Response to Consumer',\n",
       "       'Timely response?', 'Consumer disputed?', 'Complaint ID',\n",
       "       'Unnamed: 18'],\n",
       "      dtype='object')"
      ]
     },
     "execution_count": 3,
     "metadata": {},
     "output_type": "execute_result"
    }
   ],
   "source": [
    "df.columns"
   ]
  },
  {
   "cell_type": "markdown",
   "metadata": {},
   "source": [
    "#### 2 - Limpando a base de dados"
   ]
  },
  {
   "cell_type": "code",
   "execution_count": 4,
   "metadata": {
    "scrolled": true
   },
   "outputs": [],
   "source": [
    "col = ['Product', 'Consumer Complaint']"
   ]
  },
  {
   "cell_type": "code",
   "execution_count": 5,
   "metadata": {
    "scrolled": true
   },
   "outputs": [
    {
     "data": {
      "text/html": [
       "<div>\n",
       "<style scoped>\n",
       "    .dataframe tbody tr th:only-of-type {\n",
       "        vertical-align: middle;\n",
       "    }\n",
       "\n",
       "    .dataframe tbody tr th {\n",
       "        vertical-align: top;\n",
       "    }\n",
       "\n",
       "    .dataframe thead th {\n",
       "        text-align: right;\n",
       "    }\n",
       "</style>\n",
       "<table border=\"1\" class=\"dataframe\">\n",
       "  <thead>\n",
       "    <tr style=\"text-align: right;\">\n",
       "      <th></th>\n",
       "      <th>Product</th>\n",
       "      <th>Consumer Complaint</th>\n",
       "    </tr>\n",
       "  </thead>\n",
       "  <tbody>\n",
       "    <tr>\n",
       "      <th>149494</th>\n",
       "      <td>Payday loan</td>\n",
       "      <td>I have been receiving harassing threatening ph...</td>\n",
       "    </tr>\n",
       "    <tr>\n",
       "      <th>467117</th>\n",
       "      <td>Credit reporting</td>\n",
       "      <td>NaN</td>\n",
       "    </tr>\n",
       "    <tr>\n",
       "      <th>743113</th>\n",
       "      <td>Mortgage</td>\n",
       "      <td>NaN</td>\n",
       "    </tr>\n",
       "    <tr>\n",
       "      <th>545672</th>\n",
       "      <td>Student loan</td>\n",
       "      <td>NaN</td>\n",
       "    </tr>\n",
       "    <tr>\n",
       "      <th>55857</th>\n",
       "      <td>Credit reporting</td>\n",
       "      <td>NaN</td>\n",
       "    </tr>\n",
       "  </tbody>\n",
       "</table>\n",
       "</div>"
      ],
      "text/plain": [
       "                 Product                                 Consumer Complaint\n",
       "149494       Payday loan  I have been receiving harassing threatening ph...\n",
       "467117  Credit reporting                                                NaN\n",
       "743113          Mortgage                                                NaN\n",
       "545672      Student loan                                                NaN\n",
       "55857   Credit reporting                                                NaN"
      ]
     },
     "execution_count": 5,
     "metadata": {},
     "output_type": "execute_result"
    }
   ],
   "source": [
    "df = df[col]\n",
    "df.head()"
   ]
  },
  {
   "cell_type": "code",
   "execution_count": 6,
   "metadata": {},
   "outputs": [
    {
     "data": {
      "text/html": [
       "<div>\n",
       "<style scoped>\n",
       "    .dataframe tbody tr th:only-of-type {\n",
       "        vertical-align: middle;\n",
       "    }\n",
       "\n",
       "    .dataframe tbody tr th {\n",
       "        vertical-align: top;\n",
       "    }\n",
       "\n",
       "    .dataframe thead th {\n",
       "        text-align: right;\n",
       "    }\n",
       "</style>\n",
       "<table border=\"1\" class=\"dataframe\">\n",
       "  <thead>\n",
       "    <tr style=\"text-align: right;\">\n",
       "      <th></th>\n",
       "      <th>Product</th>\n",
       "      <th>Consumer Complaint</th>\n",
       "    </tr>\n",
       "  </thead>\n",
       "  <tbody>\n",
       "    <tr>\n",
       "      <th>149494</th>\n",
       "      <td>Payday loan</td>\n",
       "      <td>I have been receiving harassing threatening ph...</td>\n",
       "    </tr>\n",
       "    <tr>\n",
       "      <th>88109</th>\n",
       "      <td>Credit reporting, credit repair services, or o...</td>\n",
       "      <td>Please remove the following fraudulent inquiri...</td>\n",
       "    </tr>\n",
       "    <tr>\n",
       "      <th>669383</th>\n",
       "      <td>Credit reporting</td>\n",
       "      <td>I have disputed several reports on my Transuni...</td>\n",
       "    </tr>\n",
       "    <tr>\n",
       "      <th>448379</th>\n",
       "      <td>Debt collection</td>\n",
       "      <td>In 2007, I only registered spring semaster @ X...</td>\n",
       "    </tr>\n",
       "    <tr>\n",
       "      <th>901620</th>\n",
       "      <td>Vehicle loan or lease</td>\n",
       "      <td>Since XX/XX/XXXX I have been paying my vehicle...</td>\n",
       "    </tr>\n",
       "  </tbody>\n",
       "</table>\n",
       "</div>"
      ],
      "text/plain": [
       "                                                  Product  \\\n",
       "149494                                        Payday loan   \n",
       "88109   Credit reporting, credit repair services, or o...   \n",
       "669383                                   Credit reporting   \n",
       "448379                                    Debt collection   \n",
       "901620                              Vehicle loan or lease   \n",
       "\n",
       "                                       Consumer Complaint  \n",
       "149494  I have been receiving harassing threatening ph...  \n",
       "88109   Please remove the following fraudulent inquiri...  \n",
       "669383  I have disputed several reports on my Transuni...  \n",
       "448379  In 2007, I only registered spring semaster @ X...  \n",
       "901620  Since XX/XX/XXXX I have been paying my vehicle...  "
      ]
     },
     "execution_count": 6,
     "metadata": {},
     "output_type": "execute_result"
    }
   ],
   "source": [
    "df = df[pd.notnull(df['Consumer Complaint'])]\n",
    "df.head()"
   ]
  },
  {
   "cell_type": "code",
   "execution_count": 8,
   "metadata": {
    "scrolled": true
   },
   "outputs": [],
   "source": [
    "df.columns = ['Product', 'Consumer_complaint']"
   ]
  },
  {
   "cell_type": "code",
   "execution_count": 9,
   "metadata": {},
   "outputs": [],
   "source": [
    "df['category_id'] = df['Product'].factorize()[0]"
   ]
  },
  {
   "cell_type": "code",
   "execution_count": 11,
   "metadata": {},
   "outputs": [
    {
     "data": {
      "text/plain": [
       "array([ 0,  1,  2,  3,  4,  5,  6,  7,  8,  9, 10, 11, 12, 13, 14, 15, 16,\n",
       "       17])"
      ]
     },
     "execution_count": 11,
     "metadata": {},
     "output_type": "execute_result"
    }
   ],
   "source": [
    "# df.head()\n",
    "df['category_id'].unique()"
   ]
  },
  {
   "cell_type": "code",
   "execution_count": 15,
   "metadata": {},
   "outputs": [
    {
     "data": {
      "text/html": [
       "<div>\n",
       "<style scoped>\n",
       "    .dataframe tbody tr th:only-of-type {\n",
       "        vertical-align: middle;\n",
       "    }\n",
       "\n",
       "    .dataframe tbody tr th {\n",
       "        vertical-align: top;\n",
       "    }\n",
       "\n",
       "    .dataframe thead th {\n",
       "        text-align: right;\n",
       "    }\n",
       "</style>\n",
       "<table border=\"1\" class=\"dataframe\">\n",
       "  <thead>\n",
       "    <tr style=\"text-align: right;\">\n",
       "      <th></th>\n",
       "      <th>Product</th>\n",
       "      <th>category_id</th>\n",
       "    </tr>\n",
       "  </thead>\n",
       "  <tbody>\n",
       "    <tr>\n",
       "      <th>149494</th>\n",
       "      <td>Payday loan</td>\n",
       "      <td>0</td>\n",
       "    </tr>\n",
       "    <tr>\n",
       "      <th>88109</th>\n",
       "      <td>Credit reporting, credit repair services, or o...</td>\n",
       "      <td>1</td>\n",
       "    </tr>\n",
       "    <tr>\n",
       "      <th>669383</th>\n",
       "      <td>Credit reporting</td>\n",
       "      <td>2</td>\n",
       "    </tr>\n",
       "    <tr>\n",
       "      <th>448379</th>\n",
       "      <td>Debt collection</td>\n",
       "      <td>3</td>\n",
       "    </tr>\n",
       "    <tr>\n",
       "      <th>901620</th>\n",
       "      <td>Vehicle loan or lease</td>\n",
       "      <td>4</td>\n",
       "    </tr>\n",
       "  </tbody>\n",
       "</table>\n",
       "</div>"
      ],
      "text/plain": [
       "                                                  Product  category_id\n",
       "149494                                        Payday loan            0\n",
       "88109   Credit reporting, credit repair services, or o...            1\n",
       "669383                                   Credit reporting            2\n",
       "448379                                    Debt collection            3\n",
       "901620                              Vehicle loan or lease            4"
      ]
     },
     "execution_count": 15,
     "metadata": {},
     "output_type": "execute_result"
    }
   ],
   "source": [
    "category_id_df = df[['Product', 'category_id']].drop_duplicates().sort_values('category_id')\n",
    "category_id_df.head()"
   ]
  },
  {
   "cell_type": "code",
   "execution_count": 16,
   "metadata": {},
   "outputs": [],
   "source": [
    "category_to_id = dict(category_id_df.values)"
   ]
  },
  {
   "cell_type": "code",
   "execution_count": 17,
   "metadata": {},
   "outputs": [
    {
     "data": {
      "text/plain": [
       "{0: 'Payday loan',\n",
       " 1: 'Credit reporting, credit repair services, or other personal consumer reports',\n",
       " 2: 'Credit reporting',\n",
       " 3: 'Debt collection',\n",
       " 4: 'Vehicle loan or lease',\n",
       " 5: 'Bank account or service',\n",
       " 6: 'Mortgage',\n",
       " 7: 'Consumer Loan',\n",
       " 8: 'Credit card',\n",
       " 9: 'Payday loan, title loan, or personal loan',\n",
       " 10: 'Student loan',\n",
       " 11: 'Prepaid card',\n",
       " 12: 'Credit card or prepaid card',\n",
       " 13: 'Checking or savings account',\n",
       " 14: 'Other financial service',\n",
       " 15: 'Money transfer, virtual currency, or money service',\n",
       " 16: 'Money transfers',\n",
       " 17: 'Virtual currency'}"
      ]
     },
     "execution_count": 17,
     "metadata": {},
     "output_type": "execute_result"
    }
   ],
   "source": [
    "id_to_category = dict(category_id_df[['category_id', 'Product']].values)\n",
    "id_to_category"
   ]
  },
  {
   "cell_type": "markdown",
   "metadata": {},
   "source": [
    "#### 3 - Plotando as variáveis categóricas"
   ]
  },
  {
   "cell_type": "code",
   "execution_count": 18,
   "metadata": {
    "scrolled": false
   },
   "outputs": [
    {
     "data": {
      "image/png": "[encoded data removed]",
      "text/plain": [
       "<Figure size 576x432 with 1 Axes>"
      ]
     },
     "metadata": {
      "needs_background": "light"
     },
     "output_type": "display_data"
    }
   ],
   "source": [
    "import matplotlib.pyplot as plt\n",
    "\n",
    "fig = plt.figure(figsize=(8,6))\n",
    "\n",
    "df.groupby('Product').Consumer_complaint.count().plot.bar(ylim=0)\n",
    "plt.xticks(rotation=90)\n",
    "plt.show()"
   ]
  },
  {
   "cell_type": "markdown",
   "metadata": {},
   "source": [
    "#### 4 - Mala de palavras"
   ]
  },
  {
   "cell_type": "code",
   "execution_count": 20,
   "metadata": {},
   "outputs": [],
   "source": [
    "from sklearn.feature_extraction.text import TfidfVectorizer\n",
    "\n",
    "tfidf = TfidfVectorizer(sublinear_tf=True, \n",
    "                        min_df=5, \n",
    "                        norm='l2', \n",
    "                        encoding='latin-1', \n",
    "                        ngram_range=(1, 2), \n",
    "                        stop_words='english')"
   ]
  },
  {
   "cell_type": "code",
   "execution_count": 21,
   "metadata": {},
   "outputs": [
    {
     "data": {
      "text/plain": [
       "array([[0.        , 0.        , 0.        , ..., 0.        , 0.        ,\n",
       "        0.        ],\n",
       "       [0.        , 0.        , 0.        , ..., 0.        , 0.        ,\n",
       "        0.        ],\n",
       "       [0.        , 0.        , 0.        , ..., 0.        , 0.        ,\n",
       "        0.        ],\n",
       "       ...,\n",
       "       [0.        , 0.        , 0.        , ..., 0.        , 0.        ,\n",
       "        0.        ],\n",
       "       [0.02478791, 0.        , 0.        , ..., 0.        , 0.        ,\n",
       "        0.        ],\n",
       "       [0.07847375, 0.        , 0.        , ..., 0.        , 0.        ,\n",
       "        0.        ]])"
      ]
     },
     "execution_count": 21,
     "metadata": {},
     "output_type": "execute_result"
    }
   ],
   "source": [
    "features = tfidf.fit_transform(df.Consumer_complaint).toarray()\n",
    "features"
   ]
  },
  {
   "cell_type": "code",
   "execution_count": 22,
   "metadata": {},
   "outputs": [
    {
     "data": {
      "text/plain": [
       "149494     0\n",
       "88109      1\n",
       "669383     2\n",
       "448379     3\n",
       "901620     4\n",
       "          ..\n",
       "457991     5\n",
       "894307    12\n",
       "922520     6\n",
       "32298      5\n",
       "150735    10\n",
       "Name: category_id, Length: 14042, dtype: int64"
      ]
     },
     "execution_count": 22,
     "metadata": {},
     "output_type": "execute_result"
    }
   ],
   "source": [
    "labels = df.category_id\n",
    "labels"
   ]
  },
  {
   "cell_type": "markdown",
   "metadata": {},
   "source": [
    "#### 5 - Chi2 para encontrar termos mais relacionados a cada categoria"
   ]
  },
  {
   "cell_type": "code",
   "execution_count": 24,
   "metadata": {
    "scrolled": true
   },
   "outputs": [
    {
     "data": {
      "text/plain": [
       "{'Payday loan': 0,\n",
       " 'Credit reporting, credit repair services, or other personal consumer reports': 1,\n",
       " 'Credit reporting': 2,\n",
       " 'Debt collection': 3,\n",
       " 'Vehicle loan or lease': 4,\n",
       " 'Bank account or service': 5,\n",
       " 'Mortgage': 6,\n",
       " 'Consumer Loan': 7,\n",
       " 'Credit card': 8,\n",
       " 'Payday loan, title loan, or personal loan': 9,\n",
       " 'Student loan': 10,\n",
       " 'Prepaid card': 11,\n",
       " 'Credit card or prepaid card': 12,\n",
       " 'Checking or savings account': 13,\n",
       " 'Other financial service': 14,\n",
       " 'Money transfer, virtual currency, or money service': 15,\n",
       " 'Money transfers': 16,\n",
       " 'Virtual currency': 17}"
      ]
     },
     "execution_count": 24,
     "metadata": {},
     "output_type": "execute_result"
    }
   ],
   "source": [
    "category_to_id"
   ]
  },
  {
   "cell_type": "code",
   "execution_count": 25,
   "metadata": {
    "scrolled": true
   },
   "outputs": [
    {
     "name": "stdout",
     "output_type": "stream",
     "text": [
      "# 'Bank account or service':\n",
      "  . Most correlated unigrams:\n",
      ". bank\n",
      ". overdraft\n",
      "  . Most correlated bigrams:\n",
      ". overdraft fees\n",
      ". checking account \n",
      "\n",
      "# 'Checking or savings account':\n",
      "  . Most correlated unigrams:\n",
      ". deposited\n",
      ". deposit\n",
      "  . Most correlated bigrams:\n",
      ". account overdrawn\n",
      ". checking account \n",
      "\n",
      "# 'Consumer Loan':\n",
      "  . Most correlated unigrams:\n",
      ". vehicle\n",
      ". car\n",
      "  . Most correlated bigrams:\n",
      ". auto loan\n",
      ". consumer usa \n",
      "\n",
      "# 'Credit card':\n",
      "  . Most correlated unigrams:\n",
      ". citi\n",
      ". card\n",
      "  . Most correlated bigrams:\n",
      ". american express\n",
      ". credit card \n",
      "\n",
      "# 'Credit card or prepaid card':\n",
      "  . Most correlated unigrams:\n",
      ". merchant\n",
      ". card\n",
      "  . Most correlated bigrams:\n",
      ". american express\n",
      ". credit card \n",
      "\n",
      "# 'Credit reporting':\n",
      "  . Most correlated unigrams:\n",
      ". equifax\n",
      ". experian\n",
      "  . Most correlated bigrams:\n",
      ". trans union\n",
      ". credit report \n",
      "\n",
      "# 'Credit reporting, credit repair services, or other personal consumer reports':\n",
      "  . Most correlated unigrams:\n",
      ". inquiries\n",
      ". equifax\n",
      "  . Most correlated bigrams:\n",
      ". mistakes appear\n",
      ". report understanding \n",
      "\n",
      "# 'Debt collection':\n",
      "  . Most correlated unigrams:\n",
      ". collection\n",
      ". debt\n",
      "  . Most correlated bigrams:\n",
      ". collection agency\n",
      ". collect debt \n",
      "\n",
      "# 'Money transfer, virtual currency, or money service':\n",
      "  . Most correlated unigrams:\n",
      ". bitcoin\n",
      ". coinbase\n",
      "  . Most correlated bigrams:\n",
      ". coinbase account\n",
      ". xxxx coinbase \n",
      "\n",
      "# 'Money transfers':\n",
      "  . Most correlated unigrams:\n",
      ". moneygram\n",
      ". western\n",
      "  . Most correlated bigrams:\n",
      ". money transfer\n",
      ". western union \n",
      "\n",
      "# 'Mortgage':\n",
      "  . Most correlated unigrams:\n",
      ". modification\n",
      ". mortgage\n",
      "  . Most correlated bigrams:\n",
      ". mortgage company\n",
      ". loan modification \n",
      "\n",
      "# 'Other financial service':\n",
      "  . Most correlated unigrams:\n",
      ". scratch\n",
      ". guard\n",
      "  . Most correlated bigrams:\n",
      ". returning money\n",
      ". check cashing \n",
      "\n",
      "# 'Payday loan':\n",
      "  . Most correlated unigrams:\n",
      ". cashnet\n",
      ". payday\n",
      "  . Most correlated bigrams:\n",
      ". big picture\n",
      ". payday loan \n",
      "\n",
      "# 'Payday loan, title loan, or personal loan':\n",
      "  . Most correlated unigrams:\n",
      ". usury\n",
      ". payday\n",
      "  . Most correlated bigrams:\n",
      ". small loan\n",
      ". 00 loan \n",
      "\n",
      "# 'Prepaid card':\n",
      "  . Most correlated unigrams:\n",
      ". rush\n",
      ". rushcard\n",
      "  . Most correlated bigrams:\n",
      ". express serve\n",
      ". rush card \n",
      "\n",
      "# 'Student loan':\n",
      "  . Most correlated unigrams:\n",
      ". loans\n",
      ". navient\n",
      "  . Most correlated bigrams:\n",
      ". student loans\n",
      ". student loan \n",
      "\n",
      "# 'Vehicle loan or lease':\n",
      "  . Most correlated unigrams:\n",
      ". car\n",
      ". vehicle\n",
      "  . Most correlated bigrams:\n",
      ". payments vehicle\n",
      ". toyota financial \n",
      "\n",
      "# 'Virtual currency':\n",
      "  . Most correlated unigrams:\n",
      ". signup\n",
      ". bonuses\n",
      "  . Most correlated bigrams:\n",
      ". met terms\n",
      ". just change \n",
      "\n"
     ]
    }
   ],
   "source": [
    "from sklearn.feature_selection import chi2\n",
    "import numpy as np\n",
    "\n",
    "N = 2\n",
    "for Product, category_id in sorted(category_to_id.items()):\n",
    "  features_chi2 = chi2(features, labels == category_id)\n",
    "  indices = np.argsort(features_chi2[0])\n",
    "  feature_names = np.array(tfidf.get_feature_names_out())[indices]\n",
    "  unigrams = [v for v in feature_names if len(v.split(' ')) == 1]\n",
    "  bigrams = [v for v in feature_names if len(v.split(' ')) == 2]\n",
    "  print(\"# '{}':\".format(Product))\n",
    "  print(\"  . Most correlated unigrams:\\n. {}\".format('\\n. '.join(unigrams[-N:])))\n",
    "  print(\"  . Most correlated bigrams:\\n. {} \\n\".format('\\n. '.join(bigrams[-N:])))"
   ]
  },
  {
   "cell_type": "markdown",
   "metadata": {},
   "source": [
    "#### 6 - Treinando o classificador Naive-Bayes Multinomial"
   ]
  },
  {
   "cell_type": "code",
   "execution_count": 26,
   "metadata": {
    "scrolled": true
   },
   "outputs": [],
   "source": [
    "from sklearn.model_selection import train_test_split\n",
    "from sklearn.feature_extraction.text import CountVectorizer\n",
    "from sklearn.feature_extraction.text import TfidfTransformer\n",
    "from sklearn.naive_bayes import MultinomialNB\n",
    "\n",
    "X_train, X_test, y_train, y_test = train_test_split(df['Consumer_complaint'], \n",
    "                                                    df['Product'], random_state = 0)"
   ]
  },
  {
   "cell_type": "code",
   "execution_count": 34,
   "metadata": {},
   "outputs": [],
   "source": [
    "count_vect = CountVectorizer()"
   ]
  },
  {
   "cell_type": "code",
   "execution_count": 35,
   "metadata": {},
   "outputs": [],
   "source": [
    "X_train_counts = count_vect.fit_transform(X_train)"
   ]
  },
  {
   "cell_type": "code",
   "execution_count": 36,
   "metadata": {},
   "outputs": [],
   "source": [
    "tfidf_transformer = TfidfTransformer()"
   ]
  },
  {
   "cell_type": "code",
   "execution_count": 37,
   "metadata": {},
   "outputs": [],
   "source": [
    "X_train_tfidf = tfidf_transformer.fit_transform(X_train_counts)"
   ]
  },
  {
   "cell_type": "code",
   "execution_count": 38,
   "metadata": {},
   "outputs": [],
   "source": [
    "clf = MultinomialNB().fit(X_train_tfidf, y_train)"
   ]
  },
  {
   "cell_type": "markdown",
   "metadata": {},
   "source": [
    "#### 7 - Fazendo previsões"
   ]
  },
  {
   "cell_type": "code",
   "execution_count": 39,
   "metadata": {
    "scrolled": false
   },
   "outputs": [
    {
     "name": "stdout",
     "output_type": "stream",
     "text": [
      "['Debt collection']\n"
     ]
    }
   ],
   "source": [
    "print(clf.predict(count_vect.transform([\"This company refuses to provide me verification \\\n",
    "                                        and validation of debt per my right under the FDCPA. \\\n",
    "                                        I do not believe this debt is mine.\"])))"
   ]
  },
  {
   "cell_type": "code",
   "execution_count": 40,
   "metadata": {
    "scrolled": true
   },
   "outputs": [
    {
     "name": "stdout",
     "output_type": "stream",
     "text": [
      "['Credit reporting, credit repair services, or other personal consumer reports']\n"
     ]
    }
   ],
   "source": [
    "print(clf.predict(count_vect.transform([\"I am disputing the inaccurate information the Chex-Systems \\\n",
    "                                        has on my credit report. I initially submitted a police report \\\n",
    "                                        on XXXX/XXXX/16 and Chex Systems only deleted the items that I \\\n",
    "                                        mentioned in the letter and not all the items that were actually \\\n",
    "                                        listed on the police report. In other words they wanted me to say \\\n",
    "                                        word for word to them what items were fraudulent. The total disregard \\\n",
    "                                        of the police report and what accounts that it states that are fraudulent. \\\n",
    "                                        If they just had paid a little closer attention to the police report I \\\n",
    "                                        would not been in this position now and they would n't have to research \\\n",
    "                                        once again. I would like the reported information to be removed : \\\n",
    "                                        XXXX XXXX XXXX\"])))"
   ]
  },
  {
   "cell_type": "markdown",
   "metadata": {},
   "source": [
    "#### 8 - Selecionando o melhor classificador"
   ]
  },
  {
   "cell_type": "code",
   "execution_count": 41,
   "metadata": {
    "scrolled": true
   },
   "outputs": [
    {
     "name": "stderr",
     "output_type": "stream",
     "text": [
      "/Users/marinaramalhetedesouza/opt/anaconda3/envs/ml-impa/lib/python3.8/site-packages/sklearn/model_selection/_split.py:676: UserWarning: The least populated class in y has only 1 members, which is less than n_splits=5.\n",
      "  warnings.warn(\n",
      "/Users/marinaramalhetedesouza/opt/anaconda3/envs/ml-impa/lib/python3.8/site-packages/sklearn/model_selection/_split.py:676: UserWarning: The least populated class in y has only 1 members, which is less than n_splits=5.\n",
      "  warnings.warn(\n",
      "/Users/marinaramalhetedesouza/opt/anaconda3/envs/ml-impa/lib/python3.8/site-packages/sklearn/model_selection/_split.py:676: UserWarning: The least populated class in y has only 1 members, which is less than n_splits=5.\n",
      "  warnings.warn(\n",
      "/Users/marinaramalhetedesouza/opt/anaconda3/envs/ml-impa/lib/python3.8/site-packages/sklearn/model_selection/_split.py:676: UserWarning: The least populated class in y has only 1 members, which is less than n_splits=5.\n",
      "  warnings.warn(\n"
     ]
    },
    {
     "data": {
      "text/html": [
       "<div>\n",
       "<style scoped>\n",
       "    .dataframe tbody tr th:only-of-type {\n",
       "        vertical-align: middle;\n",
       "    }\n",
       "\n",
       "    .dataframe tbody tr th {\n",
       "        vertical-align: top;\n",
       "    }\n",
       "\n",
       "    .dataframe thead th {\n",
       "        text-align: right;\n",
       "    }\n",
       "</style>\n",
       "<table border=\"1\" class=\"dataframe\">\n",
       "  <thead>\n",
       "    <tr style=\"text-align: right;\">\n",
       "      <th></th>\n",
       "      <th>model_name</th>\n",
       "      <th>fold_idx</th>\n",
       "      <th>accuracy</th>\n",
       "    </tr>\n",
       "  </thead>\n",
       "  <tbody>\n",
       "    <tr>\n",
       "      <th>0</th>\n",
       "      <td>RandomForestClassifier</td>\n",
       "      <td>0</td>\n",
       "      <td>0.294767</td>\n",
       "    </tr>\n",
       "    <tr>\n",
       "      <th>1</th>\n",
       "      <td>RandomForestClassifier</td>\n",
       "      <td>1</td>\n",
       "      <td>0.288359</td>\n",
       "    </tr>\n",
       "    <tr>\n",
       "      <th>2</th>\n",
       "      <td>RandomForestClassifier</td>\n",
       "      <td>2</td>\n",
       "      <td>0.289530</td>\n",
       "    </tr>\n",
       "    <tr>\n",
       "      <th>3</th>\n",
       "      <td>RandomForestClassifier</td>\n",
       "      <td>3</td>\n",
       "      <td>0.289174</td>\n",
       "    </tr>\n",
       "    <tr>\n",
       "      <th>4</th>\n",
       "      <td>RandomForestClassifier</td>\n",
       "      <td>4</td>\n",
       "      <td>0.293091</td>\n",
       "    </tr>\n",
       "    <tr>\n",
       "      <th>5</th>\n",
       "      <td>LinearSVC</td>\n",
       "      <td>0</td>\n",
       "      <td>0.696333</td>\n",
       "    </tr>\n",
       "    <tr>\n",
       "      <th>6</th>\n",
       "      <td>LinearSVC</td>\n",
       "      <td>1</td>\n",
       "      <td>0.692417</td>\n",
       "    </tr>\n",
       "    <tr>\n",
       "      <th>7</th>\n",
       "      <td>LinearSVC</td>\n",
       "      <td>2</td>\n",
       "      <td>0.684473</td>\n",
       "    </tr>\n",
       "    <tr>\n",
       "      <th>8</th>\n",
       "      <td>LinearSVC</td>\n",
       "      <td>3</td>\n",
       "      <td>0.713319</td>\n",
       "    </tr>\n",
       "    <tr>\n",
       "      <th>9</th>\n",
       "      <td>LinearSVC</td>\n",
       "      <td>4</td>\n",
       "      <td>0.698362</td>\n",
       "    </tr>\n",
       "    <tr>\n",
       "      <th>10</th>\n",
       "      <td>MultinomialNB</td>\n",
       "      <td>0</td>\n",
       "      <td>0.545034</td>\n",
       "    </tr>\n",
       "    <tr>\n",
       "      <th>11</th>\n",
       "      <td>MultinomialNB</td>\n",
       "      <td>1</td>\n",
       "      <td>0.540050</td>\n",
       "    </tr>\n",
       "    <tr>\n",
       "      <th>12</th>\n",
       "      <td>MultinomialNB</td>\n",
       "      <td>2</td>\n",
       "      <td>0.534188</td>\n",
       "    </tr>\n",
       "    <tr>\n",
       "      <th>13</th>\n",
       "      <td>MultinomialNB</td>\n",
       "      <td>3</td>\n",
       "      <td>0.550570</td>\n",
       "    </tr>\n",
       "    <tr>\n",
       "      <th>14</th>\n",
       "      <td>MultinomialNB</td>\n",
       "      <td>4</td>\n",
       "      <td>0.532407</td>\n",
       "    </tr>\n",
       "    <tr>\n",
       "      <th>15</th>\n",
       "      <td>LogisticRegression</td>\n",
       "      <td>0</td>\n",
       "      <td>0.683873</td>\n",
       "    </tr>\n",
       "    <tr>\n",
       "      <th>16</th>\n",
       "      <td>LogisticRegression</td>\n",
       "      <td>1</td>\n",
       "      <td>0.676397</td>\n",
       "    </tr>\n",
       "    <tr>\n",
       "      <th>17</th>\n",
       "      <td>LogisticRegression</td>\n",
       "      <td>2</td>\n",
       "      <td>0.660256</td>\n",
       "    </tr>\n",
       "    <tr>\n",
       "      <th>18</th>\n",
       "      <td>LogisticRegression</td>\n",
       "      <td>3</td>\n",
       "      <td>0.684829</td>\n",
       "    </tr>\n",
       "    <tr>\n",
       "      <th>19</th>\n",
       "      <td>LogisticRegression</td>\n",
       "      <td>4</td>\n",
       "      <td>0.673789</td>\n",
       "    </tr>\n",
       "  </tbody>\n",
       "</table>\n",
       "</div>"
      ],
      "text/plain": [
       "                model_name  fold_idx  accuracy\n",
       "0   RandomForestClassifier         0  0.294767\n",
       "1   RandomForestClassifier         1  0.288359\n",
       "2   RandomForestClassifier         2  0.289530\n",
       "3   RandomForestClassifier         3  0.289174\n",
       "4   RandomForestClassifier         4  0.293091\n",
       "5                LinearSVC         0  0.696333\n",
       "6                LinearSVC         1  0.692417\n",
       "7                LinearSVC         2  0.684473\n",
       "8                LinearSVC         3  0.713319\n",
       "9                LinearSVC         4  0.698362\n",
       "10           MultinomialNB         0  0.545034\n",
       "11           MultinomialNB         1  0.540050\n",
       "12           MultinomialNB         2  0.534188\n",
       "13           MultinomialNB         3  0.550570\n",
       "14           MultinomialNB         4  0.532407\n",
       "15      LogisticRegression         0  0.683873\n",
       "16      LogisticRegression         1  0.676397\n",
       "17      LogisticRegression         2  0.660256\n",
       "18      LogisticRegression         3  0.684829\n",
       "19      LogisticRegression         4  0.673789"
      ]
     },
     "execution_count": 41,
     "metadata": {},
     "output_type": "execute_result"
    }
   ],
   "source": [
    "from sklearn.linear_model import LogisticRegression\n",
    "from sklearn.ensemble import RandomForestClassifier\n",
    "from sklearn.svm import LinearSVC\n",
    "from sklearn.model_selection import cross_val_score\n",
    "\n",
    "models = [\n",
    "    RandomForestClassifier(n_estimators=200, max_depth=3, random_state=0),\n",
    "    LinearSVC(),\n",
    "    MultinomialNB(),\n",
    "    LogisticRegression(random_state=0, solver='liblinear'),\n",
    "]\n",
    "\n",
    "CV = 5\n",
    "cv_df = pd.DataFrame(index=range(CV * len(models)))\n",
    "\n",
    "entries = []\n",
    "for model in models:\n",
    "  model_name = model.__class__.__name__\n",
    "  accuracies = cross_val_score(model, features, labels, scoring='accuracy', cv=CV)\n",
    "  for fold_idx, accuracy in enumerate(accuracies):\n",
    "    entries.append((model_name, fold_idx, accuracy))\n",
    "\n",
    "cv_df = pd.DataFrame(entries, columns=['model_name', 'fold_idx', 'accuracy'])\n",
    "cv_df.head(100)"
   ]
  },
  {
   "cell_type": "markdown",
   "metadata": {},
   "source": [
    "## 9 - Plotando os resultados do processo de seleção"
   ]
  },
  {
   "cell_type": "code",
   "execution_count": 45,
   "metadata": {},
   "outputs": [
    {
     "data": {
      "image/png": "[encoded data removed]",
      "text/plain": [
       "<Figure size 432x288 with 1 Axes>"
      ]
     },
     "metadata": {
      "needs_background": "light"
     },
     "output_type": "display_data"
    }
   ],
   "source": [
    "import seaborn as sns\n",
    "\n",
    "sns.boxplot(x='model_name', y='accuracy', data=cv_df)\n",
    "sns.stripplot(x='model_name', y='accuracy', data=cv_df, \n",
    "              size=10, jitter=True, edgecolor=\"gray\", linewidth=5)\n",
    "plt.show()"
   ]
  },
  {
   "cell_type": "markdown",
   "metadata": {},
   "source": [
    "#### 10 - Matriz de confusão SVC linear"
   ]
  },
  {
   "cell_type": "code",
   "execution_count": 79,
   "metadata": {
    "scrolled": true
   },
   "outputs": [],
   "source": [
    "model_svc = LinearSVC()\n",
    "\n",
    "X_train, X_test, y_train, y_test = train_test_split(features, labels, test_size=0.33, random_state=0)\n",
    "\n",
    "model_svc.fit(X_train, y_train)\n",
    "\n",
    "y_pred = model_svc.predict(X_test)"
   ]
  },
  {
   "cell_type": "code",
   "execution_count": 72,
   "metadata": {
    "scrolled": true
   },
   "outputs": [
    {
     "data": {
      "image/png": "[encoded data removed]",
      "text/plain": [
       "<Figure size 720x720 with 2 Axes>"
      ]
     },
     "metadata": {
      "needs_background": "light"
     },
     "output_type": "display_data"
    }
   ],
   "source": [
    "from sklearn.metrics import confusion_matrix\n",
    "\n",
    "conf_mat = confusion_matrix(y_test, y_pred)\n",
    "\n",
    "fig, ax = plt.subplots(figsize=(10,10))\n",
    "\n",
    "sns.heatmap(conf_mat, annot=True, fmt='d',\n",
    "            xticklabels=category_id_df.Product.values, \n",
    "            yticklabels=category_id_df.Product.values)\n",
    "\n",
    "plt.ylabel('Actual')\n",
    "plt.xlabel('Predicted')\n",
    "plt.show()"
   ]
  },
  {
   "cell_type": "markdown",
   "metadata": {},
   "source": [
    "#### 11 - Verificação de causa de classificações incorretas"
   ]
  },
  {
   "cell_type": "code",
   "execution_count": 50,
   "metadata": {
    "scrolled": true
   },
   "outputs": [],
   "source": [
    "# from IPython.display import display\n",
    "\n",
    "# for predicted in category_id_df.category_id:\n",
    "#     for actual in category_id_df.category_id:\n",
    "#         if predicted != actual and conf_mat[actual, predicted] >= 10:\n",
    "#             print(\"'{}' predicted as '{}' : {} examples.\".format(id_to_category[actual], \n",
    "#                                                                  id_to_category[predicted], \n",
    "#                                                                  conf_mat[actual, predicted]))\n",
    "            \n",
    "#             display(df.loc[indices_test[(y_test == actual) & (y_pred == predicted)]][['Product', \n",
    "#                                                                                       'Consumer_complaint']])\n",
    "#             print('')"
   ]
  },
  {
   "cell_type": "markdown",
   "metadata": {},
   "source": [
    "#### 12 - Chi2 para encontrar termos mais correlacionados com cada categoria"
   ]
  },
  {
   "cell_type": "code",
   "execution_count": 51,
   "metadata": {
    "scrolled": true
   },
   "outputs": [
    {
     "name": "stdout",
     "output_type": "stream",
     "text": [
      "# 'Bank account or service':\n",
      "  . Top unigrams:\n",
      "       . bank\n",
      "       . scottrade\n",
      "  . Top bigrams:\n",
      "       . debit card\n",
      "       . xxxx 15 \n",
      "\n",
      "# 'Checking or savings account':\n",
      "  . Top unigrams:\n",
      "       . bank\n",
      "       . didn\n",
      "  . Top bigrams:\n",
      "       . 00 deposited\n",
      "       . just got \n",
      "\n",
      "# 'Consumer Loan':\n",
      "  . Top unigrams:\n",
      "       . car\n",
      "       . loan\n",
      "  . Top bigrams:\n",
      "       . auto loan\n",
      "       . xxxx payments \n",
      "\n",
      "# 'Credit card':\n",
      "  . Top unigrams:\n",
      "       . card\n",
      "       . citi\n",
      "  . Top bigrams:\n",
      "       . credit card\n",
      "       . balance transfer \n",
      "\n",
      "# 'Credit card or prepaid card':\n",
      "  . Top unigrams:\n",
      "       . card\n",
      "       . merchant\n",
      "  . Top bigrams:\n",
      "       . close account\n",
      "       . card ending \n",
      "\n",
      "# 'Credit reporting':\n",
      "  . Top unigrams:\n",
      "       . equifax\n",
      "       . experian\n",
      "  . Top bigrams:\n",
      "       . unauthorized fraudulent\n",
      "       . trans union \n",
      "\n",
      "# 'Credit reporting, credit repair services, or other personal consumer reports':\n",
      "  . Top unigrams:\n",
      "       . breach\n",
      "       . freeze\n",
      "  . Top bigrams:\n",
      "       . xxxx xxxx\n",
      "       . xxxx transunion \n",
      "\n",
      "# 'Debt collection':\n",
      "  . Top unigrams:\n",
      "       . debt\n",
      "       . collection\n",
      "  . Top bigrams:\n",
      "       . reporting credit\n",
      "       . reported credit \n",
      "\n",
      "# 'Money transfer, virtual currency, or money service':\n",
      "  . Top unigrams:\n",
      "       . coinbase\n",
      "       . support\n",
      "  . Top bigrams:\n",
      "       . xxxx coinbase\n",
      "       . refund sent \n",
      "\n",
      "# 'Money transfers':\n",
      "  . Top unigrams:\n",
      "       . moneygram\n",
      "       . paypal\n",
      "  . Top bigrams:\n",
      "       . western union\n",
      "       . money xxxx \n",
      "\n",
      "# 'Mortgage':\n",
      "  . Top unigrams:\n",
      "       . mortgage\n",
      "       . escrow\n",
      "  . Top bigrams:\n",
      "       . xxxx payment\n",
      "       . mortgage payment \n",
      "\n",
      "# 'Other financial service':\n",
      "  . Top unigrams:\n",
      "       . cashing\n",
      "       . guard\n",
      "  . Top bigrams:\n",
      "       . check cashing\n",
      "       . money order \n",
      "\n",
      "# 'Payday loan':\n",
      "  . Top unigrams:\n",
      "       . payday\n",
      "       . loan\n",
      "  . Top bigrams:\n",
      "       . payday loan\n",
      "       . times loan \n",
      "\n",
      "# 'Payday loan, title loan, or personal loan':\n",
      "  . Top unigrams:\n",
      "       . loan\n",
      "       . club\n",
      "  . Top bigrams:\n",
      "       . 00 loan\n",
      "       . bank account \n",
      "\n",
      "# 'Prepaid card':\n",
      "  . Top unigrams:\n",
      "       . rushcard\n",
      "       . rush\n",
      "  . Top bigrams:\n",
      "       . rush card\n",
      "       . money posted \n",
      "\n",
      "# 'Student loan':\n",
      "  . Top unigrams:\n",
      "       . navient\n",
      "       . loans\n",
      "  . Top bigrams:\n",
      "       . sallie mae\n",
      "       . student loan \n",
      "\n",
      "# 'Vehicle loan or lease':\n",
      "  . Top unigrams:\n",
      "       . vehicle\n",
      "       . car\n",
      "  . Top bigrams:\n",
      "       . ally financial\n",
      "       . response given \n",
      "\n",
      "# 'Virtual currency':\n",
      "  . Top unigrams:\n",
      "       . signup\n",
      "       . coinbase\n",
      "  . Top bigrams:\n",
      "       . change terms\n",
      "       . just change \n",
      "\n"
     ]
    }
   ],
   "source": [
    "model_svc.fit(features, labels)\n",
    "\n",
    "N = 2\n",
    "for Product, category_id in sorted(category_to_id.items()):\n",
    "  indices = np.argsort(model.coef_[category_id])\n",
    "  feature_names = np.array(tfidf.get_feature_names_out())[indices]\n",
    "  unigrams = [v for v in reversed(feature_names) if len(v.split(' ')) == 1][:N]\n",
    "  bigrams = [v for v in reversed(feature_names) if len(v.split(' ')) == 2][:N]\n",
    "  print(\"# '{}':\".format(Product))\n",
    "  print(\"  . Top unigrams:\\n       . {}\".format('\\n       . '.join(unigrams)))\n",
    "  print(\"  . Top bigrams:\\n       . {} \\n\".format('\\n       . '.join(bigrams)))"
   ]
  },
  {
   "cell_type": "markdown",
   "metadata": {},
   "source": [
    "#### 13 - Reporte de classificação"
   ]
  },
  {
   "cell_type": "code",
   "execution_count": 84,
   "metadata": {
    "scrolled": true
   },
   "outputs": [],
   "source": [
    "# from sklearn import metrics\n",
    "# print(metrics.classification_report(y_test, y_pred, target_names=df['Product'].unique()))"
   ]
  },
  {
   "cell_type": "markdown",
   "metadata": {},
   "source": [
    "#### 14 - Métricas do modelo escolhido -> LinearSVC"
   ]
  },
  {
   "cell_type": "code",
   "execution_count": 83,
   "metadata": {},
   "outputs": [
    {
     "name": "stderr",
     "output_type": "stream",
     "text": [
      "/Users/marinaramalhetedesouza/opt/anaconda3/envs/ml-impa/lib/python3.8/site-packages/sklearn/model_selection/_split.py:676: UserWarning: The least populated class in y has only 1 members, which is less than n_splits=5.\n",
      "  warnings.warn(\n"
     ]
    },
    {
     "data": {
      "text/html": [
       "<div>\n",
       "<style scoped>\n",
       "    .dataframe tbody tr th:only-of-type {\n",
       "        vertical-align: middle;\n",
       "    }\n",
       "\n",
       "    .dataframe tbody tr th {\n",
       "        vertical-align: top;\n",
       "    }\n",
       "\n",
       "    .dataframe thead th {\n",
       "        text-align: right;\n",
       "    }\n",
       "</style>\n",
       "<table border=\"1\" class=\"dataframe\">\n",
       "  <thead>\n",
       "    <tr style=\"text-align: right;\">\n",
       "      <th></th>\n",
       "      <th>model_name</th>\n",
       "      <th>fold_idx</th>\n",
       "      <th>accuracy</th>\n",
       "    </tr>\n",
       "  </thead>\n",
       "  <tbody>\n",
       "    <tr>\n",
       "      <th>0</th>\n",
       "      <td>LinearSVC</td>\n",
       "      <td>0</td>\n",
       "      <td>0.696333</td>\n",
       "    </tr>\n",
       "    <tr>\n",
       "      <th>1</th>\n",
       "      <td>LinearSVC</td>\n",
       "      <td>1</td>\n",
       "      <td>0.692417</td>\n",
       "    </tr>\n",
       "    <tr>\n",
       "      <th>2</th>\n",
       "      <td>LinearSVC</td>\n",
       "      <td>2</td>\n",
       "      <td>0.684473</td>\n",
       "    </tr>\n",
       "    <tr>\n",
       "      <th>3</th>\n",
       "      <td>LinearSVC</td>\n",
       "      <td>3</td>\n",
       "      <td>0.713319</td>\n",
       "    </tr>\n",
       "    <tr>\n",
       "      <th>4</th>\n",
       "      <td>LinearSVC</td>\n",
       "      <td>4</td>\n",
       "      <td>0.698362</td>\n",
       "    </tr>\n",
       "  </tbody>\n",
       "</table>\n",
       "</div>"
      ],
      "text/plain": [
       "  model_name  fold_idx  accuracy\n",
       "0  LinearSVC         0  0.696333\n",
       "1  LinearSVC         1  0.692417\n",
       "2  LinearSVC         2  0.684473\n",
       "3  LinearSVC         3  0.713319\n",
       "4  LinearSVC         4  0.698362"
      ]
     },
     "execution_count": 83,
     "metadata": {},
     "output_type": "execute_result"
    }
   ],
   "source": [
    "CV = 5\n",
    "cv_df = pd.DataFrame(index=range(CV))\n",
    "\n",
    "entries = []\n",
    "model_name = model_svc.__class__.__name__\n",
    "accuracies = cross_val_score(model_svc, features, labels, scoring='accuracy', cv=CV)\n",
    "for fold_idx, accuracy in enumerate(accuracies):\n",
    "    entries.append((model_name, fold_idx, accuracy))\n",
    "\n",
    "cv_df = pd.DataFrame(entries, columns=['model_name', 'fold_idx', 'accuracy'])\n",
    "cv_df.head()"
   ]
  },
  {
   "cell_type": "code",
   "execution_count": null,
   "metadata": {},
   "outputs": [],
   "source": []
  }
 ],
 "metadata": {
  "kernelspec": {
   "display_name": "Python 3 (ipykernel)",
   "language": "python",
   "name": "python3"
  },
  "language_info": {
   "codemirror_mode": {
    "name": "ipython",
    "version": 3
   },
   "file_extension": ".py",
   "mimetype": "text/x-python",
   "name": "python",
   "nbconvert_exporter": "python",
   "pygments_lexer": "ipython3",
   "version": "3.8.0"
  }
 },
 "nbformat": 4,
 "nbformat_minor": 2
}
