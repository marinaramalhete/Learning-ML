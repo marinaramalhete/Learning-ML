{
 "cells": [
  {
   "cell_type": "markdown",
   "metadata": {},
   "source": [
    "# Introdução à Ciência de Redes\n",
    "### (complex network analysis)\n",
    "\n",
    "#### 1 - Bibliotecas"
   ]
  },
  {
   "cell_type": "code",
   "execution_count": 3,
   "metadata": {},
   "outputs": [],
   "source": [
    "import pandas as pd\n",
    "import numpy as np\n",
    "import networkx as nx     # https://networkx.org/\n",
    "import matplotlib.pyplot as plt\n",
    "\n",
    "%matplotlib inline"
   ]
  },
  {
   "cell_type": "markdown",
   "metadata": {},
   "source": [
    "#### 2 - Declarando um grafo"
   ]
  },
  {
   "cell_type": "code",
   "execution_count": 5,
   "metadata": {},
   "outputs": [
    {
     "data": {
      "text/plain": [
       "<networkx.classes.graph.Graph at 0x7ff71b7983a0>"
      ]
     },
     "execution_count": 5,
     "metadata": {},
     "output_type": "execute_result"
    }
   ],
   "source": [
    "G = nx.Graph()\n",
    "G"
   ]
  },
  {
   "cell_type": "markdown",
   "metadata": {},
   "source": [
    "#### 3 - Adicionando arestas e nós"
   ]
  },
  {
   "cell_type": "code",
   "execution_count": 6,
   "metadata": {},
   "outputs": [
    {
     "data": {
      "text/plain": [
       "EdgeView([('A', 'B')])"
      ]
     },
     "execution_count": 6,
     "metadata": {},
     "output_type": "execute_result"
    }
   ],
   "source": [
    "G.add_edge('A','B')\n",
    "G.edges()"
   ]
  },
  {
   "cell_type": "markdown",
   "metadata": {},
   "source": [
    "#### 4 - Grafos direcionados"
   ]
  },
  {
   "cell_type": "code",
   "execution_count": 8,
   "metadata": {},
   "outputs": [
    {
     "data": {
      "text/plain": [
       "<networkx.classes.digraph.DiGraph at 0x7ff719e27640>"
      ]
     },
     "execution_count": 8,
     "metadata": {},
     "output_type": "execute_result"
    }
   ],
   "source": [
    "G2 = nx.DiGraph()\n",
    "G2"
   ]
  },
  {
   "cell_type": "markdown",
   "metadata": {},
   "source": [
    "#### 5 - Adicionando arestas e nós"
   ]
  },
  {
   "cell_type": "code",
   "execution_count": 9,
   "metadata": {},
   "outputs": [
    {
     "data": {
      "text/plain": [
       "OutEdgeView([(1, 5)])"
      ]
     },
     "execution_count": 9,
     "metadata": {},
     "output_type": "execute_result"
    }
   ],
   "source": [
    "G2.add_edge(1,5)\n",
    "G2.edges()"
   ]
  },
  {
   "cell_type": "markdown",
   "metadata": {},
   "source": [
    "#### 6 - Arestas com pesos"
   ]
  },
  {
   "cell_type": "code",
   "execution_count": 10,
   "metadata": {},
   "outputs": [
    {
     "data": {
      "text/plain": [
       "EdgeDataView([('A', 'B', {}), (4, 5, {'weight': 6}), (5, 6, {'weight': 13})])"
      ]
     },
     "execution_count": 10,
     "metadata": {},
     "output_type": "execute_result"
    }
   ],
   "source": [
    "G.add_edge(4,5, weight = 6)\n",
    "G.add_edge(6,5, weight = 13)\n",
    "\n",
    "G.edges(data=True)"
   ]
  },
  {
   "cell_type": "markdown",
   "metadata": {},
   "source": [
    "#### 7 - Arestas com sinais"
   ]
  },
  {
   "cell_type": "code",
   "execution_count": 14,
   "metadata": {},
   "outputs": [
    {
     "data": {
      "text/plain": [
       "EdgeDataView([('A', 'B', {}), (4, 5, {'weight': 6}), (5, 6, {'weight': 13}), (11, 15, {'sign': '+'})])"
      ]
     },
     "execution_count": 14,
     "metadata": {},
     "output_type": "execute_result"
    }
   ],
   "source": [
    "G.add_edge(11,15, sign = '+')\n",
    "\n",
    "G.edges(data=True)"
   ]
  },
  {
   "cell_type": "markdown",
   "metadata": {},
   "source": [
    "#### 8 - Multigraphs (arestas paralelas)"
   ]
  },
  {
   "cell_type": "code",
   "execution_count": 15,
   "metadata": {},
   "outputs": [
    {
     "data": {
      "text/plain": [
       "<networkx.classes.multigraph.MultiGraph at 0x7ff71c814a60>"
      ]
     },
     "execution_count": 15,
     "metadata": {},
     "output_type": "execute_result"
    }
   ],
   "source": [
    "G3 = nx.MultiGraph()\n",
    "G3"
   ]
  },
  {
   "cell_type": "code",
   "execution_count": 16,
   "metadata": {},
   "outputs": [
    {
     "data": {
      "text/plain": [
       "0"
      ]
     },
     "execution_count": 16,
     "metadata": {},
     "output_type": "execute_result"
    }
   ],
   "source": [
    "G3.add_edge('A','B', relation='friend')\n",
    "G3.add_edge('A','B', relation='coworker')\n",
    "G3.add_edge('B','C', weight = 2, relation='family')"
   ]
  },
  {
   "cell_type": "markdown",
   "metadata": {},
   "source": [
    "#### 9 - Imprimindo Arestas"
   ]
  },
  {
   "cell_type": "code",
   "execution_count": 17,
   "metadata": {},
   "outputs": [
    {
     "data": {
      "text/plain": [
       "MultiEdgeDataView([('A', 'B', {'relation': 'friend'}), ('A', 'B', {'relation': 'coworker'}), ('B', 'C', {'weight': 2, 'relation': 'family'})])"
      ]
     },
     "execution_count": 17,
     "metadata": {},
     "output_type": "execute_result"
    }
   ],
   "source": [
    "G3.edges(data=True)"
   ]
  },
  {
   "cell_type": "markdown",
   "metadata": {},
   "source": [
    "#### 10 - Acessando Arestas"
   ]
  },
  {
   "cell_type": "code",
   "execution_count": 18,
   "metadata": {},
   "outputs": [
    {
     "data": {
      "text/plain": [
       "{'relation': 'friend'}"
      ]
     },
     "execution_count": 18,
     "metadata": {},
     "output_type": "execute_result"
    }
   ],
   "source": [
    "G3['A']['B'][0]"
   ]
  },
  {
   "cell_type": "code",
   "execution_count": 19,
   "metadata": {},
   "outputs": [
    {
     "data": {
      "text/plain": [
       "'student'"
      ]
     },
     "execution_count": 19,
     "metadata": {},
     "output_type": "execute_result"
    }
   ],
   "source": [
    "G3['A']['B'][1]['relation'] = 'student'\n",
    "G3['B']['A'][1]['relation']"
   ]
  },
  {
   "cell_type": "code",
   "execution_count": 20,
   "metadata": {},
   "outputs": [
    {
     "data": {
      "text/plain": [
       "MultiEdgeDataView([('A', 'B', {'relation': 'friend'}), ('A', 'B', {'relation': 'student'}), ('B', 'C', {'weight': 2, 'relation': 'family'})])"
      ]
     },
     "execution_count": 20,
     "metadata": {},
     "output_type": "execute_result"
    }
   ],
   "source": [
    "G3.edges(data=True)"
   ]
  },
  {
   "cell_type": "markdown",
   "metadata": {},
   "source": [
    "#### 11 - MultiDiGraph"
   ]
  },
  {
   "cell_type": "code",
   "execution_count": 21,
   "metadata": {},
   "outputs": [
    {
     "data": {
      "text/plain": [
       "<networkx.classes.multidigraph.MultiDiGraph at 0x7ff71c814fa0>"
      ]
     },
     "execution_count": 21,
     "metadata": {},
     "output_type": "execute_result"
    }
   ],
   "source": [
    "G4 = nx.MultiDiGraph()\n",
    "G4"
   ]
  },
  {
   "cell_type": "code",
   "execution_count": 22,
   "metadata": {},
   "outputs": [
    {
     "data": {
      "text/plain": [
       "0"
      ]
     },
     "execution_count": 22,
     "metadata": {},
     "output_type": "execute_result"
    }
   ],
   "source": [
    "G4.add_edge('A','B', weight=6, relation='family')\n",
    "G4.add_edge('A','B', weight=18, relation='friend')\n",
    "G4.add_edge('C','B', weight=13, relation='friend')"
   ]
  },
  {
   "cell_type": "code",
   "execution_count": 24,
   "metadata": {},
   "outputs": [
    {
     "data": {
      "text/plain": [
       "OutMultiEdgeDataView([('A', 'B', {'weight': 6, 'relation': 'family'}), ('A', 'B', {'weight': 18, 'relation': 'friend'}), ('C', 'B', {'weight': 13, 'relation': 'friend'})])"
      ]
     },
     "execution_count": 24,
     "metadata": {},
     "output_type": "execute_result"
    }
   ],
   "source": [
    "G4.edges(data=True)"
   ]
  },
  {
   "cell_type": "code",
   "execution_count": 23,
   "metadata": {},
   "outputs": [
    {
     "data": {
      "text/plain": [
       "'friend'"
      ]
     },
     "execution_count": 23,
     "metadata": {},
     "output_type": "execute_result"
    }
   ],
   "source": [
    "G4['A']['B'][1]['relation']"
   ]
  },
  {
   "cell_type": "markdown",
   "metadata": {},
   "source": [
    "#### 12 - Adicionando e acessando nós (Nodes)"
   ]
  },
  {
   "cell_type": "code",
   "execution_count": 27,
   "metadata": {},
   "outputs": [
    {
     "data": {
      "text/plain": [
       "'trader'"
      ]
     },
     "execution_count": 27,
     "metadata": {},
     "output_type": "execute_result"
    }
   ],
   "source": [
    "G.add_node('T', role='trader')\n",
    "G.nodes['T']['role']"
   ]
  },
  {
   "cell_type": "markdown",
   "metadata": {},
   "source": [
    "#### 13 - Grafos bi-partidos"
   ]
  },
  {
   "cell_type": "code",
   "execution_count": 28,
   "metadata": {},
   "outputs": [],
   "source": [
    "from networkx.algorithms import bipartite"
   ]
  },
  {
   "cell_type": "code",
   "execution_count": 29,
   "metadata": {},
   "outputs": [],
   "source": [
    "B = nx.Graph()\n",
    "B.add_nodes_from(['A','B','C','D','E'], bipartite = 0, color='red')"
   ]
  },
  {
   "cell_type": "code",
   "execution_count": 30,
   "metadata": {},
   "outputs": [],
   "source": [
    "B.add_nodes_from([1,2,3,4], bipartite = 1, color='blue')"
   ]
  },
  {
   "cell_type": "code",
   "execution_count": 31,
   "metadata": {},
   "outputs": [],
   "source": [
    "B.add_edges_from([('A',1),('B',1),('C',1),('C',3),('D',2),('E',3),('E',4)])"
   ]
  },
  {
   "cell_type": "code",
   "execution_count": 34,
   "metadata": {},
   "outputs": [
    {
     "data": {
      "text/plain": [
       "EdgeView([('A', 1), ('B', 1), ('C', 1), ('C', 3), ('D', 2), ('E', 3), ('E', 4)])"
      ]
     },
     "execution_count": 34,
     "metadata": {},
     "output_type": "execute_result"
    }
   ],
   "source": [
    "B.edges()"
   ]
  },
  {
   "cell_type": "code",
   "execution_count": 33,
   "metadata": {},
   "outputs": [
    {
     "data": {
      "text/plain": [
       "NodeView(('A', 'B', 'C', 'D', 'E', 1, 2, 3, 4))"
      ]
     },
     "execution_count": 33,
     "metadata": {},
     "output_type": "execute_result"
    }
   ],
   "source": [
    "B.nodes()"
   ]
  },
  {
   "cell_type": "markdown",
   "metadata": {},
   "source": [
    "#### 14 - Verificar se um grafo é bi-partido"
   ]
  },
  {
   "cell_type": "code",
   "execution_count": 35,
   "metadata": {},
   "outputs": [
    {
     "data": {
      "text/plain": [
       "True"
      ]
     },
     "execution_count": 35,
     "metadata": {},
     "output_type": "execute_result"
    }
   ],
   "source": [
    "bipartite.is_bipartite(B)"
   ]
  },
  {
   "cell_type": "code",
   "execution_count": 36,
   "metadata": {},
   "outputs": [
    {
     "data": {
      "text/plain": [
       "False"
      ]
     },
     "execution_count": 36,
     "metadata": {},
     "output_type": "execute_result"
    }
   ],
   "source": [
    "B.add_edge('A','B')\n",
    "bipartite.is_bipartite(B)"
   ]
  },
  {
   "cell_type": "code",
   "execution_count": 37,
   "metadata": {},
   "outputs": [
    {
     "data": {
      "text/plain": [
       "True"
      ]
     },
     "execution_count": 37,
     "metadata": {},
     "output_type": "execute_result"
    }
   ],
   "source": [
    "B.remove_edge('A','B')\n",
    "bipartite.is_bipartite(B)"
   ]
  },
  {
   "cell_type": "markdown",
   "metadata": {},
   "source": [
    "#### 15 - Desenhar grafo bi-partido"
   ]
  },
  {
   "cell_type": "code",
   "execution_count": 39,
   "metadata": {},
   "outputs": [
    {
     "data": {
      "text/plain": [
       "['red', 'red', 'red', 'red', 'red', 'blue', 'blue', 'blue', 'blue']"
      ]
     },
     "execution_count": 39,
     "metadata": {},
     "output_type": "execute_result"
    }
   ],
   "source": [
    "colors = []\n",
    "for node in B.nodes():\n",
    "    colors.append(B.nodes[node]['color'])\n",
    "colors"
   ]
  },
  {
   "cell_type": "code",
   "execution_count": 40,
   "metadata": {},
   "outputs": [
    {
     "data": {
      "image/png": "[encoded data removed]",
      "text/plain": [
       "<Figure size 432x288 with 1 Axes>"
      ]
     },
     "metadata": {},
     "output_type": "display_data"
    }
   ],
   "source": [
    "X = set([1,2,3,4])\n",
    "\n",
    "nx.draw_networkx(\n",
    "    B,\n",
    "    pos = nx.drawing.layout.bipartite_layout(B, X), alpha=0.7, node_color=colors) # Or whatever other display options you like"
   ]
  },
  {
   "cell_type": "markdown",
   "metadata": {},
   "source": [
    "#### 16 - Verificar se um conjunto é uma das partes do grafo bi-partido"
   ]
  },
  {
   "cell_type": "code",
   "execution_count": 41,
   "metadata": {},
   "outputs": [
    {
     "data": {
      "text/plain": [
       "True"
      ]
     },
     "execution_count": 41,
     "metadata": {},
     "output_type": "execute_result"
    }
   ],
   "source": [
    "bipartite.is_bipartite_node_set(B,X)"
   ]
  },
  {
   "cell_type": "markdown",
   "metadata": {},
   "source": [
    "#### 17 - Grafos bi-partidos projetados"
   ]
  },
  {
   "cell_type": "code",
   "execution_count": 42,
   "metadata": {
    "scrolled": false
   },
   "outputs": [
    {
     "data": {
      "text/plain": [
       "EdgeView([(1, 3), (3, 4)])"
      ]
     },
     "execution_count": 42,
     "metadata": {},
     "output_type": "execute_result"
    }
   ],
   "source": [
    "bipartite.projected_graph(B,X).edges()"
   ]
  },
  {
   "cell_type": "code",
   "execution_count": 43,
   "metadata": {},
   "outputs": [
    {
     "data": {
      "image/png": "[encoded data removed]",
      "text/plain": [
       "<Figure size 432x288 with 1 Axes>"
      ]
     },
     "metadata": {},
     "output_type": "display_data"
    }
   ],
   "source": [
    "nx.draw_circular(bipartite.projected_graph(B,['A','B','C','D','E']))"
   ]
  },
  {
   "cell_type": "markdown",
   "metadata": {},
   "source": [
    "#### 18 - Desenhando Karate Club"
   ]
  },
  {
   "cell_type": "code",
   "execution_count": 44,
   "metadata": {
    "scrolled": true
   },
   "outputs": [
    {
     "name": "stdout",
     "output_type": "stream",
     "text": [
      "Node Degree\n",
      "0 16\n",
      "1 9\n",
      "2 10\n",
      "3 6\n",
      "4 3\n",
      "5 4\n",
      "6 4\n",
      "7 4\n",
      "8 5\n",
      "9 2\n",
      "10 3\n",
      "11 1\n",
      "12 2\n",
      "13 5\n",
      "14 2\n",
      "15 2\n",
      "16 2\n",
      "17 2\n",
      "18 2\n",
      "19 3\n",
      "20 2\n",
      "21 2\n",
      "22 2\n",
      "23 5\n",
      "24 3\n",
      "25 3\n",
      "26 2\n",
      "27 4\n",
      "28 3\n",
      "29 4\n",
      "30 4\n",
      "31 6\n",
      "32 12\n",
      "33 17\n"
     ]
    },
    {
     "data": {
      "image/png": "[encoded data removed]",
      "text/plain": [
       "<Figure size 432x288 with 1 Axes>"
      ]
     },
     "metadata": {},
     "output_type": "display_data"
    }
   ],
   "source": [
    "G = nx.karate_club_graph()\n",
    "print(\"Node Degree\")\n",
    "colors = []\n",
    "for v in G:\n",
    "    print('%s %s' % (v, G.degree(v)))\n",
    "    colors.append(G.degree(v))\n",
    "\n",
    "nx.draw_circular(G, node_color=colors, with_labels=True, cmap=plt.cm.Oranges)"
   ]
  },
  {
   "cell_type": "markdown",
   "metadata": {},
   "source": [
    "#### 19 - Colorindo arestas"
   ]
  },
  {
   "cell_type": "code",
   "execution_count": 45,
   "metadata": {},
   "outputs": [
    {
     "data": {
      "image/png": "[encoded data removed]",
      "text/plain": [
       "<Figure size 432x288 with 1 Axes>"
      ]
     },
     "metadata": {},
     "output_type": "display_data"
    }
   ],
   "source": [
    "G = nx.star_graph(20)\n",
    "pos = nx.spring_layout(G)\n",
    "colors = range(20)\n",
    "nx.draw(G, pos, node_color='#A0CBE2', edge_color=colors,\n",
    "        width=4, edge_cmap=plt.cm.Blues, with_labels=False)\n",
    "plt.show()"
   ]
  },
  {
   "cell_type": "markdown",
   "metadata": {},
   "source": [
    "## Exemplo: Rede jogadores de xadrez\n",
    "\n",
    "#### 20 - Carregando a rede"
   ]
  },
  {
   "cell_type": "code",
   "execution_count": 47,
   "metadata": {},
   "outputs": [
    {
     "name": "stdout",
     "output_type": "stream",
     "text": [
      "1 2 0\t885635999.999997\r\n",
      "1 3 0\t885635999.999997\r\n",
      "1 4 0\t885635999.999997\r\n",
      "1 5 1\t885635999.999997\r\n",
      "1 6 0\t885635999.999997\r\n",
      "7 8 0\t885635999.999997\r\n",
      "7 9 1\t885635999.999997\r\n",
      "7 10 1\t885635999.999997\r\n",
      "11 12 -1\t885635999.999997\r\n",
      "13 14 1\t885635999.999997\r\n",
      "15 16 1\t885635999.999997\r\n",
      "17 18 -1\t885635999.999997\r\n",
      "19 7 0\t885635999.999997\r\n",
      "19 8 0\t885635999.999997\r\n",
      "19 20 -1\t885635999.999997\r\n",
      "19 21 -1\t885635999.999997\r\n",
      "19 22 1\t885635999.999997\r\n",
      "23 1 -1\t885635999.999997\r\n",
      "23 2 -1\t885635999.999997\r\n",
      "23 3 1\t885635999.999997\r\n",
      "24 25 1\t885635999.999997\r\n",
      "26 27 -1\t885635999.999997\r\n",
      "28 29 1\t885635999.999997\r\n",
      "30 31 1\t885635999.999997\r\n",
      "32 33 0\t885635999.999997\r\n",
      "32 34 0\t885635999.999997\r\n",
      "32 35 0\t885635999.999997\r\n",
      "32 36 0\t885635999.999997\r\n",
      "32 37 1\t885635999.999997\r\n",
      "38 39 1\t885635999.999997\r\n",
      "38 40 1\t885635999.999997\r\n",
      "38 41 -1\t885635999.999997\r\n",
      "33 42 0\t885635999.999997\r\n",
      "33 43 0\t885635999.999997\r\n",
      "44 19 0\t885635999.999997\r\n",
      "44 45 0\t885635999.999997\r\n",
      "44 46 0\t885635999.999997\r\n",
      "34 47 0\t885635999.999997\r\n",
      "34 48 0\t885635999.999997\r\n",
      "49 50 1\t885635999.999997\r\n",
      "49 12 -1\t885635999.999997\r\n",
      "49 51 0\t885635999.999997\r\n",
      "49 52 0\t885635999.999997\r\n",
      "39 53 0\t885635999.999997\r\n",
      "54 55 1\t885635999.999997\r\n",
      "54 56 1\t885635999.999997\r\n",
      "57 58 -1\t885635999.999997\r\n",
      "57 59 1\t885635999.999997\r\n",
      "60 61 1\t885635999.999997\r\n",
      "62 63 0\t885635999.999997\r\n",
      "62 42 0\t885635999.999997\r\n",
      "62 64 0\t885635999.999997\r\n",
      "65 66 -1\t885635999.999997\r\n",
      "8 67 -1\t885635999.999997\r\n",
      "8 20 0\t885635999.999997\r\n",
      "8 68 1\t885635999.999997\r\n",
      "8 69 1\t885635999.999997\r\n",
      "70 71 0\t885635999.999997\r\n",
      "70 72 0\t885635999.999997\r\n",
      "73 74 -1\t885635999.999997\r\n",
      "75 49 1\t885635999.999997\r\n",
      "75 76 1\t885635999.999997\r\n",
      "75 77 1\t885635999.999997\r\n",
      "75 78 1\t885635999.999997\r\n",
      "75 79 -1\t885635999.999997\r\n",
      "2 3 -1\t885635999.999997\r\n",
      "80 81 -1\t885635999.999997\r\n",
      "80 82 1\t885635999.999997\r\n",
      "83 84 -1\t885635999.999997\r\n",
      "83 85 -1\t885635999.999997\r\n",
      "83 86 1\t885635999.999997\r\n",
      "87 88 1\t885635999.999997\r\n",
      "89 23 0\t885635999.999997\r\n",
      "89 2 0\t885635999.999997\r\n",
      "89 90 1\t885635999.999997\r\n",
      "89 91 0\t885635999.999997\r\n",
      "89 6 0\t885635999.999997\r\n",
      "92 93 1\t885635999.999997\r\n",
      "92 94 1\t885635999.999997\r\n",
      "95 96 -1\t885635999.999997\r\n",
      "95 97 1\t885635999.999997\r\n",
      "98 99 0\t885635999.999997\r\n",
      "100 101 1\t885635999.999997\r\n",
      "100 102 1\t885635999.999997\r\n",
      "101 9 1\t885635999.999997\r\n",
      "101 103 1\t885635999.999997\r\n",
      "101 41 0\t885635999.999997\r\n",
      "104 105 1\t885635999.999997\r\n",
      "104 106 0\t885635999.999997\r\n",
      "104 77 1\t885635999.999997\r\n",
      "104 78 1\t885635999.999997\r\n",
      "50 107 0\t885635999.999997\r\n",
      "108 57 -1\t885635999.999997\r\n",
      "108 109 -1\t885635999.999997\r\n",
      "108 110 1\t885635999.999997\r\n",
      "111 112 1\t885635999.999997\r\n",
      "9 113 -1\t885635999.999997\r\n",
      "9 114 0\t885635999.999997\r\n",
      "115 116 0\t885635999.999997\r\n",
      "115 117 -1\t885635999.999997\r\n",
      "115 118 1\t885635999.999997\r\n",
      "115 119 1\t885635999.999997\r\n",
      "115 120 1\t885635999.999997\r\n",
      "121 17 -1\t885635999.999997\r\n",
      "121 34 1\t885635999.999997\r\n",
      "122 123 -1\t885635999.999997\r\n",
      "122 124 0\t885635999.999997\r\n",
      "125 100 0\t885635999.999997\r\n",
      "125 126 -1\t885635999.999997\r\n",
      "125 127 -1\t885635999.999997\r\n",
      "125 128 -1\t885635999.999997\r\n",
      "71 77 1\t885635999.999997\r\n",
      "93 115 0\t885635999.999997\r\n",
      "93 77 1\t885635999.999997\r\n",
      "129 44 -1\t885635999.999997\r\n",
      "129 39 1\t885635999.999997\r\n",
      "129 130 0\t885635999.999997\r\n",
      "96 131 0\t885635999.999997\r\n",
      "96 74 1\t885635999.999997\r\n",
      "130 126 1\t885635999.999997\r\n",
      "130 132 0\t885635999.999997\r\n",
      "133 134 1\t885635999.999997\r\n",
      "133 135 1\t885635999.999997\r\n",
      "133 136 1\t885635999.999997\r\n",
      "137 138 -1\t885635999.999997\r\n",
      "139 140 0\t885635999.999997\r\n",
      "141 88 0\t885635999.999997\r\n",
      "141 142 0\t885635999.999997\r\n",
      "141 143 1\t885635999.999997\r\n",
      "141 144 1\t885635999.999997\r\n",
      "145 146 -1\t885635999.999997\r\n",
      "147 53 0\t885635999.999997\r\n",
      "147 148 1\t885635999.999997\r\n",
      "112 149 1\t885635999.999997\r\n",
      "112 150 1\t885635999.999997\r\n",
      "113 151 1\t885635999.999997\r\n",
      "113 152 0\t885635999.999997\r\n",
      "113 103 1\t885635999.999997\r\n",
      "113 128 1\t885635999.999997\r\n",
      "113 132 -1\t885635999.999997\r\n",
      "153 111 0\t885635999.999997\r\n",
      "153 115 0\t885635999.999997\r\n",
      "154 155 -1\t885635999.999997\r\n",
      "126 7 0\t885635999.999997\r\n",
      "126 156 -1\t885635999.999997\r\n",
      "156 7 1\t885635999.999997\r\n",
      "156 101 0\t885635999.999997\r\n",
      "156 85 -1\t885635999.999997\r\n",
      "157 158 1\t885635999.999997\r\n",
      "157 159 1\t885635999.999997\r\n",
      "76 61 1\t885635999.999997\r\n",
      "160 161 1\t885635999.999997\r\n",
      "160 162 -1\t885635999.999997\r\n",
      "35 12 1\t885635999.999997\r\n",
      "35 163 0\t885635999.999997\r\n",
      "158 164 -1\t885635999.999997\r\n",
      "158 165 0\t885635999.999997\r\n",
      "158 159 0\t885635999.999997\r\n",
      "84 130 0\t885635999.999997\r\n",
      "88 142 -1\t885635999.999997\r\n",
      "88 166 0\t885635999.999997\r\n",
      "167 129 0\t885635999.999997\r\n",
      "167 168 1\t885635999.999997\r\n",
      "169 123 -1\t885635999.999997\r\n",
      "67 114 0\t885635999.999997\r\n",
      "67 132 0\t885635999.999997\r\n",
      "170 171 0\t885635999.999997\r\n",
      "114 168 0\t885635999.999997\r\n",
      "114 45 -1\t885635999.999997\r\n",
      "172 23 0\t885635999.999997\r\n",
      "172 91 1\t885635999.999997\r\n",
      "172 5 1\t885635999.999997\r\n",
      "58 108 0\t885635999.999997\r\n",
      "58 173 0\t885635999.999997\r\n",
      "58 59 -1\t885635999.999997\r\n",
      "174 104 1\t885635999.999997\r\n",
      "174 115 -1\t885635999.999997\r\n",
      "174 175 0\t885635999.999997\r\n",
      "174 176 0\t885635999.999997\r\n",
      "174 177 1\t885635999.999997\r\n",
      "174 178 1\t885635999.999997\r\n",
      "175 115 -1\t885635999.999997\r\n",
      "175 179 0\t885635999.999997\r\n",
      "175 180 1\t885635999.999997\r\n",
      "181 54 0\t885635999.999997\r\n",
      "181 124 -1\t885635999.999997\r\n",
      "61 179 0\t885635999.999997\r\n",
      "12 48 -1\t885635999.999997\r\n",
      "109 110 -1\t885635999.999997\r\n",
      "109 173 0\t885635999.999997\r\n",
      "109 59 0\t885635999.999997\r\n",
      "63 182 0\t885635999.999997\r\n",
      "63 183 -1\t885635999.999997\r\n",
      "20 156 -1\t885635999.999997\r\n",
      "20 167 -1\t885635999.999997\r",
      "\r\n",
      "20 184 -1\t885635999.999997\r\n",
      "164 157 1\t885635999.999997\r\n",
      "164 185 0\t885635999.999997\r\n",
      "164 186 0\t885635999.999997\r\n",
      "165 157 -1\t885635999.999997\r\n",
      "165 164 1\t885635999.999997\r\n",
      "187 54 -1\t885635999.999997\r\n",
      "187 188 0\t885635999.999997\r\n",
      "189 190 -1\t885635999.999997\r\n",
      "146 191 0\t885635999.999997\r\n",
      "192 193 -1\t885635999.999997\r\n",
      "194 138 -1\t885635999.999997\r\n",
      "195 196 0\t885635999.999997\r\n",
      "195 197 0\t885635999.999997\r\n",
      "195 198 0\t885635999.999997\r\n",
      "106 170 1\t885635999.999997\r\n",
      "106 199 1\t885635999.999997\r\n",
      "106 16 -1\t885635999.999997\r\n",
      "196 174 -1\t885635999.999997\r\n",
      "196 117 -1\t885635999.999997\r\n",
      "196 178 -1\t885635999.999997\r\n",
      "200 54 1\t885635999.999997\r\n",
      "200 153 0\t885635999.999997\r\n",
      "201 140 -1\t885635999.999997\r\n",
      "201 202 0\t885635999.999997\r\n",
      "140 203 1\t885635999.999997\r\n",
      "140 131 1\t885635999.999997\r\n",
      "204 196 1\t885635999.999997\r\n",
      "204 205 1\t885635999.999997\r\n",
      "159 185 1\t885635999.999997\r\n",
      "159 186 0\t885635999.999997\r\n",
      "206 70 0\t885635999.999997\r\n",
      "36 207 0\t885635999.999997\r\n",
      "208 164 -1\t885635999.999997\r\n",
      "208 165 -1\t885635999.999997\r\n",
      "208 159 1\t885635999.999997\r\n",
      "53 8 0\t885635999.999997\r\n",
      "53 84 1\t885635999.999997\r\n",
      "53 152 0\t885635999.999997\r\n",
      "53 85 1\t885635999.999997\r\n",
      "53 127 1\t885635999.999997\r\n",
      "53 132 0\t885635999.999997\r\n",
      "176 50 0\t885635999.999997\r\n",
      "176 16 -1\t885635999.999997\r\n",
      "185 158 1\t885635999.999997\r\n",
      "185 165 0\t885635999.999997\r\n",
      "185 208 1\t885635999.999997\r\n",
      "90 2 0\t885635999.999997\r\n",
      "90 3 0\t885635999.999997\r\n",
      "90 5 1\t885635999.999997\r\n",
      "209 210 -1\t885635999.999997\r\n",
      "152 129 1\t885635999.999997\r\n",
      "152 184 1\t885635999.999997\r\n",
      "211 28 1\t885635999.999997\r\n",
      "211 98 0\t885635999.999997\r\n",
      "110 57 0\t885635999.999997\r\n",
      "110 173 0\t885635999.999997\r\n",
      "110 59 -1\t885635999.999997\r\n",
      "173 57 1\t885635999.999997\r\n",
      "173 108 0\t885635999.999997\r\n",
      "173 212 -1\t885635999.999997\r\n",
      "213 139 -1\t885635999.999997\r\n",
      "85 38 1\t885635999.999997\r\n",
      "85 214 0\t885635999.999997\r\n",
      "179 75 0\t885635999.999997\r\n",
      "179 50 0\t885635999.999997\r\n",
      "215 216 -1\t885635999.999997\r\n",
      "86 114 -1\t885635999.999997\r\n",
      "86 217 1\t885635999.999997\r\n",
      "218 193 -1\t885635999.999997\r\n",
      "218 219 -1\t885635999.999997\r\n",
      "81 20 0\t885635999.999997\r\n",
      "82 19 -1\t885635999.999997\r\n",
      "82 184 -1\t885635999.999997\r\n",
      "82 22 -1\t885635999.999997\r\n",
      "25 30 -1\t885635999.999997\r\n",
      "220 221 0\t885635999.999997\r\n",
      "220 222 -1\t885635999.999997\r\n",
      "223 156 0\t885635999.999997\r\n",
      "223 84 -1\t885635999.999997\r\n",
      "224 80 1\t885635999.999997\r\n",
      "224 22 1\t885635999.999997\r\n",
      "142 87 1\t885635999.999997\r\n",
      "142 225 0\t885635999.999997\r\n",
      "226 62 0\t885635999.999997\r\n",
      "226 48 1\t885635999.999997\r\n",
      "182 227 1\t885635999.999997\r\n",
      "182 228 0\t885635999.999997\r\n",
      "182 229 0\t885635999.999997\r\n",
      "182 183 0\t885635999.999997\r\n",
      "186 157 -1\t885635999.999997\r\n",
      "186 165 1\t885635999.999997\r\n",
      "186 185 0\t885635999.999997\r\n",
      "230 231 -1\t885635999.999997\r\n",
      "230 232 -1\t885635999.999997\r\n",
      "233 105 1\t885635999.999997\r\n",
      "233 29 1\t885635999.999997\r\n",
      "233 43 -1\t885635999.999997\r\n",
      "233 222 0\t885635999.999997\r\n",
      "117 70 1\t885635999.999997\r\n",
      "117 210 1\t885635999.999997\r\n",
      "117 207 -1\t885635999.999997\r\n",
      "131 49 -1\t885635999.999997\r\n",
      "131 75 0\t885635999.999997\r\n",
      "131 234 1\t885635999.999997\r\n",
      "225 88 1\t885635999.999997\r\n",
      "225 166 1\t885635999.999997\r\n",
      "143 142 -1\t885635999.999997\r\n",
      "118 200 -1\t885635999.999997\r\n",
      "235 54 -1\t885635999.999997\r\n",
      "3 89 0\t885635999.999997\r\n",
      "3 172 -1\t885635999.999997\r\n",
      "3 4 0\t885635999.999997\r\n",
      "3 236 1\t885635999.999997\r\n",
      "3 6 1\t885635999.999997\r\n",
      "4 89 0\t885635999.999997\r\n",
      "4 172 0\t885635999.999997\r\n",
      "4 236 1\t885635999.999997\r\n",
      "4 91 1\t885635999.999997\r\n",
      "237 227 0\t885635999.999997\r\n",
      "237 64 0\t885635999.999997\r\n",
      "238 239 1\t885635999.999997\r\n",
      "238 240 1\t885635999.999997\r\n",
      "77 12 -1\t885635999.999997\r\n",
      "77 215 1\t885635999.999997\r\n",
      "77 216 1\t885635999.999997\r\n",
      "180 176 1\t885635999.999997\r\n",
      "180 179 0\t885635999.999997\r\n",
      "180 119 1\t885635999.999997\r\n",
      "180 241 -1\t885635999.999997\r\n",
      "180 135 0\t885635999.999997\r\n",
      "168 125 -1\t885635999.999997\r\n",
      "168 46 0\t885635999.999997\r\n",
      "168 102 -1\t885635999.999997\r\n",
      "242 149 -1\t885635999.999997\r\n",
      "242 155 -1\t885635999.999997\r\n",
      "177 104 -1\t885635999.999997\r\n",
      "177 12 1\t885635999.999997\r\n",
      "177 131 0\t885635999.999997\r\n",
      "177 52 1\t885635999.999997\r\n",
      "236 1 0\t885635999.999997\r\n",
      "236 89 -1\t885635999.999997\r\n",
      "236 90 1\t885635999.999997\r\n",
      "236 91 -1\t885635999.999997\r\n",
      "236 6 1\t885635999.999997\r\n",
      "243 32 -1\t885635999.999997\r\n",
      "243 51 0\t885635999.999997\r\n",
      "197 244 1\t885635999.999997\r\n",
      "245 70 0\t885635999.999997\r\n",
      "245 35 1\t885635999.999997\r\n",
      "155 201 -1\t885635999.999997\r\n",
      "155 124 0\t885635999.999997\r\n",
      "43 131 -1\t885635999.999997\r\n",
      "43 198 1\t885635999.999997\r\n",
      "246 247 0\t885635999.999997\r\n",
      "248 249 1\t885635999.999997\r\n",
      "250 44 -1\t885635999.999997\r\n",
      "250 148 0\t885635999.999997\r\n",
      "251 95 1\t885635999.999997\r\n",
      "251 252 1\t885635999.999997\r\n",
      "251 248 1\t885635999.999997\r\n",
      "199 93 1\t885635999.999997\r\n",
      "199 253 1\t885635999.999997\r\n",
      "199 77 1\t885635999.999997\r\n",
      "199 180 -1\t885635999.999997\r\n",
      "254 28 1\t885635999.999997\r\n",
      "254 35 0\t885635999.999997\r\n",
      "254 228 0\t885635999.999997\r\n",
      "188 200 1\t885635999.999997\r\n",
      "188 237 1\t885635999.999997\r\n",
      "188 197 0\t885635999.999997\r\n",
      "188 135 1\t885635999.999997\r\n",
      "212 57 0\t885635999.999997\r\n",
      "212 108 -1\t885635999.999997\r\n",
      "212 110 1\t885635999.999997\r\n",
      "255 174 0\t885635999.999997\r\n",
      "255 197 -1\t885635999.999997\r\n",
      "78 133 -1\t885635999.999997\r\n",
      "78 120 -1\t885635999.999997\r\n",
      "78 99 0\t885635999.999997\r\n",
      "47 33 0\t885635999.999997\r\n",
      "47 36 1\t885635999.999997\r\n",
      "47 256 0\t885635999.999997\r\n",
      "232 28 1\t885635999.999997\r\n",
      "232 98 -1\t885635999.999997\r\n",
      "232 257 -1\t885635999.999997\r\n",
      "258 21 -1\t885635999.999997\r\n",
      "259 198 1\t885635999.999997\r\n",
      "260 154 1\t885635999.999997\r\n",
      "260 261 -1\t885635999.999997\r\n",
      "37 35 0\t885635999.999997\r\n",
      "119 175 -1\t885635999.999997\r\n",
      "119 179 0\t885635999.999997\r\n",
      "202 262 1\t885635999.999997\r\n",
      "202 246 1\t885635999.999997\r\n",
      "202 263 0\t885635999.999997\r\n",
      "210 70 -1\t885635999.999997\r\n",
      "210 241 -1\t885635999.999997\r\n",
      "216 199 0\t885635999.999997\r\n",
      "264 28 0\t885635999.999997\r\n",
      "264 257 0\t885635999.999997\r\n",
      "91 1 0\t885635999.999997\r\n",
      "91 23 0\t885635999.999997\r\n",
      "91 2 0\t885635999.999997\r\n",
      "91 3 -1\t885635999.999997\r\n"
     ]
    },
    {
     "data": {
      "text/plain": [
       "<networkx.classes.multidigraph.MultiDiGraph at 0x7ff71ca01ca0>"
      ]
     },
     "execution_count": 47,
     "metadata": {},
     "output_type": "execute_result"
    }
   ],
   "source": [
    "!head -400 ./Data/chess_graph.txt\n",
    "\n",
    "chess = nx.read_edgelist('./Data/chess_graph.txt', data=[('outcome', int), ('timestamp', float)], \n",
    "                         create_using=nx.MultiDiGraph())\n",
    "chess"
   ]
  },
  {
   "cell_type": "markdown",
   "metadata": {},
   "source": [
    "#### 21 - Verificando tipos de grafos"
   ]
  },
  {
   "cell_type": "code",
   "execution_count": 48,
   "metadata": {},
   "outputs": [
    {
     "data": {
      "text/plain": [
       "(True, True)"
      ]
     },
     "execution_count": 48,
     "metadata": {},
     "output_type": "execute_result"
    }
   ],
   "source": [
    "chess.is_directed(), chess.is_multigraph()"
   ]
  },
  {
   "cell_type": "markdown",
   "metadata": {},
   "source": [
    "#### 22 - Imprindo arestas e atributos"
   ]
  },
  {
   "cell_type": "code",
   "execution_count": 57,
   "metadata": {
    "scrolled": true
   },
   "outputs": [],
   "source": [
    "# chess.edges(data=True)"
   ]
  },
  {
   "cell_type": "markdown",
   "metadata": {},
   "source": [
    "#### 23 - Quantos jogos cada jogador jogou?"
   ]
  },
  {
   "cell_type": "code",
   "execution_count": 56,
   "metadata": {},
   "outputs": [],
   "source": [
    "# list(chess.degree())"
   ]
  },
  {
   "cell_type": "markdown",
   "metadata": {},
   "source": [
    "#### 24 - Quem jogou mais jogos?"
   ]
  },
  {
   "cell_type": "code",
   "execution_count": 51,
   "metadata": {},
   "outputs": [
    {
     "data": {
      "text/plain": [
       "('461', 280)"
      ]
     },
     "execution_count": 51,
     "metadata": {},
     "output_type": "execute_result"
    }
   ],
   "source": [
    "max_value = max(chess.degree(), key=lambda k: k[1])\n",
    "max_value"
   ]
  },
  {
   "cell_type": "markdown",
   "metadata": {},
   "source": [
    "#### 25 - Limpando base de dados no pandas"
   ]
  },
  {
   "cell_type": "code",
   "execution_count": 52,
   "metadata": {},
   "outputs": [
    {
     "data": {
      "text/html": [
       "<div>\n",
       "<style scoped>\n",
       "    .dataframe tbody tr th:only-of-type {\n",
       "        vertical-align: middle;\n",
       "    }\n",
       "\n",
       "    .dataframe tbody tr th {\n",
       "        vertical-align: top;\n",
       "    }\n",
       "\n",
       "    .dataframe thead th {\n",
       "        text-align: right;\n",
       "    }\n",
       "</style>\n",
       "<table border=\"1\" class=\"dataframe\">\n",
       "  <thead>\n",
       "    <tr style=\"text-align: right;\">\n",
       "      <th></th>\n",
       "      <th>white</th>\n",
       "      <th>black</th>\n",
       "      <th>outcome</th>\n",
       "    </tr>\n",
       "  </thead>\n",
       "  <tbody>\n",
       "    <tr>\n",
       "      <th>0</th>\n",
       "      <td>1</td>\n",
       "      <td>2</td>\n",
       "      <td>0</td>\n",
       "    </tr>\n",
       "    <tr>\n",
       "      <th>1</th>\n",
       "      <td>1</td>\n",
       "      <td>3</td>\n",
       "      <td>0</td>\n",
       "    </tr>\n",
       "    <tr>\n",
       "      <th>2</th>\n",
       "      <td>1</td>\n",
       "      <td>4</td>\n",
       "      <td>0</td>\n",
       "    </tr>\n",
       "    <tr>\n",
       "      <th>3</th>\n",
       "      <td>1</td>\n",
       "      <td>5</td>\n",
       "      <td>1</td>\n",
       "    </tr>\n",
       "    <tr>\n",
       "      <th>4</th>\n",
       "      <td>1</td>\n",
       "      <td>6</td>\n",
       "      <td>0</td>\n",
       "    </tr>\n",
       "  </tbody>\n",
       "</table>\n",
       "</div>"
      ],
      "text/plain": [
       "  white black  outcome\n",
       "0     1     2        0\n",
       "1     1     3        0\n",
       "2     1     4        0\n",
       "3     1     5        1\n",
       "4     1     6        0"
      ]
     },
     "execution_count": 52,
     "metadata": {},
     "output_type": "execute_result"
    }
   ],
   "source": [
    "df = pd.DataFrame(chess.edges(data=True), columns=['white', 'black', 'outcome'])\n",
    "df.head()\n",
    "\n",
    "df['outcome'] = df['outcome'].map(lambda x: x['outcome'])\n",
    "df.head()"
   ]
  },
  {
   "cell_type": "markdown",
   "metadata": {},
   "source": [
    "#### 26 - Quantos jogos cada jogador ganhou com peças brancas? E pretas?"
   ]
  },
  {
   "cell_type": "code",
   "execution_count": 54,
   "metadata": {},
   "outputs": [
    {
     "data": {
      "text/html": [
       "<div>\n",
       "<style scoped>\n",
       "    .dataframe tbody tr th:only-of-type {\n",
       "        vertical-align: middle;\n",
       "    }\n",
       "\n",
       "    .dataframe tbody tr th {\n",
       "        vertical-align: top;\n",
       "    }\n",
       "\n",
       "    .dataframe thead th {\n",
       "        text-align: right;\n",
       "    }\n",
       "</style>\n",
       "<table border=\"1\" class=\"dataframe\">\n",
       "  <thead>\n",
       "    <tr style=\"text-align: right;\">\n",
       "      <th></th>\n",
       "      <th>outcome</th>\n",
       "    </tr>\n",
       "  </thead>\n",
       "  <tbody>\n",
       "    <tr>\n",
       "      <th>995</th>\n",
       "      <td>7.0</td>\n",
       "    </tr>\n",
       "    <tr>\n",
       "      <th>996</th>\n",
       "      <td>3.0</td>\n",
       "    </tr>\n",
       "    <tr>\n",
       "      <th>997</th>\n",
       "      <td>13.0</td>\n",
       "    </tr>\n",
       "    <tr>\n",
       "      <th>998</th>\n",
       "      <td>3.0</td>\n",
       "    </tr>\n",
       "    <tr>\n",
       "      <th>999</th>\n",
       "      <td>5.0</td>\n",
       "    </tr>\n",
       "  </tbody>\n",
       "</table>\n",
       "</div>"
      ],
      "text/plain": [
       "     outcome\n",
       "995      7.0\n",
       "996      3.0\n",
       "997     13.0\n",
       "998      3.0\n",
       "999      5.0"
      ]
     },
     "execution_count": 54,
     "metadata": {},
     "output_type": "execute_result"
    }
   ],
   "source": [
    "won_as_white = df[df['outcome']==1].groupby('white').sum()\n",
    "won_as_black = -df[df['outcome']==-1].groupby('black').sum()\n",
    "win_count = won_as_white.add(won_as_black, fill_value=0)\n",
    "win_count.tail()"
   ]
  },
  {
   "cell_type": "markdown",
   "metadata": {},
   "source": [
    "#### 27 - Quem ganhou mais jogos?"
   ]
  },
  {
   "cell_type": "code",
   "execution_count": 55,
   "metadata": {},
   "outputs": [
    {
     "data": {
      "text/html": [
       "<div>\n",
       "<style scoped>\n",
       "    .dataframe tbody tr th:only-of-type {\n",
       "        vertical-align: middle;\n",
       "    }\n",
       "\n",
       "    .dataframe tbody tr th {\n",
       "        vertical-align: top;\n",
       "    }\n",
       "\n",
       "    .dataframe thead th {\n",
       "        text-align: right;\n",
       "    }\n",
       "</style>\n",
       "<table border=\"1\" class=\"dataframe\">\n",
       "  <thead>\n",
       "    <tr style=\"text-align: right;\">\n",
       "      <th></th>\n",
       "      <th>outcome</th>\n",
       "    </tr>\n",
       "  </thead>\n",
       "  <tbody>\n",
       "    <tr>\n",
       "      <th>330</th>\n",
       "      <td>109.0</td>\n",
       "    </tr>\n",
       "    <tr>\n",
       "      <th>467</th>\n",
       "      <td>103.0</td>\n",
       "    </tr>\n",
       "    <tr>\n",
       "      <th>98</th>\n",
       "      <td>94.0</td>\n",
       "    </tr>\n",
       "    <tr>\n",
       "      <th>456</th>\n",
       "      <td>88.0</td>\n",
       "    </tr>\n",
       "    <tr>\n",
       "      <th>461</th>\n",
       "      <td>88.0</td>\n",
       "    </tr>\n",
       "  </tbody>\n",
       "</table>\n",
       "</div>"
      ],
      "text/plain": [
       "     outcome\n",
       "330    109.0\n",
       "467    103.0\n",
       "98      94.0\n",
       "456     88.0\n",
       "461     88.0"
      ]
     },
     "execution_count": 55,
     "metadata": {},
     "output_type": "execute_result"
    }
   ],
   "source": [
    "win_count.nlargest(5, 'outcome')"
   ]
  },
  {
   "cell_type": "code",
   "execution_count": null,
   "metadata": {},
   "outputs": [],
   "source": []
  }
 ],
 "metadata": {
  "kernelspec": {
   "display_name": "Python 3 (ipykernel)",
   "language": "python",
   "name": "python3"
  },
  "language_info": {
   "codemirror_mode": {
    "name": "ipython",
    "version": 3
   },
   "file_extension": ".py",
   "mimetype": "text/x-python",
   "name": "python",
   "nbconvert_exporter": "python",
   "pygments_lexer": "ipython3",
   "version": "3.8.0"
  }
 },
 "nbformat": 4,
 "nbformat_minor": 2
}
