{
 "cells": [
  {
   "cell_type": "markdown",
   "metadata": {},
   "source": [
    "## Estudo de Caso: Análise de Sentimento - Amazon"
   ]
  },
  {
   "cell_type": "markdown",
   "metadata": {},
   "source": [
    "#### 1 - Carregando e limpando a base de dados"
   ]
  },
  {
   "cell_type": "code",
   "execution_count": 1,
   "metadata": {
    "scrolled": true
   },
   "outputs": [],
   "source": [
    "import pandas as pd\n",
    "import numpy as np"
   ]
  },
  {
   "cell_type": "code",
   "execution_count": 2,
   "metadata": {},
   "outputs": [
    {
     "data": {
      "text/html": [
       "<div>\n",
       "<style scoped>\n",
       "    .dataframe tbody tr th:only-of-type {\n",
       "        vertical-align: middle;\n",
       "    }\n",
       "\n",
       "    .dataframe tbody tr th {\n",
       "        vertical-align: top;\n",
       "    }\n",
       "\n",
       "    .dataframe thead th {\n",
       "        text-align: right;\n",
       "    }\n",
       "</style>\n",
       "<table border=\"1\" class=\"dataframe\">\n",
       "  <thead>\n",
       "    <tr style=\"text-align: right;\">\n",
       "      <th></th>\n",
       "      <th>Product Name</th>\n",
       "      <th>Brand Name</th>\n",
       "      <th>Price</th>\n",
       "      <th>Rating</th>\n",
       "      <th>Reviews</th>\n",
       "      <th>Review Votes</th>\n",
       "    </tr>\n",
       "  </thead>\n",
       "  <tbody>\n",
       "    <tr>\n",
       "      <th>0</th>\n",
       "      <td>\"CLEAR CLEAN ESN\" Sprint EPIC 4G Galaxy SPH-D7...</td>\n",
       "      <td>Samsung</td>\n",
       "      <td>199.99</td>\n",
       "      <td>5</td>\n",
       "      <td>I feel so LUCKY to have found this used (phone...</td>\n",
       "      <td>1.0</td>\n",
       "    </tr>\n",
       "    <tr>\n",
       "      <th>1</th>\n",
       "      <td>\"CLEAR CLEAN ESN\" Sprint EPIC 4G Galaxy SPH-D7...</td>\n",
       "      <td>Samsung</td>\n",
       "      <td>199.99</td>\n",
       "      <td>4</td>\n",
       "      <td>nice phone, nice up grade from my pantach revu...</td>\n",
       "      <td>0.0</td>\n",
       "    </tr>\n",
       "    <tr>\n",
       "      <th>2</th>\n",
       "      <td>\"CLEAR CLEAN ESN\" Sprint EPIC 4G Galaxy SPH-D7...</td>\n",
       "      <td>Samsung</td>\n",
       "      <td>199.99</td>\n",
       "      <td>5</td>\n",
       "      <td>Very pleased</td>\n",
       "      <td>0.0</td>\n",
       "    </tr>\n",
       "    <tr>\n",
       "      <th>3</th>\n",
       "      <td>\"CLEAR CLEAN ESN\" Sprint EPIC 4G Galaxy SPH-D7...</td>\n",
       "      <td>Samsung</td>\n",
       "      <td>199.99</td>\n",
       "      <td>4</td>\n",
       "      <td>It works good but it goes slow sometimes but i...</td>\n",
       "      <td>0.0</td>\n",
       "    </tr>\n",
       "    <tr>\n",
       "      <th>4</th>\n",
       "      <td>\"CLEAR CLEAN ESN\" Sprint EPIC 4G Galaxy SPH-D7...</td>\n",
       "      <td>Samsung</td>\n",
       "      <td>199.99</td>\n",
       "      <td>4</td>\n",
       "      <td>Great phone to replace my lost phone. The only...</td>\n",
       "      <td>0.0</td>\n",
       "    </tr>\n",
       "  </tbody>\n",
       "</table>\n",
       "</div>"
      ],
      "text/plain": [
       "                                        Product Name Brand Name   Price  \\\n",
       "0  \"CLEAR CLEAN ESN\" Sprint EPIC 4G Galaxy SPH-D7...    Samsung  199.99   \n",
       "1  \"CLEAR CLEAN ESN\" Sprint EPIC 4G Galaxy SPH-D7...    Samsung  199.99   \n",
       "2  \"CLEAR CLEAN ESN\" Sprint EPIC 4G Galaxy SPH-D7...    Samsung  199.99   \n",
       "3  \"CLEAR CLEAN ESN\" Sprint EPIC 4G Galaxy SPH-D7...    Samsung  199.99   \n",
       "4  \"CLEAR CLEAN ESN\" Sprint EPIC 4G Galaxy SPH-D7...    Samsung  199.99   \n",
       "\n",
       "   Rating                                            Reviews  Review Votes  \n",
       "0       5  I feel so LUCKY to have found this used (phone...           1.0  \n",
       "1       4  nice phone, nice up grade from my pantach revu...           0.0  \n",
       "2       5                                       Very pleased           0.0  \n",
       "3       4  It works good but it goes slow sometimes but i...           0.0  \n",
       "4       4  Great phone to replace my lost phone. The only...           0.0  "
      ]
     },
     "execution_count": 2,
     "metadata": {},
     "output_type": "execute_result"
    }
   ],
   "source": [
    "df = pd.read_csv('./Data/Amazon_Unlocked_Mobile.csv')\n",
    "df.head()"
   ]
  },
  {
   "cell_type": "code",
   "execution_count": 3,
   "metadata": {},
   "outputs": [
    {
     "data": {
      "text/plain": [
       "(413840, 6)"
      ]
     },
     "execution_count": 3,
     "metadata": {},
     "output_type": "execute_result"
    }
   ],
   "source": [
    "df.shape"
   ]
  },
  {
   "cell_type": "code",
   "execution_count": 4,
   "metadata": {},
   "outputs": [],
   "source": [
    "df = df.sample(frac=0.1, random_state=10)"
   ]
  },
  {
   "cell_type": "code",
   "execution_count": 5,
   "metadata": {},
   "outputs": [],
   "source": [
    "df.dropna(inplace=True)"
   ]
  },
  {
   "cell_type": "code",
   "execution_count": 6,
   "metadata": {},
   "outputs": [],
   "source": [
    "df = df[df['Rating'] != 3]"
   ]
  },
  {
   "cell_type": "code",
   "execution_count": 7,
   "metadata": {},
   "outputs": [
    {
     "data": {
      "text/html": [
       "<div>\n",
       "<style scoped>\n",
       "    .dataframe tbody tr th:only-of-type {\n",
       "        vertical-align: middle;\n",
       "    }\n",
       "\n",
       "    .dataframe tbody tr th {\n",
       "        vertical-align: top;\n",
       "    }\n",
       "\n",
       "    .dataframe thead th {\n",
       "        text-align: right;\n",
       "    }\n",
       "</style>\n",
       "<table border=\"1\" class=\"dataframe\">\n",
       "  <thead>\n",
       "    <tr style=\"text-align: right;\">\n",
       "      <th></th>\n",
       "      <th>Product Name</th>\n",
       "      <th>Brand Name</th>\n",
       "      <th>Price</th>\n",
       "      <th>Rating</th>\n",
       "      <th>Reviews</th>\n",
       "      <th>Review Votes</th>\n",
       "      <th>Positively Rated</th>\n",
       "    </tr>\n",
       "  </thead>\n",
       "  <tbody>\n",
       "    <tr>\n",
       "      <th>34377</th>\n",
       "      <td>Apple iPhone 5c 8GB (Pink) - Verizon Wireless</td>\n",
       "      <td>Apple</td>\n",
       "      <td>194.99</td>\n",
       "      <td>1</td>\n",
       "      <td>The phone needed a SIM card, would have been n...</td>\n",
       "      <td>1.0</td>\n",
       "      <td>0</td>\n",
       "    </tr>\n",
       "    <tr>\n",
       "      <th>248521</th>\n",
       "      <td>Motorola Droid RAZR MAXX XT912 M Verizon Smart...</td>\n",
       "      <td>Motorola</td>\n",
       "      <td>174.99</td>\n",
       "      <td>5</td>\n",
       "      <td>I was 3 months away from my upgrade and my Str...</td>\n",
       "      <td>3.0</td>\n",
       "      <td>1</td>\n",
       "    </tr>\n",
       "    <tr>\n",
       "      <th>167661</th>\n",
       "      <td>CNPGD [U.S. Office Extended Warranty] Smartwat...</td>\n",
       "      <td>CNPGD</td>\n",
       "      <td>49.99</td>\n",
       "      <td>1</td>\n",
       "      <td>an experience i want to forget</td>\n",
       "      <td>0.0</td>\n",
       "      <td>0</td>\n",
       "    </tr>\n",
       "    <tr>\n",
       "      <th>73287</th>\n",
       "      <td>Apple iPhone 7 Unlocked Phone 256 GB - US Vers...</td>\n",
       "      <td>Apple</td>\n",
       "      <td>922.00</td>\n",
       "      <td>5</td>\n",
       "      <td>GREAT PHONE WORK ACCORDING MY EXPECTATIONS.</td>\n",
       "      <td>1.0</td>\n",
       "      <td>1</td>\n",
       "    </tr>\n",
       "    <tr>\n",
       "      <th>277158</th>\n",
       "      <td>Nokia N8 Unlocked GSM Touch Screen Phone Featu...</td>\n",
       "      <td>Nokia</td>\n",
       "      <td>95.00</td>\n",
       "      <td>5</td>\n",
       "      <td>I fell in love with this phone because it did ...</td>\n",
       "      <td>0.0</td>\n",
       "      <td>1</td>\n",
       "    </tr>\n",
       "  </tbody>\n",
       "</table>\n",
       "</div>"
      ],
      "text/plain": [
       "                                             Product Name Brand Name   Price  \\\n",
       "34377       Apple iPhone 5c 8GB (Pink) - Verizon Wireless      Apple  194.99   \n",
       "248521  Motorola Droid RAZR MAXX XT912 M Verizon Smart...   Motorola  174.99   \n",
       "167661  CNPGD [U.S. Office Extended Warranty] Smartwat...      CNPGD   49.99   \n",
       "73287   Apple iPhone 7 Unlocked Phone 256 GB - US Vers...      Apple  922.00   \n",
       "277158  Nokia N8 Unlocked GSM Touch Screen Phone Featu...      Nokia   95.00   \n",
       "\n",
       "        Rating                                            Reviews  \\\n",
       "34377        1  The phone needed a SIM card, would have been n...   \n",
       "248521       5  I was 3 months away from my upgrade and my Str...   \n",
       "167661       1                     an experience i want to forget   \n",
       "73287        5        GREAT PHONE WORK ACCORDING MY EXPECTATIONS.   \n",
       "277158       5  I fell in love with this phone because it did ...   \n",
       "\n",
       "        Review Votes  Positively Rated  \n",
       "34377            1.0                 0  \n",
       "248521           3.0                 1  \n",
       "167661           0.0                 0  \n",
       "73287            1.0                 1  \n",
       "277158           0.0                 1  "
      ]
     },
     "execution_count": 7,
     "metadata": {},
     "output_type": "execute_result"
    }
   ],
   "source": [
    "df['Positively Rated'] = np.where(df['Rating'] > 3, 1, 0)\n",
    "df.head()"
   ]
  },
  {
   "cell_type": "markdown",
   "metadata": {},
   "source": [
    "#### 2 - Verificando o balanceamento da coluna (y)"
   ]
  },
  {
   "cell_type": "code",
   "execution_count": 8,
   "metadata": {},
   "outputs": [
    {
     "data": {
      "text/plain": [
       "0.7471776686078667"
      ]
     },
     "execution_count": 8,
     "metadata": {},
     "output_type": "execute_result"
    }
   ],
   "source": [
    "df['Positively Rated'].mean()"
   ]
  },
  {
   "cell_type": "markdown",
   "metadata": {},
   "source": [
    "#### 3 - Separando os dados de treinamento e teste"
   ]
  },
  {
   "cell_type": "code",
   "execution_count": 9,
   "metadata": {},
   "outputs": [],
   "source": [
    "from sklearn.model_selection import train_test_split\n",
    "\n",
    "X_train, X_test, y_train, y_test = train_test_split(df['Reviews'], \n",
    "                                                    df['Positively Rated'], \n",
    "                                                    random_state=0)"
   ]
  },
  {
   "cell_type": "code",
   "execution_count": 10,
   "metadata": {},
   "outputs": [
    {
     "data": {
      "text/plain": [
       "(23052,)"
      ]
     },
     "execution_count": 10,
     "metadata": {},
     "output_type": "execute_result"
    }
   ],
   "source": [
    "X_train.iloc[0]\n",
    "X_train.shape"
   ]
  },
  {
   "cell_type": "markdown",
   "metadata": {},
   "source": [
    "#### 4 - Mala de palavras (CountVectorizer)"
   ]
  },
  {
   "cell_type": "code",
   "execution_count": 11,
   "metadata": {},
   "outputs": [],
   "source": [
    "from sklearn.feature_extraction.text import CountVectorizer\n",
    "\n",
    "vect = CountVectorizer().fit(X_train)"
   ]
  },
  {
   "cell_type": "markdown",
   "metadata": {},
   "source": [
    "#### 5 - Imprimindo o vocabulário (características)"
   ]
  },
  {
   "cell_type": "code",
   "execution_count": 12,
   "metadata": {
    "scrolled": true
   },
   "outputs": [
    {
     "data": {
      "text/plain": [
       "{'analyzer': 'word',\n",
       " 'binary': False,\n",
       " 'decode_error': 'strict',\n",
       " 'dtype': numpy.int64,\n",
       " 'encoding': 'utf-8',\n",
       " 'input': 'content',\n",
       " 'lowercase': True,\n",
       " 'max_df': 1.0,\n",
       " 'max_features': None,\n",
       " 'min_df': 1,\n",
       " 'ngram_range': (1, 1),\n",
       " 'preprocessor': None,\n",
       " 'stop_words': None,\n",
       " 'strip_accents': None,\n",
       " 'token_pattern': '(?u)\\\\b\\\\w\\\\w+\\\\b',\n",
       " 'tokenizer': None,\n",
       " 'vocabulary': None}"
      ]
     },
     "execution_count": 12,
     "metadata": {},
     "output_type": "execute_result"
    }
   ],
   "source": [
    "vect.get_params()"
   ]
  },
  {
   "cell_type": "markdown",
   "metadata": {},
   "source": [
    "#### 6 - Comprimento das características (tokens)"
   ]
  },
  {
   "cell_type": "code",
   "execution_count": 13,
   "metadata": {},
   "outputs": [
    {
     "data": {
      "text/plain": [
       "19601"
      ]
     },
     "execution_count": 13,
     "metadata": {},
     "output_type": "execute_result"
    }
   ],
   "source": [
    "len(vect.get_feature_names_out())"
   ]
  },
  {
   "cell_type": "markdown",
   "metadata": {},
   "source": [
    "#### 7 - Matriz de termos"
   ]
  },
  {
   "cell_type": "code",
   "execution_count": 14,
   "metadata": {},
   "outputs": [
    {
     "data": {
      "text/plain": [
       "<23052x19601 sparse matrix of type '<class 'numpy.int64'>'\n",
       "\twith 613289 stored elements in Compressed Sparse Row format>"
      ]
     },
     "execution_count": 14,
     "metadata": {},
     "output_type": "execute_result"
    }
   ],
   "source": [
    "X_train_vectorized = vect.transform(X_train)\n",
    "\n",
    "X_train_vectorized"
   ]
  },
  {
   "cell_type": "markdown",
   "metadata": {},
   "source": [
    "#### 8 - Treinar um robô de Regressão Logística"
   ]
  },
  {
   "cell_type": "code",
   "execution_count": 15,
   "metadata": {
    "scrolled": true
   },
   "outputs": [
    {
     "name": "stderr",
     "output_type": "stream",
     "text": [
      "/Users/marinaramalhetedesouza/opt/anaconda3/envs/ml-impa/lib/python3.8/site-packages/sklearn/linear_model/_logistic.py:814: ConvergenceWarning: lbfgs failed to converge (status=1):\n",
      "STOP: TOTAL NO. of ITERATIONS REACHED LIMIT.\n",
      "\n",
      "Increase the number of iterations (max_iter) or scale the data as shown in:\n",
      "    https://scikit-learn.org/stable/modules/preprocessing.html\n",
      "Please also refer to the documentation for alternative solver options:\n",
      "    https://scikit-learn.org/stable/modules/linear_model.html#logistic-regression\n",
      "  n_iter_i = _check_optimize_result(\n"
     ]
    },
    {
     "data": {
      "text/plain": [
       "LogisticRegression()"
      ]
     },
     "execution_count": 15,
     "metadata": {},
     "output_type": "execute_result"
    }
   ],
   "source": [
    "from sklearn.linear_model import LogisticRegression\n",
    "\n",
    "model = LogisticRegression()\n",
    "model.fit(X_train_vectorized, y_train)"
   ]
  },
  {
   "cell_type": "markdown",
   "metadata": {},
   "source": [
    "#### 9 - Previsões com o robô e área de baixo da curva (AUC)"
   ]
  },
  {
   "cell_type": "code",
   "execution_count": 16,
   "metadata": {},
   "outputs": [
    {
     "name": "stdout",
     "output_type": "stream",
     "text": [
      "AUC:  0.8970876860933052\n"
     ]
    }
   ],
   "source": [
    "from sklearn.metrics import roc_auc_score\n",
    "\n",
    "predictions = model.predict(vect.transform(X_test))\n",
    "\n",
    "print('AUC: ', roc_auc_score(y_test, predictions))"
   ]
  },
  {
   "cell_type": "markdown",
   "metadata": {},
   "source": [
    "#### 10 - Coeficientes altos e baixos"
   ]
  },
  {
   "cell_type": "code",
   "execution_count": 17,
   "metadata": {
    "scrolled": true
   },
   "outputs": [
    {
     "data": {
      "text/plain": [
       "array(['excelent', 'excellent', 'excelente', 'perfectly', 'love',\n",
       "       'perfect', 'exactly', 'great', 'best', 'awesome'], dtype=object)"
      ]
     },
     "execution_count": 17,
     "metadata": {},
     "output_type": "execute_result"
    }
   ],
   "source": [
    "feature_names = np.array(vect.get_feature_names_out())\n",
    "\n",
    "sorted_coef_index = model.coef_[0].argsort()\n",
    "\n",
    "feature_names[sorted_coef_index[:10]]\n",
    "\n",
    "feature_names[sorted_coef_index[:-11:-1]]"
   ]
  },
  {
   "cell_type": "markdown",
   "metadata": {},
   "source": [
    "#### 11 -  Term frequency-inverse document frequency (TL-IDF)"
   ]
  },
  {
   "cell_type": "code",
   "execution_count": 18,
   "metadata": {},
   "outputs": [
    {
     "name": "stderr",
     "output_type": "stream",
     "text": [
      "/Users/marinaramalhetedesouza/opt/anaconda3/envs/ml-impa/lib/python3.8/site-packages/sklearn/utils/deprecation.py:87: FutureWarning: Function get_feature_names is deprecated; get_feature_names is deprecated in 1.0 and will be removed in 1.2. Please use get_feature_names_out instead.\n",
      "  warnings.warn(msg, category=FutureWarning)\n"
     ]
    },
    {
     "data": {
      "text/plain": [
       "5442"
      ]
     },
     "execution_count": 18,
     "metadata": {},
     "output_type": "execute_result"
    }
   ],
   "source": [
    "from sklearn.feature_extraction.text import TfidfVectorizer\n",
    "\n",
    "vect = TfidfVectorizer(min_df=5).fit(X_train)\n",
    "\n",
    "len(vect.get_feature_names())"
   ]
  },
  {
   "cell_type": "markdown",
   "metadata": {},
   "source": [
    "#### 12 - Treinar com TL-IDF"
   ]
  },
  {
   "cell_type": "code",
   "execution_count": 19,
   "metadata": {},
   "outputs": [
    {
     "name": "stdout",
     "output_type": "stream",
     "text": [
      "AUC:  0.889951006492175\n"
     ]
    }
   ],
   "source": [
    "X_train_vectorized = vect.transform(X_train)\n",
    "\n",
    "model = LogisticRegression()\n",
    "model.fit(X_train_vectorized, y_train)\n",
    "\n",
    "predictions = model.predict(vect.transform(X_test))\n",
    "\n",
    "print('AUC: ', roc_auc_score(y_test, predictions))"
   ]
  },
  {
   "cell_type": "markdown",
   "metadata": {},
   "source": [
    "#### 13 - Coeficientes altos e baixoa para TL-IDF"
   ]
  },
  {
   "cell_type": "code",
   "execution_count": 20,
   "metadata": {},
   "outputs": [
    {
     "name": "stdout",
     "output_type": "stream",
     "text": [
      "Smallest tfidf:\n",
      "['61' 'printer' 'approach' 'adjustment' 'consequences' 'length' 'emailing'\n",
      " 'degrees' 'handsfree' 'chipset']\n",
      "\n",
      "Largest tfidf: \n",
      "['unlocked' 'handy' 'useless' 'cheat' 'up' 'original' 'exelent' 'exelente'\n",
      " 'exellent' 'satisfied']\n"
     ]
    }
   ],
   "source": [
    "feature_names = np.array(vect.get_feature_names_out())\n",
    "\n",
    "sorted_tfidf_index = X_train_vectorized.max(0).toarray()[0].argsort()\n",
    "\n",
    "print('Smallest tfidf:\\n{}\\n'.format(feature_names[sorted_tfidf_index[:10]]))\n",
    "print('Largest tfidf: \\n{}'.format(feature_names[sorted_tfidf_index[:-11:-1]]))"
   ]
  },
  {
   "cell_type": "code",
   "execution_count": 21,
   "metadata": {
    "scrolled": true
   },
   "outputs": [
    {
     "name": "stdout",
     "output_type": "stream",
     "text": [
      "Smallest Coefs:\n",
      "['not' 'slow' 'disappointed' 'worst' 'terrible' 'never' 'return' 'doesn'\n",
      " 'horrible' 'waste']\n",
      "\n",
      "Largest Coefs: \n",
      "['great' 'love' 'excellent' 'good' 'best' 'perfect' 'price' 'awesome'\n",
      " 'far' 'perfectly']\n"
     ]
    }
   ],
   "source": [
    "sorted_coef_index = model.coef_[0].argsort()\n",
    "\n",
    "print('Smallest Coefs:\\n{}\\n'.format(feature_names[sorted_coef_index[:10]]))\n",
    "print('Largest Coefs: \\n{}'.format(feature_names[sorted_coef_index[:-11:-1]]))"
   ]
  },
  {
   "cell_type": "markdown",
   "metadata": {},
   "source": [
    "#### 14 - Problema resolvido com n-grams"
   ]
  },
  {
   "cell_type": "code",
   "execution_count": 22,
   "metadata": {},
   "outputs": [
    {
     "name": "stdout",
     "output_type": "stream",
     "text": [
      "[0 0]\n"
     ]
    }
   ],
   "source": [
    "print(model.predict(vect.transform(['not an issue, phone is working',\n",
    "                                    'an issue, phone is not working'])))"
   ]
  },
  {
   "cell_type": "markdown",
   "metadata": {},
   "source": [
    "#### 15 - Mala de palavras com n-grams"
   ]
  },
  {
   "cell_type": "code",
   "execution_count": 23,
   "metadata": {},
   "outputs": [
    {
     "name": "stderr",
     "output_type": "stream",
     "text": [
      "/Users/marinaramalhetedesouza/opt/anaconda3/envs/ml-impa/lib/python3.8/site-packages/sklearn/utils/deprecation.py:87: FutureWarning: Function get_feature_names is deprecated; get_feature_names is deprecated in 1.0 and will be removed in 1.2. Please use get_feature_names_out instead.\n",
      "  warnings.warn(msg, category=FutureWarning)\n"
     ]
    },
    {
     "data": {
      "text/plain": [
       "29072"
      ]
     },
     "execution_count": 23,
     "metadata": {},
     "output_type": "execute_result"
    }
   ],
   "source": [
    "vect = CountVectorizer(min_df=5, ngram_range=(1,2)).fit(X_train)\n",
    "\n",
    "X_train_vectorized = vect.transform(X_train)\n",
    "\n",
    "len(vect.get_feature_names())\n"
   ]
  },
  {
   "cell_type": "markdown",
   "metadata": {},
   "source": [
    "#### 16 - Área de baixo da curva com n-grams"
   ]
  },
  {
   "cell_type": "code",
   "execution_count": 24,
   "metadata": {},
   "outputs": [
    {
     "name": "stderr",
     "output_type": "stream",
     "text": [
      "/Users/marinaramalhetedesouza/opt/anaconda3/envs/ml-impa/lib/python3.8/site-packages/sklearn/linear_model/_logistic.py:814: ConvergenceWarning: lbfgs failed to converge (status=1):\n",
      "STOP: TOTAL NO. of ITERATIONS REACHED LIMIT.\n",
      "\n",
      "Increase the number of iterations (max_iter) or scale the data as shown in:\n",
      "    https://scikit-learn.org/stable/modules/preprocessing.html\n",
      "Please also refer to the documentation for alternative solver options:\n",
      "    https://scikit-learn.org/stable/modules/linear_model.html#logistic-regression\n",
      "  n_iter_i = _check_optimize_result(\n"
     ]
    },
    {
     "name": "stdout",
     "output_type": "stream",
     "text": [
      "AUC:  0.9104640361714084\n"
     ]
    }
   ],
   "source": [
    "model = LogisticRegression()\n",
    "model.fit(X_train_vectorized, y_train)\n",
    "\n",
    "predictions = model.predict(vect.transform(X_test))\n",
    "\n",
    "print('AUC: ', roc_auc_score(y_test, predictions))"
   ]
  },
  {
   "cell_type": "markdown",
   "metadata": {},
   "source": [
    "#### 17 - Número de características e Coeficientes"
   ]
  },
  {
   "cell_type": "code",
   "execution_count": 25,
   "metadata": {
    "scrolled": true
   },
   "outputs": [
    {
     "name": "stdout",
     "output_type": "stream",
     "text": [
      "Smallest Coefs:\n",
      "['no good' 'junk' 'poor' 'slow' 'worst' 'broken' 'not good' 'terrible'\n",
      " 'defective' 'horrible']\n",
      "\n",
      "Largest Coefs: \n",
      "['excellent' 'excelente' 'perfect' 'excelent' 'great' 'love' 'awesome'\n",
      " 'no problems' 'good' 'best']\n"
     ]
    },
    {
     "name": "stderr",
     "output_type": "stream",
     "text": [
      "/Users/marinaramalhetedesouza/opt/anaconda3/envs/ml-impa/lib/python3.8/site-packages/sklearn/utils/deprecation.py:87: FutureWarning: Function get_feature_names is deprecated; get_feature_names is deprecated in 1.0 and will be removed in 1.2. Please use get_feature_names_out instead.\n",
      "  warnings.warn(msg, category=FutureWarning)\n"
     ]
    }
   ],
   "source": [
    "feature_names = np.array(vect.get_feature_names())\n",
    "\n",
    "sorted_coef_index = model.coef_[0].argsort()\n",
    "\n",
    "print('Smallest Coefs:\\n{}\\n'.format(feature_names[sorted_coef_index[:10]]))\n",
    "print('Largest Coefs: \\n{}'.format(feature_names[sorted_coef_index[:-11:-1]]))"
   ]
  },
  {
   "cell_type": "markdown",
   "metadata": {},
   "source": [
    "#### 18 - Problema resolvido com n-grams"
   ]
  },
  {
   "cell_type": "code",
   "execution_count": 26,
   "metadata": {},
   "outputs": [
    {
     "name": "stdout",
     "output_type": "stream",
     "text": [
      "[1 0]\n"
     ]
    }
   ],
   "source": [
    "print(model.predict(vect.transform(['not an issue, phone is working',\n",
    "                                    'an issue, phone is not working'])))"
   ]
  },
  {
   "cell_type": "markdown",
   "metadata": {},
   "source": [
    "## Estudo de Caso - Sumarização automática"
   ]
  },
  {
   "cell_type": "markdown",
   "metadata": {},
   "source": [
    "#### 19 - Acessando documentos html"
   ]
  },
  {
   "cell_type": "code",
   "execution_count": 27,
   "metadata": {},
   "outputs": [
    {
     "data": {
      "text/plain": [
       "'<!DOCTYPE html><html dir=\"ltr\" lang=\"pt-BR\">\\n<head> <meta charset=\"utf-8\" /><meta http-equiv=\"x-dns-prefetch-control\" content=\"on\"><link rel=\"dns-prefetch\" href=\"https://pagead2.googlesyndication.com\" /><link rel=\"dns-prefetch\" href=\"https://securepubads.g.doubleclick.net\" /><link rel=\"dns-prefetch\" href=\"https://cm.g.doubleclick.net\" /><link rel=\"dns-prefetch\" href=\"https://tpc.googlesyndication.com\" /><link rel=\"dns-prefetch\" href=\"https://www.googletagmanager.com\" /><link rel=\"dns-prefetch\" href=\"https://www.googletagservices.com\" /><link rel=\"dns-prefetch\" href=\"https://www.googleadservices.com\" /><link rel=\"dns-prefetch\" href=\"https://www.google-analytics.com\" /><link rel=\"dns-prefetch\" href=\"https://www.googleads.g.doubleclick.net\" /><link rel=\"dns-prefetch\" href=\"https://b.scorecardresearch.com\" /><link rel=\"dns-prefetch\" href=\"https://cdn.taboola.com\" /><link rel=\"dns-prefetch\" href=\"https://ads.rubiconproject.com/\"><link rel=\"dns-prefetch\" href=\"https://i0.statig.com.br\" /><link rel=\"dns-prefetch\" href=\"https://cdnjs.cloudflare.com\" /><link rel=\"dns-prefetch\" href=\"https://ajax.cloudflare.com\"><link rel=\"dns-prefetch\" href=\"//webservices.webspectator.com\" crossorigin><link rel=\"dns-prefetch\" href=\"//cdn.webspectator.com\" crossorigin><link rel=\"preconnect\" href=\"https://ultimosegundo.ig.com.br\" /><link rel=\"preconnect\" href=\"https://www.google-analytics.com/\"><link rel=\"preconnect\" href=\"https://i0.statig.com.br\"><link rel=\"preconnect\" href=\"https://www.googletagmanager.com\" /><link rel=\"preconnect\" href=\"https://webservices.webspectator.com\"><link rel=\"preconnect\" href=\"https://cdn.webspectator.com\"><link rel=\"preload\" href=\"https://fonts.gstatic.com/s/roboto/v20/KFOlCnqEu92Fr1MmEU9fBBc4AMP6lQ.woff2\" as=\"font\" crossorigin><link rel=\"preload\" href=\"https://fonts.gstatic.com/s/roboto/v20/KFOlCnqEu92Fr1MmWUlfBBc4AMP6lQ.woff2\" as=\"font\" crossorigin><link rel=\"preload\" href=\"https://fonts.gstatic.com/s/roboto/v20/KFOmCnqEu92Fr1Mu4mxKKTU1Kg.woff2\" as=\"font\" crossorigin><link rel=\"preload\" as=\"image\" href=\"https://i0.statig.com.br/assets/v5/logos/logoiguinhohome_branco.png\">\\n\\n<link rel=\"preload\" as=\"image\" href=\"\" />\\n<link rel=\"shortcut icon\" href=\"https://i0.statig.com.br/images/favicon.png\" />\\n<meta http-equiv=\"X-UA-Compatible\" content=\"IE=Edge\" />\\n<meta name=\"viewport\" content=\"width=device-width, initial-scale=1.0\" />\\n<title>Relatório da reforma da Previdência começa a ser discutido hoje na Câmara | Política | iG</title>\\n<meta name=\"title\" content=\"Relatório da reforma da Previdência começa a ser discutido hoje na Câmara | Política | iG\" />\\n<meta name=\"description\" content=\"Nova redação da proposta é debatida a partir desta terça-feira em comissão; deputados têm acordo para votar mudanças nas regras para a aposentadoria na semana que vem e levar o texto para votação no plenário no dia 8 de maio\" />\\n<meta name=\"author\" content=\"iG São Paulo\" />\\n<meta name=\"keywords\" content=\"reforma da Previdência, Câmara dos Deputados, aposentadoria, Arthur Maia, relatório, comissão especial\" />\\n<meta name=\"google-site-verification\" content=\"veSJywtQNLJIVeQ6j0WQojlh2xJZpsiiosc1FDp8HJU\" />\\n<meta name=\"robots\" content=\"index, follow, max-snippet:-1, max-image-preview:large, max-video-preview:-1\" />\\n<link rel=\"canonical\" href=\"https://ultimosegundo.ig.com.br/politica/2017-04-25/reforma-da-previdencia.html\" />\\n<link rel=\"amphtml\" href=\"https://ultimosegundo.ig.com.br/politica/2017-04-25/reforma-da-previdencia.html.amp\" />\\n\\n<meta property=\"og:locale\" content=\"pt_BR\" />\\n<meta property=\"og:url\" content=\"https://ultimosegundo.ig.com.br/politica/2017-04-25/reforma-da-previdencia.html\" />\\n<meta property=\"og:title\" content=\"Relatório da reforma da Previdência começa a ser discutido hoje na Câmara\" />\\n<meta property=\"og:site_name\" content=\"Portal iG\" />\\n<meta property=\"og:description\" content=\"Nova redação da proposta é debatida a partir desta terça-feira em comissão; deputados têm acordo para votar mudanças nas regras para a aposentadoria na semana que vem e levar o texto para votação no plenário no dia 8 de maio\" />\\n<meta property=\"og:type\" content=\"article\" />\\n<meta property=\"article:author\" content=\"iG\" />\\n<meta property=\"article:section\" content=\"ultimosegundo\" />\\n<meta property=\"article:tag\" content=\"reforma da Previdência, Câmara dos Deputados, aposentadoria, Arthur Maia, relatório, comissão especial\" />\\n<meta property=\"article:published_time\" content=\"2017-04-25T16:35:39Z\" />\\n<meta property=\"article:opinion\" content=\"false\" />\\n<meta property=\"og:image\" content=\"https://i0.statig.com.br/amp/statics/img/banner_ig.jpg\" />\\n<meta property=\"og:image:width\" content=\"1200\" />\\n<meta property=\"og:image:height\" content=\"675\" />\\n\\n<meta name=\"iG-site-id\" content=\"4e7b756c7a6504a01e0000af\" />\\n<meta name=\"category\" content=\"ultimosegundo/politica/\" />\\n<meta name=\"contact\" content=\"editorultimosegundo@ig.com\" />\\n<meta name=\"iG-site-nome\" content=\"Último Segundo\" />\\n<meta name=\"iG-site-nome-normalizado\" content=\"ultimosegundo\" />\\n<meta name=\"iG-twitter\" content=\"http://twitter.com/#!/ultimosegundo\" />\\n<meta name=\"iG-busca-google\" content=\"ULTIMOSEGUNDO\" />\\n<meta name=\"template\" content=\"NoticiaIGv05\" />\\n\\n<meta name=\"iG-secao-id\" content=\"4ea6ff6af4cc0e9f760003c4\" />\\n<meta name=\"iG-secao-nome\" content=\"Política\" />\\n\\n<meta name=\"iG-noticia-family-friendly\" content=\"true\" />\\n<meta name=\"iG-noticia-httpurl\" content=\"https://ultimosegundo.ig.com.br/politica/2017-04-25/reforma-da-previdencia.html\" />\\n<meta name=\"iG-noticia-keywords\" content=\"reforma da Previdência, Câmara dos Deputados, aposentadoria, Arthur Maia, relatório, comissão especial\" />\\n<meta name=\"iG-noticia-comentarios\" content=\"true\" />\\n<meta name=\"iG-noticia-template\" content=\"NoticiaIGv05\" />\\n<meta itemprop=\"datePublished\" content=\"2017-04-25T16:35:39Z\" />\\n<meta itemprop=\"headline\" content=\"Relatório da reforma da Previdência começa a ser discutido hoje na Câmara | Política | iG\" />\\n<script type=\"application/ld+json\">{\"@context\": \"https://schema.org\",\"@type\": \"WebSite\",\"url\": \"https://www.ig.com.br/\",\"potentialAction\": {\"@type\": \"SearchAction\",\"target\": \"https://busca.ig.com.br/buscar/?q={search_term_string}\",\"query-input\": \"required name=search_term_string\"}}</script>\\n<script type=\"application/ld+json\">{\"@context\": \"https://schema.org\",\"@type\": \"Organization\",\"name\": \"IG\",\"url\": \"https://www.ig.com.br\",\"logo\": \"https://i0.statig.com.br/assets/v1/images/logo-ig/logo_ig_146X150.png\",\"sameAs\": [\"https://www.facebook.com/ig\",\"https://twitter.com/iG\",\"https://plus.google.com/+iG/\",\"https://www.instagram.com/portal_ig/\",\"https://www.youtube.com/user/ig\",\"https://www.linkedin.com/company/ig---publicidade-e-conte-do-ltda\",\"https://www.pinterest.com/portalig/\"]}</script>\\n<script type=\"application/ld+json\">{\"@context\": \"https://schema.org\",\"@type\": \"WebSite\",\"name\": \"IG\",\"url\": \"https://www.ig.com.br\"}</script>\\n<script type=\"application/ld+json\">{\"@context\": \"https://schema.org\",\"@type\": \"NewsArticle\",\"url\": \"https://ultimosegundo.ig.com.br/politica/2017-04-25/reforma-da-previdencia.html\",\"articleBody\": \"A comissão especial que analisa a proposta de reforma da Previdência na Câmara dos Deputados inicia na tarde desta terça-feira (25) a discussão do relatório apresentado na semana passada pelo relator, deputado Arthur Maia (PPS-BA).Depois de fechar acordo com parlamentares da oposição, que tentavam obstruir a sessão de leitura do parecer do relator, o presidente da comissão da reforma da Previdência, deputado Carlos Marun (PMDB-MS), designou que todas as reuniões desta semana sejam para discutir o relatório e apresentar pedido de vista.O acordo com a oposição ainda definiu que a votação do relatório pelos membros da comissão deve ocorrer na próxima semana, dia 2 de maio. Já a partir do dia 8, o relatório estaria pronto para ser votado no plenário da Câmara dos Deputados. Para que isso aconteça, a equipe do governo Temer\\xa0segue atuando para conquistar os votos necessários para aprovar as mudanças nas regras para a aposentadoria.Para reduzir a resistência à proposta, o\\xa0Planalto aceitou flexibilizar alguns pontos do texto original, embora a maior parte das ideias iniciais tenha sido preservada.\\xa0O relatório de Arthur Maia fixa a idade mínima de aposentadoria em 62 anos para as mulheres e em 65 anos para os homens após um período de transição de 20 anos. Ou seja, o aumento seria progressivo, começando em 53 e 55 anos, respectivamente, na data da promulgação da emenda.Para a aposentadoria por tempo de contribuição, o segurado terá que calcular quanto falta para se aposentar pelas regras atuais – 35 anos para o homem e 30 anos para a mulher – e adicionar um pedágio de 30%.Aí é só checar na tabela do aumento progressivo da idade, que começa em 53 anos para a mulher e 55 anos para o homem, e verificar qual idade mínima vai vigorar após este tempo. Pela tabela, a idade sobe um ano a cada dois anos a partir de 2020. Portanto, os 65 anos do homem só serão cobrados a partir de 2038.Leia também:\\xa0Após assalto milionário no Paraguai, oito suspeitos são presos no ParanáCronogramaO líder do governo no Congresso, deputado André Moura (PSC), afirmou à TV Brasil que não cabe mais mudanças na proposta da reforma da Previdência. Segundo Moura, as modificações solicitadas pela base já foram feitas, e o texto a ser trabalhado para aprovação é o que já foi apresentado pelo relator na comissão especial. \\'Esse é o entendimento do governo. Agora é esperar que a base, já que foi atendida, possa votar o texto apresentado pelo relator”, disse.Sobre a possibilidade de adiamento da data de votação da proposta, o líder garantiu que o cronograma está mantido e não será prorrogado. \\'Não tem uma semana a mais. O cronograma estabelecido é o que será cumprido\\', destacou.O líder reiterou que o plenário deve votar a reforma trabalhista nesta semana e, na próxima, a da Previdência. “Nesta terça, [devemos] concluir a votação da recuperação fiscal dos Estados, em plenário, e votar a Reforma Trabalhista amanhã [27], na comissão especial. Na quarta-feira [28], [votar] em plenário. Já na próxima semana, após o feriado, votar a reforma da Previdência na comissão especial, e, logo em seguida, no plenário”, afirmou.O relatório ainda pode ser alterado durante as discussões na Câmara. Para se tornar lei,\\xa0a proposta de reforma da Previdência precisa, após ser aprovada na comissão especial, também passar por votação em dois turnos no plenário da Câmara e depois receber o aval do Senado. Caso os senadores modifiquem o texto, o projeto precisará retornar às mãos dos deputados.Leia também:\\xa0Lava Jato: STJ recebe pedido de investigação contra governadores*Com informações da Agência Brasil e Agência Câmara\",\"alternativeHeadline\": \"Nova redação da proposta é debatida a partir desta terça-feira em comissão; deputados têm acordo para votar mudanças nas regras para a aposentadoria na semana que vem e levar o texto para votação no plenário no dia 8 de maio\",\"mainEntityOfPage\": \"https://ultimosegundo.ig.com.br/politica/2017-04-25/reforma-da-previdencia.html\",\"headline\": \"Relatório da reforma da Previdência começa a ser discutido hoje na Câmara\",\"isFamilyFriendly\": true, \"description\": \"Nova redação da proposta é debatida a partir desta terça-feira em comissão; deputados têm acordo para votar mudanças nas regras para a aposentadoria na semana que vem e levar o texto para votação no plenário no dia 8 de maio\",\"keywords\": \"reforma da Previdência, Câmara dos Deputados, aposentadoria, Arthur Maia, relatório, comissão especial\",\"image\": {\"@type\": \"ImageObject\",\"url\": \"https://i0.statig.com.br/amp/statics/img/banner_ig.jpg\",\"width\": 1200,\"height\": 675},\"thumbnailUrl\": \"https://i0.statig.com.br/bancodeimagens/7o/gh/2w/7ogh2w2cucsdl5ds1ry8q579g.jpg\",\"author\": {\"@type\": \"Person\",\"name\": \"iG São Paulo\"},\"datePublished\": \"2017-04-25T16:35:39Z\",\"dateModified\": \"2017-04-25T16:35:39Z\",\"contentLocation\": {\"@type\": \"Place\",\"name\": \"Brasília\"},\"publisher\": {\"@type\": \"NewsMediaOrganization\",\"id\": \"https://www.ig.com.br/#organization\",\"name\": \"IG\",\"logo\": {\"@type\": \"ImageObject\",\"url\": \"https://i0.statig.com.br/imgs/logo-amp.png\",\"width\": 600,\"height\": 60}},\"commentCount\": 0,\"inLanguage\": \"pt-BR\",\"primaryImageOfPage\": {\"@id\": \"https://i0.statig.com.br/amp/statics/img/banner_ig.jpg\"}}</script>\\n<script type=\"application/ld+json\">{\"@context\": \"https://schema.org\",\"@type\": \"Article\",\"url\": \"https://ultimosegundo.ig.com.br/politica/2017-04-25/reforma-da-previdencia.html\",\"articleBody\": \"A comissão especial que analisa a proposta de reforma da Previdência na Câmara dos Deputados inicia na tarde desta terça-feira (25) a discussão do relatório apresentado na semana passada pelo relator, deputado Arthur Maia (PPS-BA).Depois de fechar acordo com parlamentares da oposição, que tentavam obstruir a sessão de leitura do parecer do relator, o presidente da comissão da reforma da Previdência, deputado Carlos Marun (PMDB-MS), designou que todas as reuniões desta semana sejam para discutir o relatório e apresentar pedido de vista.O acordo com a oposição ainda definiu que a votação do relatório pelos membros da comissão deve ocorrer na próxima semana, dia 2 de maio. Já a partir do dia 8, o relatório estaria pronto para ser votado no plenário da Câmara dos Deputados. Para que isso aconteça, a equipe do governo Temer\\xa0segue atuando para conquistar os votos necessários para aprovar as mudanças nas regras para a aposentadoria.Para reduzir a resistência à proposta, o\\xa0Planalto aceitou flexibilizar alguns pontos do texto original, embora a maior parte das ideias iniciais tenha sido preservada.\\xa0O relatório de Arthur Maia fixa a idade mínima de aposentadoria em 62 anos para as mulheres e em 65 anos para os homens após um período de transição de 20 anos. Ou seja, o aumento seria progressivo, começando em 53 e 55 anos, respectivamente, na data da promulgação da emenda.Para a aposentadoria por tempo de contribuição, o segurado terá que calcular quanto falta para se aposentar pelas regras atuais – 35 anos para o homem e 30 anos para a mulher – e adicionar um pedágio de 30%.Aí é só checar na tabela do aumento progressivo da idade, que começa em 53 anos para a mulher e 55 anos para o homem, e verificar qual idade mínima vai vigorar após este tempo. Pela tabela, a idade sobe um ano a cada dois anos a partir de 2020. Portanto, os 65 anos do homem só serão cobrados a partir de 2038.Leia também:\\xa0Após assalto milionário no Paraguai, oito suspeitos são presos no ParanáCronogramaO líder do governo no Congresso, deputado André Moura (PSC), afirmou à TV Brasil que não cabe mais mudanças na proposta da reforma da Previdência. Segundo Moura, as modificações solicitadas pela base já foram feitas, e o texto a ser trabalhado para aprovação é o que já foi apresentado pelo relator na comissão especial. \\'Esse é o entendimento do governo. Agora é esperar que a base, já que foi atendida, possa votar o texto apresentado pelo relator”, disse.Sobre a possibilidade de adiamento da data de votação da proposta, o líder garantiu que o cronograma está mantido e não será prorrogado. \\'Não tem uma semana a mais. O cronograma estabelecido é o que será cumprido\\', destacou.O líder reiterou que o plenário deve votar a reforma trabalhista nesta semana e, na próxima, a da Previdência. “Nesta terça, [devemos] concluir a votação da recuperação fiscal dos Estados, em plenário, e votar a Reforma Trabalhista amanhã [27], na comissão especial. Na quarta-feira [28], [votar] em plenário. Já na próxima semana, após o feriado, votar a reforma da Previdência na comissão especial, e, logo em seguida, no plenário”, afirmou.O relatório ainda pode ser alterado durante as discussões na Câmara. Para se tornar lei,\\xa0a proposta de reforma da Previdência precisa, após ser aprovada na comissão especial, também passar por votação em dois turnos no plenário da Câmara e depois receber o aval do Senado. Caso os senadores modifiquem o texto, o projeto precisará retornar às mãos dos deputados.Leia também:\\xa0Lava Jato: STJ recebe pedido de investigação contra governadores*Com informações da Agência Brasil e Agência Câmara\",\"alternativeHeadline\": \"Nova redação da proposta é debatida a partir desta terça-feira em comissão; deputados têm acordo para votar mudanças nas regras para a aposentadoria na semana que vem e levar o texto para votação no plenário no dia 8 de maio\",\"mainEntityOfPage\": \"https://ultimosegundo.ig.com.br/politica/2017-04-25/reforma-da-previdencia.html\",\"headline\": \"Relatório da reforma da Previdência começa a ser discutido hoje na Câmara\",\"isFamilyFriendly\": true, \"description\": \"Nova redação da proposta é debatida a partir desta terça-feira em comissão; deputados têm acordo para votar mudanças nas regras para a aposentadoria na semana que vem e levar o texto para votação no plenário no dia 8 de maio\",\"keywords\": \"reforma da Previdência, Câmara dos Deputados, aposentadoria, Arthur Maia, relatório, comissão especial\",\"image\": {\"@type\": \"ImageObject\",\"url\": \"https://i0.statig.com.br/amp/statics/img/banner_ig.jpg\",\"width\": 1200,\"height\": 675},\"thumbnailUrl\": \"https://i0.statig.com.br/bancodeimagens/7o/gh/2w/7ogh2w2cucsdl5ds1ry8q579g.jpg\",\"author\": {\"@type\": \"Person\",\"name\": \"iG São Paulo\"},\"datePublished\": \"2017-04-25T16:35:39Z\",\"dateModified\": \"2017-04-25T16:35:39Z\",\"contentLocation\": {\"@type\": \"Place\",\"name\": \"Brasília\"},\"publisher\": {\"@type\": \"NewsMediaOrganization\",\"id\": \"https://www.ig.com.br/#organization\",\"name\": \"IG\",\"logo\": {\"@type\": \"ImageObject\",\"url\": \"https://i0.statig.com.br/imgs/logo-amp.png\",\"width\": 600,\"height\": 60}},\"commentCount\": 0,\"inLanguage\": \"pt-BR\",\"primaryImageOfPage\": {\"@id\": \"https://i0.statig.com.br/amp/statics/img/banner_ig.jpg\"}}</script>\\n<script type=\"application/ld+json\">{\"@context\": \"https://schema.org\",\"@type\": [\"CreativeWork\", \"ReportageNewsArticle\"],\"url\": \"https://ultimosegundo.ig.com.br/politica/2017-04-25/reforma-da-previdencia.html\",\"articleBody\": \"A comissão especial que analisa a proposta de reforma da Previdência na Câmara dos Deputados inicia na tarde desta terça-feira (25) a discussão do relatório apresentado na semana passada pelo relator, deputado Arthur Maia (PPS-BA).Depois de fechar acordo com parlamentares da oposição, que tentavam obstruir a sessão de leitura do parecer do relator, o presidente da comissão da reforma da Previdência, deputado Carlos Marun (PMDB-MS), designou que todas as reuniões desta semana sejam para discutir o relatório e apresentar pedido de vista.O acordo com a oposição ainda definiu que a votação do relatório pelos membros da comissão deve ocorrer na próxima semana, dia 2 de maio. Já a partir do dia 8, o relatório estaria pronto para ser votado no plenário da Câmara dos Deputados. Para que isso aconteça, a equipe do governo Temer\\xa0segue atuando para conquistar os votos necessários para aprovar as mudanças nas regras para a aposentadoria.Para reduzir a resistência à proposta, o\\xa0Planalto aceitou flexibilizar alguns pontos do texto original, embora a maior parte das ideias iniciais tenha sido preservada.\\xa0O relatório de Arthur Maia fixa a idade mínima de aposentadoria em 62 anos para as mulheres e em 65 anos para os homens após um período de transição de 20 anos. Ou seja, o aumento seria progressivo, começando em 53 e 55 anos, respectivamente, na data da promulgação da emenda.Para a aposentadoria por tempo de contribuição, o segurado terá que calcular quanto falta para se aposentar pelas regras atuais – 35 anos para o homem e 30 anos para a mulher – e adicionar um pedágio de 30%.Aí é só checar na tabela do aumento progressivo da idade, que começa em 53 anos para a mulher e 55 anos para o homem, e verificar qual idade mínima vai vigorar após este tempo. Pela tabela, a idade sobe um ano a cada dois anos a partir de 2020. Portanto, os 65 anos do homem só serão cobrados a partir de 2038.Leia também:\\xa0Após assalto milionário no Paraguai, oito suspeitos são presos no ParanáCronogramaO líder do governo no Congresso, deputado André Moura (PSC), afirmou à TV Brasil que não cabe mais mudanças na proposta da reforma da Previdência. Segundo Moura, as modificações solicitadas pela base já foram feitas, e o texto a ser trabalhado para aprovação é o que já foi apresentado pelo relator na comissão especial. \\'Esse é o entendimento do governo. Agora é esperar que a base, já que foi atendida, possa votar o texto apresentado pelo relator”, disse.Sobre a possibilidade de adiamento da data de votação da proposta, o líder garantiu que o cronograma está mantido e não será prorrogado. \\'Não tem uma semana a mais. O cronograma estabelecido é o que será cumprido\\', destacou.O líder reiterou que o plenário deve votar a reforma trabalhista nesta semana e, na próxima, a da Previdência. “Nesta terça, [devemos] concluir a votação da recuperação fiscal dos Estados, em plenário, e votar a Reforma Trabalhista amanhã [27], na comissão especial. Na quarta-feira [28], [votar] em plenário. Já na próxima semana, após o feriado, votar a reforma da Previdência na comissão especial, e, logo em seguida, no plenário”, afirmou.O relatório ainda pode ser alterado durante as discussões na Câmara. Para se tornar lei,\\xa0a proposta de reforma da Previdência precisa, após ser aprovada na comissão especial, também passar por votação em dois turnos no plenário da Câmara e depois receber o aval do Senado. Caso os senadores modifiquem o texto, o projeto precisará retornar às mãos dos deputados.Leia também:\\xa0Lava Jato: STJ recebe pedido de investigação contra governadores*Com informações da Agência Brasil e Agência Câmara\",\"alternativeHeadline\": \"Nova redação da proposta é debatida a partir desta terça-feira em comissão; deputados têm acordo para votar mudanças nas regras para a aposentadoria na semana que vem e levar o texto para votação no plenário no dia 8 de maio\",\"mainEntityOfPage\": \"https://ultimosegundo.ig.com.br/politica/2017-04-25/reforma-da-previdencia.html\",\"headline\": \"Relatório da reforma da Previdência começa a ser discutido hoje na Câmara\",\"isFamilyFriendly\": true, \"description\": \"Nova redação da proposta é debatida a partir desta terça-feira em comissão; deputados têm acordo para votar mudanças nas regras para a aposentadoria na semana que vem e levar o texto para votação no plenário no dia 8 de maio\",\"keywords\": \"reforma da Previdência, Câmara dos Deputados, aposentadoria, Arthur Maia, relatório, comissão especial\",\"image\": {\"@type\": \"ImageObject\",\"url\": \"https://i0.statig.com.br/amp/statics/img/banner_ig.jpg\",\"width\": 1200,\"height\": 675},\"thumbnailUrl\": \"https://i0.statig.com.br/bancodeimagens/7o/gh/2w/7ogh2w2cucsdl5ds1ry8q579g.jpg\",\"author\": {\"@type\": \"Person\",\"name\": \"iG São Paulo\"},\"datePublished\": \"2017-04-25T16:35:39Z\",\"dateModified\": \"2017-04-25T16:35:39Z\",\"contentLocation\": {\"@type\": \"Place\",\"name\": \"Brasília\"},\"publisher\": {\"@type\": \"NewsMediaOrganization\",\"id\": \"https://www.ig.com.br/#organization\",\"name\": \"IG\",\"logo\": {\"@type\": \"ImageObject\",\"url\": \"https://i0.statig.com.br/imgs/logo-amp.png\",\"width\": 600,\"height\": 60}},\"commentCount\": 0,\"inLanguage\": \"pt-BR\",\"primaryImageOfPage\": {\"@id\": \"https://i0.statig.com.br/amp/statics/img/banner_ig.jpg\"}}</script>\\n<script type=\"application/ld+json\">{\"@context\": \"https://schema.org\",\"@type\": \"BreadcrumbList\",\"itemListElement\": [{\"@type\":\"ListItem\",\"position\":1,\"item\":{\"@id\":\"https://ultimosegundo.ig.com.br\",\"name\":\"Último Segundo\"}},{\"@type\":\"ListItem\",\"position\":2,\"item\":{\"@id\":\"https://ultimosegundo.ig.com.br/politica\",\"name\":\"Política\"}}]}</script>\\n\\n<meta property=\"fb:app_id\" content=\"1769300400059685\" />\\n<meta property=\"article:publisher\" content=\"https://www.facebook.com/ig\" />\\n\\n<meta name=\"twitter:card\" content=\"summary_large_image\" />\\n<meta name=\"twitter:site\" content=\"@iG\" />\\n<meta name=\"twitter:creator\" content=\"@iG\" />\\n<meta name=\"twitter:title\" content=\"Relatório da reforma da Previdência começa a ser discutido hoje na Câmara \" />\\n<meta name=\"twitter:description\" content=\"Nova redação da proposta é debatida a partir desta terça-feira em comissão; deputados têm acordo para votar mudanças nas regras para a aposentadoria na semana que vem e levar o texto para votação no plenário no dia 8 de maio\" />\\n<meta name=\"twitter:url\" content=\"https://ultimosegundo.ig.com.br/politica/2017-04-25/reforma-da-previdencia.html\" />\\n<meta name=\"twitter:image:src\" content=\"https://i0.statig.com.br/bancodeimagens/d5/w5/to/d5w5toexsoi56h2jg1rl38e8m.jpg\" />\\n\\n<link rel=\"preconnect\" href=\"https://fonts.gstatic.com\" /><link rel=\"preload\" as=\"font\" href=\"https://fonts.googleapis.com/css2?family=Roboto:wght@300;400;500;700&display=optional\" /><script type=\"164ac1c171f7b549339f0115-text/javascript\">    document.cookie = \"cross-site-cookie=bar;\";    document.cookie = \"SameSite=None;\";    document.cookie = \"Secure;\";</script><style>      .swiper {      width: 100%;      height: 100%;    }    .swiper-slide {      font-size: 18px;      min-width: 280px;      max-width: 280px;      /* background: #fff; */      /* Center slide text vertically */      margin: 0px 10px !important;      display: -webkit-box;      display: -ms-flexbox;      display: -webkit-flex;      display: flex;      -webkit-box-pack: center;      -ms-flex-pack: center;      -webkit-justify-content: center;      justify-content: center;      -webkit-box-align: center;      -ms-flex-align: center;      -webkit-align-items: center;      align-items: center;    }    .swiper-slide img {      display: block;      width: 100%;      height: 100%;      object-fit: cover;    }    .swiper-slide:nth-child(1) {      margin-left: 0px !important;    }    @media screen and (min-width: 900px) {      .swiper-slide:nth-child(2) {        margin-left: 17px !important;      }        .swiper-slide:nth-child(3) {        margin-left: 17px !important;      }    }      </style><style type=\"text/css\">a,abbr,acronym,address,applet,article,aside,audio,b,big,blockquote,body,canvas,caption,center,cite,code,dd,del,details,dfn,div,dl,dt,em,embed,fieldset,figcaption,figure,footer,form,h1,h2,h3,h4,h5,h6,header,hgroup,html,i,iframe,img,ins,kbd,label,legend,li,mark,menu,nav,object,ol,output,p,pre,q,ruby,s,samp,section,small,span,strike,strong,sub,summary,sup,table,tbody,td,tfoot,th,thead,time,tr,tt,u,ul,var,video{margin:0;padding:0;border:0;font-size:100%;vertical-align:baseline;font-family:inherit}article,aside,details,figcaption,figure,footer,header,hgroup,menu,nav,section{display:block}*{box-sizing:border-box}:after,:before{box-sizing:inherit}html{box-sizing:border-box;-webkit-font-smoothing:antialiased;text-rendering:auto;text-shadow:0 0 1px transparent;font-size:10px;scroll-behavior:smooth}html body,html.fonts-loaded{font-family:Roboto,sans-serif}html body{line-height:1;max-width:100%;overflow-x:hidden}html body.salad3{font-family:Playfair Display,serif}html body main{max-width:1254px;margin:0 auto}@-ms-viewport{width:device-width}ol,ul{list-style:none}blockquote,q{quotes:none}blockquote:after,blockquote:before,q:after,q:before{content:\"\";content:none}table{border-collapse:collapse;border-spacing:0}a{transition:color .3s ease}a,a:hover{text-decoration:none}[role=button],button,input[type=button],input[type=reset],input[type=submit]{box-sizing:content-box}button,input[type=button],input[type=reset],input[type=submit]{background:none;border:0;color:inherit;font:inherit;line-height:normal;overflow:visible;padding:0;-webkit-appearance:button;-webkit-user-select:none;-moz-user-select:none;-ms-user-select:none}button::-moz-focus-inner,input::-moz-focus-inner{border:0;padding:0}button:focus{outline-style:none;box-shadow:none;border-color:transparent}input[type=date],input[type=datetime-local],input[type=datetime],input[type=email],input[type=month],input[type=number],input[type=password],input[type=search],input[type=tel],input[type=text],input[type=time],input[type=url],input[type=week],select,textarea{box-sizing:border-box;background-clip:padding-box;border-radius:0;-webkit-appearance:none;background-color:#fff;color:#000;outline:0;margin:0;padding:0;text-align:left;font-size:1em;vertical-align:middle}img{max-width:100%;height:auto}[role=button]{color:inherit;cursor:default;display:inline-block;text-align:center;text-decoration:none;white-space:pre;-webkit-user-select:none;-moz-user-select:none;-ms-user-select:none}.ir{display:block;border:0;text-indent:-999em;overflow:hidden;background-color:transparent;background-repeat:no-repeat;text-align:left;direction:ltr;*line-height:0}.ir br{display:none}.hidden,.hide{display:none!important;visibility:hidden}.visuallyhidden{border:0;clip:rect(0 0 0 0);height:1px;margin:-1px;overflow:hidden;padding:0;position:absolute;width:1px}.visuallyhidden.focusable:active,.visuallyhidden.focusable:focus{clip:auto;height:auto;margin:0;overflow:visible;position:static;width:auto}.show{display:block!important}.invisible{visibility:hidden}.clearfix{zoom:1}.clearfix:after,.clearfix:before{content:\"\";display:table}.clearfix:after{clear:both}.faixa:after,.faixa:before,.ig-container-fluid:after,.ig-container-fluid:before,.ig-container:after,.ig-container:before,.row-box:after,.row-box:before,.row:after,.row:before{content:\" \";display:table}.faixa:after,.ig-container-fluid:after,.ig-container:after,.row-box:after,.row:after{clear:both}.row-box{margin:0 -15px}[class*=col-]{display:inline-block;padding:0 15px;margin-bottom:30px;margin-right:-4px;vertical-align:top;width:100%}[class*=col-].receitasChamadas{width:24%;padding:0 7px}@media (max-width:720px){[class*=col-].receitasChamadas{margin-bottom:15px}}[class*=col-].receitasChamadas .img-link{padding-bottom:100%}main .ig-container{max-width:100%;margin:0 auto}main .ig-container .col-lg-1,main .ig-container .col-lg-2,main .ig-container .col-lg-3,main .ig-container .col-lg-4,main .ig-container .col-lg-5,main .ig-container .col-lg-6,main .ig-container .col-lg-7,main .ig-container .col-lg-8,main .ig-container .col-lg-9,main .ig-container .col-lg-10,main .ig-container .col-lg-11,main .ig-container .col-lg-12,main .ig-container .col-md-1,main .ig-container .col-md-2,main .ig-container .col-md-3,main .ig-container .col-md-4,main .ig-container .col-md-5,main .ig-container .col-md-6,main .ig-container .col-md-7,main .ig-container .col-md-8,main .ig-container .col-md-9,main .ig-container .col-md-10,main .ig-container .col-md-11,main .ig-container .col-md-12,main .ig-container .col-sm-1,main .ig-container .col-sm-2,main .ig-container .col-sm-3,main .ig-container .col-sm-4,main .ig-container .col-sm-5,main .ig-container .col-sm-6,main .ig-container .col-sm-7,main .ig-container .col-sm-8,main .ig-container .col-sm-9,main .ig-container .col-sm-10,main .ig-container .col-sm-11,main .ig-container .col-sm-12,main .ig-container .col-xs-1,main .ig-container .col-xs-2,main .ig-container .col-xs-3,main .ig-container .col-xs-4,main .ig-container .col-xs-5,main .ig-container .col-xs-6,main .ig-container .col-xs-7,main .ig-container .col-xs-8,main .ig-container .col-xs-9,main .ig-container .col-xs-10,main .ig-container .col-xs-11,main .ig-container .col-xs-12{position:relative;min-height:1px;width:100%}@media (max-width:1230px){main .ig-container{padding:0 1rem}}@media (min-width:856px){main .ig-container{width:1254px;margin-top:30px}main .ig-container .edicaoFaixa.col-sm-1{width:7.75%}main .ig-container .col-sm-1{width:8.33333%}main .ig-container .edicaoFaixa.col-sm-2{width:15.5%}main .ig-container .col-sm-2{width:16.66667%}main .ig-container .edicaoFaixa.col-sm-3{width:23.25%}main .ig-container .col-sm-3{width:25%}main .ig-container .edicaoFaixa.col-sm-4{width:31%}main .ig-container .col-sm-4{width:33.33333%}main .ig-container .edicaoFaixa.col-sm-5{width:38.75%}main .ig-container .col-sm-5{width:41.66667%}main .ig-container .edicaoFaixa.col-sm-6{width:46.5%}main .ig-container .col-sm-6{width:50%}main .ig-container .edicaoFaixa.col-sm-7{width:54.25%}main .ig-container .col-sm-7{width:58.33333%}main .ig-container .edicaoFaixa.col-sm-8{width:62%}main .ig-container .col-sm-8{width:66.66667%}main .ig-container .edicaoFaixa.col-sm-9{width:69.75%}main .ig-container .col-sm-9{width:75%}main .ig-container .edicaoFaixa.col-sm-10{width:77.5%}main .ig-container .col-sm-10{width:83.33333%}main .ig-container .edicaoFaixa.col-sm-11{width:85.25%}main .ig-container .col-sm-11{width:91.66667%}main .ig-container .edicaoFaixa.col-sm-12{width:93%}main .ig-container .col-sm-12{width:100%}}@media (max-width:720px){main .ig-container .col-xs-1,main .ig-container .col-xs-2,main .ig-container .col-xs-3,main .ig-container .col-xs-4,main .ig-container .col-xs-5,main .ig-container .col-xs-6,main .ig-container .col-xs-7,main .ig-container .col-xs-8,main .ig-container .col-xs-9,main .ig-container .col-xs-10,main .ig-container .col-xs-11,main .ig-container .col-xs-12{width:100%!important}}main .ig-container .contentNoticia{display:grid;grid-template-columns:1fr 300px;grid-gap:30px}@media (max-width:1250px){main .ig-container .contentNoticia{display:block}}@media (min-width:1254px){main .ig-container .template18c .main-content{width:100%}}main .ig-container .col-md-1{width:8.33333%}main .ig-container .col-md-2{width:16.66667%}main .ig-container .col-md-3{width:25%}main .ig-container .col-md-4{width:33.33333%}main .ig-container .col-md-5{width:41.66667%}main .ig-container .col-md-6{width:50%}main .ig-container .col-md-7{width:58.33333%}main .ig-container .col-md-8{width:66.66667%}main .ig-container .col-md-9{width:75%}main .ig-container .col-md-10{width:83.33333%}main .ig-container .col-md-11{width:91.66667%}main .ig-container .col-md-12{width:100%}main .ig-container .col-lg-1{width:8.33333%}main .ig-container .col-lg-2{width:16.66667%}main .ig-container .col-lg-3{width:25%}main .ig-container .col-lg-4{width:33.33333%}main .ig-container .col-lg-5{width:41.66667%}main .ig-container .col-lg-6{width:50%}main .ig-container .col-lg-7{width:58.33333%}main .ig-container .col-lg-8{width:66.66667%}main .ig-container .col-lg-9{width:75%}main .ig-container .col-lg-10{width:83.33333%}main .ig-container .col-lg-11{width:91.66667%}main .ig-container .col-lg-12{width:100%}@media (min-width:768px){.p-0{padding:0!important}}@media (min-width:768px){.plf-0{padding-left:0!important}}@media (min-width:768px){.prt-0{padding-right:0!important}}.ig-container-header{display:flex;justify-content:space-between;align-items:center;max-width:100%;width:1254px;margin:0 auto;position:relative;min-height:70px}.ig-container-header-mail{display:flex;align-items:center;position:absolute;left:0}.ig-container-header-mail-logIG{max-width:50px;width:100%;margin:10px 0 10px 10px}@media (max-width:770px){.ig-container-header-mail-logIG.logoCanal{max-width:30px}}@media (max-width:500px){.ig-container-header-mail-logIG img{width:40px}}.ig-container-header-mail-icone{max-width:110px;width:100%;margin-left:20px}@media (max-width:1200px){.ig-container-header-mail-icone{display:none}}.ig-container-header-mail-icone a{display:flex;align-items:center}.ig-container-header-mail-icone a img{width:20px}.ig-container-header-mail-icone a p{color:#fff;font-size:1.6rem;font-weight:700;margin-left:5px}.ig-container-header-minimal{position:sticky;top:0;display:flex;justify-content:space-between;align-items:center;width:100%;z-index:10}.ig-container-header-minimal.sticky{position:fixed}.ig-container-header-minimal.sticky:before{content:\"\";position:absolute;width:100%;height:70px}.ig-container-header-minimal-content{position:relative;display:flex;align-items:center;justify-content:center;width:100%;max-width:1254px;margin:0 auto;min-height:70px}.ig-container-header-minimal-mail{display:flex;align-items:center;position:absolute;left:5pc;z-index:2}.ig-container-header-minimal-mail-icone{max-width:110px;width:100%;margin-left:10px}@media (max-width:1200px){.ig-container-header-minimal-mail-icone{display:none}}.ig-container-header-minimal-mail-icone.homeIg{display:block!important}.ig-container-header-minimal-mail-icone a{display:flex;align-items:center}.ig-container-header-minimal-mail-icone a img{width:20px}.ig-container-header-minimal-mail-icone a p{color:#fff;font-size:1.6rem;font-weight:700;margin-left:5px}.ig-container-header-minimal-menuMobile{display:none;padding:29px 20px;z-index:3}@media (max-width:770px){.ig-container-header-minimal-menuMobile{display:none}}.ig-container-header-minimal-menuMobile.homeIg{display:none!important}.ig-container-header-minimal-menuMobile p{font-size:11px;text-transform:uppercase;text-align:center;color:#fff;font-weight:700}@media (min-width:1201px){.ig-container-header-minimal-canal{position:absolute;width:100%;display:flex;justify-content:center;align-items:center}}.ig-container-header-minimal-canal-logIG{display:flex;margin-right:2.5px;position:absolute;left:0}@media screen and (max-width:1200px){.ig-container-header-minimal-canal-logIG{display:block;z-index:1;position:relative}}@media (max-width:330px){.ig-container-header-minimal-canal-logIG{display:none}}.ig-container-header-minimal-canal-logIG a{z-index:1}.ig-container-header-minimal-canal-logIG a .igLogo-branco{width:max-content;display:flex;justify-content:center;align-items:center;width:74px;height:58px}.ig-container-header-minimal-canal-logIG a .igLogo-branco:before{content:\"\";background-image:url(https://i0.statig.com.br/assets/v5/logos/logoiguinhohome_branco.png);background-size:contain;background-repeat:no-repeat;background-position:center center;width:74px;height:58px;margin:0}.ig-container-header-minimal-canal-logIG a .igLogo-colorido{width:max-content;display:flex;justify-content:center;align-items:center;width:74px;height:58px}.ig-container-header-minimal-canal-logIG a .igLogo-colorido:before{content:\"\";background-image:url(https://i0.statig.com.br/sass-canais/ig/images/home/logo_iguinho_home.png);background-size:contain;background-repeat:no-repeat;background-position:center center;width:74px;height:58px;margin:0}@media (max-width:1200px){.ig-container-header-minimal-canal-logIG a img{min-height:58px;min-width:74px}}.ig-container-header-minimal-canal a{color:#fff;font-size:2.5rem;text-transform:uppercase;font-weight:700}@media (max-width:1200px){.ig-container-header-minimal-canal a{font-size:20px;text-align:center}}.ig-container-header-minimal #busca{position:absolute;right:0;min-width:87px;height:35px}@media (max-width:1200px){.ig-container-header-minimal #busca{display:none}}@media (max-width:700px){.main-header{margin-bottom:10px}}.main-header .logo-canais{position:relative;width:100%;text-align:center}@media (max-width:414px){.main-header .logo-canais{margin:0 0 0 50px}}.main-header .logo-canais a{line-height:52px;color:#fff;font-size:2.5rem;text-transform:uppercase}.main-header .logo-canais *{display:inline-block;vertical-align:middle}.main-header .logo-canais strong{font-size:2.4rem;border-left:1px solid #ccc;padding-left:10px;margin-left:10px}@media (min-width:992px){.main-header .logo-canais strong{height:30px;display:inline-block!important;line-height:30px;position:relative;vertical-align:bottom!important;top:-5px}}@media (max-width:760px){.main-header .logo-canais strong{display:none}}.main-header .row{margin-bottom:0}.trigger-menu.opnened{background-color:#fff}#busca-mobile{display:none}@media (max-width:1200px){#busca-mobile{display:block}}#busca form,#busca-mobile form{position:relative}#busca form input,#busca-mobile form input{display:block}#busca form #searchContainer,#busca-mobile form #searchContainer{display:flex;position:relative}#busca form #searchContainer #buscar,#busca-mobile form #searchContainer #buscar{width:0;padding:0;border:0;transition:.3s ease;border-radius:3px;font-size:14px;position:absolute;right:8rem;display:flex;align-items:center}#busca form #searchContainer #buscar:focus,#busca-mobile form #searchContainer #buscar:focus{box-shadow:inset 0 0 2px inherit}#busca form #searchContainer #buscar::-webkit-input-placeholder,#busca-mobile form #searchContainer #buscar::-webkit-input-placeholder{color:#ccc}#busca form #searchContainer #buscar:-moz-placeholder,#busca form #searchContainer #buscar::-moz-placeholder,#busca-mobile form #searchContainer #buscar:-moz-placeholder,#busca-mobile form #searchContainer #buscar::-moz-placeholder{color:#ccc}#busca form #searchContainer #buscar.abreInput,#busca-mobile form #searchContainer #buscar.abreInput{width:218px;padding:5px 10px}#busca cite,#busca-mobile cite{clear:both;display:block;margin-top:5px;font:normal 10px/10px Arial;text-align:right;color:#999}#busca #searchOn,#busca-mobile #searchOn{position:absolute;z-index:2;top:2pc;left:0;width:314px;height:60px;overflow:hidden;background:#fff;border:1px solid #ddd;border-bottom-left-radius:2px;border-bottom-right-radius:2px}#busca #searchOn a,#busca-mobile #searchOn a{display:block;width:284px;height:14px;margin:0 0 0 1px!important;padding:8px 15px;text-decoration:none;border-bottom:1px solid #ddd}#busca #searchOn a.onus,#busca-mobile #searchOn a.onus{height:11px;margin-top:3px!important}#busca #searchOn a.nobd-b,#busca-mobile #searchOn a.nobd-b{border-bottom:0!important;height:13px!important}#busca #searchOn a.ongoogle,#busca-mobile #searchOn a.ongoogle{border-bottom:0}#busca #searchOn a #busca #searchOn a:hover,#busca-mobile #searchOn a #busca #searchOn a:hover{background:#f8f8f8;cursor:pointer;text-decoration:none}#busca #searchOn a:hover strong,#busca-mobile #searchOn a:hover strong{text-decoration:none!important}#busca #buscaGoogle #searchOn a.active,#busca-mobile #buscaGoogle #searchOn a.active{background:#f8f8f8;cursor:pointer;text-decoration:none}#oferecimento{display:inline-block;width:88px;height:34px;position:absolute;right:24%;top:30px}.salad3 .main-header{background-color:#dfd9ce!important}.salad3 .iGh__topBody-container-contentLeft-drIg,.salad3 .iGh__topBody-container-contentLeft-email,.salad3 .iGh__topBody-container-contentLeft-igCupons,.salad3 .iGh__topBody-container-contentLeft-igCursos,.salad3 .iGh__topBody-container-contentLeft-igSaude,.salad3 .iGh__topBody-container-contentLeft-igTradecoin,.salad3 .iGh__topBody-container-contentLeft-saudeClass,.salad3 .iGh__topBody-container-contentLeft-segurancaDigital{margin-right:18px!important}.salad3 .iGh__topBody-container-contentLeft-drIg svg,.salad3 .iGh__topBody-container-contentLeft-email svg,.salad3 .iGh__topBody-container-contentLeft-igCupons svg,.salad3 .iGh__topBody-container-contentLeft-igCursos svg,.salad3 .iGh__topBody-container-contentLeft-igSaude svg,.salad3 .iGh__topBody-container-contentLeft-igTradecoin svg,.salad3 .iGh__topBody-container-contentLeft-saudeClass svg,.salad3 .iGh__topBody-container-contentLeft-segurancaDigital svg{stroke:#aba18f!important;color:#aba18f!important;fill:#aba18f!important}.salad3 .iGh__topBody-container-contentLeft-drIg a,.salad3 .iGh__topBody-container-contentLeft-email a,.salad3 .iGh__topBody-container-contentLeft-igCupons a,.salad3 .iGh__topBody-container-contentLeft-igCursos a,.salad3 .iGh__topBody-container-contentLeft-igSaude a,.salad3 .iGh__topBody-container-contentLeft-igTradecoin a,.salad3 .iGh__topBody-container-contentLeft-saudeClass a,.salad3 .iGh__topBody-container-contentLeft-segurancaDigital a{color:#aba18f!important;font-weight:600;fill:none!important}.salad3 .iGh__topBody-container-contentRight-anuncie,.salad3 .iGh__topBody-container-contentRight-faleConosco{margin-right:18px!important}.salad3 .iGh__topBody-container-contentRight-anuncie a,.salad3 .iGh__topBody-container-contentRight-faleConosco a{color:#aba18f!important;font-weight:600;fill:none!important}.iGh__topBody{box-sizing:border-box;flex-basis:100%;position:relative}@media (max-width:900px){.iGh__topBody:after{content:\"\";height:36px;opacity:1;pointer-events:none;position:absolute;right:0;bottom:0;width:10%;z-index:2}}.iGh__topBody-container{display:flex;justify-content:space-between;height:36px;max-width:1210px;margin:0 auto}@media (max-width:1220px){.iGh__topBody-container{overflow-x:auto;overflow-y:hidden;position:relative;flex-grow:1;width:100%;transition:transform .25s ease;transform:translateX(0px);white-space:nowrap}.iGh__topBody-container::-webkit-scrollbar{display:none}}.iGh__topBody-container-contentLeft{display:flex}@media (max-width:1280px){.iGh__topBody-container-contentLeft{margin-left:20px}}.iGh__topBody-container-contentLeft-item{display:flex;align-items:center;margin-right:25px;width:max-content}.iGh__topBody-container-contentLeft-item img{width:20px;margin-right:5px}.iGh__topBody-container-contentLeft-item a{text-decoration:none;color:#fff;font-size:9pt;text-transform:uppercase;font-weight:600}@media (max-width:1110px){.iGh__topBody-container-contentLeft-item a{font-size:13px}}.iGh__topBody-container-contentLeft-item a:hover{text-decoration:underline}.iGh__topBody-container-contentRight{display:flex;align-items:center}@media (max-width:1280px){.iGh__topBody-container-contentRight{margin-right:20px}}.iGh__topBody-container-contentRight-item:first-child{margin-right:25px}.iGh__topBody-container-contentRight-item a{text-decoration:none;color:#fff;font-size:9pt;text-transform:uppercase;font-weight:600}@media (max-width:1110px){.iGh__topBody-container-contentRight-item a{font-size:13px}}.iGh__topBody-container-contentRight-item a:hover{text-decoration:underline}@media (max-width:1110px){.iGh__topBody-container-contentRight-item:last-child{margin-right:35px}}body:not(.carnaval) .headerMobile{position:relative;display:flex;flex-direction:column;background-color:#fafafa}body:not(.carnaval) .headerMobile:before{content:\"\";position:absolute;width:100%;border-bottom:1px solid #e5e5e5;bottom:0;left:0}@media (max-width:1200px){body:not(.carnaval) .headerMobile:before{border:none}}body:not(.carnaval) .headerMobile_container-navigation{display:flex;justify-content:space-between;min-height:60px;width:930pt;max-width:100%;margin:0 auto}@media (max-width:1200px){body:not(.carnaval) .headerMobile_container-navigation{min-height:0;height:0}}body:not(.carnaval) .headerMobile_container-navigation_menu{display:flex;align-items:center}body:not(.carnaval) .headerMobile_container-navigation_menu-icon .menu{width:initial;height:30px;margin:0 7px;cursor:pointer;display:flex;justify-content:flex-end}body:not(.carnaval) .headerMobile_container-navigation_menu-icon .menu .hamburguer{position:relative;display:block;background:#000;width:30px;height:2px;top:14px;transition:.3s ease-in-out}@media (max-width:1200px){body:not(.carnaval) .headerMobile_container-navigation_menu-icon .menu .hamburguer{display:none}}body:not(.carnaval) .headerMobile_container-navigation_menu-icon .menu .hamburguer:after,body:not(.carnaval) .headerMobile_container-navigation_menu-icon .menu .hamburguer:before{background:#000;content:\\'\\';display:block;width:100%;height:100%;position:absolute;transition:.3s ease-in-out}body:not(.carnaval) .headerMobile_container-navigation_menu-icon .menu .hamburguer:before{top:-10px}body:not(.carnaval) .headerMobile_container-navigation_menu-icon .menu .hamburguer:after{bottom:-10px}body:not(.carnaval) .headerMobile_container-navigation_menu-icon .menu .hamburguer.menu-aberto,body:not(.carnaval) .headerMobile_container-navigation_menu-icon .menu .hamburguer.menu-aberto:after,body:not(.carnaval) .headerMobile_container-navigation_menu-icon .menu .hamburguer.menu-aberto:before{background-color:#fff}body:not(.carnaval) .headerMobile_container-navigation_menu-icon.mobile{display:none}@media (max-width:1200px){body:not(.carnaval) .headerMobile_container-navigation_menu-icon.mobile{display:block;position:absolute;left:0;z-index:9}body:not(.carnaval) .headerMobile_container-navigation_menu-icon.mobile .hamburguer{background-color:#fff;display:flex}body:not(.carnaval) .headerMobile_container-navigation_menu-icon.mobile .hamburguer:after,body:not(.carnaval) .headerMobile_container-navigation_menu-icon.mobile .hamburguer:before{background-color:#fff}}body:not(.carnaval) .headerMobile_container-navigation_menu-icon input{display:none}body:not(.carnaval) .headerMobile_container-navigation_menu-icon input:checked~label .hamburguer{transform:rotate(45deg);display:block}body:not(.carnaval) .headerMobile_container-navigation_menu-icon input:checked~label .hamburguer:before{transform:rotate(90deg);top:0}body:not(.carnaval) .headerMobile_container-navigation_menu-icon input:checked~label .hamburguer:after{transform:rotate(90deg);bottom:0}body:not(.carnaval) .headerMobile_container-navigation_menu-label p{color:#000;text-transform:uppercase;font-size:9pt;font-weight:700}body:not(.carnaval) .headerMobile_container-navigation_canais{min-width:1089px}@media (max-width:1200px){body:not(.carnaval) .headerMobile_container-navigation_canais{display:none}}body:not(.carnaval) .headerMobile_container-navigation_canais_items{display:flex;justify-content:space-between;align-items:center;height:100%}body:not(.carnaval) .headerMobile_container-navigation_canais_items_item{position:relative}body:not(.carnaval) .headerMobile_container-navigation_canais_items_item a{text-decoration:none;font-size:14px;text-transform:uppercase;font-weight:700;margin:0 7px;white-space:nowrap;padding:1pc 0 20px}body:not(.carnaval) .headerMobile_container-navigation_canais_items_item a.ultimo-segundo{color:#ef6c0a}body:not(.carnaval) .headerMobile_container-navigation_canais_items_item a.economia{color:#d15600}body:not(.carnaval) .headerMobile_container-navigation_canais_items_item a.eleicoes{color:#012c5f}body:not(.carnaval) .headerMobile_container-navigation_canais_items_item a.queer{color:#e743bc}body:not(.carnaval) .headerMobile_container-navigation_canais_items_item a.esporte{color:#07910f}body:not(.carnaval) .headerMobile_container-navigation_canais_items_item a.gente{color:#ff3859}body:not(.carnaval) .headerMobile_container-navigation_canais_items_item a.carros,body:not(.carnaval) .headerMobile_container-navigation_canais_items_item a.coronavirus{color:#9d0a00}body:not(.carnaval) .headerMobile_container-navigation_canais_items_item a.pets{color:#f27166}body:not(.carnaval) .headerMobile_container-navigation_canais_items_item a.pra-voce{color:#b175aa}body:not(.carnaval) .headerMobile_container-navigation_canais_items_item a.tecnologia{color:#0093db}body:not(.carnaval) .headerMobile_container-navigation_canais_items_item a.sua-cidade{color:#3373e0}body:not(.carnaval) .headerMobile_container-navigation_canais_items_item a.igmais{color:#282a2c}body:not(.carnaval) .headerMobile_container-navigation_canais_items_item a.ig-produtos{color:#0085ca}body:not(.carnaval) .headerMobile_container-navigation_canais_items_item a.saude{color:#3f7a8a}body:not(.carnaval) .headerMobile_container-navigation_canais_items_item a.odia{color:#002660}body:not(.carnaval) .headerMobile_container-navigation_canais_items_item a.turismo{color:#495892}body:not(.carnaval) .headerMobile_container-navigation_canais_items_item>a:hover{text-decoration:underline}body:not(.carnaval) .headerMobile_container-navigation_canais_items_item.hasChild a:hover{text-decoration:none}body:not(.carnaval) .headerMobile_container-navigation_canais_items_item.hasChild:hover{background-color:#fafafa;box-shadow:3px 3px 6px rgba(0,0,0,.16);padding:1pc 0 20px}body:not(.carnaval) .headerMobile_container-navigation_canais_items_item.hasChild:hover .headerMobile_container-navigation_canais_items_item_submenu{display:flex}body:not(.carnaval) .headerMobile_container-navigation_canais_items_item_submenu{display:none;flex-direction:column;position:absolute;background-color:#fafafa;box-shadow:3px 3px 6px rgba(0,0,0,.16);padding-bottom:10px;margin-top:20px;z-index:11;border-bottom-left-radius:4px;border-bottom-right-radius:4px}body:not(.carnaval) .headerMobile_container-navigation_canais_items_item_submenu li{margin:5px;border-bottom:.5px solid #eaeaea}body:not(.carnaval) .headerMobile_container-navigation_canais_items_item_submenu li a{text-transform:initial;font-size:14px;line-height:22px;padding:0 100% 0 0}body:not(.carnaval) .headerMobile_container-navigation_canais_items_item_submenu li:last-child{margin-bottom:0}body:not(.carnaval) .headerMobile_container-navigation_canais_items_item_submenu .hasSubitems>a{padding:initial;display:flex;align-items:center;justify-content:space-between}body:not(.carnaval) .headerMobile_container-navigation_canais_items_item_submenu .hasSubitems>a:after{content:\"\";border:solid;border-width:0 2px 2px 0;display:inline-block;padding:2px;transform:rotate(-45deg);margin-left:10px}body:not(.carnaval) .headerMobile_container-navigation_canais_items_item_submenu .hasSubitems_subItems{display:none;flex-direction:column;position:absolute;top:0;left:100%;margin-left:-5px;background-color:#fafafa;box-shadow:3px 3px 6px rgba(0,0,0,.16);padding:0 7px 7px;border-bottom-left-radius:4px;border-bottom-right-radius:4px;height:max-content}body:not(.carnaval) .headerMobile_container-navigation_canais_items_item_submenu .hasSubitems_subItems_item a{font-size:14px;font-weight:500;opacity:.8}body:not(.carnaval) .headerMobile_container-navigation_canais_items_item_submenu .hasSubitems_subItems_item:hover a{opacity:1}body:not(.carnaval) .headerMobile_container-navigation_canais_items_item_submenu .hasSubitems:hover .hasSubitems_subItems{display:flex}body:not(.carnaval) .headerMobile_container-navigation_canais_items_item_submenu.ultimo-segundo li a{color:#ef6c0a}body:not(.carnaval) .headerMobile_container-navigation_canais_items_item_submenu.ultimo-segundo li:hover a{color:#e36e11}body:not(.carnaval) .headerMobile_container-navigation_canais_items_item_submenu.economia li a{color:#d15600}body:not(.carnaval) .headerMobile_container-navigation_canais_items_item_submenu.economia li:hover a{color:#983f00}body:not(.carnaval) .headerMobile_container-navigation_canais_items_item_submenu.gente li a{color:#ff3859}body:not(.carnaval) .headerMobile_container-navigation_canais_items_item_submenu.gente li:hover a{color:#d12b46}body:not(.carnaval) .headerMobile_container-navigation_canais_items_item_submenu.pra-voce li a,body:not(.carnaval) .headerMobile_container-navigation_canais_items_item_submenu.pra-voce li:hover a{color:#b175aa}body:not(.carnaval) .headerMobile_container-navigation_canais_items_item_submenu.esporte li a{color:#07910f}body:not(.carnaval) .headerMobile_container-navigation_canais_items_item_submenu.esporte li:hover a{color:#017b08}body:not(.carnaval) .headerMobile_container-navigation_canais_items_item_submenu.pets li a{color:#f27166}body:not(.carnaval) .headerMobile_container-navigation_canais_items_item_submenu.pets li:hover a{color:#ef5243}body:not(.carnaval) .headerMobile_container-navigation_canais_items_item_submenu.saude li a{color:#3f7a8a}body:not(.carnaval) .headerMobile_container-navigation_canais_items_item_submenu.saude:hover a{color:#35636f}body:not(.carnaval) .headerMobile_container-navigation_canais_items_item_submenu.tecnologia li a{color:#0093db}body:not(.carnaval) .headerMobile_container-navigation_canais_items_item_submenu.tecnologia li:hover a{color:#007fbe}body:not(.carnaval) .headerMobile_container-navigation_canais_items_item_submenu.sua-cidade li a{color:#3373e0}body:not(.carnaval) .headerMobile_container-navigation_canais_items_item_submenu.sua-cidade li:hover a{color:#2862c4}body:not(.carnaval) .headerMobile_container-navigation_canais_items_item_submenu.igmais li a{color:#282a2c}body:not(.carnaval) .headerMobile_container-navigation_canais_items_item_submenu.igmais li:hover a{color:#101112}body:not(.carnaval) .headerMobile_container-navigation_canais_items_item_submenu.ig-produtos li a{color:#0085ca}body:not(.carnaval) .headerMobile_container-navigation_canais_items_item_submenu.ig-produtos li:hover a{color:#0075b2}body:not(.carnaval) .headerMobile_container-navigation_redesSociais{display:flex;justify-content:flex-end;align-items:center;margin-left:10px;min-width:109px}@media (max-width:1200px){body:not(.carnaval) .headerMobile_container-navigation_redesSociais{display:none}}body:not(.carnaval) .headerMobile_container-navigation_redesSociais p{text-transform:uppercase;margin-right:10px;color:#000;font-size:9pt;font-weight:500}body:not(.carnaval) .headerMobile_container-navigation_redesSociais-icons{display:flex;justify-content:center;align-items:center}body:not(.carnaval) .headerMobile_container-navigation_redesSociais-icons a{width:33px}@media (max-width:1200px){body:not(.carnaval) .headerMobile_container-navigation_redesSociais-icons a{width:25px}}body:not(.carnaval) .headerMobile_container-navigation_redesSociais-icons a:nth-child(2){margin:0 5px}@media (max-width:1200px){body:not(.carnaval) .headerMobile_container-navigation_redesSociais-icons a:nth-child(2){margin:0 10px}}body:not(.carnaval) .headerMobile_container-navigation_redesSociais_mobile{display:none}@media (max-width:1200px){body:not(.carnaval) .headerMobile_container-navigation_redesSociais_mobile{display:flex;align-items:center;margin:2rem 0}}body:not(.carnaval) .menu-overlay{position:fixed;top:0;right:0;bottom:0;left:0;opacity:0}.menu-ativo{overflow:hidden}.menu-ativo .headerMobile_container-navigation_menu .menu{top:0;margin:0!important}.menu-ativo .barra-nav{left:0!important}.menu-ativo .menu-overlay{opacity:.5}.menu-ativo:after{content:\"\";display:block;position:fixed;top:0;left:0;bottom:0;right:0;z-index:10;background-color:rgba(0,0,0,.33)}.barra-nav{padding:1em;margin:0;height:100%;width:30%;position:fixed;z-index:12;top:0;left:-110%;transition:left .3s ease-out;box-shadow:1px 0 6px #333}@media (max-width:890px){.barra-nav{overflow-x:scroll;width:80%}}@media (max-width:650px){.barra-nav{width:50%}}@media (max-width:600px){.barra-nav{width:100%}}.barra-nav input{display:none}.barra-nav input:checked~label .hamburguer{transform:rotate(45deg)}.barra-nav input:checked~label .hamburguer:before{transform:rotate(90deg);top:0}.barra-nav input:checked~label .hamburguer:after{transform:rotate(90deg);bottom:0}.barra-nav .channel-menu__menu{margin-top:2rem;line-height:2rem}.barra-nav .barraNav-mail-icone{display:none}@media (max-width:1200px){.barra-nav .barraNav-mail-icone{display:block;margin:1rem 0}.barra-nav .barraNav-mail-icone a{display:flex;align-items:center}.barra-nav .barraNav-mail-icone a img{width:6%}.barra-nav .barraNav-mail-icone a p{font-size:1.3rem;color:#fff;margin-left:10px;font-weight:700}}.barra-nav .channel-menu__menu-item{width:max-content;margin:.5rem 0}.barra-nav .channel-menu__menu-link{text-decoration:none;color:#fff;font-size:2rem;font-weight:700;margin-right:5px}.barra-nav .channel-menu__menu-item--has-children{height:22px}.barra-nav .channel-menu__menu-item--has-children.mudaDirecao{height:auto}.barra-nav .channel-menu__menu-item--has-children.mudaDirecao .channel-menu__submenu{margin-left:15px}.barra-nav .channel-menu__menu-item--has-children.mudaDirecao .channel-menu__submenu-item{margin:.5rem 0}.barra-nav .channel-menu__menu-item--has-children.mudaDirecao .channel-menu__submenu-link{color:#000;font-size:1.5rem;font-weight:700}.barra-nav .channel-menu__menu-item--has-children.mudaDirecao .channel-menu-itemContainer .arrowMenu:after{transform:rotate(135deg)}.barra-nav .channel-menu__menu-item--has-children.mudaDirecao .channel-menu__submenu{display:block}.barra-nav .channel-menu__menu-item--has-children .channel-menu-itemContainer{display:flex;align-items:center}.barra-nav .channel-menu__menu-item--has-children .channel-menu-itemContainer span.arrowMenu{width:10px;height:10px;margin:1px 0 0 5px}.barra-nav .channel-menu__menu-item--has-children .channel-menu-itemContainer span.arrowMenu:after{content:\"\";position:absolute;width:10px;height:10px;border-top:2px solid #fff;border-right:2px solid #fff;transform:rotate(45deg);transition:transform .2s;cursor:pointer}.barra-nav .channel-menu__menu-item--has-children .channel-menu-itemContainer span.arrow-submenu{transform:rotate(95deg)}.barra-nav .channel-menu__menu-item--has-children .channel-menu__submenu{margin-top:1rem;display:none}.barra-nav .channel-menu__menu-item--has-children .channel-menu__submenu .arrowMenu{display:none}.barra-nav .channel-menu__menu-item--has-children .channel-menu__submenu .channel-menu__submenu-item{margin:5px 0}.barra-nav .channel-menu__menu-item--has-children .channel-menu__submenu .channel-menu__submenu-link{font-size:1.5rem;color:#fff;transition:font-size .2s}.barra-nav .channel-menu__menu-item--has-children .channel-menu__submenu .channel-menu__submenu-link:hover{text-decoration:underline}.barra-nav .channel-menu__menu-item--has-children .channel-menu__submenu .channel-menu-itemContainer.arrow-subMenu{transform:rotate(135deg)}.barra-nav .channel-menu__menu-item--has-children .channel-menu__submenu .channel-menu__submenu-link{font-size:1.5rem}#busca .botao-buscar,#busca-mobile .botao-buscar{display:flex;align-items:center}#busca .botao-buscar .visually-hidden,#busca-mobile .botao-buscar .visually-hidden{position:absolute!important;clip:rect(1px 1px 1px 1px);clip:rect(1px,1px,1px,1px);padding:0!important;border:0!important;height:1px!important;width:1px!important;overflow:hidden}#busca .botao-buscar .search-text,#busca-mobile .botao-buscar .search-text{color:#222;position:relative;transition:all .3s;height:35px;width:0;margin:0;padding:5px 0 5px 40px;box-sizing:border-box;font-size:1.2rem;cursor:pointer;border-radius:30px;border:1px solid transparent;background:url(https://i0.statig.com.br/assets/v5/icones/search.svg) no-repeat left 9px center transparent;background-size:20px}#busca .botao-buscar .search-text:focus,#busca-mobile .botao-buscar .search-text:focus{z-index:3;width:200px;background-color:#fff;outline:0;cursor:auto;padding-right:10px;background-image:url(https://i0.statig.com.br/assets/v5/icones/search-black.svg)}#busca .botao-buscar .search-text::placeholder,#busca-mobile .botao-buscar .search-text::placeholder{color:#222}#busca .botao-buscar .search-submit,#busca-mobile .botao-buscar .search-submit{position:relative;z-index:4;left:49px;width:45px;border:0;outline:0;border-radius:30px;cursor:pointer;background:none}@media (max-width:1200px){#busca .botao-buscar .search-submit,#busca-mobile .botao-buscar .search-submit{width:0;left:0}}#busca-mobile{margin:2rem 0}#busca-mobile .botao-buscar .search-text{width:170px;z-index:3;width:200px;background-color:#fff;outline:0;cursor:auto;padding-right:10px;background-image:url(https://i0.statig.com.br/assets/v5/icones/search-black.svg)}.publicidade#ad_fb_intext{padding:30px!important;min-width:250px!important;min-height:250px!important}.publicidade#mgbox_materias{padding:0;margin:10px auto 25px!important}.publicidade div{vertical-align:middle}.publicidade div iframe{margin-left:auto;margin-right:auto}.pub_988x60{min-width:728px;height:60px}.pub_970x90{min-width:728px;height:90px}@media (min-width:900px){.container-publicidade-mrec1{height:50pc}}@media (min-width:900px){.container-publicidade-mrec1 .pub_300x250{position:sticky;top:195px}}.pub_300x250{width:100%;height:250px}.pub_300x250.pubAgregador{margin-top:90pt}.pub_300x600{width:300px;height:600px}#ad_publied_mrec{margin-top:13.8387%}#ad_publied_mrec div{width:300px;margin:0 auto;display:inline-block}#conteudoNoticia .slider-wrapper .pub_300x250{display:none}.ig-ad{padding:15px 0;background-color:#f5f5f5;display:flex;justify-content:center;align-items:center}@media (min-width:701px){.ig-ad{min-height:90pt}}.ig-ad.head-banner{position:sticky;top:70px;z-index:10}@media (max-width:900px){.ig-ad.head-banner{position:fixed;top:initial;left:50%;transform:translate(-50%, 0);bottom:0;max-width:600px;width:100%;z-index:1;padding:0}}@media (min-width:1145px){.ig-ad{padding:15px 0}}.sticky{position:fixed;top:0;width:100%;z-index:10}@media (max-width:1200px){.publicidade--fixed{width:325px;right:105px}}@media (max-width:1190px){.publicidade--fixed{right:2%}}.share-page{margin:14px 0}.share-page__list{display:flex;justify-content:center;align-items:center;flex-wrap:wrap}.share-page__item{margin-right:20px;width:35px;height:35px}@media (max-width:450px){.share-page__item{margin-right:5px;width:40px;height:40px}}.share-page__item.fbIcon{width:max-content;display:flex;justify-content:center;align-items:center;background-color:#3b5998;width:35px}@media (max-width:450px){.share-page__item.fbIcon{min-height:40px;width:40px}}.share-page__item.fbIcon:before{content:\"\";background-image:url(https://i0.statig.com.br/assets/v5/icones/icon-facebook-v5.png);background-size:contain;background-repeat:no-repeat;background-position:center center;width:23px;height:23px;margin:0 7px}.share-page__item.ttIcon{width:max-content;display:flex;justify-content:center;align-items:center;background-color:#1da1f2;width:35px}@media (max-width:450px){.share-page__item.ttIcon{min-height:40px;width:40px}}.share-page__item.ttIcon:before{content:\"\";background-image:url(https://i0.statig.com.br/assets/v5/icones/icon-twitter-v5.png);background-size:contain;background-repeat:no-repeat;background-position:center center;width:25px;height:24px;margin:0 7px}.share-page__item.wppIcon{width:max-content;display:flex;justify-content:center;align-items:center;background-color:#33af22;width:35px}@media (max-width:450px){.share-page__item.wppIcon{min-height:40px;width:40px}}.share-page__item.wppIcon:before{content:\"\";background-image:url(https://i0.statig.com.br/assets/v5/icones/icon-whatsapp-v5.png);background-size:contain;background-repeat:no-repeat;background-position:center center;width:25px;height:25px;margin:0 7px}.share-page__item.commentsIcon{width:max-content;display:flex;justify-content:center;align-items:center;background-color:#ea8701;width:35px}@media (max-width:450px){.share-page__item.commentsIcon{min-height:40px;width:40px}}.share-page__item.commentsIcon:before{content:\"\";background-image:url(https://i0.statig.com.br/assets/v5/icones/icon-comments-v5.png);background-size:contain;background-repeat:no-repeat;background-position:center center;width:26px;height:26px;margin:0}.share-page__item.ggNews{width:max-content;display:flex;justify-content:center;align-items:center;background-color:#276ff1;color:#fff;font-size:15px;font-weight:700;padding-right:10px;min-height:35px;line-height:40px}@media (max-width:450px){.share-page__item.ggNews{min-height:40px}}@media (max-width:380px){.share-page__item.ggNews{font-size:13px}}@media (max-width:700px){.share-page__item.ggNews.desktop{display:none}}.share-page__item.ggNews.desktop:before{content:\"\";background-image:url(https://i0.statig.com.br/assets/v5/icones/Google_News_icon.png);background-size:contain;width:35px;height:35px;object-fit:cover;margin:0 10px}.share-page__item.ggNews.mobile{display:none}@media (max-width:700px){.share-page__item.ggNews.mobile{display:flex}}@media (max-width:390px){.share-page__item.ggNews.mobile{margin:0}}@media (max-width:327px){.share-page__item.ggNews.mobile{margin:5px 0}}.share-page__item.ggNews.mobile:before{content:\"\";background-image:url(https://i0.statig.com.br/assets/v5/icones/Google_News_icon.png);background-size:contain;width:35px;height:35px;object-fit:cover;margin:0 10px}.share-page__item#goComments{cursor:pointer}.header-columm-logo{background-color:#fff;display:flex;justify-content:center;padding:26px 0}@media (max-width:700px){.header-columm-logo{padding:10px 0}}.header-columm-logo img{max-width:302px;width:100%}@media (max-width:700px){.header-columm-logo img{max-width:200px}}.header-columm #control-nav{visibility:hidden;position:absolute;left:-9999px;opacity:0}@media (max-width:700px){.header-columm #control-nav{visibility:visible}}.header-columm #control-nav:checked~.header-columm-navigation-control-nav-close,.header-columm #control-nav:checked~.header-columm-navigation-items{transform:translate(0, 0)}.header-columm-navigation{position:relative;max-width:1195px;width:100%;margin:0 auto;display:flex;justify-content:space-between;align-items:center;border-bottom:4px solid #c6bfb3;min-height:5pc}@media (max-width:700px){.header-columm-navigation{min-height:70px}}.header-columm-navigation-control-nav{display:none}@media (max-width:700px){.header-columm-navigation-control-nav{width:70px;height:70px;padding:5px 0;background-color:#c6bfb3;border-width:3px 0;z-index:2;cursor:pointer;display:flex;justify-content:center;align-items:center}.header-columm-navigation-control-nav p{color:#fff;text-transform:uppercase;font-family:Roboto,sans-serif;font-size:9pt}}@media (max-width:700px){.header-columm-navigation-control-nav-close{position:fixed;right:0;top:0;bottom:0;left:0;display:block;z-index:1;background:rgba(0,0,0,.4);transition:all .5s ease;transform:translate(-100%, 0);z-index:5}}.header-columm-navigation-items{width:75%}@media (max-width:700px){.header-columm-navigation-items{position:fixed;top:0;left:0;bottom:0;width:250px;border-left:1px solid #ccc;background:#fff;overflow-x:auto;z-index:6;transition:all .5s ease;transform:translate(-100%, 0)}}.header-columm-navigation-items ul{display:flex;justify-content:space-around}@media (max-width:700px){.header-columm-navigation-items ul{flex-direction:column;padding:30px}}.header-columm-navigation-items ul li:first-child,.header-columm-navigation-items ul li:last-child{margin:0}@media (max-width:700px){.header-columm-navigation-items ul li,.header-columm-navigation-items ul li:first-child,.header-columm-navigation-items ul li:last-child{margin-bottom:9pt}}.header-columm-navigation-items ul li .channel-menu__menu-link{font-size:24px;line-height:29px;text-transform:uppercase}.header-columm-navigation-logoiG{display:none}@media (max-width:700px){.header-columm-navigation-logoiG{display:block}.header-columm-navigation-logoiG img{position:absolute;top:0;left:50%;width:70px;margin-left:-35px;margin-top:7px}}.header-columm-navigation-sociais{width:15%;display:flex;justify-content:center}@media (max-width:700px){.header-columm-navigation-sociais{display:none}}.header-columm-navigation-sociais-item{width:30px}.header-columm-navigation-sociais-item:nth-child(2){margin:0 22px}.header-columm-navigation-sociais-mobile{display:none}@media (max-width:700px){.header-columm-navigation-sociais-mobile{display:flex;padding-left:30px}.header-columm-navigation-sociais-mobile-item{width:30px}.header-columm-navigation-sociais-mobile-item:nth-child(2){margin:0 15px}}.header-columm-navigation .include-buscaPali{display:none}@media (max-width:700px){.header-columm-navigation .include-buscaPali{display:block}}.clear{clear:both!important}.gd-container{position:relative;margin:auto;clear:both;max-width:930pt;margin:0 auto}span.iconeTipo-big{position:absolute;display:none;right:20px;top:20px;width:42px;height:42px;z-index:0;background:url(../images/home/sprite-tipo-materia.png)}span.iconeTipo-big.video{display:block;background-position:-2px -2px}span.iconeTipo-big.galeria{display:block;background-position:-2px -53px}span.iconeTipo{position:absolute;display:none;right:18px;top:18px;width:24px;height:24px;z-index:1;background:url(../images/home/sprite-tipo-materia.png)}span.iconeTipo.video{display:block;background-position:-52px -10px}span.iconeTipo.galeria{display:block;background-position:-52px -63px}span.label{position:absolute;padding:6px 10px;bottom:3px;text-align:center;font-size:9pt;font-weight:400;color:#fff;bottom:0;z-index:1;display:inline-block}.img-link{background-image:url(\"data:image/svg+xml;charset=utf8,<svg xmlns=\\'//www.w3.org/2000/svg\\' width=\\'100%\\' height=\\'100%\\' viewBox=\\'0 0 448 448\\'><path fill=\\'#A5A5A5\\' d=\\'M430.2 105.1c-7.2-23.5-19.2-44.5-36-61.6-5-5.1-10.4-9.9-16.3-14.2-60.7-45-150.2-36.4-227.2 14.2-27.4 18.1-53.3 41.6-75.7 69.9-7.1 9-13.6 18.2-19.6 27.5-60.7 95.2-61 205.2 0 265.2 4.6 4.5 9.5 8.7 14.7 12.6 82.3 61.1 217.9 23.5 302.9-84.1 44.1-55.7 65.9-119.2 65.2-175.9.2-19-2.4-37.1-8-53.6zm-65.5 223.1c-18.6 23.5-39.6 43.5-61.7 59.7-23 16.1-47.2 28.6-71.4 37.4-49.6 16.4-98.5 13.2-134.4-13.5-20.2-15-34.1-35.8-41.7-60.1-9.6-30.4-9.5-66.2 0-103.3 9.4-36.5 27.9-74.1 55.3-108.8 37.2-47 84-80.1 130.4-96.1 41.2-14.2 82.1-14.9 115.6 0 7.6 3.4 14.8 7.5 21.5 12.5 70.1 52.2 64.1 174.1-13.6 272.2zm1.1-229.9c-57.9-42.8-157.1-11.2-222 70.8s-70.6 183-12.8 226c57.8 42.9 157.1 11.2 222-70.8 64.8-81.9 70.6-183.1 12.8-226zM169.7 328.2c-4.9 14.8-16.1 22.9-30.8 22.2-4.9-.2-11.2-1.5-14.1-6.2-2.3-3.7-2.3-9.1 0-16.2l34.5-103.5 1.5-4.2 2.5-7.7c3.1-6.6 8.8-7.6 9-7.6l.1-.4h.2c12.9-1.5 23.7-7.1 24.2-7.3 13.6-6.4 21.3-13.2 22.8-20.6 1.1-5.6-1.7-9.1-2-9.5l-.1-.1-.2-.1c-1.7-1.7-3.5-4-5-6.5v-.3c-3.2-4.6-3.8-9.8-1.9-15.6 4.8-14.4 23.7-25.4 42.2-24.6 10.2.5 18.2 4.4 22.2 10.8 2.7 4.3 3.2 9.4 1.4 14.8-3.2 9.5-12.9 17.5-25.3 22.1h.2v.2c-6.2 2-11.1 4-11.1 4-9.2 3.2-15.9 11.3-16.1 11.5-7.1 8.3-14.4 23.5-17 33l-2.1 6.2c-.3.7-.7 1.8-.7 1.8l-34.4 103.8zm190.8-114.3c-2.7 8.2-13.5 20.1-27.9 19.5-4.2-.2-5.3-1.9-8.3-7.6-3.7-6.7-9.3-17-25.8-17.7-11.5-.6-39.9 3.7-56.6 54-7.7 23.2-8.3 38.1-1.9 48.5 5 7.9 13.8 12.3 26.5 12.8 18.6.8 33.1-7.1 43.3-23.5l6.5-10.7-11.9-.6-13.3-.6c-1.1 0-3.2-.4-4.2-2-.9-1.5-.9-4 .1-6.9 1.8-5.5 6.6-14.7 18.2-14.1l35.1 1.6c3.5.2 7.9.9 10.1 4.4 2.1 3.1 2.1 8.5.3 14.6-9.3 30.3-37.2 47.1-37.5 47.3l-.3.4-.2.4h.1c-.4 0-30.3 20.2-67 19.3-12.1-.3-34-3.6-45.5-21.6-9.7-15.4-9.7-38.2.1-67.6 9.8-29.4 27.1-53 50-68.3 18.7-12.5 40.8-19.1 60.8-18.2 30 1.3 42.2 10.9 46.9 18.6 4 6.5 3.9 13.6 2.4 18z\\'/></svg>\");background-color:#f0f0f0;background-position:center center;background-repeat:no-repeat;background-size:30%;height:0;overflow:hidden;padding-bottom:56.25%;display:block;position:relative}.img-link img{height:100%;-ms-interpolation-mode:bicubic;max-width:100%;-moz-user-select:none;-ms-user-select:none;-webkit-user-select:none;user-select:none;width:auto;position:absolute;width:100%;object-fit:cover;transition:all .2s}.img-link:after{transition:background-color .25s ease-out;display:block;content:\"\";position:absolute;width:100%;height:100%;top:0;left:0}.img-link.inner-shadow:after{box-shadow:inset 0 -200px 200px -90px rgba(0,0,0,.7)}.img-link:hover:after{background:rgba(25,15,10,.3)}.comp-box{margin-top:27px;width:100%;background-color:inherit}.comp-box:first-child{margin-top:0}.comp-box a{color:inherit}.com-q .img-link{padding-bottom:74.09%}#header-especial{display:none}.edicaoFaixa{margin:0 8px!important}.no-padding{padding:0!important}.share-page.fixed .share-page__icon{color:#fff}.link-artigo .link{color:#333}.c-component .ig-component-hat--white,.v-component .ig-component-hat--white{position:absolute;top:-30px;text-transform:uppercase;font-size:1.4em;font-weight:700;display:inline-block;padding:8px;margin-bottom:9px;position:relative;z-index:7;color:#fff;box-shadow:3px 2px 3px #444}.c-component .ig-component-content,.v-component .ig-component-content{margin-bottom:10px}.c-component:hover img,.v-component:hover img{transform:scale(1.05) translate3d(0,0,0)!important}.msg-colunas{font-size:13px;color:#6a6a6a;margin-bottom:15px}.lt-component .ig-component-content{min-height:75pt;padding:8.3333% 5.5556%;margin-top:-2px}.lt-component .ig-component-content .ig-component-hat--bg{position:absolute;top:-15px}.lt-component .ig-component-content .ig-component-title{font-size:1.8em;font-weight:700;color:#fff}.d-vertical02 .ig-component-content{background-color:none}.ig-component-top--bg{color:#fff}@media (max-width:767px){[class*=col-]{padding:0;margin-bottom:0}.imagem-horizontal,.slider-page{width:385px}.ig-component-title-horizontal{width:90%!important;margin:30px auto!important}.ig-component-title-horizontal .destaque h1{font-size:21px!important}}@media (max-width:414px){[class*=col-]{padding:0;margin-bottom:0}.slider-page{width:385px;margin-top:30px}.imagem-horizontal{width:385px}.ig-component-title-horizontal{width:90%!important;margin:30px auto!important}.ig-component-title-horizontal .destaque h1{font-size:21px!important}.veja-lista{margin:20px 15px 30px}.bloco-texto{display:none}.lt-component,.uc-component{margin-bottom:30px}.lt-component a{display:flex;align-items:center}.lt-component a .img-link img{position:initial;height:initial;width:15pc}.lt-component a .ig-component-content{position:initial;margin-left:20px;background-color:initial;padding:3% 0}.lt-component a .ig-component-content .ig-component-hat--bg{position:initial;background-color:initial;padding:8px 0}}.ig-component-title-horizontal{margin:30px auto auto;border-bottom:1px solid #f26522}.ig-component-title-horizontal .destaque{display:flex;justify-content:center}.ig-component-title-horizontal .destaque h1{font-size:2pc;text-align:center;font-style:italic;padding-bottom:30px;width:65%}.veja-lista{margin:7px 15px 0;text-align:right}.veja-lista a{font-size:15px;text-decoration:underline;color:#00529c}.titulo-texto h2{font-size:31px;font-weight:700;margin-bottom:10px}.texto p{font-size:1pc;margin-bottom:1pc;color:#575757;line-height:20px}.titulo-redes-sociais h2{font-size:26px;font-weight:700;padding-bottom:5px}.rs-content{display:flex}.rs-content .redes-sociais{margin:25px 20px 0 0}.rs-content .redes-sociais [class*=\" icn-\"],.rs-content .redes-sociais [class^=icn-]{font-size:30px;color:#fff}.rs-content .redes-sociais span{border-radius:50%;padding:10px}.visibility_hidden{visibility:hidden}.esconder_li{margin-bottom:0!important;padding-bottom:0!important;border-bottom:0!important}#author-container #author-foto img{border:1px solid #ccc}#noticia-other.noticia-other-ig_V04{font-size:14px;line-height:20px;color:#000;text-align:left;margin:0 0 10px;display:inline-block;border-bottom:1px solid #e6e6e6;width:calc(100% - 1px);padding:0 0 10px;display:flex}#noticia-other.noticia-other-ig_V04 .dateModified-container{margin-left:5px}@media (max-width:500px){#noticia-other.noticia-other-ig_V04{flex-direction:column}}#noticia-signature.noticia-other-ig_V04{display:flex;align-items:flex-start;border-top:1px solid #ccc;border-bottom:1px solid #ccc;padding:10px 0}#noticia-signature.noticia-other-ig_V04 .signature{display:flex;flex-direction:column;margin-left:2%}#noticia-signature.noticia-other-ig_V04 .signature p{font-size:11px;text-transform:uppercase;margin:0 0 10px}#noticia-signature.noticia-other-ig_V04 .signature #signature-box{display:flex;flex-direction:column;justify-content:space-between;height:70px}#noticia-signature.noticia-other-ig_V04 .signature #signature-box .author-email{color:#6a6a6a;font-style:italic}#noticia-signature.noticia-other-ig_V04 .signature #signature-box .author-desc{color:#6a6a6a;line-height:1.3em}.barra{width:calc(100% - 30px);float:left;border-top:1px solid #e6e6e6;padding:10px 15px 10px 0;margin:10px 0 0 15px}.ig-container_headerText{display:flex;flex-direction:column;align-items:center;width:auto;margin:10px 0 0}.ig-container_headerText #noticia-titulo-h1.noticia-titulo-h1-ig_V04{display:inline-block;font-size:55px;font-weight:700;color:#000;padding:0 75pt;text-align:center;line-height:60px;margin-bottom:20px;text-transform:inherit}@media (max-width:767px){.ig-container_headerText #noticia-titulo-h1.noticia-titulo-h1-ig_V04{padding:0;font-size:45px;margin-bottom:0}}@media (max-width:600px){.ig-container_headerText #noticia-titulo-h1.noticia-titulo-h1-ig_V04{font-size:30px;line-height:35px;margin-bottom:10px}}.ig-container_headerText #noticia-olho{font-size:20px;line-height:30px;font-weight:400;color:#666;text-align:center;margin-bottom:10px;text-transform:inherit}@media (max-width:768px){#noticiaIgv02_breadcrumb,.fonte{display:none}}#noticia h2{font-size:18px}#noticia ol,#noticia ul{margin-bottom:14px;font-size:18px;line-height:28px;color:#6a6a6a;margin-left:40px}#noticia ul{list-style-type:disc}#noticia ol{list-style-type:decimal}.foto-legenda-img{min-height:193px}.foto-legenda-img img{width:100%}.foto-legenda-citacao cite{display:block;margin-bottom:5px;font-size:14px;line-height:15px;font-weight:700;color:#6a6a6a}@media (max-width:840px){.foto-legenda-citacao cite{font-size:15px}}.foto-legenda-citacao-text{font-size:1pc;line-height:22px;padding:5px 10px;color:#333}.noticiaFloat{float:left;margin:0 15px 0 0;max-width:316px;width:100%}@media (max-width:640px){.noticiaFloat{float:initial!important;margin:20px auto!important}}.noticiaFloat.foto-legenda--aling-right{max-width:465px;width:100%;float:right;margin:0 0 0 15px}.noticiaFloat.foto-legenda--aling-left{max-width:465px;width:100%;float:left;margin:0 15px 0 0}.noticiaFloat .foto-legenda-citacao{margin:10px 0 0}.noticiaFloat .foto-legenda-citacao p{font-size:14px;line-height:18px;color:#6a6a6a}#barra-lateral,#barra-lateral-mobile{margin:0 0 0 auto;width:100%;height:100%}@media (min-width:992px){#barra-lateral .publicidade,#barra-lateral-mobile .publicidade{padding:0}}#barra-lateral .faixa .col-sm-6,#barra-lateral .faixa .ig-component,#barra-lateral .faixa .ig-component--b,#barra-lateral-mobile .faixa .col-sm-6,#barra-lateral-mobile .faixa .ig-component,#barra-lateral-mobile .faixa .ig-component--b{padding:0}#barra-lateral .faixa .col-sm-6>.publicidade,#barra-lateral-mobile .faixa .col-sm-6>.publicidade{margin-bottom:0}#barra-lateral .faixaLimpa .col-sm-6,#barra-lateral .faixaLimpa .ig-component,#barra-lateral .faixaLimpa .ig-component--b,#barra-lateral-mobile .faixaLimpa .col-sm-6,#barra-lateral-mobile .faixaLimpa .ig-component,#barra-lateral-mobile .faixaLimpa .ig-component--b{padding:0}#barra-lateral .ig-component-content,#barra-lateral-mobile .ig-component-content{padding:20px}#barra-lateral .ig-component .fb_iframe_widget,#barra-lateral .ig-component--b .fb_iframe_widget,#barra-lateral-mobile .ig-component .fb_iframe_widget,#barra-lateral-mobile .ig-component--b .fb_iframe_widget{width:100%}#barra-lateral .component-destaquesImg.ig-component--b h3,#barra-lateral .ig-component.component-destaquesImg h3,#barra-lateral-mobile .component-destaquesImg.ig-component--b h3,#barra-lateral-mobile .ig-component.component-destaquesImg h3{padding:20px 20px 0}#barra-lateral .comp-especial,#barra-lateral-mobile .comp-especial{width:100%}#barra-lateral #ad_shopping,#barra-lateral-mobile #ad_shopping{margin:0!important;padding:0!important}#barra-lateral #ad_shopping>div>iframe,#barra-lateral-mobile #ad_shopping>div>iframe{width:100%!important}#barra-lateral #ad_bbrands,#barra-lateral-mobile #ad_bbrands{margin:0!important;min-height:0!important}#barra-lateral #ad_mrec_motorhu,#barra-lateral-mobile #ad_mrec_motorhu{margin:0 0 30px!important;padding:30px!important;background-color:#ededed;text-align:center}#barra-lateral-mobile.lateralblog1 .HTE04906 .borda,#barra-lateral.lateralblog1 .HTE04906 .borda{margin:0 0 30px;padding:0}.thumbnails-c .trc_rbox_header{margin:4.0323% 13px 30px!important}.ig-component,.ig-component--b{position:relative;margin-top:30px;color:#fff;line-height:1.2;zoom:1}.ig-component--b:after,.ig-component--b:before,.ig-component:after,.ig-component:before{content:\" \";display:table}.ig-component--b:after,.ig-component:after{clear:both}.ig-component--b:first-child,.ig-component:first-child{margin-top:0}@media (max-width:414px){.ig-component--b:first-child,.ig-component:first-child{margin:0 0 25px}}.ig-component a,.ig-component--b a{color:#fff;display:block}.lt-component{margin-top:0}.comp-especial{width:50%;display:inline-block}@media screen and (max-width:991px) and (min-width:768px){.comp-especial{width:50%!important;display:inline-block}}@media (max-width:767px){.comp-especial{width:100%!important;display:inline-block}}.comp-especial .component-item{width:100%!important}.igpetsGeral .nh-nav{color:#f27167!important}.igpetsGeral a:hover .divulgueCorpo img{transform:scale(1.05) translate3d(-8px,0,0)!important}.igpetsGeral a .divulgueCorpo{border:1px solid #959595;border-top:0;margin-top:-31px;height:250px;margin-bottom:8%}@media (max-width:1200px){.igpetsGeral a .divulgueCorpo{height:380px}}@media (max-width:993px){.igpetsGeral a .divulgueCorpo{height:280px}}@media (max-width:767px){.igpetsGeral a .divulgueCorpo{height:500px}}@media (max-width:400px){.igpetsGeral a .divulgueCorpo{height:580px}}.igpetsGeral a .divulgueCorpo .divulguePrincipal{float:left;z-index:8;width:53%;padding:60px 40px}@media (max-width:1200px){.igpetsGeral a .divulgueCorpo .divulguePrincipal{width:43%;padding:60px 0 0 40px}}@media (max-width:993px){.igpetsGeral a .divulgueCorpo .divulguePrincipal{width:50%;padding:60px 0 0 40px}}@media (max-width:767px){.igpetsGeral a .divulgueCorpo .divulguePrincipal{width:100%;padding:60px 40px 0}}.igpetsGeral a .divulgueCorpo .divulguePrincipal h3{font-size:25px;font-weight:700;color:#258ddd}.igpetsGeral a .divulgueCorpo .divulguePrincipal h4{color:#6a6a6a;font-size:19px;font-weight:400;padding:20px 20px 0 0}.igpetsGeral a .divulgueCorpo .imgPet{float:right;width:350px;height:250px;padding:10px 1px}@media (max-width:767px){.igpetsGeral a .divulgueCorpo .imgPet{width:280px}}.igpetsGeral .divulgueSecundario{cursor:pointer;float:left;position:absolute;padding:0 40px;margin-top:-105px}.igpetsGeral .divulgueSecundario .ig-component-title{transition:1s}.igpetsGeral .divulgueSecundario .ig-component-title:hover{color:#f27167!important;opacity:.7}.igpetsGeral .divulgueSecundario .ig-component-title a{color:#f27167;text-decoration:underline;font-weight:700}.saudebucal .small-component:hover .ig-component-title{color:#b91c17}.saudebucal .small-component .ig-component-title{color:#6d6868;font-size:1.6em}.saudebucal .ig-component-hat--bg{background:#b91c17}.saudebucal .component-latest-news.ig-component--b,.saudebucal .ig-component.component-latest-news{color:#b91c17}.ig-component--b{border:1px solid #959595}.ig-component--b.aux{font-weight:700;margin-bottom:6px}.ig-component-content{position:relative}.ig-component-title{font-size:1.6rem;position:relative;z-index:7;transition:color .25s ease-in;color:#4a4a4a}.ig-component-hat,.ig-component-hat--bg{text-transform:uppercase;font-size:1.4em;font-weight:700;display:inline-block;padding:8px;margin-bottom:9px;position:relative;z-index:7}.ig-component-hat--bg{color:#fff}.theId .nh-nav{margin:3.0323% 0 30px}.nh-nav{display:block;color:#0099e5;margin:4.0323% 0 30px;position:relative}.nh-nav ul{display:inline-block}.nh-nav li{margin-right:40px;padding-bottom:10px}.nh-nav li,.nh-nav li a{display:inline-block;color:inherit}.nh-nav li.links a{color:#3a3e48;font-size:14px;font-weight:400}.nh-nav li.links a:hover{color:inherit}.nh-nav:before{content:\"\";display:block;border-bottom:1px solid #d6d6d6;position:absolute;width:100%;left:0}.nh-nav .category-title{border-top:8px solid;margin-right:30px;padding-right:25px;font-weight:300;font-size:3rem;display:inline-block;line-height:1;padding-top:8px;text-transform:uppercase;color:#385898}.nh-nav .category-title a{font-size:inherit;color:inherit}.uc-component .ig-component-hat,.uc-component .ig-component-hat--bg{position:absolute;top:-15px}.uc-component .ig-component-content{min-height:75pt;padding:8.3333% 5.5556%}.uc-component .ig-component-title{font-size:1.8em;font-weight:700;color:#fff}@media (max-width:768px){.uc-component .ig-component-title{margin-top:10px}}.uc-component:hover .ig-component-title{text-decoration:underline}.v-component .ig-component-hat,.v-component .ig-component-hat--bg{position:absolute;top:-15px}.v-component .ig-component-content{min-height:75pt;padding:8.3333% 5.5556%}.v-component .img-link{padding-bottom:104.91125%}.v-component .ig-component-title{font-size:1.6em;font-weight:700;color:#fff;top:-10px;margin-top:15px}.v-component:hover .ig-component-title{text-decoration:underline}.c-component .ig-component-hat,.c-component .ig-component-hat--bg{position:absolute;top:-15px}.c-component .ig-component-content{min-height:75pt;padding:8.3333% 5.5556%}.c-component .ig-component-title{font-size:1.6em;font-weight:700;color:#fff;top:-10px}.c-component:hover .ig-component-title{text-decoration:underline}.h-component .ig-component-title{font-size:1.8em;line-height:20px;font-weight:600;color:#fff}.h-component:hover .ig-component-title{text-decoration:underline}.h-component .ig-component-content{padding:4.3333% 5.5556%;position:absolute;bottom:0;left:0;width:100%;right:0;display:block}.h-component .img-link{padding-bottom:62.45%}.news-list-component ul li{border-top:1px dotted #a1a1a1;padding-top:25px;margin-top:25px}.news-list-component ul li:first-child{border-top:0;margin-top:0;padding-top:20px}.news-list-component .ig-component-content{margin:0 3% 0 2%}.news-list-component .ig-component-title{line-height:1}.news-list-component .ig-component-hat,.news-list-component .ig-component-hat--bg{text-transform:none;padding:0;font-weight:900}.highlight-component .ig-component-title{font-size:4.2em;font-weight:700;margin-bottom:10px;line-height:1.0952;letter-spacing:-.01em;margin-top:3%}@media (max-width:768px){.highlight-component .ig-component-title{font-size:2.8em}}@media (max-width:650px){.highlight-component .ig-component-title{font-size:24px}}.highlight-component .ig-component-title:hover{text-decoration:underline}.highlight-component .ig-component-text{font-size:1.6em;color:#4a4a4a;font-weight:700}.highlight-component .ig-component-text:hover{text-decoration:underline}@media (max-width:414px){.small-component{margin:0 10px}}.small-component .ig-component-hat,.small-component .ig-component-hat--bg{display:block;margin-bottom:10px}.small-component .ig-component-content{padding:0}.small-component .ig-component-title{color:#4a4a4a;font-size:1.6em}.small-component .img-link{border-bottom:1px solid #fff;padding-bottom:83.6363%}@media (min-width:992px){.h-small-component .component--vertical{border-bottom:4px solid}.h-small-component .component--vertical .img-link{margin:0 15px 0 0;width:50.94%;padding-bottom:36.8926%}.h-small-component .component--vertical .component-item{width:100%}.h-small-component .component--vertical .component-item:last-child{margin-bottom:0}}.h-small-component .ig-component-content{overflow:hidden}.h-small-component .ig-component-image{float:left;margin-right:20px;display:block;height:auto;max-width:100%}.h-small-component .ig-component-imageHorizontal{width:100%;height:auto}.h-small-component .ig-component-hat,.h-small-component .ig-component-hat--bg{font-size:1.8em;padding:0;color:#6a6a6a;margin-top:13%;text-transform:initial}.h-small-component .ig-component-title{font-size:1.6em;color:#894783}.h-small-component .component-item{margin-bottom:4%;overflow:hidden}@media (min-width:768px){.h-small-component .component-item{display:inline-block;width:49.699%}}.h-small-component .img-link{padding-bottom:30.3%;width:44.8889%;margin-right:20px;float:left}.square-component{padding:20px;border-bottom:4px solid}.square-component .img-link{padding-bottom:53.9185%}.square-component .ig-component-hat,.square-component .ig-component-hat--bg{padding:0;margin-top:20px}.s-component{border-right:4px solid}.s-component .img-link{width:45%;float:left;padding-bottom:30.6556%;margin-right:30px}.s-component .ig-component-content{overflow:hidden}.secondary-content .ig-component,.secondary-content .ig-component--b{padding:20px;width:100%}.HTE14706,.fl{float:none}.component-twitter{min-height:340px;overflow:hidden}.component-twitter iframe{width:100%!important}.component-facebook{min-height:214px;margin-top:10%!important}@media (max-width:414px){.component-facebook{padding-top:0!important}}@media (max-width:768px){.component-facebook{padding-top:50px}}.d-vertical02 .img-link{padding-bottom:86.1111%}.d-vertical02 .ig-component-content{border:1px solid #959595;padding:30px 20px}.d-vertical02 .ig-component-hat,.d-vertical02 .ig-component-hat--bg{font-weight:900;padding:0;font-size:1.4rem;text-transform:none}.d-vertical02 .ig-component-title{color:#4a4a4a}.pingp-component .component-item{display:inline-block;width:47%;vertical-align:top;padding-bottom:3%}.pingp-component .component-item:first-child{border-right:1px dotted #a1a1a1;padding-right:5%;margin-right:5%}.slider-component-box{padding:0!important;background-color:#ececec;border-bottom:4px solid;overflow:hidden;width:100%}.slider-component-box:hover .bx-controls-direction{display:block}.slider-component-box .slider-component{width:99999px}.slider-component-box .slider-component .slider-item{float:left;width:360px}.slider-component-box .img-link{padding-bottom:83.5135%;margin-bottom:0}.slider-component-box .ig-component-content{padding:15px 30px}.slider-component-box .ig-component-hat,.slider-component-box .ig-component-hat--bg{padding-left:0;margin-bottom:0}.slider-component-box .slider-component-pager{text-align:center;margin-bottom:25px}.slider-component-box .slider-component-pager li{display:inline-block;margin-right:-4px;margin-left:10px}.slider-component-box .slider-component-pager li img{display:block}.slider-component-box .slider-component-pager li a{opacity:.8;display:block;transition:.3s ease;border:2px solid #ececec}.slider-component-box .slider-component-pager li a.active,.slider-component-box .slider-component-pager li a:hover{opacity:1;border:2px solid #a5a5a5}.slider-component-box .slider-component-pager li:first-child{margin-left:0}.slider-component-box .bx-controls-direction{display:block;transition:.3s ease;position:absolute;top:28%;width:100%}@media (min-width:992px){.slider-component-box .bx-controls-direction{display:none}}.slider-component-box .bx-controls-direction a{background-color:hsla(0,0%,100%,.6);height:67px;line-height:67px;width:40px}.slider-component-box .bx-controls-direction a:after,.slider-component-box .bx-controls-direction a:before{color:#000;font-size:40px}.slider-component-box .bx-controls-direction a.bx-next{right:0}.slider-component-box .bx-controls-direction a.bx-prev{left:0}.escudos-component{padding:30px 5px 15px}.escudos-component ul{text-align:center}.escudos-component ul li{display:inline-block;margin:2% 4%;width:30px;height:2pc}@media (min-width:768px){.escudos-component ul li{display:inline-block;margin:10px 2.6%}}@media (min-width:992px){.escudos-component ul li{display:inline-block;margin:10px 2.9%}}@media (min-width:1100px){.escudos-component ul li{margin:10px 1%}}.escudos-component .tiposerie{border:1px solid #ccc;width:auto;border-radius:3px;overflow:hidden;background-color:#fff;position:absolute;top:-20px;right:25px;height:37px;padding-right:30px;display:none}.escudos-component .tiposerie select{padding:5px 8px;width:130%;border:none;box-shadow:none;background-color:transparent;background-image:none;-webkit-appearance:none;-moz-appearance:none;appearance:none;position:relative;top:0;left:0;font-size:14px}.escudos-component .tiposerie select:focus{outline:0}.produtos .publicidade.advertising-box.pub_300x250{display:none!important}@media (min-width:768px){.produtos .main-slider{margin:0 23%}}@media (min-width:992px){.produtos .col-sm-3{width:20%;margin:0 2%}}@media (min-width:992px){.produtos .faixa6ColDir .col-sm-6{width:33.5%}}@media (min-width:992px){.produtos .main-slider{margin:0 15%}}@media (min-width:992px){.produtos .slider-wrapper{padding-bottom:30%}}@media (min-width:992px){.produtos .faixa6ColEsq .col-sm-6{width:45%;margin:0 2%}.produtos .faixa6ColEsq .col-sm-12{width:74%!important;float:right;margin-top:37px}}.component-latest-news{width:100%;margin-bottom:40px}.component-latest-news .linkGeral{float:right;padding:5px 0 0;border:0;font-size:1pc;font-weight:400;margin-right:5px;color:inherit;position:absolute;right:0;bottom:5px}.saudebucal .component-latest-news{width:100%;margin-bottom:40px}.saudebucal .component-latest-news .linkGeral{float:right;padding:5px 0 0;border:0;font-size:1pc;font-weight:400;margin-right:5px;color:inherit;position:absolute;left:0;bottom:-4%!important}.turismo .component-latest-news{width:100%;margin-bottom:103px}.turismo .clear{margin-top:-41px}.turismo .pagination{font-size:1pc;color:#6a6a6a;line-height:30px;margin-top:65px}.component-latest-news--list a{color:#4a4a4a;overflow:hidden}.component-latest-news--list a:hover h3{text-decoration:underline}.component-latest-news--list img{float:left;margin-right:20px}.component-latest-news--list li{overflow:hidden;margin-top:4%}.component-latest-news--list li:first-child{margin-top:0}.component-latest-news--list cite{font-size:1.2em;margin:7px 0;display:block}.component-latest-news--list h3{font-size:1.6em;font-weight:700;color:inherit;margin-bottom:10px;color:#0099e5}.component-latest-news--list p{font-size:1.4em}.component-latest-news--list .img-link{width:19.7333%;float:left;margin-right:20px;padding-bottom:14.8%}.pagination{font-size:1pc;color:#6a6a6a;line-height:30px;text-align:center;margin:15px}.pagination li{display:inline-block;padding:0 5px;width:auto;height:30px;text-align:center;font-weight:700;cursor:pointer;margin:10px 1px}.pagination li .active{background-color:#f27167;padding:6px;color:#fff}.pagination li a{color:inherit;display:block}.pagination li.selected,.pagination li:hover{color:#fff;background-color:#0099e5}.pagination li.selected a,.pagination li:hover a{color:inherit}.maislidas_container{display:flex;flex-direction:column;padding-top:10px;margin-bottom:20px;padding-bottom:20px;position:relative;min-height:340px}.maislidas_container h3{font-size:1.4em!important;line-height:25px!important;font-weight:600!important;margin:5px 0 10px 10px!important;color:#383737!important}@media (max-width:940px){.maislidas_container h3{text-align:center!important;display:flex!important;flex-direction:column!important}}.maislidas_container:before{top:0}.maislidas_container:after,.maislidas_container:before{content:\"\";position:absolute;border-top:1px solid #707070;width:100%}.maislidas_container:after{bottom:0}.maislidas_container .perdeu_maislidas-content{display:flex;opacity:0}@media (max-width:940px){.maislidas_container .perdeu_maislidas-content{flex-direction:column}}.maislidas_container .perdeu_maislidas-content-item{margin-right:34px}@media (max-width:940px){.maislidas_container .perdeu_maislidas-content-item{margin:0 0 20px}}.maislidas_container .perdeu_maislidas-content-item:last-child{margin-right:0}@media (max-width:940px){.maislidas_container .perdeu_maislidas-content-item:last-child{margin:0}}.maislidas_container .perdeu_maislidas-content-item-link{display:flex;flex-direction:column}@media (max-width:940px){.maislidas_container .perdeu_maislidas-content-item-link{flex-direction:row}}.maislidas_container .perdeu_maislidas-content-item-link-img{position:relative;overflow:hidden;width:280px;min-width:280px;height:300px;border-radius:3px}@media (max-width:991px){.maislidas_container .perdeu_maislidas-content-item-link-img{min-width:165px;height:290px;min-height:102px}}.maislidas_container .perdeu_maislidas-content-item-link-img img{width:280px;min-width:280px;height:300px;object-fit:cover;transition:all .2s ease-in-out}@media (max-width:991px){.maislidas_container .perdeu_maislidas-content-item-link-img img{width:100%;min-width:165px;min-height:102px}}.maislidas_container .perdeu_maislidas-content-item-link-img:after{content:\"\";position:absolute;width:100%;height:100%;z-index:1;background-color:rgba(0,0,0,.3);top:0;left:0;opacity:0;transition:all .2s ease-in-out}.maislidas_container .perdeu_maislidas-content-item-link-text{position:absolute;bottom:0;width:280px;height:10pc;z-index:7;background:linear-gradient(0deg,#000 5%,transparent 100%);border-radius:0 0 4px 4px}@media (max-width:940px){.maislidas_container .perdeu_maislidas-content-item-link-text{margin:0}}.maislidas_container .perdeu_maislidas-content-item-link-text h2{font-size:14px;line-height:25px;text-transform:initial;padding:45px 10px 0 15px;color:#fff;font-weight:600}@media (max-width:800px){.maislidas_container .perdeu_maislidas-content-item-link-text h2{line-height:25px}}.maislidas_container .perdeu_maislidas-content-item-link:hover .perdeu_maislidas-content-item-link-img:after{opacity:1}.maislidas_container .perdeu_maislidas-content-item-link:hover .perdeu_maislidas-content-item-link-img img{transform:scale(1.1)}@media screen and (min-width:900px){.c-loading{height:300px;display:flex;justify-content:center;align-items:center}}@media screen and (max-width:899px){.c-loading{height:300px;position:absolute;width:100%;display:flex;justify-content:center;align-items:center}}.lds-default{display:inline-block;position:relative;width:5pc;height:5pc}.lds-default div{position:absolute;width:6px;height:6px;background:#307ecb;border-radius:50%;animation:a 1.2s linear infinite}.lds-default div:nth-child(1){animation-delay:0s;top:37px;left:66px}.lds-default div:nth-child(2){animation-delay:-.1s;top:22px;left:62px}.lds-default div:nth-child(3){animation-delay:-.2s;top:11px;left:52px}.lds-default div:nth-child(4){animation-delay:-.3s;top:7px;left:37px}.lds-default div:nth-child(5){animation-delay:-.4s;top:11px;left:22px}.lds-default div:nth-child(6){animation-delay:-.5s;top:22px;left:11px}.lds-default div:nth-child(7){animation-delay:-.6s;top:37px;left:7px}.lds-default div:nth-child(8){animation-delay:-.7s;top:52px;left:11px}.lds-default div:nth-child(9){animation-delay:-.8s;top:62px;left:22px}.lds-default div:nth-child(10){animation-delay:-.9s;top:66px;left:37px}.lds-default div:nth-child(11){animation-delay:-1s;top:62px;left:52px}.lds-default div:nth-child(12){animation-delay:-1.1s;top:52px;left:62px}@keyframes a{0%,20%,80%,to{transform:scale(1)}50%{transform:scale(1.5)}}.exclusivo{margin-top:30px;margin-bottom:20px;letter-spacing:-.02em;line-height:1.2;background:#d31410;padding:5px 30px;color:#fff;position:relative;top:-4px;text-transform:uppercase;font-size:18px;font-weight:800;border-radius:2px}@media (max-width:991px){.exclusivo{margin-top:10px;padding:5px 20px}}#expanderIG{margin:0 auto!important}#conteudo{color:#6a6a6a;width:100%}#conteudo:after,#conteudo:before{content:\" \";display:table}#conteudo:after{clear:both}.barra{width:calc(100% - 30px);float:left;border-top:1px solid #e6e6e6;padding:10px 15px 10px 0;margin-left:15px}.barra .fonte{float:right;width:19%;margin:10px 0}.barra .fonte span{font-size:13px;color:#4a4a4a;padding:10px 0;float:left;margin-right:10px;font-weight:700}.barra .fonte ul{float:left}.barra .fonte ul li{float:left;width:20px;margin:6px 5px 6px 0}.barra .fonte ul li a{color:#fff;font-size:18px;float:left;width:100%;text-align:center;cursor:pointer;line-height:18px}#conteudo_breadcrumb,#noticiaIgv02_breadcrumb,.navegacao{margin:20px 0;font-size:14px}#conteudo_breadcrumb li,#noticiaIgv02_breadcrumb li,.navegacao li{display:inline-block;padding:0 4px}#conteudo_breadcrumb a:hover,#noticiaIgv02_breadcrumb a:hover,.navegacao a:hover{text-decoration:underline}#conteudo_breadcrumb li:last-child a:hover,#noticiaIgv02_breadcrumb li:last-child a:hover,.navegacao li:last-child a:hover{text-decoration:none}#conteudo_breadcrumb strong,#noticiaIgv02_breadcrumb strong,.navegacao strong{cursor:default;font-weight:700}#noticia-other #authors-box,#noticia-other .complemento-credito{font-weight:700}#noticia-other{font-size:14px;color:#6a6a6a;text-align:center;margin:0 15px 20px}#noticia-other p{font-size:14px;margin-bottom:0}@media (max-width:840px){#noticia-other p{font-size:15px}}#authors-box a{color:#4a4a4a}.igShare__title{font-size:10px;line-height:10px}.iGfooter__medias p{font-size:9pt}@media (max-width:768px){.noticia{padding:0 7px}}.noticia .context h4{color:#fff}@media (max-width:768px){.noticia #noticia{margin:0}}.noticia h3{font-size:20px;font-weight:700}.noticia h3,.noticia h4{text-transform:none;line-height:22px;margin:20px auto 10px;color:#333}.noticia h4{font-size:18px}.noticia p{margin-bottom:2.5rem;font-size:20px;line-height:30px;color:#1a1a1a}@media (max-width:767px){.noticia p{font-size:18px}}.noticia p a{font-weight:700;color:#385898;text-decoration:underline}.noticia p a:hover{text-decoration:none}.noticia strong{font-weight:700}.noticia em,.noticia i{font-style:italic}.noticia iframe{max-width:100%!important}.noticia .loading{width:2pc;margin:0 auto}.noticia .Noticia_Embed .componente-embed-noticia{flex-direction:column}.noticia .Noticia_Embed .componente-embed-noticia div,.noticia .Noticia_Embed .componente-embed-noticia iframe{margin:0 auto}.noticia .assinatura-autor p{font-size:14px;font-style:italic}.show-more-container .show-more{color:#385898;border:2px solid #385898;border-radius:5px;padding:8px 9pt;font-weight:700}.show-more-container .show-more:hover{background-color:#385898}.Noticia_Foto{margin-bottom:2.5rem}.Noticia_Foto .foto-legenda{display:flex;flex-direction:column}.Noticia_Foto .foto-legenda .foto-legenda-citacao{margin:10px 0 0}.Noticia_Foto .foto-legenda .foto-legenda-citacao-text,.colunistas-container.ig-component--b,.colunistas-container.square-component{padding:0!important}.colunistas-container a .img-link img{object-fit:cover;transition:all .2s}.colunistas-container a .img-link:hover:after{background:none}.colunistas-container a:hover img{transform:scale(1.05) translate3d(0,0,0)!important}.author-container{display:flex;flex-wrap:wrap}.author-container #authors-box{position:relative;display:flex}.author-container #authors-box .author-container-contentAuthor,.author-container #authors-box strong{margin:0 5px}.author-container #authors-box .author-container-contentAuthor strong{margin:0;cursor:pointer;text-decoration:underline;font-size:15px}.author-container #authors-box .author-container-contentAuthor-contentBox{position:absolute;z-index:1;display:none;flex-direction:column;align-items:center;min-width:200px;max-width:230px;width:max-content;background-color:#fafafa;box-shadow:0 3px 6px #00000029;border-bottom-left-radius:3px;border-bottom-right-radius:3px;padding:10px}@media (max-width:840px){.author-container #authors-box .author-container-contentAuthor-contentBox{left:0}}.author-container #authors-box .author-container-contentAuthor-contentBox>a{display:flex;flex-direction:column;align-items:center}.author-container #authors-box .author-container-contentAuthor-contentBox-img{width:70px;height:70px;object-fit:cover;border-radius:50%}.author-container #authors-box .author-container-contentAuthor-contentBox-description{margin:10px 0}.author-container #authors-box .author-container-contentAuthor-contentBox-description p{font-size:14px;font-weight:500;color:#666;text-align:center}.author-container #authors-box .author-container-contentAuthor-contentBox-description p:first-child{font-weight:700}@media (max-width:840px){.author-container #authors-box .author-container-contentAuthor-contentBox-description p{font-size:15px}}.author-container #authors-box .author-container-contentAuthor-contentBox-sociais{display:flex;justify-content:center;align-items:center}.author-container #authors-box .author-container-contentAuthor-contentBox-sociais .icone{display:flex;width:max-content}.author-container #authors-box .author-container-contentAuthor-contentBox-sociais .icone:not(:last-child){margin-right:10px}.author-container #authors-box .author-container-contentAuthor-contentBox-sociais .icone a{display:flex}.author-container #authors-box .author-container-contentAuthor-contentBox-sociais .icone a p{font-size:9pt;color:#666;margin-right:5px}@media (max-width:840px){.author-container #authors-box .author-container-contentAuthor-contentBox-sociais .icone a p{font-size:14px}}.author-container #authors-box .author-container-contentAuthor-contentBox-sociais .icone a img{object-fit:contain}.author-container #authors-box .author-container-contentAuthor:hover>.author-container-contentAuthor-contentBox{display:flex}.author-container #dataHTML{display:flex;flex-wrap:wrap}.author-container #dataHTML time{margin:0 5px}.author-container #dataHTML p time{margin:0}.author-container #dataHTML span,.author-container #dataHTML time{font-size:15px}.iGfooter_sobre-redesSociais{width:100%;display:flex;flex-direction:column;align-items:center;margin-bottom:70px}.iGfooter_sobre-redesSociais h3{font-size:14px;text-transform:uppercase;font-weight:700;color:#181818;margin:20px}@media (max-width:475px){.iGfooter_sobre-redesSociais-icons{max-width:20pc;display:flex;flex-wrap:wrap;justify-content:center}}.iGfooter_sobre-redesSociais-icons a{padding:5px;margin:5px;transition:padding .2s}.iGfooter_sobre-redesSociais-icons img{width:45px;height:auto}.iGfooter{background-color:#f4f4f4;padding:20px 0 0}.iGfooter_container{margin:0 auto;max-width:1254px}.iGfooter_sobre{display:flex;flex-direction:column;align-items:center}.iGfooter_sobre h3{font-size:23px;font-weight:700;margin:15px 0;color:#181818}.iGfooter_sobre ul{display:flex}@media (max-width:800px){.iGfooter_sobre ul{flex-direction:column;text-align:center}}.iGfooter_sobre ul li{margin:10px 7px}.iGfooter_sobre ul li a{font-size:1pc;color:#181818}.iGfooter_rodape{background-color:#002b5e;margin-top:20px}.iGfooter_rodape p{color:#fff;padding:1pc 0;text-align:center;font-size:1.2rem}</style><script async src=\"https://unpkg.com/swiper/swiper-bundle.min.js\" type=\"164ac1c171f7b549339f0115-text/javascript\"></script><link rel=\"stylesheet\" href=\"https://unpkg.com/swiper/swiper-bundle.min.css\" /><noscript id=\"deferred-styles\">    <link        rel=\"stylesheet\"        type=\"text/css\"        href=\"https://i0.statig.com.br/assets/v5/css/ig-canais-noticias.min.css?v5.0.7.001216\"    /></noscript><script type=\"164ac1c171f7b549339f0115-text/javascript\">    var loadDeferredStyles = function () {        var addStylesNode = document.getElementById(\"deferred-styles\");        var replacement = document.createElement(\"div\");        replacement.innerHTML = addStylesNode.textContent;        document.body.appendChild(replacement);        addStylesNode.parentElement.removeChild(addStylesNode);    };    var raf =        requestAnimationFrame ||        mozRequestAnimationFrame ||        webkitRequestAnimationFrame ||        msRequestAnimationFrame;    if (raf)        raf(function () {            window.setTimeout(loadDeferredStyles, 0);        });    else window.addEventListener(\"load\", loadDeferredStyles);</script><script type=\"164ac1c171f7b549339f0115-text/javascript\">    var _author = document        .querySelector(\"meta[name=author]\")        .getAttribute(\"content\");    var _section = document        .querySelector(\"meta[name=iG-secao-nome]\")        .getAttribute(\"content\");    var _published = new Date(        document            .querySelector(\\'meta[property=\"article:published_time\"]\\')            .getAttribute(\"content\")    ).toLocaleString();    console.log(\"Author: \", _author);    console.log(\"Section: \", _section);    console.log(\"Published: \", _published);    window.dataLayer = window.dataLayer || [];    window.dataLayer.push({        autorMatia: _author,        dataPublicacao: _published,        editoria: _section,    });</script><script type=\"164ac1c171f7b549339f0115-text/javascript\">    (function (w, d, s, l, i) {        w[l] = w[l] || [];        w[l].push({ \"gtm.start\": new Date().getTime(), event: \"gtm.js\" });        var f = d.getElementsByTagName(s)[0],            j = d.createElement(s),            dl = l != \"dataLayer\" ? \"&l=\" + l : \"\";        j.async = true;        j.src = \"//www.googletagmanager.com/gtm.js?id=\" + i + dl;        f.parentNode.insertBefore(j, f);    })(window, document, \"script\", \"dataLayer\", \"GTM-5J8MN6\");</script>\\n\\n\\n<style type=\"text/css\">.noticia-especial.ultimosegundo .mais_recentes{display:none}@media (min-width:1200px){.noticia-especial.ultimosegundo .template18c{width:900px}}.ultimosegundo #noticia-signature.noticia-other-ig_V04 .name-author{font-size:20px;color:#e6873c;margin-top:-9px}.ultimosegundo .btnLeiaMais__container{margin:20px 0;bottom:0;background:linear-gradient(to bottom,hsla(0,0%,100%,0) 0%,#fff 35%,#fff 100%)}.ultimosegundo .btnLeiaMais__container .btnLeiaMais{margin:0 auto;max-width:300px;width:100%;border:1px solid #ccc;border-radius:5px;box-shadow:0 3px 6px #00000029;background-color:#fff}.ultimosegundo .btnLeiaMais__container .btnLeiaMais p{font-size:18px;line-height:24px;text-align:center;font-weight:600;margin:1rem 0;color:#385898}.ultimosegundo .collapse{visibility:hidden;position:absolute}.ultimosegundo .collapse .twitter-tweet{position:absolute!important;visibility:hidden!important}.ultimosegundo .barra-nav{background-color:#e6873c}@media (max-width:500px){.ultimosegundo .avatarColunista a .descricao-avatar span{color:#e6873c}}.ultimosegundo .link-artigo a{color:#e6873c}.ultimosegundo #paginacao .pagination li :hover,.ultimosegundo #paginacao .pagination li.selected{background:#e6873c}.ultimosegundo .noticia .context,.ultimosegundo .noticia .context:before{border-color:#e6873c}.ultimosegundo .noticia .context h3,.ultimosegundo .noticia .context h4{background-color:#e6873c}.ultimosegundo .noticia .context a{color:#e6873c}.ultimosegundo .noticia .foto-legenda:hover span a{border:3px solid #e6873c}.ultimosegundo .noticia .CHE25606,.ultimosegundo .noticia .foto-legenda:hover div a{color:#e6873c}.ultimosegundo .noticia .fonte li a{background-color:#e6873c}.ultimosegundo #cp__autor .cp__autor--box-info .cp__autor--name{color:#e6873c}.ultimosegundo .subHome-nav__submenu{border-bottom-color:#e6873c}.ultimosegundo .header-columm-navigation-items ul li .channel-menu__menu-link,.ultimosegundo .subHome-nav__item--submenu a:hover{color:#e6873c}.ultimosegundo .header-columm-navigation-items ul li .channel-menu__menu-link:hover{border-bottom:2px solid #b45a12}.ultimosegundo .ig-container-header-minimal{background-color:#e6873c}.ultimosegundo .ig-component{color:#e6873c}.ultimosegundo .c-component .ig-component-content,.ultimosegundo .c-component .ig-component-hat--white,.ultimosegundo .c-component .inverter-cor .ig-component-content,.ultimosegundo .ig-component-hat--bg,.ultimosegundo .inverter-cor .ig-component-hat--bg,.ultimosegundo .lt-component .ig-component-content,.ultimosegundo .uc-component .ig-component-content,.ultimosegundo .uc-component .inverter-cor .ig-component-content,.ultimosegundo .v-component .ig-component-content,.ultimosegundo .v-component .ig-component-hat--white,.ultimosegundo .v-component .inverter-cor .ig-component-content{background-color:#e6873c}.ultimosegundo .h-small-component .ig-component-title{color:#e6873c}.ultimosegundo .h-small-component .ig-component-title:hover{color:#b45a12}.ultimosegundo .component-latest-news .linkGeral,.ultimosegundo .news-list-component li:hover .ig-component-title,.ultimosegundo .small-component li:hover .ig-component-title{color:#e6873c}.ultimosegundo .component-latest-news .linkGeral:hover{color:#b45a12}.ultimosegundo .component-latest-news--list h3,.ultimosegundo .subHome-nav__item.sub:hover{color:#e6873c}.ultimosegundo .component{border-color:#e6873c}.ultimosegundo .component__heading{color:#e6873c}.ultimosegundo .component__list-item,.ultimosegundo .pagination li.selected{background:#e6873c}.ultimosegundo .pagination li:hover{background:#b45a12}.ultimosegundo .retrancaCanais{color:#e6873c}.ultimosegundo .contatosLista__list--item h4{background-color:#e6873c}.ultimosegundo .contatosLista span a{color:#e6873c}@media (max-width:1200px){.ultimosegundo .share-page.fixed{background:#e6873c}}@media (max-width:1024px){.ultimosegundo .subHome-nav__submenu{background-color:#e6873c}.ultimosegundo .subHome-nav__submenu .subHome-nav__item--submenu a:hover{color:#e6873c}.ultimosegundo .share-page.fixed{background:#e6873c}}@media (max-width:414px){.ultimosegundo .lt-component a .ig-component-content .ig-component-hat--bg,.ultimosegundo .lt-component a .ig-component-content .ig-component-title{color:#e6873c}}.ultimosegundo .titulo-tabela{color:#e6873c}.ultimosegundo .tabela-content .cabecalho{border-top:2px solid #e6873c}.ultimosegundo .tabela-content .cabecalho td,.ultimosegundo .titulo-texto h2{color:#e6873c}.ultimosegundo .titulo-redes-sociais h2{color:#e6873c;border-bottom:2px solid #e6873c}.ultimosegundo .iG_componente_destaque_link_contentText,.ultimosegundo .rs-content .redes-sociais span{background-color:#e6873c}.ultimosegundo .iG_componente_destaquePequeno_link_contentText_label,.ultimosegundo .iG_componente_destaqueVertical_contentText-chapeu{color:#e6873c}.ultimosegundo .iG_componente_empilhamentos.ultimasNoticias .iG_componente_empilhamentos_containerTitulo_title{color:#e6873c;border-top:8px solid #e6873c}.ultimosegundo .iG_componente_destaqueVerticalAuto_link_contentText-chapeu,.ultimosegundo .iG_componente_destaqueVerticalPequeno_link_contentText-chapeu,.ultimosegundo .iG_componente_listaVertical_Container_item a .iG_componente_listaVertical_Container_item_contentText-chapeu{color:#e6873c}.ultimosegundo .destaque-fotoDescricaoAutoContainer .container-component.firstBackground .destaque-fotoDescricaoAuto:first-child .destaque-fotoDescricaoAuto-link-ContentText{background-color:#e6873c}.ultimosegundo .destaque-fotoDescricaoAutoContainer .container-component .destaque-fotoDescricaoAuto-link-ContentText-chapeu{color:#e6873c}.ultimosegundo .noticiasFloat-show{background-color:#e6873c}.ultimosegundo .noticiasFloat-containerMateria-item-containerClose{background:#e6873c 0 0 no-repeat padding-box}.ultimosegundo .noticiasFloat-containerMateria-item-content a p{color:#e6873c}@media (max-width:600px){.ultimosegundo .noticiasFloat-containerMateria-item-content-mobileHide{background-color:#e6873c}}.ultimosegundo .iGh__topBody{background-color:#b45a12}@media (max-width:900px){.ultimosegundo .iGh__topBody:after{background:linear-gradient(90deg,hsla(0,0%,95%,0) 0,#b45a12)}}.ultimosegundo #containerComp .noticiaItem:first-child a .noticiaItem-text{background-color:#b45a12}.ultimosegundo #containerComp .noticiaItem:first-child a .noticiaItem-text-pip{border-right:1px solid #e6873c}.ultimosegundo .iG_componente_empilhamentos .container-pagination .controls .numbers div.active{background-color:#e6873c}.ultimosegundo .iG_componente_empilhamentos .container-pagination .controls .numbers div.active:hover,.ultimosegundo .iG_componente_empilhamentos .container-pagination .controls .numbers div:hover{background-color:#b45a12}</style>\\n\\n</head>\\n<body class=\"ultimosegundo\" id=\"desktop\">\\n<script type=\"164ac1c171f7b549339f0115-text/javascript\">(function(){var mobileAndTabletcheck = function() {var check = false;(function(a) {if (/(android|bb\\\\d+|meego).+mobile|avantgo|bada\\\\/|blackberry|blazer|compal|elaine|fennec|hiptop|iemobile|ip(hone|od)|iris|kindle|lge |maemo|midp|mmp|mobile.+firefox|netfront|opera m(ob|in)i|palm( os)?|phone|p(ixi|re)\\\\/|plucker|pocket|psp|series(4|6)0|symbian|treo|up\\\\.(browser|link)|vodafone|wap|windows ce|xda|xiino|android|ipad|playbook|silk/i.test(a) || /1207|6310|6590|3gso|4thp|50[1-6]i|770s|802s|a wa|abac|ac(er|oo|s\\\\-)|ai(ko|rn)|al(av|ca|co)|amoi|an(ex|ny|yw)|aptu|ar(ch|go)|as(te|us)|attw|au(di|\\\\-m|r |s )|avan|be(ck|ll|nq)|bi(lb|rd)|bl(ac|az)|br(e|v)w|bumb|bw\\\\-(n|u)|c55\\\\/|capi|ccwa|cdm\\\\-|cell|chtm|cldc|cmd\\\\-|co(mp|nd)|craw|da(it|ll|ng)|dbte|dc\\\\-s|devi|dica|dmob|do(c|p)o|ds(12|\\\\-d)|el(49|ai)|em(l2|ul)|er(ic|k0)|esl8|ez([4-7]0|os|wa|ze)|fetc|fly(\\\\-|_)|g1 u|g560|gene|gf\\\\-5|g\\\\-mo|go(\\\\.w|od)|gr(ad|un)|haie|hcit|hd\\\\-(m|p|t)|hei\\\\-|hi(pt|ta)|hp( i|ip)|hs\\\\-c|ht(c(\\\\-| |_|a|g|p|s|t)|tp)|hu(aw|tc)|i\\\\-(20|go|ma)|i230|iac( |\\\\-|\\\\/)|ibro|idea|ig01|ikom|im1k|inno|ipaq|iris|ja(t|v)a|jbro|jemu|jigs|kddi|keji|kgt( |\\\\/)|klon|kpt |kwc\\\\-|kyo(c|k)|le(no|xi)|lg( g|\\\\/(k|l|u)|50|54|\\\\-[a-w])|libw|lynx|m1\\\\-w|m3ga|m50\\\\/|ma(te|ui|xo)|mc(01|21|ca)|m\\\\-cr|me(rc|ri)|mi(o8|oa|ts)|mmef|mo(01|02|bi|de|do|t(\\\\-| |o|v)|zz)|mt(50|p1|v )|mwbp|mywa|n10[0-2]|n20[2-3]|n30(0|2)|n50(0|2|5)|n7(0(0|1)|10)|ne((c|m)\\\\-|on|tf|wf|wg|wt)|nok(6|i)|nzph|o2im|op(ti|wv)|oran|owg1|p800|pan(a|d|t)|pdxg|pg(13|\\\\-([1-8]|c))|phil|pire|pl(ay|uc)|pn\\\\-2|po(ck|rt|se)|prox|psio|pt\\\\-g|qa\\\\-a|qc(07|12|21|32|60|\\\\-[2-7]|i\\\\-)|qtek|r380|r600|raks|rim9|ro(ve|zo)|s55\\\\/|sa(ge|ma|mm|ms|ny|va)|sc(01|h\\\\-|oo|p\\\\-)|sdk\\\\/|se(c(\\\\-|0|1)|47|mc|nd|ri)|sgh\\\\-|shar|sie(\\\\-|m)|sk\\\\-0|sl(45|id)|sm(al|ar|b3|it|t5)|so(ft|ny)|sp(01|h\\\\-|v\\\\-|v )|sy(01|mb)|t2(18|50)|t6(00|10|18)|ta(gt|lk)|tcl\\\\-|tdg\\\\-|tel(i|m)|tim\\\\-|t\\\\-mo|to(pl|sh)|ts(70|m\\\\-|m3|m5)|tx\\\\-9|up(\\\\.b|g1|si)|utst|v400|v750|veri|vi(rg|te)|vk(40|5[0-3]|\\\\-v)|vm40|voda|vulc|vx(52|53|60|61|70|80|81|83|85|98)|w3c(\\\\-| )|webc|whit|wi(g |nc|nw)|wmlb|wonu|x700|yas\\\\-|your|zeto|zte\\\\-/i.test(a.substr(0, 4))) check = true})(navigator.userAgent || navigator.vendor || window.opera);return check;};if (mobileAndTabletcheck()) {document.getElementById(\"desktop\").setAttribute(\\'id\\', \\'mobile\\');}})();</script>\\n<span itemprop=\"author\" itemscope=\"itemscope\" itemtype=\"https://schema.org/Organization\">\\n<meta itemprop=\"name\" content=\"iG\" />\\n</span>\\n<span itemprop=\"image\" itemscope=\"itemscope\" itemtype=\"http://schema.org/ImageObject\">\\n<meta itemprop=\"url\" content=\"https://i0.statig.com.br/bancodeimagens/d5/w5/to/d5w5toexsoi56h2jg1rl38e8m.jpg\" />\\n<meta itemprop=\"width\" content=\"1200\" />\\n<meta itemprop=\"height\" content=\"675\" />\\n</span>\\n<span itemprop=\"publisher\" itemscope=\"itemscope\" itemtype=\"https://schema.org/Organization\">\\n<meta itemprop=\"name\" content=\"iG\" />\\n<meta itemprop=\"url\" content=\"https://www.ig.com.br/\" />\\n<span itemprop=\"logo\" itemscope=\"itemscope\" itemtype=\"https://schema.org/ImageObject\">\\n<meta itemprop=\"url\" content=\"https://i0.statig.com.br/assets/v1/images/logo-ig/logo_ig_146X150.png\" />\\n<meta itemprop=\"width\" content=\"600\" />\\n<meta itemprop=\"height\" content=\"60\" />\\n</span>\\n</span>\\n\\n<div class=\"iGh__topBody\" id=\"barra_topBody\"> <div class=\"iGh__topBody-container\"> <div class=\"iGh__topBody-container-contentLeft\"> <div class=\"iGh__topBody-container-contentLeft-item\"> <img src=\"https://i0.statig.com.br/imgs/logos/CatAndDogV2.svg\" loading=\"lazy\" width=\"20\" height=\"20\" alt=\"iG Pet Saúde\" title=\"iG Pet Saúde\"> <a href=\"https://pet.ig.com.br/?utm_source=header&utm_medium=home\" target=\"_blank\" rel=\"noopener\" title=\"iG Pet Saúde\">iG Pet Saúde</a> </div> <div class=\"iGh__topBody-container-contentLeft-item\"> <img src=\"https://i0.statig.com.br/mobile/home-ig/images/roda.svg\" loading=\"lazy\" width=\"20\" height=\"20\" alt=\"Hopi Hari\" title=\"Hopi Hari\"> <a href=\"https://www.hopihari.com.br/?utm_source=header&utm_medium=home\" target=\"_blank\" rel=\"noopener\" title=\"Hopi Hari\">Hopi Hari</a> </div> <div class=\"iGh__topBody-container-contentLeft-item\"> <img src=\"https://i0.statig.com.br/mobile/home-ig/images/lock.svg\" loading=\"lazy\" width=\"20\" height=\"20\" alt=\"iG Segurança Digital\" title=\"iG Segurança Digital\"> <a href=\"https://seguranca.ig.com.br/?utm_source=header&utm_medium=home\" target=\"_blank\" rel=\"noopener\" title=\"iG Segurança Digital\">iG Segurança Digital</a> </div>  <div class=\"iGh__topBody-container-contentLeft-item\"> <img src=\"https://i0.statig.com.br/mobile/home-ig/images/icon_igcursos.svg\" loading=\"lazy\" width=\"20\" height=\"20\" alt=\"iG Cursos\" title=\"iG Cursos\"> <a href=\"https://cursos.ig.com.br/?utm_source=header&utm_medium=home\" target=\"_blank\" rel=\"noopener\" title=\"iG Cursos\">iG Cursos</a> </div> <div class=\"iGh__topBody-container-contentLeft-item\"> <img src=\"https://i0.statig.com.br/mobile/home-ig/images/cupom1.svg\" loading=\"lazy\" width=\"20\" height=\"20\" alt=\"iG Cupons\" title=\"iG Cupons\"> <a href=\"https://www.ig.com.br/cupons/?utm_source=header&utm_medium=home\" target=\"_blank\" rel=\"noopener\" rel=\"nofollow\" title=\"iG Cupons\">iG Cupons</a> </div> <div class=\"iGh__topBody-container-contentLeft-item\"> <img src=\"https://i0.statig.com.br/mobile/home-ig/images/game.svg\" loading=\"lazy\" width=\"20\" height=\"20\" alt=\"Jogos Grátis\" title=\"Jogos Grátis\"> <a href=\"https://jogueaqui.ig.com.br/?utm_source=header&utm_medium=home\" target=\"_blank\" rel=\"noopener\" title=\"Jogos Grátis\">Jogos Grátis</a> </div> </div> <div class=\"iGh__topBody-container-contentRight\"> <div class=\"iGh__topBody-container-contentRight-item\"> <a href=\"http://centraldoanunciante.ig.com.br/\" target=\"_blank\" rel=\"noopener\" title=\"Anuncie no iG\">Anuncie no iG</a> </div> <div class=\"iGh__topBody-container-contentRight-item\"> <a href=\"https://igcorp.octadesk.com/kb/\" target=\"_blank\" rel=\"noopener\" title=\"Fale conosco\">Fale conosco</a> </div> </div> </div></div>\\n<div class=\"ig-container-header-minimal\">\\n<div class=\"headerMobile_container-navigation_menu-icon menu-abrir mobile\">\\n<input id=\"menu-hamburguer-mobile\" type=\"checkbox\" />\\n<label for=\"menu-hamburguer-mobile\">\\n<div class=\"menu menu-abrir\">\\n<span class=\"hamburguer\"></span>\\n</div>\\n</label>\\n</div>\\n<div class=\"ig-container-header-minimal-content\">\\n<div class=\"ig-container-header-minimal-canal-logIG\">\\n<a href=\"https://www.ig.com.br\" title=\"Portal iG\">\\n<div class=\"igLogo-branco\"></div>\\n</a>\\n</div>\\n<div class=\"ig-container-header-minimal-mail\">\\n<div class=\"ig-container-header-minimal-mail-icone\">\\n<a href=\"http://www.ig.com.br/assine\" rel=\"noopener\" target=\"_blank\" title=\"iG Mail\">\\n<img src=\"https://i0.statig.com.br/mobile/home-ig/images/close-envelope.svg\" width=\"20\" height=\"20\" alt=\"Icone de e-mail\" title=\"E-mail\" />\\n<p>iG Mail</p>\\n</a>\\n</div>\\n</div>\\n<h3 class=\"ig-container-header-minimal-canal\">\\n<a href=\"https://ultimosegundo.ig.com.br\" title=\"ultimosegundo\">Último Segundo</a>\\n</h3>\\n\\n<div id=\"oferecimento\"><div id=\"ad_microbanner\"></div></div><div id=\"busca\"><form lang=\"pt-br\" action=\"https://busca.ig.com.br/buscar\" method=\"get\" name=\"search\" id=\"buscaGoogle\" enctype=\"application/x-www-form-urlencoded\" accept-charset=\"UTF-8\"><fieldset><div class=\"botao-buscar\"><form action=\"\" role=\"search\" class=\"search-form\" id=\"frmBusca\"><input type=\"hidden\" name=\"id\" value=\"/busca\"><input type=\"hidden\" name=\"dinamico\" value=\"1\"><input type=\"submit\" value=\"\" class=\"search-submit\"> <label for=\"buscar\" class=\"visually-hidden\">Buscar</label><input type=\"search\" name=\"q\" id=\"buscar\" class=\"search-text \" placeholder=\"Buscar no iG\" autocomplete=\"off\" required=\"\"></form></div></fieldset></form></div>\\n\\n</div>\\n</div>\\n\\n<header class=\"main-header\">\\n\\n<div class=\"headerMobile\"><div class=\"headerMobile_container-navigation\"><div class=\"headerMobile_container-navigation_menu\"><div class=\"headerMobile_container-navigation_menu-icon menu-abrir\"><input id=\"menu-hamburguer\" type=\"checkbox\"><label for=\"menu-hamburguer\"><div class=\"menu menu-abrir\"><span class=\"hamburguer\"></span></div></label></div><nav class=\"barra-nav\"><div class=\"headerMobile_container-navigation_menu-icon menu-abrir\"><input id=\"menu-hamburguer-fechar\" type=\"checkbox\" checked><label for=\"menu-hamburguer-fechar\"><div class=\"menu menu-abrir\"><span class=\"hamburguer menu-aberto\"></span></div></label></div><div id=\"busca-mobile\"><form lang=\"pt-br\" action=\"https://busca.ig.com.br/buscar\" method=\"get\" name=\"search\" id=\"buscaGoogle-mobile\" enctype=\"application/x-www-form-urlencoded\" accept-charset=\"UTF-8\"><fieldset><div class=\"botao-buscar\"><form action=\"\" role=\"search\" class=\"search-form\" id=\"frmBusca-mobile\"><input type=\"hidden\" name=\"id\" value=\"/busca\"><input type=\"hidden\" name=\"dinamico\" value=\"1\"><input type=\"submit\" value=\"\" class=\"search-submit\"><label for=\"buscar-mobile\" class=\"visually-hidden\">Buscar</label><input type=\"search\" name=\"q\" id=\"buscar-mobile\" class=\"search-text\" placeholder=\"Buscar no iG\" autocomplete=\"off\" required=\"\"></form></div></fieldset></form></div><div class=\"barraNav-mail-icone\"><a href=\"#\"><img src=\"https://i0.statig.com.br/mobile/home-ig/images/close-envelope.svg\" width=\"21\" height=\"21\" alt=\"Icone de e-mail\" title=\"E-mail\"><p>iG Mail</p></a></div><ul class=\"channel-menu__menu level0\"><li class=\"channel-menu__menu-item\"><div class=\"channel-menu-itemContainer\"><a class=\"channel-menu__menu-link\" href=\"/brasil/\" title=\"Brasil\">Brasil</a><span class=\"sub-menu arrowMenu\"></span></div></li><li class=\"channel-menu__menu-item\"><div class=\"channel-menu-itemContainer\"><a class=\"channel-menu__menu-link\" href=\"https://ultimosegundo.ig.com.br/ciencia\" title=\"Ciência\" target=\"_blank\" rel=\"noopener\">Ciência</a><span class=\"sub-menu arrowMenu\"></span></div></li><li class=\"channel-menu__menu-item\"><div class=\"channel-menu-itemContainer\"><a class=\"channel-menu__menu-link\" href=\"/dino/\" title=\"Dino\">Dino</a><span class=\"sub-menu arrowMenu\"></span></div></li><li class=\"channel-menu__menu-item channel-menu__menu-item--has-children\"><div class=\"channel-menu-itemContainer\"><a class=\"channel-menu__menu-link\" href=\"/educacao/\" title=\"Educação\">Educação</a><span class=\"sub-menu arrowMenu\"></span></div><ul class=\"channel-menu__submenu level1\"><li class=\"channel-menu__submenu-item\"><div class=\"channel-menu-itemContainer\"><a class=\"channel-menu__submenu-link\" href=\"https://ultimosegundo.ig.com.br/educacao/enem/\" title=\"Enem\" target=\"_blank\" rel=\"noopener\">Enem</a><span class=\"sub-menu arrowMenu\"></span></div></li></ul></li><li class=\"channel-menu__menu-item\"><div class=\"channel-menu-itemContainer\"><a class=\"channel-menu__menu-link\" href=\"/eleicoes/\" title=\"Eleições\">Eleições</a><span class=\"sub-menu arrowMenu\"></span></div></li><li class=\"channel-menu__menu-item\"><div class=\"channel-menu-itemContainer\"><a class=\"channel-menu__menu-link\" href=\"/meioambiente/\" title=\"Meio Ambiente\">Meio Ambiente</a><span class=\"sub-menu arrowMenu\"></span></div></li><li class=\"channel-menu__menu-item\"><div class=\"channel-menu-itemContainer\"><a class=\"channel-menu__menu-link\" href=\"/mundo/\" title=\"Mundo\">Mundo</a><span class=\"sub-menu arrowMenu\"></span></div></li><li class=\"channel-menu__menu-item\"><div class=\"channel-menu-itemContainer\"><a class=\"channel-menu__menu-link\" href=\"/mundo/mundo-insolito/\" title=\"Mundo Insólito\">Mundo Insólito</a><span class=\"sub-menu arrowMenu\"></span></div></li><li class=\"channel-menu__menu-item\"><div class=\"channel-menu-itemContainer\"><a class=\"channel-menu__menu-link\" href=\"/policia/\" title=\"Polícia\">Polícia</a><span class=\"sub-menu arrowMenu\"></span></div></li><li class=\"channel-menu__menu-item\"><div class=\"channel-menu-itemContainer\"><a class=\"channel-menu__menu-link\" href=\"/politica/\" title=\"Política\">Política</a><span class=\"sub-menu arrowMenu\"></span></div></li><li class=\"channel-menu__menu-item\"><div class=\"channel-menu-itemContainer\"><a class=\"channel-menu__menu-link\" href=\"http://saude.ig.com.br/\" title=\"Saúde\" target=\"_blank\" rel=\"noopener\">Saúde</a><span class=\"sub-menu arrowMenu\"></span></div></li><li class=\"channel-menu__menu-item\"><div class=\"channel-menu-itemContainer\"><a class=\"channel-menu__menu-link\" href=\"/noticias/\" title=\"Últimas notícias\">Últimas notícias</a><span class=\"sub-menu arrowMenu\"></span></div></li><li class=\"channel-menu__menu-item channel-menu__menu-item--has-children\"><div class=\"channel-menu-itemContainer\"><a class=\"channel-menu__menu-link\" href=\"https://ultimosegundo.ig.com.br/colunas/\" title=\"+Sites, Blogs e Colunas\" target=\"_blank\" rel=\"noopener\">+Sites, Blogs e Colunas</a><span class=\"sub-menu arrowMenu\"></span></div><ul class=\"channel-menu__submenu level1\"><li class=\"channel-menu__submenu-item\"><div class=\"channel-menu-itemContainer\"><a class=\"channel-menu__submenu-link\" href=\"http://odia.ig.com.br\" title=\"O Dia/Rio\" target=\"_blank\" rel=\"noopener\">O Dia/Rio</a><span class=\"sub-menu arrowMenu\"></span></div></li><li class=\"channel-menu__submenu-item\"><div class=\"channel-menu-itemContainer\"><a class=\"channel-menu__submenu-link\" href=\"http://meiahora.ig.com.br/\" title=\"Meia Hora\" target=\"_blank\" rel=\"noopener\">Meia Hora</a><span class=\"sub-menu arrowMenu\"></span></div></li><li class=\"channel-menu__submenu-item\"><div class=\"channel-menu-itemContainer\"><a class=\"channel-menu__submenu-link\" href=\"/colunas/blog-esplanada/\" title=\"Blog Coluna Esplanada\">Blog Coluna Esplanada</a><span class=\"sub-menu arrowMenu\"></span></div></li><li class=\"channel-menu__submenu-item\"><div class=\"channel-menu-itemContainer\"><a class=\"channel-menu__submenu-link\" href=\"/colunas/caminho-da-sabedoria/\" title=\"Caminho da sabedoria\">Caminho da sabedoria</a><span class=\"sub-menu arrowMenu\"></span></div></li><li class=\"channel-menu__submenu-item\"><div class=\"channel-menu-itemContainer\"><a class=\"channel-menu__submenu-link\" href=\"/colunistas/claudiocarvalho/\" title=\"Cláudio Carvalho\">Cláudio Carvalho</a><span class=\"sub-menu arrowMenu\"></span></div></li><li class=\"channel-menu__submenu-item\"><div class=\"channel-menu-itemContainer\"><a class=\"channel-menu__submenu-link\" href=\"/colunas/conhecer-para-incluir/\" title=\"Conhecer para Incluir\">Conhecer para Incluir</a><span class=\"sub-menu arrowMenu\"></span></div></li><li class=\"channel-menu__submenu-item\"><div class=\"channel-menu-itemContainer\"><a class=\"channel-menu__submenu-link\" href=\"/colunas/coluna-vertebral/\" title=\"Coluna Vertebral\">Coluna Vertebral</a><span class=\"sub-menu arrowMenu\"></span></div></li><li class=\"channel-menu__submenu-item\"><div class=\"channel-menu-itemContainer\"><a class=\"channel-menu__submenu-link\" href=\"/colunas/crusoe/\" title=\"Crusoé\">Crusoé</a><span class=\"sub-menu arrowMenu\"></span></div></li><li class=\"channel-menu__submenu-item\"><div class=\"channel-menu-itemContainer\"><a class=\"channel-menu__submenu-link\" href=\"/colunas/e-do-jogo\" title=\"É do Jogo\" target=\"_blank\" rel=\"noopener\">É do Jogo</a><span class=\"sub-menu arrowMenu\"></span></div></li><li class=\"channel-menu__submenu-item\"><div class=\"channel-menu-itemContainer\"><a class=\"channel-menu__submenu-link\" href=\"/colunas/informe-do-dia/\" title=\"Informe do Dia\">Informe do Dia</a><span class=\"sub-menu arrowMenu\"></span></div></li><li class=\"channel-menu__submenu-item\"><div class=\"channel-menu-itemContainer\"><a class=\"channel-menu__submenu-link\" href=\"/colunas/mundo-decifrado\" title=\"Mundo Decifrado\" target=\"_blank\" rel=\"noopener\">Mundo Decifrado</a><span class=\"sub-menu arrowMenu\"></span></div></li><li class=\"channel-menu__submenu-item\"><div class=\"channel-menu-itemContainer\"><a class=\"channel-menu__submenu-link\" href=\"/colunas/nuno-vasconcellos/\" title=\"Nuno Vasconcellos\">Nuno Vasconcellos</a><span class=\"sub-menu arrowMenu\"></span></div></li><li class=\"channel-menu__submenu-item\"><div class=\"channel-menu-itemContainer\"><a class=\"channel-menu__submenu-link\" href=\"/mundo/mundo-insolito/obutecodanet/\" title=\"O Buteco da Net\">O Buteco da Net</a><span class=\"sub-menu arrowMenu\"></span></div></li><li class=\"channel-menu__submenu-item\"><div class=\"channel-menu-itemContainer\"><a class=\"channel-menu__submenu-link\" href=\"/colunas/oantagonista/\" title=\"O Antagonista\">O Antagonista</a><span class=\"sub-menu arrowMenu\"></span></div></li></ul></li></ul><div class=\"headerMobile_container-navigation_redesSociais_mobile\"><div class=\"headerMobile_container-navigation_redesSociais-icons\"><a href=\"https://www.facebook.com/ig\" target=\"_blank\" rel=\"noopener\" class=\"facebook\" title=\"facebook\"><img src=\"https://i0.statig.com.br/assets/v5/icones/facebook-branco.svg\" width=\"25\" height=\"25\" alt=\"facebook\" title=\"facebook\"></a><a href=\"https://www.twitter.com/iG\" target=\"_blank\" rel=\"noopener\" class=\"twitter\" title=\"twitter\"><img src=\"https://i0.statig.com.br/assets/v5/icones/twitter-branco.svg\" width=\"25\" height=\"25\" alt=\"twitter\" title=\"twitter\"></a><a href=\"https://www.instagram.com/portal_ig/\" target=\"_blank\" rel=\"noopener\" class=\"instagram\" title=\"instagram\"><img src=\"https://i0.statig.com.br/assets/v5/icones/instagram-branco.svg\" width=\"25\" height=\"25\" alt=\"instagram\" title=\"instagram\"></a></div></div></nav></div><div class=\"headerMobile_container-navigation_canais\"><ul class=\"headerMobile_container-navigation_canais_items\"><li class=\"headerMobile_container-navigation_canais_items_item hasChild\"><a href=\"https://ultimosegundo.ig.com.br\" class=\"ultimo-segundo\" title=\"Último Segundo\">Último Segundo</a><ul class=\"headerMobile_container-navigation_canais_items_item_submenu ultimo-segundo\"><li><a href=\"https://ultimosegundo.ig.com.br/brasil/\" title=\"Brasil\">Brasil</a></li><li><a href=\"https://ultimosegundo.ig.com.br/ciencia/\" title=\"Ciência\">Ciência</a></li><li><a href=\"https://ultimosegundo.ig.com.br/meioambiente/\" title=\"Meio ambiente”\">Meio ambiente</a></li><li><a href=\"https://dino.ig.com.br/\" title=\"Dino\">Dino</a></li><li class=\"hasSubitems\"><a href=\"https://ultimosegundo.ig.com.br/educacao/\" title=\"Educação\">Educação</a><ul class=\"hasSubitems_subItems\"><li class=\"hasSubitems_subItems_item\"><a href=\"https://ultimosegundo.ig.com.br/educacao/enem/\" title=\"Enem\">Enem</a></li></ul></li><li><a href=\"https://ultimosegundo.ig.com.br/mundo/\" title=\"Mundo\">Mundo</a></li><li><a href=\"https://ultimosegundo.ig.com.br/mundo/mundo-insolito/\" title=\"Mundo insólito\">Mundo insólito</a></li><li><a href=\"https://ultimosegundo.ig.com.br/policia/\" title=\"Polícia\">Polícia</a></li><li><a href=\"https://ultimosegundo.ig.com.br/politica/\" title=\"Política\">Política</a></li><li><a href=\"https://saude.ig.com.br/\" title=\"Saúde\">Saúde</a></li><li><a href=\"https://ultimosegundo.ig.com.br/noticias/\" title=\"Últimas Notícias\">Últimas Notícias</a></li><li class=\"hasSubitems\"><a href=\"https://ultimosegundo.ig.com.br/colunas/\" title=\"+Sites, Blogs e Colunas\">+Sites, Blogs e Colunas</a><ul class=\"hasSubitems_subItems\"><li class=\"hasSubitems_subItems_item\"><a href=\"https://odia.ig.com.br\" title=\"O Dia/Rio\">O Dia/Rio</a></li><li class=\"hasSubitems_subItems_item\"><a href=\"https://www.meiahora.com.br/\" target=\"_blank\" rel=\"noopener\" title=\"Meia Hora\">Meia Hora</a></li><li class=\"hasSubitems_subItems_item\"><a href=\"https://ultimosegundo.ig.com.br/colunistas/claudiocarvalho/\" title=\"Cláudio Carvalho\">Cláudio Carvalho</a></li><li class=\"hasSubitems_subItems_item\"><a href=\"https://ultimosegundo.ig.com.br/colunas/crusoe/\" title=\"Crusoé\">Crusoé</a></li><li class=\"hasSubitems_subItems_item\"><a href=\"https://ultimosegundo.ig.com.br/colunas/mundo-decifrado\" title=\"Mundo Decifrado\">Mundo Decifrado</a></li><li class=\"hasSubitems_subItems_item\"><a href=\"https://ultimosegundo.ig.com.br/colunas/nuno-vasconcellos/\" title=\"Nuno Vasconcellos\">Nuno Vasconcellos</a></li><li class=\"hasSubitems_subItems_item\"><a href=\"https://ultimosegundo.ig.com.br/colunas/oantagonista/\" title=\"O Antagonista\">O Antagonista</a></li><li class=\"hasSubitems_subItems_item\"><a href=\"http://www.revistaforum.com.br/\" target=\"_blank\" rel=\"noopener\" title=\"Revista Forum\">Revista Forum</a></li><li class=\"hasSubitems_subItems_item\"><a href=\"https://www.diariodocentrodomundo.com.br/\" target=\"_blank\" rel=\"noopener\" title=\"Diário do Centro do Mundo\">Diário do Centro do Mundo</a></li><li class=\"hasSubitems_subItems_item\"><a href=\"https://ultimosegundo.ig.com.br/colunas/conhecer-para-incluir/\" title=\"Conhecer para Incluir\">Conhecer para Incluir</a></li><li class=\"hasSubitems_subItems_item\"><a href=\"https://eltoro.ig.com.br/\" title=\"El Toro TV - La España que quieres\">El Toro TV- La España que quieres</a></li></ul></li></ul></li><li class=\"headerMobile_container-navigation_canais_items_item hasChild\"><a href=\"https://economia.ig.com.br\" class=\"economia\" title=\"Economia\">Economia</a><ul class=\"headerMobile_container-navigation_canais_items_item_submenu economia\"><li><a href=\"https://economia.ig.com.br/agronegocio/\" title=\"Agronegócio\">Agronegócio</a></li><li><a href=\"https://economia.ig.com.br/mercados/\" title=\"Mercados\">Mercados</a></li><li><a href=\"https://economia.ig.com.br/criptomoedas/\" title=\"Criptomoedas\">Criptomoedas</a></li><li><a href=\"https://economia.ig.com.br/financas/\" title=\"Finanças Pessoais\">Finanças Pessoais</a></li><li><a href=\"https://economia.ig.com.br/previdencia/\" title=\"Previdência\">Previdência</a></li><li><a href=\"https://economia.ig.com.br/financas/impostoderenda/\" title=\"Imposto de Renda\">Imposto de Renda</a></li> <li><a href=\"https://empreendaexito.ig.com.br/\" title=\"iG Empreenda com Êxito\">iG Empreenda com Êxito</a></li><li><a href=\"https://economia.ig.com.br/noticias/\" title=\"Últimas Notícias\">Últimas Notícias</a></li><li class=\"hasSubitems\"><a href=\"https://economia.ig.com.br/colunas\" title=\"+Sites, Blogs e Colunas\">+Sites, Blogs e Colunas</a><ul class=\"hasSubitems_subItems\"><li class=\"hasSubitems_subItems_item\"><a href=\"https://economia.ig.com.br/1bilhao/\" title=\"1 Bilhão\">1 Bilhão</a></li><li class=\"hasSubitems_subItems_item\"><a href=\"https://www.infomoney.com.br/\" target=\"_blank\" rel=\"noopener\" title=\"InfoMoney\">InfoMoney</a></li></ul></li></ul></li><li class=\"headerMobile_container-navigation_canais_items_item\"><a href=\"https://queer.ig.com.br/\" class=\"queer\" title=\"Queer\">Queer</a></li><li class=\"headerMobile_container-navigation_canais_items_item hasChild\"><a href=\"https://gente.ig.com.br/\" class=\"gente\" title=\"Gente\">Gente</a><ul class=\"headerMobile_container-navigation_canais_items_item_submenu gente\"><li><a href=\"https://gente.ig.com.br/cultura/\" title=\"Cultura\">Cultura</a></li><li><a href=\"https://gente.ig.com.br/celebridades/\" title=\"Celebridades\">Celebridades</a></li><li><a href=\"https://gente.ig.com.br/fofocas-famosos/\" title=\"Fofoca dos famosos\">Fofoca dos famosos</a></li><li><a href=\"https://gente.ig.com.br/tvenovela/\" title=\"TV & Novelas\">TV & Novelas</a></li><li><a href=\"https://gente.ig.com.br/noticias/\" title=\"Últimas Notícias\">Últimas Notícias</a></li><li class=\"hasSubitems\"><a href=\"https://gente.ig.com.br/colunas/\" title=\"+Sites, Blogs e Colunas\">+Sites, Blogs e Colunas</a><ul class=\"hasSubitems_subItems\"><li class=\"hasSubitems_subItems_item\"><a href=\"https://www.heloisatolipan.com.br/\" target=\"_blank\" rel=\"noopener\" title=\"Heloisa Tolipan\">Heloisa Tolipan</a></li><li class=\"hasSubitems_subItems_item\"><a href=\"https://inmagazine.ig.com.br/\" target=\"_blank\" rel=\"noopener\" title=\"In Magazine\">In Magazine</a></li><li class=\"hasSubitems_subItems_item\"><a href=\"https://br.jetss.com/\" target=\"_blank\" rel=\"noopener\" title=\"Jetss\">Jetss</a></li><li class=\"hasSubitems_subItems_item\"><a href=\"https://lobianco.ig.com.br/\" title=\"Lo Bianco\">Lo Bianco</a></li><li class=\"hasSubitems_subItems_item\"><a href=\"https://lulacerda.ig.com.br/\" title=\"Lú Lacerda\">Lú Lacerda</a></li><li class=\"hasSubitems_subItems_item\"><a href=\"https://gente.ig.com.br/colunas/marcelo-bandeira\" title=\"Marcelo Bandeira\">Marcelo Bandeira</a></li><li class=\"hasSubitems_subItems_item\"><a href=\"https://gente.ig.com.br/colunas/quarta-capa-por-elisa-dinis/\" title=\"Quarta Capa por Elisa Dinis\">Quarta Capa por Elisa Dinis</a></li><li class=\"hasSubitems_subItems_item\"><a href=\"https://gente.ig.com.br/colunas/musicjournal/\" title=\"The Music Journal Brazil\">The Music Journal Brazil</a></li><li class=\"hasSubitems_subItems_item\"><a href=\"https://www.otvfoco.com.br/\" target=\"_blank\" rel=\"noopener\" title=\"O Tv Foco\">O Tv Foco</a></li><li class=\"hasSubitems_subItems_item\"><a href=\"https://obutecodanet.ig.com.br/\" title=\"O Buteco da Net\">O Buteco da Net</a></li><li class=\"hasSubitems_subItems_item\"><a href=\"https://www.elhombre.com.br/\" target=\"_blank\" rel=\"noopener\" title=\"El Hombre \">El Hombre </a></li></ul></li></ul></li><li class=\"headerMobile_container-navigation_canais_items_item hasChild\"><a href=\"https://delas.ig.com.br/\" class=\"pra-voce\" title=\"Delas\">Delas</a><ul class=\"headerMobile_container-navigation_canais_items_item_submenu pra-voce\"><li><a href=\"https://delas.ig.com.br/amoresexo/\" title=\"Amor e Sexo\">Amor e Sexo</a></li><li><a href=\"https://delas.ig.com.br/alimentacao-e-bem-estar/\" title=\"Alimentação e Bem-estar\">Alimentação e Bem-estar</a></li><li><a href=\"https://delas.ig.com.br/beleza/\" title=\"Beleza\">Beleza</a></li><li><a href=\"https://delas.ig.com.br/casa/\" title=\"Casa\">Casa</a></li><li><a href=\"https://delas.ig.com.br/filhos/\" title=\"Filhos\">Filhos</a></li><li class=\"hasSubitems\"><a href=\"https://delas.ig.com.br/horoscopo/\" title=\"Horóscopo\">Horóscopo</a><ul class=\"hasSubitems_subItems\"><li class=\"hasSubitems_subItems_item\"><a href=\"https://delas.ig.com.br/horoscopo/sinastria/\" title=\"Sinastria Amorosa\">Sinastria Amorosa</a></li><li class=\"hasSubitems_subItems_item\"><a href=\"https://delas.ig.com.br/comportamento/simpatias/\" title=\"Simpatias\">Simpatias</a></li><li class=\"hasSubitems_subItems_item\"><a href=\"https://delas.ig.com.br/colunas/previsao-e-astros/\" title=\"Previsão e Astros\">Previsão e Astros</a></li></ul></li><li><a href=\"https://delas.ig.com.br/moda/\" title=\"Moda\">Moda</a></li><li><a href=\"https://delas.ig.com.br/noivas/\" title=\"Noivas\">Noivas</a></li><li><a href=\"https://delas.ig.com.br/noticias\" title=\"Últimas Notícias\">Últimas Notícias</a></li><li class=\"hasSubitems\"><a href=\"https://delas.ig.com.br/colunas/\" title=\"+Sites, Blogs e Colunas\">+Sites, Blogs e Colunas</a><ul class=\"hasSubitems_subItems\"><li class=\"hasSubitems_subItems_item\"><a href=\"https://delas.ig.com.br/parceiros/altoastral/\" title=\"Alto Astral\">Alto Astral</a></li><li class=\"hasSubitems_subItems_item\"><a href=\"https://www.ativo.com/\" target=\"_blank\" rel=\"noopener\" title=\"Ativo\">Ativo</a></li><li class=\"hasSubitems_subItems_item\"><a href=\"https://decorstyle.ig.com.br/\" title=\"DecorStyle\">DecorStyle</a></li><li class=\"hasSubitems_subItems_item\"><a href=\"https://desejoluxo.ig.com.br/\" title=\"Desejo&Luxo\">Desejo&Luxo</a></li><li class=\"hasSubitems_subItems_item\"><a href=\"https://receitas.ig.com.br/guiadacozinha/\" title=\"Guia da Cozinha\">Guia da Cozinha</a></li><li class=\"hasSubitems_subItems_item\"><a href=\"https://delas.ig.com.br/parceiros/joaobidu/\" title=\"João Bidu\">João Bidu</a></li><li class=\"hasSubitems_subItems_item\"><a href=\"https://delas.ig.com.br/colunas/mae-na-real/\" title=\"Mãe na Real\">Mãe na Real</a></li><li class=\"hasSubitems_subItems_item\"><a href=\"https://delas.ig.com.br/colunas/previsao-e-astros/\" title=\"Previsão e Astros\">Previsão e Astros</a></li><li class=\"hasSubitems_subItems_item\"><a href=\"https://salad3.ig.com.br/\" title=\"Salad3\">Salad3</a></li><li class=\"hasSubitems_subItems_item\"><a href=\"https://superela.com/\" target=\"_blank\" rel=\"noopener\" title=\"Superela\">SuperEla</a></li></ul></li></ul></li><li class=\"headerMobile_container-navigation_canais_items_item hasChild\"><a href=\"https://esporte.ig.com.br\" class=\"esporte\" title=\"Esporte\">Esporte</a><ul class=\"headerMobile_container-navigation_canais_items_item_submenu esporte\"><li><a class=\"fontSubMenu\" href=\"https://esporte.ig.com.br/\" title=\"HOME\">Home</a></li><li><a href=\"https://esporte.ig.com.br/futebol/\" title=\"Futebol Nacional\">Futebol Nacional</a></li><li><a href=\"https://esporte.ig.com.br/futebol/internacional/\" title=\"Futebol Internacional\">Futebol Internacional</a></li><li><a href=\"https://esporte.ig.com.br/olimpiadas/\" title=\"Olimpíadas\">Olimpíadas</a></li><li><a href=\"https://esporte.ig.com.br/futebol/selecaobrasileira/\" title=\"Seleções\">Seleções</a></li><li class=\"hasSubitems\"><a href=\"https://esporte.ig.com.br/maisesportes/\" title=\"Mais esportes\">Mais esportes</a><ul class=\"hasSubitems_subItems\"><li class=\"hasSubitems_subItems_item\"><a href=\"http://esporte.ig.com.br/basquete\" title=\"Basquete\">Basquete</a></li><li class=\"hasSubitems_subItems_item\"><a href=\"https://esporte.ig.com.br/maisesportes/esportes-americanos/\" title=\"Esportes Americanos\">Esportes Americanos</a></li><li class=\"hasSubitems_subItems_item\"><a href=\"http://esporte.ig.com.br/automobilismo\" title=\"Fórmula 1\">Fórmula 1</a></li><li class=\"hasSubitems_subItems_item\"><a href=\"http://esporte.ig.com.br/lutas\" title=\"Lutas\">Lutas</a></li><li class=\"hasSubitems_subItems_item\"><a href=\"http://esporte.ig.com.br/maisesportes/surfe/\" title=\"Surfe\">Surfe</a></li><li class=\"hasSubitems_subItems_item\"><a href=\"http://esporte.ig.com.br/tenis\" title=\"Tênis\">Tênis</a></li><li class=\"hasSubitems_subItems_item\"><a href=\"http://esporte.ig.com.br/volei\" title=\"Vôlei\">Vôlei</a></li></ul></li><li><a href=\"https://esporte.ig.com.br/fotos/\" title=\"Galeria de Fotos\">Galeria de Fotos</a></li><li><a href=\"https://esporte.ig.com.br/noticias/\" title=\"Últimas Notícias\">Últimas Notícias</a></li><li class=\"hasSubitems\"><a href=\"https://esporte.ig.com.br/colunas/\" title=\"+Sites, Blogs e Colunas\">+Sites, Blogs e Colunas</a><ul class=\"hasSubitems_subItems\"><li class=\"hasSubitems_subItems_item\"><a href=\"https://www.radaresportes.ig.com.br/\" title=\"Radar Esportes\">Radar Esportes</a></li></ul></li></ul></li><li class=\"headerMobile_container-navigation_canais_items_item\"><a href=\"https://carros.ig.com.br/\" class=\"carros\" title=\"Carros\">Carros</a></li><li class=\"headerMobile_container-navigation_canais_items_item hasChild\"><a href=\"https://canaldopet.ig.com.br\" class=\"pets\" title=\"Pets\">Pets</a><ul class=\"headerMobile_container-navigation_canais_items_item_submenu pets\"><li class=\"hasSubitems\"><a href=\"https://canaldopet.ig.com.br/guia-bichos/\" title=\"Guia de Bichos\">Guia de Bichos</a><ul class=\"hasSubitems_subItems\"><li class=\"hasSubitems_subItems_item\"><a href=\"https://canaldopet.ig.com.br/guia-bichos/cachorros/\" title=\"Cachorros\">Cachorros</a></li><li class=\"hasSubitems_subItems_item\"><a href=\"https://canaldopet.ig.com.br/guia-bichos/gatos/\" title=\"Gatos\">Gatos</a></li><li class=\"hasSubitems_subItems_item\"><a href=\"https://canaldopet.ig.com.br/guia-bichos/peixes/\" title=\"Peixes\">Peixes</a></li><li class=\"hasSubitems_subItems_item\"><a href=\"https://canaldopet.ig.com.br/guia-bichos/passaros/\" title=\"Pássaros\">Pássaros</a></li><li class=\"hasSubitems_subItems_item\"><a href=\"https://canaldopet.ig.com.br/guia-bichos/exoticos/\" title=\"Exóticos\">Exóticos</a></li></ul></li><li class=\"hasSubitems\"><a href=\"https://canaldopet.ig.com.br/cuidados/\" title=\"Cuidados\">Cuidados</a><ul class=\"hasSubitems_subItems\"><li class=\"hasSubitems_subItems_item\"><a href=\"https://canaldopet.ig.com.br/cuidados/comidas/\" title=\"Comidas\">Comidas</a></li><li class=\"hasSubitems_subItems_item\"><a href=\"https://canaldopet.ig.com.br/cuidados/saude/\" title=\"Saúde\">Saúde</a></li><li class=\"hasSubitems_subItems_item\"><a href=\"https://canaldopet.ig.com.br/cuidados/dicas/\" title=\"Dicas\">Dicas</a></li></ul></li><li class=\"hasSubitems\"><a href=\"https://canaldopet.ig.com.br/curiosidades/\" title=\"Curiosidades\">Curiosidades</a><ul class=\"hasSubitems_subItems\"><li class=\"hasSubitems_subItems_item\"><a href=\"https://canaldopet.ig.com.br/curiosidades/racas/\" title=\"Raças\">Raças</a></li><li class=\"hasSubitems_subItems_item\"><a href=\"https://canaldopet.ig.com.br/curiosidades/especiais/\" title=\"Especiais\">Especiais</a></li><li class=\"hasSubitems_subItems_item\"><a href=\"https://canaldopet.ig.com.br/curiosidades/videos/\" title=\"Vídeos\">Vídeos</a></li></ul></li><li class=\"hasSubitems\"><a href=\"https://canaldopet.ig.com.br/adestramento/\" title=\"Adestramento\">Adestramento</a><ul class=\"hasSubitems_subItems\"><li class=\"hasSubitems_subItems_item\"><a href=\"https://canaldopet.ig.com.br/adestramento/dicas/\" title=\"Dicas\">Dicas</a></li><li class=\"hasSubitems_subItems_item\"><a href=\"https://canaldopet.ig.com.br/adestramento/comportamento/\" title=\"Comportamento\">Comportamento</a></li><li class=\"hasSubitems_subItems_item\"><a href=\"https://canaldopet.ig.com.br/adestramento/psicologia/\" title=\"Psicologia\">Psicologia</a></li><li class=\"hasSubitems_subItems_item\"><a href=\"http://www.caocidadao.com.br/?utm_source=portalig&utm_medium=canalig&utm_campaign=ig\" target=\"_blank\" rel=\"noopener\" title=\"Cão Cidadão\">Cão Cidadão</a></li></ul></li><li class=\"hasSubitems\"><a href=\"https://canaldopet.ig.com.br/servicos/adocao/\" title=\"Serviços\">Serviços</a><ul class=\"hasSubitems_subItems\"><li class=\"hasSubitems_subItems_item\"><a href=\"https://canaldopet.ig.com.br/servicos/adocao/\" title=\"Adoção\">Adoção</a></li></ul></li><li class=\"hasSubitems\"><a href=\"https://canaldopet.ig.com.br/colunas/\" title=\"+Sites, Blogs e Colunas\">+Sites, Blogs e Colunas</a><ul class=\"hasSubitems_subItems\"></ul></li></ul></li><li class=\"headerMobile_container-navigation_canais_items_item hasChild\"><a href=\"https://saude.ig.com.br/\" class=\"saude\" title=\"Saúde\">Saúde</a><ul class=\"headerMobile_container-navigation_canais_items_item_submenu saude\"><li><a href=\"https://saude.ig.com.br/especiais/semana-da-saude\" title=\"Semana da Saúde\">Semana da Saúde</a></li><li><a href=\"https://saude.ig.com.br/coronavirus/\" title=\"Coronavírus\">Coronavírus</a></li><li><a href=\"https://saude.ig.com.br/alimentacao/dieta/\" title=\"Programas de Dieta\">Programas de Dieta</a></li><li><a href=\"https://saude.ig.com.br/bemestar/exercicios/\" title=\"Programa de Exercícios\">Programa de Exercícios</a></li><li><a href=\"https://saude.ig.com.br/minhasaude/\" title=\"Minha saúde\">Minha saúde</a></li><li class=\"hasSubitems\"><a href=\"https://saude.ig.com.br/colunas/\" title=\"+Sites, Blogs e Colunas\">+Sites, Blogs e Colunas</a><ul class=\"hasSubitems_subItems\"><li class=\"hasSubitems_subItems_item\"><a href=\"https://www.ativo.com/\" target=\"_blank\" rel=\"noopener\" title=\"Ativo\">Ativo</a></li><li class=\"hasSubitems_subItems_item\"><a href=\"https://saude.ig.com.br/colunas/bruno-puglisi-odontologia/\" title=\"Bruno Puglisi - Odontologia\">Bruno Puglisi - Odontologia</a></li><li class=\"hasSubitems_subItems_item\"><a href=\"https://vivainforma.ig.com.br/\" title=\"Viva Informa\">Viva Informa</a></li></ul></li></ul></li><li class=\"headerMobile_container-navigation_canais_items_item hasChild\"><a href=\"https://tecnologia.ig.com.br\" class=\"tecnologia\" title=\"Tec\">Tec</a><ul class=\"headerMobile_container-navigation_canais_items_item_submenu tecnologia\"><li><a href=\"https://tecnologia.ig.com.br/celulares/\" title=\"Celulares\">Celulares</a></li><li><a href=\"https://tecnologia.ig.com.br/dicas/\" title=\"Dicas\">Dicas</a></li><li><a href=\"https://igames.ig.com.br/\" title=\"eGames\">eGames</a></li><li><a href=\"https://tecnologia.ig.com.br/analise/\" title=\"Reviews\">Reviews</a></li><li><a href=\"https://tecnologia.ig.com.br/noticias/\" title=\"Últimas Notícias\">Últimas Notícias</a></li><li class=\"hasSubitems\"><a href=\"https://tecnologia.ig.com.br/\" title=\"+Sites, Blogs e Colunas\">+Sites, Blogs e Colunas</a><ul class=\"hasSubitems_subItems\"><li class=\"hasSubitems_subItems_item\"><a href=\"https://tecnologia.ig.com.br/colunas/internet-sem-aspas/\" title=\"Internet sem aspas\">Internet sem aspas</a></li><li class=\"hasSubitems_subItems_item\"><a href=\"https://olhardigital.com.br/\" target=\"_blank\" rel=\"noopener\" title=\"Olhar Digital\">Olhar Digital</a></li><li class=\"hasSubitems_subItems_item\"><a href=\"https://tecnoblog.net/\" target=\"_blank\" rel=\"noopener\" title=\"Tecnoblog\">Tecnoblog</a></li></ul></li><li class=\"hasSubitems\"><a href=\"https://www.ig.com.br/cupons\" title=\"Cupons\">Cupons</a><ul class=\"hasSubitems_subItems\"><li class=\"hasSubitems_subItems_item\"><a href=\"https://www.ig.com.br/cupons/cupom-desconto-saraiva\" title=\"Saraiva\">Saraiva</a></li><li class=\"hasSubitems_subItems_item\"><a href=\"https://www.ig.com.br/cupons/descontos-ponto-frio\" title=\"Ponto Frio\">Ponto Frio</a></li><li class=\"hasSubitems_subItems_item\"><a href=\"https://www.ig.com.br/cupons/cupom-de-desconto-extra\" title=\"Extra\">Extra</a></li></ul></li></ul></li><li class=\"headerMobile_container-navigation_canais_items_item hasChild\"><a href=\"https://turismo.ig.com.br/\" class=\"turismo\" title=\"Turismo\">Turismo</a></li><li class=\"headerMobile_container-navigation_canais_items_item hasChild\"><a href=\"#\" class=\"sua-cidade\" title=\"Cidades\">Cidades</a><ul class=\"headerMobile_container-navigation_canais_items_item_submenu sua-cidade\"><li><a href=\"https://campinas.ig.com.br/\" title=\"Campinas\">Campinas</a></li><li><a href=\"https://guarulhos.ig.com.br/\" title=\"Guarulhos\">Guarulhos</a></li><li><a href=\"https://alphaville.ig.com.br/\" title=\"Alphaville\">Alphaville</a></li><li><a href=\"https://aracatuba.ig.com.br/\" title=\"Araçatuba\">Araçatuba</a></li><li><a href=\"https://araraquara.ig.com.br/\" title=\"Araraquara\">Araraquara</a></li><li><a href=\"https://catanduva.ig.com.br/\" title=\"Catanduva\">Catanduva</a></li><li><a href=\"https://indaiatuba.ig.com.br/\" title=\"Indaiatuba\">Indaiatuba</a></li><li><a href=\"https://litoralnorte.ig.com.br/\" title=\"Litoral Norte\">Litoral Norte</a></li><li><a href=\"https://mirassol.ig.com.br/\" title=\"Mirassol\">Mirassol</a></li><li><a href=\"https://praiagrande.ig.com.br/\" title=\"Praia Grande\">Praia Grande</a></li><li><a href=\"https://ribeiraopreto.ig.com.br/\" title=\"Ribeirão Preto\">Ribeirão Preto</a></li><li><a href=\"https://riopreto.ig.com.br/\" title=\"São José do Rio Preto\">São José do Rio Preto</a></li><li><a href=\"https://santos.ig.com.br/\" title=\"Santos\">Santos</a></li><li><a href=\"https://saocarlos.ig.com.br/\" title=\"São Carlos\">São Carlos</a></li><li><a href=\"https://sorocaba.ig.com.br/\" title=\"Sorocaba\">Sorocaba</a></li><li><a href=\"https://tocantins.ig.com.br/\" title=\"Tocantins\">Tocantins</a></li></ul></li><li class=\"headerMobile_container-navigation_canais_items_item hasChild\"><a href=\"https://igmais.ig.com.br\" class=\"igmais\" title=\"iG Mais\">iG Mais</a><ul class=\"headerMobile_container-navigation_canais_items_item_submenu igmais\"><li><a href=\"https://igmais.ig.com.br/prnewswire/\" title=\"PR Newswire\">PR Newswire</a></li></ul></li><li class=\"headerMobile_container-navigation_canais_items_item hasChild\"><a href=\"http://produtos.ig.com.br/\" class=\"ig-produtos\" title=\"iG produtos\">iG produtos</a><ul class=\"headerMobile_container-navigation_canais_items_item_submenu ig-produtos\"><li><a href=\"https://pet.ig.com.br/?utm_source=home&utm_medium=menuigprodutos\" title=\"iG Pet Saúde\">iG Pet Saúde</a></li><li><a href=\"https://seguranca.ig.com.br/?utm_source=home&utm_medium=menuigprodutos\" title=\"iG Segurança Digital\">iG Segurança Digital</a></li><li><a href=\"https://creditos.ig.com.br/?utm_source=home&utm_medium=menuigprodutos\" title=\"iG Créditos\">iG Créditos</a></li><li><a href=\"https://www.ig.com.br/cupons/?utm_source=home&utm_medium=menuigprodutos\" title=\"iG Cupons\">iG Cupons</a></li><li><a href=\"https://jogueaqui.ig.com.br/?utm_source=home&utm_medium=menuigprodutos\" title=\"Jogue Aqui\">Jogue Aqui</a></li></ul></li></ul></div><div class=\"headerMobile_container-navigation_redesSociais\"><div class=\"headerMobile_container-navigation_redesSociais-icons\"><a href=\"https://www.facebook.com/ig\" target=\"_blank\" rel=\"noopener\" class=\"facebook\" title=\"facebook\"><img src=\"https://i0.statig.com.br/assets/v5/icones/facebook-brown.svg\" width=\"25\" height=\"25\" alt=\"facebook\" title=\"facebook\"></a><a href=\"https://www.twitter.com/iG\" target=\"_blank\" rel=\"noopener\" class=\"twitter\" title=\"twitter\"><img src=\"https://i0.statig.com.br/assets/v5/icones/twitter-brown.svg\" width=\"25\" height=\"25\" alt=\"twitter\" title=\"twitter\"></a><a href=\"https://www.instagram.com/portal_ig/\" target=\"_blank\" rel=\"noopener\" class=\"instagram\" title=\"instagram\"><img src=\"https://i0.statig.com.br/assets/v5/icones/instagram-brown.svg\" width=\"25\" height=\"25\" alt=\"instagram\" title=\"instagram\"></a></div></div></div></div>\\n\\n</header>\\n\\n<div class=\"head-banner ig-ad\">\\n<div class=\"publicidade superbanner\"></div>\\n</div>\\n\\n<main id=\"conteudoNoticia\">\\n<div class=\"ig-container\">\\n \\n<div class=\"col-sm-12 ig-container_headerText\">\\n<h1 id=\"noticia-titulo-h1\" class=\"noticia-titulo-h1-ig_V04\">Relatório da reforma da Previdência começa a ser discutido hoje na Câmara</h1>\\n<h2 id=\"noticia-olho\">Nova redação da proposta é debatida a partir desta terça-feira em comissão; deputados têm acordo para votar mudanças nas regras para a aposentadoria na semana que vem e levar o texto para votação no plenário no dia 8 de maio</h2>\\n</div>\\n\\n<div class=\"share-page\"><aside class=\"share-page__aside\" id=\"share-page__aside\"><nav class=\"share-page__list\"><a class=\"share-page__item social-icone-facebook fbIcon\" target=\"_blank\" rel=\"noopener\" title=\"Siga no Facebook\"></a><a class=\"share-page__item social-icone-twitter ttIcon\" target=\"_blank\" rel=\"noopener\" title=\"Siga no Twitter\"></a><a class=\"share-page__item social-icone-whatsapp wppIcon\" target=\"_blank\" rel=\"noopener\" title=\"Siga no whatsapp\"></a><a class=\"share-page__item social-icone-commets commentsIcon\" id=\"goComments\" onclick=\"if (!window.__cfRLUnblockHandlers) return false; goComments()\" title=\"Faça um comentário\" data-cf-modified-164ac1c171f7b549339f0115-=\"\"></a><a class=\"share-page__item ggNews desktop\" href=\"https://news.google.com/publications/CAAqBwgKMJjshQswu52DAw?hl=pt-BR&gl=BR&ceid=BR:pt-419\" target=\"_blank\" rel=\"noopener\" title=\"Siga o iG no Google News\">Siga o iG no Google News</a><a class=\"share-page__item ggNews mobile\" href=\"https://news.google.com/publications/CAAqBwgKMJjshQswu52DAw?hl=pt-BR&gl=BR&ceid=BR:pt-419\" target=\"_blank\" rel=\"noopener\" title=\"Google News\">Google News</a></nav></aside></div><style>.betOrBillboard{display: none;}@media (min-width: 700px){.betOrBillboard{text-align: center;position: relative;width: 100%;min-height: 250px;z-index: 1;margin: 0 auto 20px;background-color: #F5F5F5;display: flex;align-items: center;justify-content: center;}}</style><div class=\"betOrBillboard\"></div>\\n\\n<div id=\"noticia-other\" class=\"noticia-other-ig_V04\"> <p>Por\\n<span itemprop=\"author\" itemscope=\"\" itemtype=\"https://schema.org/Person\"> <span id=\"authors-box\">\\n<strong itemprop=\"name\">iG São Paulo</strong>\\n</span>\\n<strong class=\"complemento-credito\">| *</strong>\\n</span>\\n<span id=\"dataHTML\"> | <time itemprop=\"datePublished\">25/04/2017 14:35</time>\\n</span>\\n</p>\\n</div>\\n<div class=\"contentNoticia\">\\n<div class=\"main-content\">\\n<div class=\"row\">\\n<section class=\"noticia col-sm-12 plf-0\">\\n<div itemprop=\"articleBody\" id=\"noticia\">\\n<div class=\"Noticia_Foto\"> <figure class=\"foto-legenda \" style=\"position: relative;\"> <div class=\"foto-legenda-img\">\\n<img src=\"https://i0.statig.com.br/bancodeimagens/11/ca/j6/11caj6gj1u3gkzm0gnooz7c0e.jpg\" loading=\"lazy\" width=\"652\" height=\"408\" alt=\"Deputados discutem na Comissão da Reforma da Previdência; com gravata roxa, o presidente do colegiado, Carlos Marun\" title=\"Deputados discutem na Comissão da Reforma da Previdência; com gravata roxa, o presidente do colegiado, Carlos Marun\" />\\n</div>\\n<figcaption class=\"foto-legenda-citacao \"> <cite>Lúcio Bernardo Junior/Câmara dos Deputados - 19.4.17</cite>\\n<div class=\"foto-legenda-citacao-text\">Deputados discutem na Comissão da Reforma da Previdência; com gravata roxa, o presidente do colegiado, Carlos Marun</div>\\n</figcaption>\\n</figure>\\n</div>\\n<p class=\" \">A comissão especial que analisa a proposta de reforma da Previdência na Câmara dos Deputados inicia na tarde desta terça-feira (25) a discussão do <a href=\"https://ultimosegundo.ig.com.br/politica/2017-04-19/reforma-da-previdencia.html\" data-mce-href=\"http://ultimosegundo.ig.com.br/politica/2017-04-19/reforma-da-previdencia.html\">relatório apresentado na semana passada pelo relator</a>\\n, deputado Arthur Maia (PPS-BA).</p>\\n<p class=\" \">Depois de fechar acordo com parlamentares da oposição, que tentavam obstruir a sessão de leitura do parecer do relator, o presidente da comissão da <strong>reforma da Previdência</strong>\\n, deputado Carlos Marun (PMDB-MS), designou que todas as reuniões desta semana sejam para discutir o relatório e apresentar pedido de vista.</p>\\n<p>O acordo com a oposição ainda definiu que a votação do relatório pelos membros da comissão deve ocorrer na próxima semana, dia 2 de maio. Já a partir do dia 8, o relatório estaria pronto para ser votado no plenário da Câmara dos Deputados. Para que isso aconteça, a equipe do governo Temer&nbsp;segue atuando para conquistar os votos necessários para aprovar as mudanças nas regras para a aposentadoria.</p>\\n<p>Para reduzir a resistência à proposta, o&nbsp;Planalto aceitou flexibilizar alguns pontos do texto original, embora a maior parte das ideias iniciais tenha sido preservada.&nbsp;</p>\\n<p>O relatório de Arthur Maia fixa a idade mínima de aposentadoria em 62 anos para as mulheres e em 65 anos para os homens após um período de transição de 20 anos. Ou seja, o aumento seria progressivo, começando em 53 e 55 anos, respectivamente, na data da promulgação da emenda.</p>\\n<p>Para a aposentadoria por tempo de contribuição, o segurado terá que calcular quanto falta para se aposentar pelas regras atuais – 35 anos para o homem e 30 anos para a mulher – e adicionar um pedágio de 30%.</p>\\n<p>Aí é só checar na tabela do aumento progressivo da idade, que começa em 53 anos para a mulher e 55 anos para o homem, e verificar qual idade mínima vai vigorar após este tempo. Pela tabela, a idade sobe um ano a cada dois anos a partir de 2020. Portanto, os 65 anos do homem só serão cobrados a partir de 2038.</p>\\n<div class=\"maislidas_container\">\\n<h3>Você viu?</h3>\\n<div id=\"perdeu_maislidas\" class=\"perdeu_maislidas-content\"></div>\\n</div>\\n<p>\\n<a href=\"https://ultimosegundo.ig.com.br/brasil/2017-04-25/paraguai.html\" data-mce-href=\"http://ultimosegundo.ig.com.br/brasil/2017-04-25/paraguai.html\">Leia também:&nbsp;Após assalto milionário no Paraguai, oito suspeitos são presos no Paraná</a>\\n</p>\\n<h3>Cronograma <br />\\n</h3>\\n<p>O líder do governo no Congresso, deputado André Moura (PSC), afirmou à <em>TV Brasil</em>\\nque não cabe mais mudanças na proposta da reforma da Previdência. Segundo Moura, as modificações solicitadas pela base já foram feitas, e o texto a ser trabalhado para aprovação é o que já foi apresentado pelo relator na comissão especial. \"Esse é o entendimento do governo. Agora é esperar que a base, já que foi atendida, possa votar o texto apresentado pelo relator”, disse.</p>\\n<p>Sobre a possibilidade de adiamento da data de votação da proposta, o líder garantiu que o cronograma está mantido e não será prorrogado. \"Não tem uma semana a mais. O cronograma estabelecido é o que será cumprido\", destacou.</p>\\n<p>O líder reiterou que o plenário deve votar a reforma trabalhista nesta semana e, na próxima, a da Previdência. “Nesta terça, [devemos] concluir a votação da recuperação fiscal dos Estados, em plenário, e votar a Reforma Trabalhista amanhã [27], na comissão especial. Na quarta-feira [28], [votar] em plenário. Já na próxima semana, após o feriado, votar a reforma da Previdência na comissão especial, e, logo em seguida, no plenário”, afirmou.</p>\\n<p>O relatório ainda pode ser alterado durante as discussões na Câmara. Para se tornar lei,&nbsp;a proposta de reforma da Previdência precisa, após ser aprovada na comissão especial, também passar por votação em dois turnos no plenário da Câmara e depois receber o aval do Senado. Caso os senadores modifiquem o texto, o projeto precisará retornar às mãos dos deputados.</p>\\n<p>\\n<a href=\"https://ultimosegundo.ig.com.br/politica/2017-04-25/minas-tocantins.html\" data-mce-href=\"http://ultimosegundo.ig.com.br/politica/2017-04-25/minas-tocantins.html\">Leia também:&nbsp;Lava Jato: STJ recebe pedido de investigação contra governadores</a>\\n</p>\\n<p>\\n<em>*Com informações da Agência Brasil e Agência Câmara</em>\\n</p>\\n</div>\\n<div id=\"paginacao\"> <ul class=\"pagination\"></ul>\\n</div>\\n<div class=\"link-artigo\">\\n<span class=\"link\">Link deste artigo:</span>\\n<span>\\n<a href=\"https://ultimosegundo.ig.com.br/politica/2017-04-25/reforma-da-previdencia.html\" title=\"Link deste artigo\">https://ultimosegundo.ig.com.br/politica/2017-04-25/reforma-da-previdencia.html</a>\\n</span>\\n</div>\\n<div id=\"tags\" class=\"tags\"> <span class=\"lista-tags\">\\n<a href=\"https://busca.ig.com.br/buscar/?q=reforma da Previdência&amp;o=IG*&amp;c=all&amp;t=all&amp;d=all&amp;p=1&amp;s=IG*&amp;utm_source=tags&amp;utm_medium=articles\" class=\"tag-item\">reforma da Previdência</a>\\n<a href=\"https://busca.ig.com.br/buscar/?q=Câmara dos Deputados&amp;o=IG*&amp;c=all&amp;t=all&amp;d=all&amp;p=1&amp;s=IG*&amp;utm_source=tags&amp;utm_medium=articles\" class=\"tag-item\">Câmara dos Deputados</a>\\n<a href=\"https://busca.ig.com.br/buscar/?q=aposentadoria&amp;o=IG*&amp;c=all&amp;t=all&amp;d=all&amp;p=1&amp;s=IG*&amp;utm_source=tags&amp;utm_medium=articles\" class=\"tag-item\">aposentadoria</a>\\n<a href=\"https://busca.ig.com.br/buscar/?q=Arthur Maia&amp;o=IG*&amp;c=all&amp;t=all&amp;d=all&amp;p=1&amp;s=IG*&amp;utm_source=tags&amp;utm_medium=articles\" class=\"tag-item\">Arthur Maia</a>\\n<a href=\"https://busca.ig.com.br/buscar/?q=relatório&amp;o=IG*&amp;c=all&amp;t=all&amp;d=all&amp;p=1&amp;s=IG*&amp;utm_source=tags&amp;utm_medium=articles\" class=\"tag-item\">relatório</a>\\n<a href=\"https://busca.ig.com.br/buscar/?q=comissão especial&amp;o=IG*&amp;c=all&amp;t=all&amp;d=all&amp;p=1&amp;s=IG*&amp;utm_source=tags&amp;utm_medium=articles\" class=\"tag-item\">comissão especial</a>\\n</span>\\n</div>\\n</section>\\n<style>div#taboola-below-article-thumbnails{padding-top: 20px;}.ig-taboola{padding: 0 0px;}.ig-taboola .trc_rbox_border_elm{margin-top: 5px !important;}.ig-taboola .trc_rbox_border_elm .trc_rbox_header_span{border-bottom: 4px solid;}.ig-taboola .trc_rbox_border_elm .trc_rbox_header_span:after{content: \"\";position: absolute;display: block;border-bottom: 1px solid;margin-top: 2px;width: 100%;}.iG_componente_taboola_containerTitulo{margin-bottom: 2.2rem;position: relative;}.iG_componente_taboola_containerTitulo .iG_componente_taboola_containerTitulo_title{font-size: 3.18rem;color: #385898;text-transform: uppercase;font-weight: 300;border-top: 8px solid #385898;padding-top: 8px;width: max-content;}.iG_componente_taboola_containerTitulo .iG_componente_taboola_containerTitulo_title::before{content: \"\";display: block;border-top: 1px solid #d4d4d4;position: absolute;width: 100%;top: 0;}</style><div class=\"iG_componente_taboola_containerTitulo\"><h3 class=\"iG_componente_taboola_containerTitulo_title\">Veja Também</h3></div><script src=\"/cdn-cgi/scripts/7d0fa10a/cloudflare-static/rocket-loader.min.js\" data-cf-settings=\"164ac1c171f7b549339f0115-|49\"></script><div class=\"ig-taboola\" onload=\"loadTaboola()\"><div id=\"taboola-below-article-thumbnails\"></div><script async type=\"164ac1c171f7b549339f0115-text/javascript\">window._taboola = window._taboola || [];_taboola.push({mode: \\'thumbnails-b\\',container: \\'taboola-below-article-thumbnails\\',placement: \\'Below Article Thumbnails\\',target_type: \\'mix\\'});</script></div><div class=\"maisLidasContainerTab\"></div><div class=\"col-sm-12  mais_x mais_recentes\"><div class=\"nh-nav\"><h4 class=\"category-title\">Mais Recentes</h4></div><ul id=\"mais_recentes\"></ul></div><div id=\"comentarios\"><div class=\"col-xs-12\" id=\"widget-comments\"><div class=\"nh-nav\"><h4 class=\"category-title\">Comentários</h4><div class=\"fb-commets-content\"></div></div><script async type=\"164ac1c171f7b549339f0115-text/javascript\">const urlNoticia = document.querySelector(\\'meta[name=\"iG-noticia-httpurl\"]\\').content;const fbCommets = `<div class=\"fb-comments\" data-href=\"${urlNoticia}\" data-numposts=\"\" data-width=\"100%\"></div>`;document.querySelector(\".fb-commets-content\").innerHTML = fbCommets;</script></div></div>\\n</div>\\n</div>\\n<div class=\"secondary-content\">\\n<div id=\"barra-lateral\">\\n<div id=\"result\"></div> <div id=\"ig_truvid\"></div> <div class=\"container-publicidade-mrec1\"> <div class=\"publicidade pub_300x250\"> <div id=\"ad_mrec1\"></div> </div> </div> <div class=\"maislidas-container\"> <div class=\"nh-nav\"> <h3 class=\"category-title\">Mais Lidas</h3> </div> <div id=\"containerComp\"></div> </div> <div class=\"publicidade pub_300x250 publicidade pub_300x250 advertising-box-2\"> <div class=\"advertising-conten\" id=\"ad_mrec2\"></div> </div>\\n</div>\\n</div>\\n</div>\\n</div>\\n\\n\\n</main>\\n<footer class=\"iGfooter\"> <div class=\"iGfooter_container\"> <div class=\"iGfooter_sobre\"> <h3>Sobre o iG</h3> <ul> <li><a href=\"https://centraldoanunciante.ig.com.br/\" title=\"Anuncie\">Anuncie</a></li> <li><a href=\"https://igcorp.octadesk.com/kb/\" title=\"Fale Conosco\">Fale Conosco</a></li> <li><a href=\"https://institucional.ig.com.br/2020-11-05/politica-de-privacidade-ig.html\" title=\"Política de privacidade\">Política de privacidade</a></li> <li><a href=\"https://institucional.ig.com.br/2020-11-05/termos-de-uso.html\" title=\"Termos de Uso\">Termos de Uso</a></li> <li><a href=\"https://institucional.ig.com.br/\" title=\"Institucional\">Institucional</a></li> <li><a href=\"https://institucional.ig.com.br/2021-07-13/quem-somos--visao--missao-e-valores.html\" title=\"Quem Somos\">Quem Somos</a></li> </ul> </div> <div class=\"iGfooter_sobre-redesSociais\"> <h3>Siga o iG nas redes sociais</h3> <div class=\"iGfooter_sobre-redesSociais-icons\"> <a href=\"https://www.facebook.com/ig\" class=\"facebook\" title=\"facebook\" target=\"_blank\" rel=\"noopener\"> <img loading=\"lazy\" width=\"32\" height=\"32\" src=\"https://i0.statig.com.br/assets/v5/icones/facebook-footer.png\" alt=\"facebook\" title=\"facebook\"> </a> <a href=\"https://twitter.com/iG\" class=\"twitter\" title=\"twitter\" target=\"_blank\" rel=\"noopener\"> <img loading=\"lazy\" width=\"32\" height=\"32\" src=\"https://i0.statig.com.br/assets/v5/icones/twitter-footer.png\" alt=\"twitter\" title=\"twitter\"> </a> <a href=\"https://www.instagram.com/portal_ig/\" class=\"instagram\" title=\"instagram\" target=\"_blank\" rel=\"noopener\"> <img loading=\"lazy\" width=\"32\" height=\"32\" src=\"https://i0.statig.com.br/assets/v5/icones/instagram-footer.png\" alt=\"instagram\" title=\"instagram\"> </a> <a href=\"https://www.linkedin.com/company/ig---publicidade-e-conte-do-ltda/mycompany/?viewAsMember=true\" class=\"linkedin\" title=\"linkedin\" target=\"_blank\" rel=\"noopener\"> <img loading=\"lazy\" width=\"32\" height=\"32\" src=\"https://i0.statig.com.br/assets/v5/icones/linkedin-footer.png\" alt=\"linkedin\" title=\"linkedin\"> </a> <a href=\"https://www.tiktok.com/@portal_ig?lang=pt-BR\" class=\"tiktok\" title=\"tiktok\" target=\"_blank\" rel=\"noopener\"> <img loading=\"lazy\" width=\"32\" height=\"32\" src=\"https://i0.statig.com.br/assets/v5/icones/tiktok-footer.png\" alt=\"tiktok\" title=\"tiktok\"> </a> <a href=\"https://open.spotify.com/show/3c9woJ6Tzx3JiRFoUp8Mrl\" class=\"spotify\" title=\"spotify\" target=\"_blank\" rel=\"noopener\"> <img loading=\"lazy\" width=\"32\" height=\"32\" src=\"https://i0.statig.com.br/assets/v5/icones/spotify-footer.png\" alt=\"spotify\" title=\"spotify\"> </a> <a href=\"https://www.youtube.com/ig\" class=\"youtube\" title=\"youtube\" target=\"_blank\" rel=\"noopener\"> <img loading=\"lazy\" width=\"32\" height=\"32\" src=\"https://i0.statig.com.br/assets/v5/icones/youtube-footer.png\" alt=\"youtube\" title=\"youtube\"> </a> <a href=\"https://t.me/portalig\" class=\"telegram\" title=\"telegram\" target=\"_blank\" rel=\"noopener\"> <img loading=\"lazy\" width=\"32\" height=\"32\" src=\"https://i0.statig.com.br/assets/v5/icones/icon-telegram.png\" alt=\"telegram\" title=\"telegram\"> </a> </div> </div> </div> <div class=\"iGfooter_rodape\"> <p>© Copyright 2000-2022, iG Publicidade e Conteúdo</p> </div></footer>\\n<script src=\"https://i0.statig.com.br/js/jquery-3.5.1.min.js\" type=\"164ac1c171f7b549339f0115-text/javascript\"></script>\\n<script async src=\"https://i0.statig.com.br/assets/v5/js/ig-canais-noticias.min.js?v5.0.7.001216\" type=\"164ac1c171f7b549339f0115-text/javascript\"></script><script async type=\"164ac1c171f7b549339f0115-text/javascript\">function loadTaboola(){window._taboola = window._taboola || [];_taboola.push({flush: true});}</script>\\n<script src=\"/cdn-cgi/scripts/7d0fa10a/cloudflare-static/rocket-loader.min.js\" data-cf-settings=\"164ac1c171f7b549339f0115-|49\" defer=\"\"></script></body>\\n</html>\\n'"
      ]
     },
     "execution_count": 27,
     "metadata": {},
     "output_type": "execute_result"
    }
   ],
   "source": [
    "from urllib.request import Request, urlopen\n",
    "\n",
    "link = Request('http://ultimosegundo.ig.com.br/politica/2017-04-25/reforma-da-previdencia.html',headers={'User-Agent': 'Mozilla/5.0'})\n",
    "\n",
    "pagina = urlopen(link).read().decode('utf-8', 'ignore')\n",
    "\n",
    "pagina"
   ]
  },
  {
   "cell_type": "markdown",
   "metadata": {},
   "source": [
    "#### 20 - Garimpando a página html com BeautifulSoup"
   ]
  },
  {
   "cell_type": "code",
   "execution_count": 28,
   "metadata": {},
   "outputs": [],
   "source": [
    "from bs4 import BeautifulSoup"
   ]
  },
  {
   "cell_type": "code",
   "execution_count": 29,
   "metadata": {
    "scrolled": true
   },
   "outputs": [],
   "source": [
    "soup = BeautifulSoup(pagina, \"html.parser\")"
   ]
  },
  {
   "cell_type": "code",
   "execution_count": 30,
   "metadata": {
    "scrolled": true
   },
   "outputs": [
    {
     "data": {
      "text/plain": [
       "'\\n  \\n\\n\\n Lúcio Bernardo Junior/Câmara dos Deputados - 19.4.17\\nDeputados discutem na Comissão da Reforma da Previdência; com gravata roxa, o presidente do colegiado, Carlos Marun\\n\\n\\n\\nA comissão especial que analisa a proposta de reforma da Previdência na Câmara dos Deputados inicia na tarde desta terça-feira (25) a discussão do relatório apresentado na semana passada pelo relator\\n, deputado Arthur Maia (PPS-BA).\\nDepois de fechar acordo com parlamentares da oposição, que tentavam obstruir a sessão de leitura do parecer do relator, o presidente da comissão da reforma da Previdência\\n, deputado Carlos Marun (PMDB-MS), designou que todas as reuniões desta semana sejam para discutir o relatório e apresentar pedido de vista.\\nO acordo com a oposição ainda definiu que a votação do relatório pelos membros da comissão deve ocorrer na próxima semana, dia 2 de maio. Já a partir do dia 8, o relatório estaria pronto para ser votado no plenário da Câmara dos Deputados. Para que isso aconteça, a equipe do governo Temer\\xa0segue atuando para conquistar os votos necessários para aprovar as mudanças nas regras para a aposentadoria.\\nPara reduzir a resistência à proposta, o\\xa0Planalto aceitou flexibilizar alguns pontos do texto original, embora a maior parte das ideias iniciais tenha sido preservada.\\xa0\\nO relatório de Arthur Maia fixa a idade mínima de aposentadoria em 62 anos para as mulheres e em 65 anos para os homens após um período de transição de 20 anos. Ou seja, o aumento seria progressivo, começando em 53 e 55 anos, respectivamente, na data da promulgação da emenda.\\nPara a aposentadoria por tempo de contribuição, o segurado terá que calcular quanto falta para se aposentar pelas regras atuais – 35 anos para o homem e 30 anos para a mulher – e adicionar um pedágio de 30%.\\nAí é só checar na tabela do aumento progressivo da idade, que começa em 53 anos para a mulher e 55 anos para o homem, e verificar qual idade mínima vai vigorar após este tempo. Pela tabela, a idade sobe um ano a cada dois anos a partir de 2020. Portanto, os 65 anos do homem só serão cobrados a partir de 2038.\\n\\nVocê viu?\\n\\n\\n\\nLeia também:\\xa0Após assalto milionário no Paraguai, oito suspeitos são presos no Paraná\\n\\nCronograma \\n\\nO líder do governo no Congresso, deputado André Moura (PSC), afirmou à TV Brasil\\nque não cabe mais mudanças na proposta da reforma da Previdência. Segundo Moura, as modificações solicitadas pela base já foram feitas, e o texto a ser trabalhado para aprovação é o que já foi apresentado pelo relator na comissão especial. \"Esse é o entendimento do governo. Agora é esperar que a base, já que foi atendida, possa votar o texto apresentado pelo relator”, disse.\\nSobre a possibilidade de adiamento da data de votação da proposta, o líder garantiu que o cronograma está mantido e não será prorrogado. \"Não tem uma semana a mais. O cronograma estabelecido é o que será cumprido\", destacou.\\nO líder reiterou que o plenário deve votar a reforma trabalhista nesta semana e, na próxima, a da Previdência. “Nesta terça, [devemos] concluir a votação da recuperação fiscal dos Estados, em plenário, e votar a Reforma Trabalhista amanhã [27], na comissão especial. Na quarta-feira [28], [votar] em plenário. Já na próxima semana, após o feriado, votar a reforma da Previdência na comissão especial, e, logo em seguida, no plenário”, afirmou.\\nO relatório ainda pode ser alterado durante as discussões na Câmara. Para se tornar lei,\\xa0a proposta de reforma da Previdência precisa, após ser aprovada na comissão especial, também passar por votação em dois turnos no plenário da Câmara e depois receber o aval do Senado. Caso os senadores modifiquem o texto, o projeto precisará retornar às mãos dos deputados.\\n\\nLeia também:\\xa0Lava Jato: STJ recebe pedido de investigação contra governadores\\n\\n\\n*Com informações da Agência Brasil e Agência Câmara\\n\\n'"
      ]
     },
     "execution_count": 30,
     "metadata": {},
     "output_type": "execute_result"
    }
   ],
   "source": [
    "texto = soup.find(id=\"noticia\").text\n",
    "texto"
   ]
  },
  {
   "cell_type": "markdown",
   "metadata": {},
   "source": [
    "#### 21 - Tokenização de palavras e sentenças"
   ]
  },
  {
   "cell_type": "code",
   "execution_count": 31,
   "metadata": {
    "scrolled": true
   },
   "outputs": [
    {
     "data": {
      "text/plain": [
       "['\\n  \\n\\n\\n Lúcio Bernardo Junior/Câmara dos Deputados - 19.4.17\\nDeputados discutem na Comissão da Reforma da Previdência; com gravata roxa, o presidente do colegiado, Carlos Marun\\n\\n\\n\\nA comissão especial que analisa a proposta de reforma da Previdência na Câmara dos Deputados inicia na tarde desta terça-feira (25) a discussão do relatório apresentado na semana passada pelo relator\\n, deputado Arthur Maia (PPS-BA).',\n",
       " 'Depois de fechar acordo com parlamentares da oposição, que tentavam obstruir a sessão de leitura do parecer do relator, o presidente da comissão da reforma da Previdência\\n, deputado Carlos Marun (PMDB-MS), designou que todas as reuniões desta semana sejam para discutir o relatório e apresentar pedido de vista.',\n",
       " 'O acordo com a oposição ainda definiu que a votação do relatório pelos membros da comissão deve ocorrer na próxima semana, dia 2 de maio.',\n",
       " 'Já a partir do dia 8, o relatório estaria pronto para ser votado no plenário da Câmara dos Deputados.',\n",
       " 'Para que isso aconteça, a equipe do governo Temer\\xa0segue atuando para conquistar os votos necessários para aprovar as mudanças nas regras para a aposentadoria.',\n",
       " 'Para reduzir a resistência à proposta, o\\xa0Planalto aceitou flexibilizar alguns pontos do texto original, embora a maior parte das ideias iniciais tenha sido preservada.',\n",
       " 'O relatório de Arthur Maia fixa a idade mínima de aposentadoria em 62 anos para as mulheres e em 65 anos para os homens após um período de transição de 20 anos.',\n",
       " 'Ou seja, o aumento seria progressivo, começando em 53 e 55 anos, respectivamente, na data da promulgação da emenda.',\n",
       " 'Para a aposentadoria por tempo de contribuição, o segurado terá que calcular quanto falta para se aposentar pelas regras atuais – 35 anos para o homem e 30 anos para a mulher – e adicionar um pedágio de 30%.',\n",
       " 'Aí é só checar na tabela do aumento progressivo da idade, que começa em 53 anos para a mulher e 55 anos para o homem, e verificar qual idade mínima vai vigorar após este tempo.',\n",
       " 'Pela tabela, a idade sobe um ano a cada dois anos a partir de 2020.',\n",
       " 'Portanto, os 65 anos do homem só serão cobrados a partir de 2038.',\n",
       " 'Você viu?',\n",
       " 'Leia também:\\xa0Após assalto milionário no Paraguai, oito suspeitos são presos no Paraná\\n\\nCronograma \\n\\nO líder do governo no Congresso, deputado André Moura (PSC), afirmou à TV Brasil\\nque não cabe mais mudanças na proposta da reforma da Previdência.',\n",
       " 'Segundo Moura, as modificações solicitadas pela base já foram feitas, e o texto a ser trabalhado para aprovação é o que já foi apresentado pelo relator na comissão especial.',\n",
       " '\"Esse é o entendimento do governo.',\n",
       " 'Agora é esperar que a base, já que foi atendida, possa votar o texto apresentado pelo relator”, disse.',\n",
       " 'Sobre a possibilidade de adiamento da data de votação da proposta, o líder garantiu que o cronograma está mantido e não será prorrogado.',\n",
       " '\"Não tem uma semana a mais.',\n",
       " 'O cronograma estabelecido é o que será cumprido\", destacou.',\n",
       " 'O líder reiterou que o plenário deve votar a reforma trabalhista nesta semana e, na próxima, a da Previdência.',\n",
       " '“Nesta terça, [devemos] concluir a votação da recuperação fiscal dos Estados, em plenário, e votar a Reforma Trabalhista amanhã [27], na comissão especial.',\n",
       " 'Na quarta-feira [28], [votar] em plenário.',\n",
       " 'Já na próxima semana, após o feriado, votar a reforma da Previdência na comissão especial, e, logo em seguida, no plenário”, afirmou.',\n",
       " 'O relatório ainda pode ser alterado durante as discussões na Câmara.',\n",
       " 'Para se tornar lei,\\xa0a proposta de reforma da Previdência precisa, após ser aprovada na comissão especial, também passar por votação em dois turnos no plenário da Câmara e depois receber o aval do Senado.',\n",
       " 'Caso os senadores modifiquem o texto, o projeto precisará retornar às mãos dos deputados.',\n",
       " 'Leia também:\\xa0Lava Jato: STJ recebe pedido de investigação contra governadores\\n\\n\\n*Com informações da Agência Brasil e Agência Câmara']"
      ]
     },
     "execution_count": 31,
     "metadata": {},
     "output_type": "execute_result"
    }
   ],
   "source": [
    "from nltk.tokenize import word_tokenize\n",
    "from nltk.tokenize import sent_tokenize\n",
    "\n",
    "sentencas = sent_tokenize(texto)\n",
    "palavras = word_tokenize(texto.lower())\n",
    "\n",
    "sentencas"
   ]
  },
  {
   "cell_type": "markdown",
   "metadata": {},
   "source": [
    "#### 22 - Stopwords"
   ]
  },
  {
   "cell_type": "code",
   "execution_count": 32,
   "metadata": {
    "scrolled": true
   },
   "outputs": [
    {
     "data": {
      "text/plain": [
       "['lúcio',\n",
       " 'bernardo',\n",
       " 'junior/câmara',\n",
       " 'deputados',\n",
       " '19.4.17',\n",
       " 'deputados',\n",
       " 'discutem',\n",
       " 'comissão',\n",
       " 'reforma',\n",
       " 'previdência',\n",
       " 'gravata',\n",
       " 'roxa',\n",
       " 'presidente',\n",
       " 'colegiado',\n",
       " 'carlos',\n",
       " 'marun',\n",
       " 'comissão',\n",
       " 'especial',\n",
       " 'analisa',\n",
       " 'proposta',\n",
       " 'reforma',\n",
       " 'previdência',\n",
       " 'câmara',\n",
       " 'deputados',\n",
       " 'inicia',\n",
       " 'tarde',\n",
       " 'desta',\n",
       " 'terça-feira',\n",
       " '25',\n",
       " 'discussão',\n",
       " 'relatório',\n",
       " 'apresentado',\n",
       " 'semana',\n",
       " 'passada',\n",
       " 'relator',\n",
       " 'deputado',\n",
       " 'arthur',\n",
       " 'maia',\n",
       " 'pps-ba',\n",
       " 'fechar',\n",
       " 'acordo',\n",
       " 'parlamentares',\n",
       " 'oposição',\n",
       " 'tentavam',\n",
       " 'obstruir',\n",
       " 'sessão',\n",
       " 'leitura',\n",
       " 'parecer',\n",
       " 'relator',\n",
       " 'presidente',\n",
       " 'comissão',\n",
       " 'reforma',\n",
       " 'previdência',\n",
       " 'deputado',\n",
       " 'carlos',\n",
       " 'marun',\n",
       " 'pmdb-ms',\n",
       " 'designou',\n",
       " 'todas',\n",
       " 'reuniões',\n",
       " 'desta',\n",
       " 'semana',\n",
       " 'discutir',\n",
       " 'relatório',\n",
       " 'apresentar',\n",
       " 'pedido',\n",
       " 'vista',\n",
       " 'acordo',\n",
       " 'oposição',\n",
       " 'ainda',\n",
       " 'definiu',\n",
       " 'votação',\n",
       " 'relatório',\n",
       " 'membros',\n",
       " 'comissão',\n",
       " 'deve',\n",
       " 'ocorrer',\n",
       " 'próxima',\n",
       " 'semana',\n",
       " 'dia',\n",
       " '2',\n",
       " 'maio',\n",
       " 'partir',\n",
       " 'dia',\n",
       " '8',\n",
       " 'relatório',\n",
       " 'estaria',\n",
       " 'pronto',\n",
       " 'ser',\n",
       " 'votado',\n",
       " 'plenário',\n",
       " 'câmara',\n",
       " 'deputados',\n",
       " 'aconteça',\n",
       " 'equipe',\n",
       " 'governo',\n",
       " 'temer',\n",
       " 'segue',\n",
       " 'atuando',\n",
       " 'conquistar',\n",
       " 'votos',\n",
       " 'necessários',\n",
       " 'aprovar',\n",
       " 'mudanças',\n",
       " 'regras',\n",
       " 'aposentadoria',\n",
       " 'reduzir',\n",
       " 'resistência',\n",
       " 'proposta',\n",
       " 'planalto',\n",
       " 'aceitou',\n",
       " 'flexibilizar',\n",
       " 'alguns',\n",
       " 'pontos',\n",
       " 'texto',\n",
       " 'original',\n",
       " 'embora',\n",
       " 'maior',\n",
       " 'parte',\n",
       " 'ideias',\n",
       " 'iniciais',\n",
       " 'sido',\n",
       " 'preservada',\n",
       " 'relatório',\n",
       " 'arthur',\n",
       " 'maia',\n",
       " 'fixa',\n",
       " 'idade',\n",
       " 'mínima',\n",
       " 'aposentadoria',\n",
       " '62',\n",
       " 'anos',\n",
       " 'mulheres',\n",
       " '65',\n",
       " 'anos',\n",
       " 'homens',\n",
       " 'após',\n",
       " 'período',\n",
       " 'transição',\n",
       " '20',\n",
       " 'anos',\n",
       " 'aumento',\n",
       " 'progressivo',\n",
       " 'começando',\n",
       " '53',\n",
       " '55',\n",
       " 'anos',\n",
       " 'respectivamente',\n",
       " 'data',\n",
       " 'promulgação',\n",
       " 'emenda',\n",
       " 'aposentadoria',\n",
       " 'tempo',\n",
       " 'contribuição',\n",
       " 'segurado',\n",
       " 'calcular',\n",
       " 'quanto',\n",
       " 'falta',\n",
       " 'aposentar',\n",
       " 'regras',\n",
       " 'atuais',\n",
       " '–',\n",
       " '35',\n",
       " 'anos',\n",
       " 'homem',\n",
       " '30',\n",
       " 'anos',\n",
       " 'mulher',\n",
       " '–',\n",
       " 'adicionar',\n",
       " 'pedágio',\n",
       " '30',\n",
       " 'aí',\n",
       " 'checar',\n",
       " 'tabela',\n",
       " 'aumento',\n",
       " 'progressivo',\n",
       " 'idade',\n",
       " 'começa',\n",
       " '53',\n",
       " 'anos',\n",
       " 'mulher',\n",
       " '55',\n",
       " 'anos',\n",
       " 'homem',\n",
       " 'verificar',\n",
       " 'idade',\n",
       " 'mínima',\n",
       " 'vai',\n",
       " 'vigorar',\n",
       " 'após',\n",
       " 'tempo',\n",
       " 'tabela',\n",
       " 'idade',\n",
       " 'sobe',\n",
       " 'ano',\n",
       " 'cada',\n",
       " 'dois',\n",
       " 'anos',\n",
       " 'partir',\n",
       " '2020.',\n",
       " 'portanto',\n",
       " '65',\n",
       " 'anos',\n",
       " 'homem',\n",
       " 'cobrados',\n",
       " 'partir',\n",
       " '2038.',\n",
       " 'viu',\n",
       " 'leia',\n",
       " 'após',\n",
       " 'assalto',\n",
       " 'milionário',\n",
       " 'paraguai',\n",
       " 'oito',\n",
       " 'suspeitos',\n",
       " 'presos',\n",
       " 'paraná',\n",
       " 'cronograma',\n",
       " 'líder',\n",
       " 'governo',\n",
       " 'congresso',\n",
       " 'deputado',\n",
       " 'andré',\n",
       " 'moura',\n",
       " 'psc',\n",
       " 'afirmou',\n",
       " 'tv',\n",
       " 'brasil',\n",
       " 'cabe',\n",
       " 'mudanças',\n",
       " 'proposta',\n",
       " 'reforma',\n",
       " 'previdência',\n",
       " 'segundo',\n",
       " 'moura',\n",
       " 'modificações',\n",
       " 'solicitadas',\n",
       " 'base',\n",
       " 'feitas',\n",
       " 'texto',\n",
       " 'ser',\n",
       " 'trabalhado',\n",
       " 'aprovação',\n",
       " 'apresentado',\n",
       " 'relator',\n",
       " 'comissão',\n",
       " 'especial',\n",
       " '``',\n",
       " 'entendimento',\n",
       " 'governo',\n",
       " 'agora',\n",
       " 'esperar',\n",
       " 'base',\n",
       " 'atendida',\n",
       " 'possa',\n",
       " 'votar',\n",
       " 'texto',\n",
       " 'apresentado',\n",
       " 'relator',\n",
       " '”',\n",
       " 'disse',\n",
       " 'sobre',\n",
       " 'possibilidade',\n",
       " 'adiamento',\n",
       " 'data',\n",
       " 'votação',\n",
       " 'proposta',\n",
       " 'líder',\n",
       " 'garantiu',\n",
       " 'cronograma',\n",
       " 'mantido',\n",
       " 'prorrogado',\n",
       " '``',\n",
       " 'semana',\n",
       " 'cronograma',\n",
       " 'estabelecido',\n",
       " 'cumprido',\n",
       " \"''\",\n",
       " 'destacou',\n",
       " 'líder',\n",
       " 'reiterou',\n",
       " 'plenário',\n",
       " 'deve',\n",
       " 'votar',\n",
       " 'reforma',\n",
       " 'trabalhista',\n",
       " 'nesta',\n",
       " 'semana',\n",
       " 'próxima',\n",
       " 'previdência',\n",
       " '“',\n",
       " 'nesta',\n",
       " 'terça',\n",
       " 'devemos',\n",
       " 'concluir',\n",
       " 'votação',\n",
       " 'recuperação',\n",
       " 'fiscal',\n",
       " 'estados',\n",
       " 'plenário',\n",
       " 'votar',\n",
       " 'reforma',\n",
       " 'trabalhista',\n",
       " 'amanhã',\n",
       " '27',\n",
       " 'comissão',\n",
       " 'especial',\n",
       " 'quarta-feira',\n",
       " '28',\n",
       " 'votar',\n",
       " 'plenário',\n",
       " 'próxima',\n",
       " 'semana',\n",
       " 'após',\n",
       " 'feriado',\n",
       " 'votar',\n",
       " 'reforma',\n",
       " 'previdência',\n",
       " 'comissão',\n",
       " 'especial',\n",
       " 'logo',\n",
       " 'seguida',\n",
       " 'plenário',\n",
       " '”',\n",
       " 'afirmou',\n",
       " 'relatório',\n",
       " 'ainda',\n",
       " 'pode',\n",
       " 'ser',\n",
       " 'alterado',\n",
       " 'durante',\n",
       " 'discussões',\n",
       " 'câmara',\n",
       " 'tornar',\n",
       " 'lei',\n",
       " 'proposta',\n",
       " 'reforma',\n",
       " 'previdência',\n",
       " 'precisa',\n",
       " 'após',\n",
       " 'ser',\n",
       " 'aprovada',\n",
       " 'comissão',\n",
       " 'especial',\n",
       " 'passar',\n",
       " 'votação',\n",
       " 'dois',\n",
       " 'turnos',\n",
       " 'plenário',\n",
       " 'câmara',\n",
       " 'receber',\n",
       " 'aval',\n",
       " 'senado',\n",
       " 'caso',\n",
       " 'senadores',\n",
       " 'modifiquem',\n",
       " 'texto',\n",
       " 'projeto',\n",
       " 'precisará',\n",
       " 'retornar',\n",
       " 'mãos',\n",
       " 'deputados',\n",
       " 'leia',\n",
       " 'lava',\n",
       " 'jato',\n",
       " 'stj',\n",
       " 'recebe',\n",
       " 'pedido',\n",
       " 'investigação',\n",
       " 'contra',\n",
       " 'governadores',\n",
       " 'informações',\n",
       " 'agência',\n",
       " 'brasil',\n",
       " 'agência',\n",
       " 'câmara']"
      ]
     },
     "execution_count": 32,
     "metadata": {},
     "output_type": "execute_result"
    }
   ],
   "source": [
    "from nltk.corpus import stopwords\n",
    "from string import punctuation\n",
    "\n",
    "stopwords = set(stopwords.words('portuguese') + list(punctuation))\n",
    "palavras_sem_stopwords = [palavra for palavra in palavras if palavra not in stopwords]\n",
    "\n",
    "palavras_sem_stopwords"
   ]
  },
  {
   "cell_type": "markdown",
   "metadata": {},
   "source": [
    "#### 23 - Distribuição de frequência das palavras"
   ]
  },
  {
   "cell_type": "code",
   "execution_count": 33,
   "metadata": {},
   "outputs": [
    {
     "data": {
      "text/plain": [
       "FreqDist({'anos': 10, 'comissão': 8, 'reforma': 8, 'previdência': 7, 'relatório': 6, 'semana': 6, 'plenário': 6, 'deputados': 5, 'especial': 5, 'proposta': 5, ...})"
      ]
     },
     "execution_count": 33,
     "metadata": {},
     "output_type": "execute_result"
    }
   ],
   "source": [
    "from nltk.probability import FreqDist\n",
    "frequencia = FreqDist(palavras_sem_stopwords)\n",
    "frequencia"
   ]
  },
  {
   "cell_type": "markdown",
   "metadata": {},
   "source": [
    "#### 24 - Escores para sentenças"
   ]
  },
  {
   "cell_type": "code",
   "execution_count": 34,
   "metadata": {
    "scrolled": true
   },
   "outputs": [
    {
     "data": {
      "text/plain": [
       "defaultdict(int,\n",
       "            {0: 126,\n",
       "             1: 70,\n",
       "             2: 42,\n",
       "             3: 35,\n",
       "             4: 19,\n",
       "             5: 24,\n",
       "             6: 63,\n",
       "             7: 24,\n",
       "             8: 50,\n",
       "             9: 58,\n",
       "             10: 24,\n",
       "             11: 20,\n",
       "             12: 1,\n",
       "             13: 59,\n",
       "             14: 38,\n",
       "             15: 6,\n",
       "             16: 25,\n",
       "             17: 23,\n",
       "             18: 8,\n",
       "             19: 7,\n",
       "             20: 45,\n",
       "             21: 49,\n",
       "             22: 13,\n",
       "             23: 60,\n",
       "             24: 21,\n",
       "             25: 68,\n",
       "             26: 16,\n",
       "             27: 23})"
      ]
     },
     "execution_count": 34,
     "metadata": {},
     "output_type": "execute_result"
    }
   ],
   "source": [
    "from collections import defaultdict\n",
    "sentencas_importantes = defaultdict(int)\n",
    "\n",
    "for i, sentenca in enumerate(sentencas):\n",
    "    for palavra in word_tokenize(sentenca.lower()):\n",
    "        if palavra in frequencia:\n",
    "            sentencas_importantes[i] += frequencia[palavra]\n",
    "\n",
    "sentencas_importantes"
   ]
  },
  {
   "cell_type": "markdown",
   "metadata": {},
   "source": [
    "#### 25 - Sentenças mais importantes"
   ]
  },
  {
   "cell_type": "code",
   "execution_count": 35,
   "metadata": {},
   "outputs": [
    {
     "name": "stdout",
     "output_type": "stream",
     "text": [
      "\n",
      "  \n",
      "\n",
      "\n",
      " Lúcio Bernardo Junior/Câmara dos Deputados - 19.4.17\n",
      "Deputados discutem na Comissão da Reforma da Previdência; com gravata roxa, o presidente do colegiado, Carlos Marun\n",
      "\n",
      "\n",
      "\n",
      "A comissão especial que analisa a proposta de reforma da Previdência na Câmara dos Deputados inicia na tarde desta terça-feira (25) a discussão do relatório apresentado na semana passada pelo relator\n",
      ", deputado Arthur Maia (PPS-BA).\n",
      "Depois de fechar acordo com parlamentares da oposição, que tentavam obstruir a sessão de leitura do parecer do relator, o presidente da comissão da reforma da Previdência\n",
      ", deputado Carlos Marun (PMDB-MS), designou que todas as reuniões desta semana sejam para discutir o relatório e apresentar pedido de vista.\n",
      "O relatório de Arthur Maia fixa a idade mínima de aposentadoria em 62 anos para as mulheres e em 65 anos para os homens após um período de transição de 20 anos.\n",
      "Para se tornar lei, a proposta de reforma da Previdência precisa, após ser aprovada na comissão especial, também passar por votação em dois turnos no plenário da Câmara e depois receber o aval do Senado.\n"
     ]
    }
   ],
   "source": [
    "from heapq import nlargest\n",
    "\n",
    "idx_sentencas_importantes = nlargest(4, sentencas_importantes, sentencas_importantes.get)\n",
    "\n",
    "idx_sentencas_importantes\n",
    "\n",
    "for i in sorted(idx_sentencas_importantes):\n",
    "    print(sentencas[i])"
   ]
  },
  {
   "cell_type": "code",
   "execution_count": null,
   "metadata": {},
   "outputs": [],
   "source": []
  }
 ],
 "metadata": {
  "kernelspec": {
   "display_name": "Python 3 (ipykernel)",
   "language": "python",
   "name": "python3"
  },
  "language_info": {
   "codemirror_mode": {
    "name": "ipython",
    "version": 3
   },
   "file_extension": ".py",
   "mimetype": "text/x-python",
   "name": "python",
   "nbconvert_exporter": "python",
   "pygments_lexer": "ipython3",
   "version": "3.8.0"
  }
 },
 "nbformat": 4,
 "nbformat_minor": 2
}
