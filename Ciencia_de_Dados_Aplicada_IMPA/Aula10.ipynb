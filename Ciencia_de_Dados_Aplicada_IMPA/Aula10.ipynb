{
 "cells": [
  {
   "cell_type": "markdown",
   "metadata": {},
   "source": [
    "# Aprendizado Supervisionado"
   ]
  },
  {
   "cell_type": "markdown",
   "metadata": {},
   "source": [
    "### Classificação & Regressão"
   ]
  },
  {
   "cell_type": "markdown",
   "metadata": {},
   "source": [
    "#### 1 - Carregando bibliotecas"
   ]
  },
  {
   "cell_type": "code",
   "execution_count": null,
   "metadata": {
    "scrolled": false
   },
   "outputs": [],
   "source": [
    "%matplotlib notebook\n",
    "import numpy as np\n",
    "import pandas as pd\n",
    "import seaborn as sn\n",
    "import matplotlib.pyplot as plt\n",
    "\n",
    "\n",
    "from sklearn.model_selection import train_test_split\n",
    "from sklearn.neighbors import KNeighborsClassifier\n",
    "from sklearn import neighbors\n",
    "\n",
    "from matplotlib.colors import ListedColormap\n",
    "\n",
    "cmap_light = ListedColormap(['#FFFFAA', '#AAFFAA', '#AAAAFF','#EFEFEF'])\n",
    "cmap_bold  = ListedColormap(['#FFFF00', '#00FF00', '#0000FF','#000000'])\n"
   ]
  },
  {
   "cell_type": "markdown",
   "metadata": {},
   "source": [
    "#### 2 - Conjunto de dados sintético para classificação binária"
   ]
  },
  {
   "cell_type": "code",
   "execution_count": null,
   "metadata": {},
   "outputs": [],
   "source": [
    "from sklearn.datasets import make_classification\n",
    "\n",
    "plt.figure()\n",
    "\n",
    "X_C2, y_C2 = make_classification(n_samples = 100, n_features=2,\n",
    "                                n_redundant=0, n_informative=2,\n",
    "                                n_clusters_per_class=1, flip_y = 0.2,\n",
    "                                class_sep = 0.5, random_state=0)\n",
    "\n",
    "plt.scatter(X_C2[:, 0], X_C2[:, 1], c=y_C2, marker='o', cmap=cmap_bold)\n",
    "\n",
    "plt.show()"
   ]
  },
  {
   "cell_type": "markdown",
   "metadata": {},
   "source": [
    "#### 3 - KNN binário"
   ]
  },
  {
   "cell_type": "code",
   "execution_count": null,
   "metadata": {
    "scrolled": false
   },
   "outputs": [],
   "source": [
    "def plot_two_class_knn(X, y, n_neighbors, X_test, y_test):\n",
    "    X_mat = X\n",
    "    y_mat = y\n",
    "\n",
    "    clf = neighbors.KNeighborsClassifier(n_neighbors)\n",
    "    clf.fit(X_mat, y_mat)\n",
    "\n",
    "    mesh_step_size = .01\n",
    "    \n",
    "    x_min, x_max = X_mat[:, 0].min() - 1, X_mat[:, 0].max() + 1\n",
    "    y_min, y_max = X_mat[:, 1].min() - 1, X_mat[:, 1].max() + 1\n",
    "    xx, yy = np.meshgrid(np.arange(x_min, x_max, mesh_step_size),\n",
    "                         np.arange(y_min, y_max, mesh_step_size))\n",
    "    Z = clf.predict(np.c_[xx.ravel(), yy.ravel()])\n",
    "\n",
    "    Z = Z.reshape(xx.shape)\n",
    "    plt.figure()\n",
    "    plt.pcolormesh(xx, yy, Z, cmap=cmap_light)\n",
    "\n",
    "    plt.scatter(X_mat[:, 0], X_mat[:, 1], s=50, c=y, cmap=cmap_bold, edgecolor = 'black')\n",
    "    plt.xlim(xx.min(), xx.max())\n",
    "    plt.ylim(yy.min(), yy.max())\n",
    "\n",
    "    print('Escore treinamento:', clf.score(X_mat, y_mat))\n",
    "    print('Escore teste:',clf.score(X_test, y_test))\n",
    "\n",
    "    \n",
    "    plt.show()\n",
    "\n",
    "X_train, X_test, y_train, y_test = train_test_split(X_C2, y_C2,\n",
    "                                                   random_state=0)\n",
    "\n",
    "plot_two_class_knn(X_train, y_train, 1, X_test, y_test)\n",
    "plot_two_class_knn(X_train, y_train, 11, X_test, y_test)\n",
    "plot_two_class_knn(X_train, y_train, 30, X_test, y_test)"
   ]
  },
  {
   "cell_type": "markdown",
   "metadata": {},
   "source": [
    "#### 4 - Conjunto de dados sintético para regressão simples"
   ]
  },
  {
   "cell_type": "code",
   "execution_count": null,
   "metadata": {},
   "outputs": [],
   "source": [
    "from sklearn.datasets import make_regression\n",
    "\n",
    "plt.figure()\n",
    "\n",
    "make_regression?\n",
    "\n",
    "X_R1, y_R1 = make_regression(n_samples = 100, n_features=1,\n",
    "                            n_informative=1, bias = 150.0,\n",
    "                            noise = 30, random_state=0)\n",
    "plt.scatter(X_R1, y_R1, marker= 'o', s=50)\n",
    "\n",
    "plt.show()"
   ]
  },
  {
   "cell_type": "markdown",
   "metadata": {},
   "source": [
    "#### 5 - Regressão com KNN"
   ]
  },
  {
   "cell_type": "code",
   "execution_count": null,
   "metadata": {},
   "outputs": [],
   "source": [
    "from sklearn.neighbors import KNeighborsRegressor\n",
    "\n",
    "X_train, X_test, y_train, y_test = train_test_split(X_R1, y_R1, random_state=0)\n",
    "\n",
    "knnreg = KNeighborsRegressor(n_neighbors = 5).fit(X_train, y_train)\n",
    "\n",
    "print(knnreg.predict(X_test))\n",
    "\n",
    "print(knnreg.score(X_test, y_test))"
   ]
  },
  {
   "cell_type": "markdown",
   "metadata": {},
   "source": [
    "#### 6 - Variando o parâmetro K na Regressão"
   ]
  },
  {
   "cell_type": "code",
   "execution_count": null,
   "metadata": {},
   "outputs": [],
   "source": [
    "plt.figure()\n",
    "X_predict_input = np.linspace(-3, 3, 50).reshape(-1,1)\n",
    "X_train, X_test, y_train, y_test = train_test_split(X_R1[0::5], y_R1[0::5], random_state = 0)\n",
    "\n",
    "knnreg = KNeighborsRegressor(n_neighbors = 8).fit(X_train, y_train)\n",
    "y_predict_output = knnreg.predict(X_predict_input)\n",
    "plt.plot(X_predict_input, y_predict_output, '^')\n",
    "plt.plot(X_train, y_train, 'o')\n",
    "\n",
    "\n",
    "print(knnreg.score(X_train, y_train))\n",
    "\n",
    "print(knnreg.score(X_test, y_test))\n",
    "\n",
    "\n",
    "plt.show()"
   ]
  },
  {
   "cell_type": "markdown",
   "metadata": {},
   "source": [
    "#### 7 - $R^2$ escore\n"
   ]
  },
  {
   "cell_type": "code",
   "execution_count": null,
   "metadata": {
    "scrolled": false
   },
   "outputs": [],
   "source": [
    "plt.figure()\n",
    "X_predict_input = np.linspace(-3, 3, 500).reshape(-1,1)\n",
    "X_train, X_test, y_train, y_test = train_test_split(X_R1, y_R1,\n",
    "                                                   random_state = 0)\n",
    "\n",
    "# k = 1, 3, 7, 15, 55\n",
    "\n",
    "knnreg = KNeighborsRegressor(n_neighbors = 15).fit(X_train, y_train)\n",
    "y_predict_output = knnreg.predict(X_predict_input)\n",
    "\n",
    "plt.plot(X_predict_input, y_predict_output)\n",
    "plt.plot(X_train, y_train, 'o')\n",
    "plt.plot(X_test, y_test, '^')\n",
    "\n",
    "print('Escore do treinamento:', knnreg.score(X_train, y_train))\n",
    "print('Escore do teste:', knnreg.score(X_test, y_test))\n",
    "\n",
    "plt.show()\n"
   ]
  },
  {
   "cell_type": "markdown",
   "metadata": {},
   "source": [
    "## Regressão com modelos lineares\n",
    "\n",
    "Vetor de características: $x=\\left(x_{0}, x_{1}, \\ldots, x_{n}\\right)$\n",
    "\n",
    "Saída prevista: $\\hat{y}=\\widehat{w_{0}} x_{0}+\\widehat{w_{1}} x_{1}+\\cdots \\widehat{w_{n}} x_{n}+\\hat{b}$\n",
    "\n",
    "Parâmentros a se estimar: \n",
    "\n",
    "1. $\\widehat{\\boldsymbol{w}}=(\\widehat{w_{0}}, \\cdots, \\widehat{w_{n}})$ : coeficientes do modelo (pesos das características)\n",
    "\n",
    "2. $\\widehat{\\boldsymbol{b}}$ : viés (bias) constante"
   ]
  },
  {
   "cell_type": "markdown",
   "metadata": {},
   "source": [
    "#### 8 - Regressão linear em dados sintéticos"
   ]
  },
  {
   "cell_type": "code",
   "execution_count": null,
   "metadata": {
    "scrolled": true
   },
   "outputs": [],
   "source": [
    "from sklearn.linear_model import LinearRegression\n",
    "\n",
    "X_train, X_test, y_train, y_test = train_test_split(X_R1, y_R1,\n",
    "                                                   random_state = 0)\n",
    "\n",
    "linreg = LinearRegression().fit(X_train, y_train)\n",
    "\n",
    "print('Coeff (w):',linreg.coef_)\n",
    "\n",
    "print('Intercept (b):', linreg.intercept_)\n",
    "\n",
    "print('R-2 score (treinamento):', linreg.score(X_train, y_train))\n",
    "print('R-2 score (teste):', linreg.score(X_test, y_test))\n",
    "\n"
   ]
  },
  {
   "cell_type": "markdown",
   "metadata": {},
   "source": [
    "#### 9 - Mínimos Quadrados\n",
    "\n",
    "Minimizar $R S S(\\boldsymbol{w}, b)=\\sum_{\\{i=1\\}}^{N}\\left(\\boldsymbol{y}_{i}-\\left(\\boldsymbol{w} \\cdot \\boldsymbol{x}_{i}+b\\right)\\right)^{2}$\n",
    "\n",
    "$\\hat{y}=w_{0} x_{0}+b$\n",
    "\n",
    "$w_{0}$ = linreg.coef_\n",
    "\n",
    "b = linreg.intercept_"
   ]
  },
  {
   "cell_type": "code",
   "execution_count": null,
   "metadata": {
    "scrolled": false
   },
   "outputs": [],
   "source": [
    "plt.figure(figsize=(5,4))\n",
    "plt.scatter(X_R1, y_R1, marker= 'o')\n",
    "plt.plot(X_R1, linreg.coef_ * X_R1 + linreg.intercept_, 'r-')\n",
    "plt.show()"
   ]
  },
  {
   "cell_type": "markdown",
   "metadata": {},
   "source": [
    "#### 10 - Carregando a base de dados sobre crimes no EUA"
   ]
  },
  {
   "cell_type": "code",
   "execution_count": null,
   "metadata": {},
   "outputs": [],
   "source": [
    "crime = pd.read_table('./CSV/CommViolPredUnnormalizedData.txt', sep=',', na_values='?')\n",
    "\n",
    "# remove características com baixa relevância e com inconsistências\n",
    "columns_to_keep = [5, 6] + list(range(11,26)) + list(range(32, 103)) + [145]  \n",
    "crime = crime.iloc[:,columns_to_keep].dropna()\n",
    "\n",
    "# A coluna ViolentCrimesPerPop é o valor-alvo (y)\n",
    "\n",
    "X_crime = crime.iloc[:,range(0,88)]\n",
    "y_crime = crime['ViolentCrimesPerPop']\n",
    "\n",
    "crime.head()"
   ]
  },
  {
   "cell_type": "markdown",
   "metadata": {},
   "source": [
    "#### 11 - Regressão linear na base de crimes"
   ]
  },
  {
   "cell_type": "code",
   "execution_count": null,
   "metadata": {},
   "outputs": [],
   "source": [
    "X_train, X_test, y_train, y_test = train_test_split(X_crime, y_crime,\n",
    "                                                   random_state = 0)\n",
    "linreg = LinearRegression().fit(X_train, y_train)\n",
    "\n",
    "print('Coeff (w):',linreg.coef_)\n",
    "\n",
    "print('Intercept (b):', linreg.intercept_)\n",
    "\n",
    "print('R-2 score (treinamento):', linreg.score(X_train, y_train))\n",
    "print('R-2 score (teste):', linreg.score(X_test, y_test))"
   ]
  },
  {
   "cell_type": "markdown",
   "metadata": {},
   "source": [
    "#### 12 - Regressão de Cume\n",
    "\n",
    "$R S S_{R I D G E}(\\boldsymbol{w}, b)=\\sum_{[i=1]}^{N}\\left(\\boldsymbol{y}_{i}-\\left(\\boldsymbol{w} \\cdot \\boldsymbol{x}_{i}+b\\right)\\right)^{2} +\\alpha \\sum_{j=1}^{p} w_{j}^{2}$"
   ]
  },
  {
   "cell_type": "code",
   "execution_count": null,
   "metadata": {},
   "outputs": [],
   "source": [
    "from sklearn.linear_model import Ridge\n",
    "X_train, X_test, y_train, y_test = train_test_split(X_crime, y_crime,\n",
    "                                                   random_state = 0)\n",
    "\n",
    "linridge = Ridge(alpha=1e-3).fit(X_train, y_train)\n",
    "\n",
    "print('Coeff (w):',linridge.coef_)\n",
    "\n",
    "print('Intercept (b):', linridge.intercept_)\n",
    "\n",
    "print('R-2 score (treinamento):', linridge.score(X_train, y_train))\n",
    "print('R-2 score (teste):', linridge.score(X_test, y_test))\n"
   ]
  },
  {
   "cell_type": "markdown",
   "metadata": {},
   "source": [
    "#### 13 - Regressão de Cume com normalização de característica"
   ]
  },
  {
   "cell_type": "code",
   "execution_count": null,
   "metadata": {},
   "outputs": [],
   "source": [
    "from sklearn.preprocessing import MinMaxScaler\n",
    "scaler = MinMaxScaler()\n",
    "\n",
    "X_train, X_test, y_train, y_test = train_test_split(X_crime, y_crime,\n",
    "                                                   random_state = 0)\n",
    "\n",
    "X_train_scaled = scaler.fit_transform(X_train)\n",
    "X_test_scaled = scaler.transform(X_test)\n",
    "\n",
    "linridge = Ridge(alpha=20.0).fit(X_train_scaled, y_train)\n",
    "\n",
    "print('Coeff (w):',linridge.coef_)\n",
    "\n",
    "print('Intercept (b):', linridge.intercept_)\n",
    "\n",
    "print('R-2 score (treinamento):', linridge.score(X_train_scaled, y_train))\n",
    "print('R-2 score (teste):', linridge.score(X_test_scaled, y_test))"
   ]
  },
  {
   "cell_type": "markdown",
   "metadata": {},
   "source": [
    "#### 14 - Regressão de Cume, normalização e o parâmetro alpha"
   ]
  },
  {
   "cell_type": "code",
   "execution_count": null,
   "metadata": {},
   "outputs": [],
   "source": [
    "for this_alpha in [0, 1, 10, 20, 50, 100, 1000]:\n",
    "    linridge = Ridge(alpha = this_alpha).fit(X_train_scaled, y_train)\n",
    "    r2_train = linridge.score(X_train_scaled, y_train)\n",
    "    r2_test = linridge.score(X_test_scaled, y_test)\n",
    "    num_coeff_bigger = np.sum(abs(linridge.coef_) > 1.0)\n",
    "    print('Alpha = {:.2f}\\ncoeff > 1.0: {}, \\\n",
    "R-2 treinamento: {:.2f}, R-2 teste: {:.2f}\\n'\n",
    "         .format(this_alpha, num_coeff_bigger, r2_train, r2_test))"
   ]
  },
  {
   "cell_type": "markdown",
   "metadata": {},
   "source": [
    "#### 15 - Regressão Lasso com normalização\n",
    "\n",
    "$R S S_{L A S S O}(\\boldsymbol{w}, b)=\\sum_{\\{i=1\\}}^{N}\\left(y_{i}-\\left(\\boldsymbol{w} \\cdot \\boldsymbol{x}_{i}+b\\right)\\right)^{2}$ $+\\alpha \\sum_{\\{j=1\\}}^{p}\\left|w_{j}\\right|$"
   ]
  },
  {
   "cell_type": "code",
   "execution_count": null,
   "metadata": {},
   "outputs": [],
   "source": [
    "from sklearn.linear_model import Lasso\n",
    "from sklearn.preprocessing import MinMaxScaler\n",
    "scaler = MinMaxScaler()\n",
    "\n",
    "X_train, X_test, y_train, y_test = train_test_split(X_crime, y_crime,\n",
    "                                                   random_state = 0)\n",
    "\n",
    "X_train_scaled = scaler.fit_transform(X_train)\n",
    "X_test_scaled = scaler.transform(X_test)\n",
    "\n",
    "linlasso = Lasso(alpha=2.0, max_iter = 10000).fit(X_train_scaled, y_train)\n",
    "\n",
    "\n",
    "\n",
    "print('Lasso intercept: {}'\n",
    "     .format(linlasso.intercept_))\n",
    "print('Lasso coeff:\\n{}'\n",
    "     .format(linlasso.coef_))\n",
    "print('Características não zeradas: {}'\n",
    "     .format(np.sum(linlasso.coef_ != 0)))\n",
    "print('R-2 score (treinamento): {:.3f}'\n",
    "     .format(linlasso.score(X_train_scaled, y_train)))\n",
    "print('R-2 score (teste): {:.3f}\\n'\n",
    "     .format(linlasso.score(X_test_scaled, y_test)))\n",
    "print('Características com peso diferente de zero:')\n",
    "\n",
    "for e in sorted (list(zip(list(X_crime), linlasso.coef_)),\n",
    "                key = lambda e: -abs(e[1])):\n",
    "    if e[1] != 0:\n",
    "        print('\\t{}, {:.3f}'.format(e[0], e[1]))"
   ]
  },
  {
   "cell_type": "markdown",
   "metadata": {},
   "source": [
    "#### 16 - Regressão Lasso com normalização e o parâmetro alpha"
   ]
  },
  {
   "cell_type": "code",
   "execution_count": null,
   "metadata": {
    "scrolled": true
   },
   "outputs": [],
   "source": [
    "for alpha in [0.5, 1, 2, 3, 5, 10, 20, 50]:\n",
    "    linlasso = Lasso(alpha, max_iter = 10000).fit(X_train_scaled, y_train)\n",
    "    r2_train = linlasso.score(X_train_scaled, y_train)\n",
    "    r2_test = linlasso.score(X_test_scaled, y_test)\n",
    "    \n",
    "    print('Alpha = {:.2f}\\nCaracterísticas: {}, R-2 treinamento: {:.2f}, \\\n",
    "R-2 teste: {:.2f}\\n'\n",
    "         .format(alpha, np.sum(linlasso.coef_ != 0), r2_train, r2_test))"
   ]
  },
  {
   "cell_type": "markdown",
   "metadata": {},
   "source": [
    "#### 17 - Base de dados para regressões mais complexas"
   ]
  },
  {
   "cell_type": "code",
   "execution_count": null,
   "metadata": {},
   "outputs": [],
   "source": [
    "from sklearn.datasets import make_friedman1\n",
    "plt.figure()\n",
    "\n",
    "X_F1, y_F1 = make_friedman1(n_samples = 100,\n",
    "                           n_features = 7, random_state=0)\n",
    "\n",
    "plt.scatter(X_F1[:, 2], y_F1, marker= 'o', s=50)\n",
    "plt.show()"
   ]
  },
  {
   "cell_type": "markdown",
   "metadata": {},
   "source": [
    "#### 18 - Regressão polinomial\n",
    "\n",
    "$x=\\left(x_{0}, x_{1}\\right)$ $\\longrightarrow x^{\\prime}=\\left(x_{0}, x_{1}, x_{0}^{2}, x_{0} x_{1}, x_{1}^{2}\\right)$\n",
    "\n",
    "$\\hat{y}=\\widehat{w}_{0} x_{0}+\\widehat{w}_{1} x_{1}+\\widehat{w}_{00} x_{0}^{2}+\\widehat{w}_{01} x_{0} x_{1}+\\widehat{w}_{11} x_{1}^{2}+b$\n"
   ]
  },
  {
   "cell_type": "code",
   "execution_count": null,
   "metadata": {},
   "outputs": [],
   "source": [
    "from sklearn.preprocessing import PolynomialFeatures\n",
    "\n",
    "\n",
    "X_train, X_test, y_train, y_test = train_test_split(X_F1, y_F1,\n",
    "                                                   random_state = 0)\n",
    "linreg = LinearRegression().fit(X_train, y_train)\n",
    "\n",
    "print('Modelo linear coeff (w): {}'\n",
    "     .format(linreg.coef_))\n",
    "print('Modelo linear intercept (b): {:.3f}'\n",
    "     .format(linreg.intercept_))\n",
    "print('R-squared score (treinamento): {:.3f}'\n",
    "     .format(linreg.score(X_train, y_train)))\n",
    "print('R-squared score (teste): {:.3f}'\n",
    "     .format(linreg.score(X_test, y_test)))\n",
    "\n",
    "print('\\nTransformação polinomial quadrática\\n')\n",
    "poly = PolynomialFeatures(degree=2)\n",
    "X_F1_poly = poly.fit_transform(X_F1)\n",
    "\n",
    "X_train, X_test, y_train, y_test = train_test_split(X_F1_poly, y_F1,\n",
    "                                                   random_state = 0)\n",
    "linreg = LinearRegression().fit(X_train, y_train)\n",
    "\n",
    "print('Polinomial coeff (w):\\n{}'\n",
    "     .format(linreg.coef_))\n",
    "print('Polinomial intercept (b): {:.3f}'\n",
    "     .format(linreg.intercept_))\n",
    "print('Polinomial R-2 score (treinamento): {:.3f}'\n",
    "     .format(linreg.score(X_train, y_train)))\n",
    "print('Polinomial R-2 score (teste): {:.3f}\\n'\n",
    "     .format(linreg.score(X_test, y_test)))\n",
    "\n",
    "\n",
    "X_train, X_test, y_train, y_test = train_test_split(X_F1_poly, y_F1,\n",
    "                                                   random_state = 0)\n",
    "linreg = Ridge().fit(X_train, y_train)\n",
    "\n",
    "print('Polinomial + Cume coeff (w):\\n{}'\n",
    "     .format(linreg.coef_))\n",
    "print('Polinomial + Cume intercept (b): {:.3f}'\n",
    "     .format(linreg.intercept_))\n",
    "print('Polinomial + Cume R-2 score (treinamento): {:.3f}'\n",
    "     .format(linreg.score(X_train, y_train)))\n",
    "print('Polinomial + Cume R-2 score (teste): {:.3f}'\n",
    "     .format(linreg.score(X_test, y_test)))"
   ]
  }
 ],
 "metadata": {
  "anaconda-cloud": {},
  "kernelspec": {
   "display_name": "Python 3",
   "language": "python",
   "name": "python3"
  },
  "language_info": {
   "codemirror_mode": {
    "name": "ipython",
    "version": 3
   },
   "file_extension": ".py",
   "mimetype": "text/x-python",
   "name": "python",
   "nbconvert_exporter": "python",
   "pygments_lexer": "ipython3",
   "version": "3.6.8"
  }
 },
 "nbformat": 4,
 "nbformat_minor": 2
}
