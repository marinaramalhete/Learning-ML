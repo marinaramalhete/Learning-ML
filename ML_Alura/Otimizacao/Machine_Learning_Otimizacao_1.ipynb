{
 "cells": [
  {
   "cell_type": "markdown",
   "metadata": {},
   "source": [
    "### Notebook adaptado do curso [Machine Learning parte 1: Otimização de modelos através de hiperparâmetros](https://cursos.alura.com.br/course/machine-learning-otimizacao-de-modelos-atraves-de-hiperparametros) da Alura"
   ]
  },
  {
   "cell_type": "markdown",
   "metadata": {},
   "source": [
    "# "
   ]
  },
  {
   "cell_type": "code",
   "execution_count": 12,
   "metadata": {
    "scrolled": true
   },
   "outputs": [
    {
     "name": "stdout",
     "output_type": "stream",
     "text": [
      "Requirement already satisfied: graphviz==0.9 in /Users/marinaramalhetedesouza/opt/anaconda3/envs/mlaluranote/lib/python3.8/site-packages (0.9)\n",
      "Requirement already satisfied: pydot in /Users/marinaramalhetedesouza/opt/anaconda3/envs/mlaluranote/lib/python3.8/site-packages (1.4.2)\n",
      "Requirement already satisfied: pyparsing>=2.1.4 in /Users/marinaramalhetedesouza/opt/anaconda3/envs/mlaluranote/lib/python3.8/site-packages (from pydot) (3.0.6)\n",
      "Requirement already satisfied: seaborn==0.9.0 in /Users/marinaramalhetedesouza/opt/anaconda3/envs/mlaluranote/lib/python3.8/site-packages (0.9.0)\n",
      "Requirement already satisfied: pandas>=0.15.2 in /Users/marinaramalhetedesouza/opt/anaconda3/envs/mlaluranote/lib/python3.8/site-packages (from seaborn==0.9.0) (1.3.5)\n",
      "Requirement already satisfied: matplotlib>=1.4.3 in /Users/marinaramalhetedesouza/opt/anaconda3/envs/mlaluranote/lib/python3.8/site-packages (from seaborn==0.9.0) (3.5.1)\n",
      "Requirement already satisfied: scipy>=0.14.0 in /Users/marinaramalhetedesouza/opt/anaconda3/envs/mlaluranote/lib/python3.8/site-packages (from seaborn==0.9.0) (1.7.3)\n",
      "Requirement already satisfied: numpy>=1.9.3 in /Users/marinaramalhetedesouza/opt/anaconda3/envs/mlaluranote/lib/python3.8/site-packages (from seaborn==0.9.0) (1.22.1)\n",
      "Requirement already satisfied: packaging>=20.0 in /Users/marinaramalhetedesouza/opt/anaconda3/envs/mlaluranote/lib/python3.8/site-packages (from matplotlib>=1.4.3->seaborn==0.9.0) (21.3)\n",
      "Requirement already satisfied: pyparsing>=2.2.1 in /Users/marinaramalhetedesouza/opt/anaconda3/envs/mlaluranote/lib/python3.8/site-packages (from matplotlib>=1.4.3->seaborn==0.9.0) (3.0.6)\n",
      "Requirement already satisfied: python-dateutil>=2.7 in /Users/marinaramalhetedesouza/opt/anaconda3/envs/mlaluranote/lib/python3.8/site-packages (from matplotlib>=1.4.3->seaborn==0.9.0) (2.8.2)\n",
      "Requirement already satisfied: cycler>=0.10 in /Users/marinaramalhetedesouza/opt/anaconda3/envs/mlaluranote/lib/python3.8/site-packages (from matplotlib>=1.4.3->seaborn==0.9.0) (0.11.0)\n",
      "Requirement already satisfied: kiwisolver>=1.0.1 in /Users/marinaramalhetedesouza/opt/anaconda3/envs/mlaluranote/lib/python3.8/site-packages (from matplotlib>=1.4.3->seaborn==0.9.0) (1.3.2)\n",
      "Requirement already satisfied: pillow>=6.2.0 in /Users/marinaramalhetedesouza/opt/anaconda3/envs/mlaluranote/lib/python3.8/site-packages (from matplotlib>=1.4.3->seaborn==0.9.0) (9.0.0)\n",
      "Requirement already satisfied: fonttools>=4.22.0 in /Users/marinaramalhetedesouza/opt/anaconda3/envs/mlaluranote/lib/python3.8/site-packages (from matplotlib>=1.4.3->seaborn==0.9.0) (4.28.5)\n",
      "Requirement already satisfied: pytz>=2017.3 in /Users/marinaramalhetedesouza/opt/anaconda3/envs/mlaluranote/lib/python3.8/site-packages (from pandas>=0.15.2->seaborn==0.9.0) (2021.3)\n",
      "Requirement already satisfied: six>=1.5 in /Users/marinaramalhetedesouza/opt/anaconda3/envs/mlaluranote/lib/python3.8/site-packages (from python-dateutil>=2.7->matplotlib>=1.4.3->seaborn==0.9.0) (1.16.0)\n"
     ]
    }
   ],
   "source": [
    "!pip install graphviz==0.9\n",
    "!pip install pydot\n",
    "!pip install seaborn==0.9.0\n",
    "\n",
    "# !apt-get install graphviz"
   ]
  },
  {
   "cell_type": "code",
   "execution_count": 13,
   "metadata": {},
   "outputs": [],
   "source": [
    "# Instalando dependências\n",
    "\n",
    "import graphviz\n",
    "import matplotlib.pyplot as plt\n",
    "import numpy as np\n",
    "import pandas as pd\n",
    "import seaborn as sns\n",
    "from pandas.plotting import scatter_matrix\n",
    "from sklearn.dummy import DummyClassifier\n",
    "from sklearn.metrics import accuracy_score\n",
    "from sklearn.model_selection import (GridSearchCV, GroupKFold, KFold,\n",
    "                                     cross_val_score, cross_validate)\n",
    "from sklearn.pipeline import Pipeline\n",
    "from sklearn.preprocessing import StandardScaler\n",
    "from sklearn.svm import SVC\n",
    "from sklearn.tree import DecisionTreeClassifier, export_graphviz"
   ]
  },
  {
   "cell_type": "code",
   "execution_count": 3,
   "metadata": {
    "colab": {
     "base_uri": "https://localhost:8080/",
     "height": 195
    },
    "colab_type": "code",
    "id": "y7ik04NlDZMA",
    "outputId": "3e60f174-f855-49bd-d378-60b6d840638b"
   },
   "outputs": [
    {
     "data": {
      "text/html": [
       "<div>\n",
       "<style scoped>\n",
       "    .dataframe tbody tr th:only-of-type {\n",
       "        vertical-align: middle;\n",
       "    }\n",
       "\n",
       "    .dataframe tbody tr th {\n",
       "        vertical-align: top;\n",
       "    }\n",
       "\n",
       "    .dataframe thead th {\n",
       "        text-align: right;\n",
       "    }\n",
       "</style>\n",
       "<table border=\"1\" class=\"dataframe\">\n",
       "  <thead>\n",
       "    <tr style=\"text-align: right;\">\n",
       "      <th></th>\n",
       "      <th>preco</th>\n",
       "      <th>vendido</th>\n",
       "      <th>idade_do_modelo</th>\n",
       "      <th>km_por_ano</th>\n",
       "    </tr>\n",
       "  </thead>\n",
       "  <tbody>\n",
       "    <tr>\n",
       "      <th>0</th>\n",
       "      <td>30941.02</td>\n",
       "      <td>1</td>\n",
       "      <td>18</td>\n",
       "      <td>35085.22134</td>\n",
       "    </tr>\n",
       "    <tr>\n",
       "      <th>1</th>\n",
       "      <td>40557.96</td>\n",
       "      <td>1</td>\n",
       "      <td>20</td>\n",
       "      <td>12622.05362</td>\n",
       "    </tr>\n",
       "    <tr>\n",
       "      <th>2</th>\n",
       "      <td>89627.50</td>\n",
       "      <td>0</td>\n",
       "      <td>12</td>\n",
       "      <td>11440.79806</td>\n",
       "    </tr>\n",
       "    <tr>\n",
       "      <th>3</th>\n",
       "      <td>95276.14</td>\n",
       "      <td>0</td>\n",
       "      <td>3</td>\n",
       "      <td>43167.32682</td>\n",
       "    </tr>\n",
       "    <tr>\n",
       "      <th>4</th>\n",
       "      <td>117384.68</td>\n",
       "      <td>1</td>\n",
       "      <td>4</td>\n",
       "      <td>12770.11290</td>\n",
       "    </tr>\n",
       "  </tbody>\n",
       "</table>\n",
       "</div>"
      ],
      "text/plain": [
       "       preco  vendido  idade_do_modelo   km_por_ano\n",
       "0   30941.02        1               18  35085.22134\n",
       "1   40557.96        1               20  12622.05362\n",
       "2   89627.50        0               12  11440.79806\n",
       "3   95276.14        0                3  43167.32682\n",
       "4  117384.68        1                4  12770.11290"
      ]
     },
     "execution_count": 3,
     "metadata": {},
     "output_type": "execute_result"
    }
   ],
   "source": [
    "uri = \"https://gist.githubusercontent.com/guilhermesilveira/e99a526b2e7ccc6c3b70f53db43a87d2/raw/1605fc74aa778066bf2e6695e24d53cf65f2f447/machine-learning-carros-simulacao.csv\"\n",
    "dados = pd.read_csv(uri).drop(columns=[\"Unnamed: 0\"], axis=1)\n",
    "dados.head()"
   ]
  },
  {
   "cell_type": "code",
   "execution_count": 4,
   "metadata": {
    "colab": {
     "base_uri": "https://localhost:8080/",
     "height": 195
    },
    "colab_type": "code",
    "id": "b52E4e1hjegN",
    "outputId": "46e32461-13ce-4b78-d64f-96e0a89576ba"
   },
   "outputs": [
    {
     "data": {
      "text/html": [
       "<div>\n",
       "<style scoped>\n",
       "    .dataframe tbody tr th:only-of-type {\n",
       "        vertical-align: middle;\n",
       "    }\n",
       "\n",
       "    .dataframe tbody tr th {\n",
       "        vertical-align: top;\n",
       "    }\n",
       "\n",
       "    .dataframe thead th {\n",
       "        text-align: right;\n",
       "    }\n",
       "</style>\n",
       "<table border=\"1\" class=\"dataframe\">\n",
       "  <thead>\n",
       "    <tr style=\"text-align: right;\">\n",
       "      <th></th>\n",
       "      <th>preco</th>\n",
       "      <th>vendido</th>\n",
       "      <th>idade_do_modelo</th>\n",
       "      <th>km_por_ano</th>\n",
       "    </tr>\n",
       "  </thead>\n",
       "  <tbody>\n",
       "    <tr>\n",
       "      <th>4999</th>\n",
       "      <td>74023.29</td>\n",
       "      <td>0</td>\n",
       "      <td>12</td>\n",
       "      <td>24812.80412</td>\n",
       "    </tr>\n",
       "    <tr>\n",
       "      <th>5322</th>\n",
       "      <td>84843.49</td>\n",
       "      <td>0</td>\n",
       "      <td>13</td>\n",
       "      <td>23095.63834</td>\n",
       "    </tr>\n",
       "    <tr>\n",
       "      <th>5319</th>\n",
       "      <td>83100.27</td>\n",
       "      <td>0</td>\n",
       "      <td>19</td>\n",
       "      <td>36240.72746</td>\n",
       "    </tr>\n",
       "    <tr>\n",
       "      <th>5316</th>\n",
       "      <td>87932.13</td>\n",
       "      <td>0</td>\n",
       "      <td>16</td>\n",
       "      <td>32249.56426</td>\n",
       "    </tr>\n",
       "    <tr>\n",
       "      <th>5315</th>\n",
       "      <td>77937.01</td>\n",
       "      <td>0</td>\n",
       "      <td>15</td>\n",
       "      <td>28414.50704</td>\n",
       "    </tr>\n",
       "  </tbody>\n",
       "</table>\n",
       "</div>"
      ],
      "text/plain": [
       "         preco  vendido  idade_do_modelo   km_por_ano\n",
       "4999  74023.29        0               12  24812.80412\n",
       "5322  84843.49        0               13  23095.63834\n",
       "5319  83100.27        0               19  36240.72746\n",
       "5316  87932.13        0               16  32249.56426\n",
       "5315  77937.01        0               15  28414.50704"
      ]
     },
     "execution_count": 4,
     "metadata": {},
     "output_type": "execute_result"
    }
   ],
   "source": [
    "# situação horrível de \"azar\" onde as classes estão ordenadas por padrão\n",
    "\n",
    "dados_azar = dados.sort_values(\"vendido\", ascending=True)\n",
    "x_azar = dados_azar[[\"preco\", \"idade_do_modelo\",\"km_por_ano\"]]\n",
    "y_azar = dados_azar[\"vendido\"]\n",
    "dados_azar.head()"
   ]
  },
  {
   "cell_type": "code",
   "execution_count": 5,
   "metadata": {
    "colab": {
     "base_uri": "https://localhost:8080/",
     "height": 34
    },
    "colab_type": "code",
    "id": "ZNT26vFEeYmz",
    "outputId": "5cd367dd-e297-40cc-c81d-e09bbc7bf41f"
   },
   "outputs": [
    {
     "name": "stdout",
     "output_type": "stream",
     "text": [
      "Accuracy com dummy stratified, 10 = [58.00, 58.00]\n"
     ]
    }
   ],
   "source": [
    "SEED = 301\n",
    "np.random.seed(SEED)\n",
    "\n",
    "modelo = DummyClassifier()\n",
    "\n",
    "results = cross_validate(modelo, x_azar, y_azar, cv = 10, return_train_score=False)\n",
    "\n",
    "media = results['test_score'].mean()\n",
    "desvio_padrao = results['test_score'].std()\n",
    "\n",
    "print(\"Accuracy com dummy stratified, 10 = [%.2f, %.2f]\" % ((media - 2 * desvio_padrao)*100, \n",
    "                                                            (media + 2 * desvio_padrao) * 100))"
   ]
  },
  {
   "cell_type": "code",
   "execution_count": 6,
   "metadata": {
    "colab": {
     "base_uri": "https://localhost:8080/",
     "height": 34
    },
    "colab_type": "code",
    "id": "73mCcFA_eG_K",
    "outputId": "6f585741-6e82-4e9e-9d6a-d74ed8224503"
   },
   "outputs": [
    {
     "name": "stdout",
     "output_type": "stream",
     "text": [
      "Accuracy com cross validation, 10 = [73.83, 77.73]\n"
     ]
    }
   ],
   "source": [
    "SEED = 301\n",
    "np.random.seed(SEED)\n",
    "\n",
    "modelo = DecisionTreeClassifier(max_depth=2)\n",
    "\n",
    "results = cross_validate(modelo, x_azar, y_azar, cv = 10, return_train_score=False)\n",
    "\n",
    "media = results['test_score'].mean()\n",
    "desvio_padrao = results['test_score'].std()\n",
    "\n",
    "print(\"Accuracy com cross validation, 10 = [%.2f, %.2f]\" % ((media - 2 * desvio_padrao)*100,\n",
    "                                                            (media + 2 * desvio_padrao) * 100))"
   ]
  },
  {
   "cell_type": "code",
   "execution_count": 7,
   "metadata": {
    "colab": {
     "base_uri": "https://localhost:8080/",
     "height": 195
    },
    "colab_type": "code",
    "id": "5C8Y6J-PGpYf",
    "outputId": "dcf93fa7-ff87-4bd9-b4aa-a3dfab869f84"
   },
   "outputs": [
    {
     "data": {
      "text/html": [
       "<div>\n",
       "<style scoped>\n",
       "    .dataframe tbody tr th:only-of-type {\n",
       "        vertical-align: middle;\n",
       "    }\n",
       "\n",
       "    .dataframe tbody tr th {\n",
       "        vertical-align: top;\n",
       "    }\n",
       "\n",
       "    .dataframe thead th {\n",
       "        text-align: right;\n",
       "    }\n",
       "</style>\n",
       "<table border=\"1\" class=\"dataframe\">\n",
       "  <thead>\n",
       "    <tr style=\"text-align: right;\">\n",
       "      <th></th>\n",
       "      <th>preco</th>\n",
       "      <th>vendido</th>\n",
       "      <th>idade_do_modelo</th>\n",
       "      <th>km_por_ano</th>\n",
       "      <th>modelo</th>\n",
       "    </tr>\n",
       "  </thead>\n",
       "  <tbody>\n",
       "    <tr>\n",
       "      <th>0</th>\n",
       "      <td>30941.02</td>\n",
       "      <td>1</td>\n",
       "      <td>18</td>\n",
       "      <td>35085.22134</td>\n",
       "      <td>18</td>\n",
       "    </tr>\n",
       "    <tr>\n",
       "      <th>1</th>\n",
       "      <td>40557.96</td>\n",
       "      <td>1</td>\n",
       "      <td>20</td>\n",
       "      <td>12622.05362</td>\n",
       "      <td>24</td>\n",
       "    </tr>\n",
       "    <tr>\n",
       "      <th>2</th>\n",
       "      <td>89627.50</td>\n",
       "      <td>0</td>\n",
       "      <td>12</td>\n",
       "      <td>11440.79806</td>\n",
       "      <td>14</td>\n",
       "    </tr>\n",
       "    <tr>\n",
       "      <th>3</th>\n",
       "      <td>95276.14</td>\n",
       "      <td>0</td>\n",
       "      <td>3</td>\n",
       "      <td>43167.32682</td>\n",
       "      <td>6</td>\n",
       "    </tr>\n",
       "    <tr>\n",
       "      <th>4</th>\n",
       "      <td>117384.68</td>\n",
       "      <td>1</td>\n",
       "      <td>4</td>\n",
       "      <td>12770.11290</td>\n",
       "      <td>5</td>\n",
       "    </tr>\n",
       "  </tbody>\n",
       "</table>\n",
       "</div>"
      ],
      "text/plain": [
       "       preco  vendido  idade_do_modelo   km_por_ano  modelo\n",
       "0   30941.02        1               18  35085.22134      18\n",
       "1   40557.96        1               20  12622.05362      24\n",
       "2   89627.50        0               12  11440.79806      14\n",
       "3   95276.14        0                3  43167.32682       6\n",
       "4  117384.68        1                4  12770.11290       5"
      ]
     },
     "execution_count": 7,
     "metadata": {},
     "output_type": "execute_result"
    }
   ],
   "source": [
    "# gerando dados elatorios de modelo de carro para simulacao de agrupamento ao usar nosso estimador\n",
    "\n",
    "np.random.seed(SEED)\n",
    "\n",
    "dados['modelo'] = dados.idade_do_modelo + np.random.randint(-2, 3, size=10000)\n",
    "dados.modelo = dados.modelo + abs(dados.modelo.min()) + 1\n",
    "dados.head()"
   ]
  },
  {
   "cell_type": "code",
   "execution_count": 8,
   "metadata": {
    "colab": {},
    "colab_type": "code",
    "id": "3hmjt7qPHOZY"
   },
   "outputs": [],
   "source": [
    "def imprime_resultados(results):\n",
    "  media = results['test_score'].mean() * 100\n",
    "  desvio = results['test_score'].std() * 100\n",
    "    \n",
    "  print(\"Accuracy médio %.2f\" % media)\n",
    "  print(\"Intervalo [%.2f, %.2f]\" % (media - 2 * desvio, media + 2 * desvio))"
   ]
  },
  {
   "cell_type": "code",
   "execution_count": 9,
   "metadata": {
    "colab": {
     "base_uri": "https://localhost:8080/",
     "height": 50
    },
    "colab_type": "code",
    "id": "goijy0rSS7n-",
    "outputId": "bf0df175-81db-4ee7-8ae4-591a31eb66db"
   },
   "outputs": [
    {
     "name": "stdout",
     "output_type": "stream",
     "text": [
      "Accuracy médio 76.68\n",
      "Intervalo [74.28, 79.08]\n"
     ]
    }
   ],
   "source": [
    "# GroupKFold em um pipeline com StandardScaler e SVC\n",
    "\n",
    "SEED = 301\n",
    "np.random.seed(SEED)\n",
    "\n",
    "scaler = StandardScaler()\n",
    "modelo = SVC()\n",
    "\n",
    "pipeline = Pipeline([('transformacao',scaler), ('estimador',modelo)])\n",
    "\n",
    "cv = GroupKFold(n_splits = 10)\n",
    "results = cross_validate(pipeline, x_azar, y_azar, cv = cv, groups = dados.modelo, return_train_score=False)\n",
    "\n",
    "imprime_resultados(results)"
   ]
  },
  {
   "cell_type": "code",
   "execution_count": 10,
   "metadata": {
    "colab": {
     "base_uri": "https://localhost:8080/",
     "height": 50
    },
    "colab_type": "code",
    "id": "IKD8uaWkNcUL",
    "outputId": "c5430f13-067a-4d6a-e840-46d4669e931a"
   },
   "outputs": [
    {
     "name": "stdout",
     "output_type": "stream",
     "text": [
      "Accuracy médio 75.78\n",
      "Intervalo [73.67, 77.90]\n"
     ]
    }
   ],
   "source": [
    "# GroupKFold para analisar como o modelo se comporta com novos grupos\n",
    "\n",
    "SEED = 301\n",
    "np.random.seed(SEED)\n",
    "\n",
    "cv = GroupKFold(n_splits = 10)\n",
    "\n",
    "modelo = DecisionTreeClassifier(max_depth=2)\n",
    "\n",
    "results = cross_validate(modelo, x_azar, y_azar, cv = cv, groups = dados.modelo, return_train_score=False)\n",
    "\n",
    "imprime_resultados(results)"
   ]
  },
  {
   "cell_type": "code",
   "execution_count": 16,
   "metadata": {
    "colab": {
     "base_uri": "https://localhost:8080/",
     "height": 440
    },
    "colab_type": "code",
    "id": "WhJEIZ4bO3J6",
    "outputId": "9ac2fe01-dbbc-41d8-e4c4-b32ffeb75fd7",
    "scrolled": false
   },
   "outputs": [
    {
     "data": {
      "image/svg+xml": [
       "<?xml version=\"1.0\" encoding=\"UTF-8\" standalone=\"no\"?>\n",
       "<!DOCTYPE svg PUBLIC \"-//W3C//DTD SVG 1.1//EN\"\n",
       " \"http://www.w3.org/Graphics/SVG/1.1/DTD/svg11.dtd\">\n",
       "<!-- Generated by graphviz version 2.40.1 (20161225.0304)\n",
       " -->\n",
       "<!-- Title: Tree Pages: 1 -->\n",
       "<svg width=\"489pt\" height=\"314pt\"\n",
       " viewBox=\"0.00 0.00 489.00 314.00\" xmlns=\"http://www.w3.org/2000/svg\" xmlns:xlink=\"http://www.w3.org/1999/xlink\">\n",
       "<g id=\"graph0\" class=\"graph\" transform=\"scale(1 1) rotate(0) translate(4 310)\">\n",
       "<title>Tree</title>\n",
       "<polygon fill=\"#ffffff\" stroke=\"transparent\" points=\"-4,4 -4,-310 485,-310 485,4 -4,4\"/>\n",
       "<!-- 0 -->\n",
       "<g id=\"node1\" class=\"node\">\n",
       "<title>0</title>\n",
       "<path fill=\"#c8e4f8\" stroke=\"#000000\" d=\"M276,-306C276,-306 188,-306 188,-306 182,-306 176,-300 176,-294 176,-294 176,-235 176,-235 176,-229 182,-223 188,-223 188,-223 276,-223 276,-223 282,-223 288,-229 288,-235 288,-235 288,-294 288,-294 288,-300 282,-306 276,-306\"/>\n",
       "<text text-anchor=\"middle\" x=\"232\" y=\"-290.8\" font-family=\"Helvetica,sans-Serif\" font-size=\"14.00\" fill=\"#000000\">preco &lt;= 59982.246</text>\n",
       "<text text-anchor=\"middle\" x=\"232\" y=\"-275.8\" font-family=\"Helvetica,sans-Serif\" font-size=\"14.00\" fill=\"#000000\">gini = 0.487</text>\n",
       "<text text-anchor=\"middle\" x=\"232\" y=\"-260.8\" font-family=\"Helvetica,sans-Serif\" font-size=\"14.00\" fill=\"#000000\">samples = 10000</text>\n",
       "<text text-anchor=\"middle\" x=\"232\" y=\"-245.8\" font-family=\"Helvetica,sans-Serif\" font-size=\"14.00\" fill=\"#000000\">value = [4200, 5800]</text>\n",
       "<text text-anchor=\"middle\" x=\"232\" y=\"-230.8\" font-family=\"Helvetica,sans-Serif\" font-size=\"14.00\" fill=\"#000000\">class = sim</text>\n",
       "</g>\n",
       "<!-- 1 -->\n",
       "<g id=\"node2\" class=\"node\">\n",
       "<title>1</title>\n",
       "<path fill=\"#52a9e8\" stroke=\"#000000\" d=\"M203,-187C203,-187 117,-187 117,-187 111,-187 105,-181 105,-175 105,-175 105,-116 105,-116 105,-110 111,-104 117,-104 117,-104 203,-104 203,-104 209,-104 215,-110 215,-116 215,-116 215,-175 215,-175 215,-181 209,-187 203,-187\"/>\n",
       "<text text-anchor=\"middle\" x=\"160\" y=\"-171.8\" font-family=\"Helvetica,sans-Serif\" font-size=\"14.00\" fill=\"#000000\">preco &lt;= 40083.385</text>\n",
       "<text text-anchor=\"middle\" x=\"160\" y=\"-156.8\" font-family=\"Helvetica,sans-Serif\" font-size=\"14.00\" fill=\"#000000\">gini = 0.198</text>\n",
       "<text text-anchor=\"middle\" x=\"160\" y=\"-141.8\" font-family=\"Helvetica,sans-Serif\" font-size=\"14.00\" fill=\"#000000\">samples = 4347</text>\n",
       "<text text-anchor=\"middle\" x=\"160\" y=\"-126.8\" font-family=\"Helvetica,sans-Serif\" font-size=\"14.00\" fill=\"#000000\">value = [484, 3863]</text>\n",
       "<text text-anchor=\"middle\" x=\"160\" y=\"-111.8\" font-family=\"Helvetica,sans-Serif\" font-size=\"14.00\" fill=\"#000000\">class = sim</text>\n",
       "</g>\n",
       "<!-- 0&#45;&gt;1 -->\n",
       "<g id=\"edge1\" class=\"edge\">\n",
       "<title>0&#45;&gt;1</title>\n",
       "<path fill=\"none\" stroke=\"#000000\" d=\"M206.8179,-222.8796C201.5867,-214.2335 196.0195,-205.0322 190.6177,-196.1042\"/>\n",
       "<polygon fill=\"#000000\" stroke=\"#000000\" points=\"193.4608,-194.0421 185.2896,-187.2981 187.4717,-197.6658 193.4608,-194.0421\"/>\n",
       "<text text-anchor=\"middle\" x=\"179.316\" y=\"-207.8739\" font-family=\"Helvetica,sans-Serif\" font-size=\"14.00\" fill=\"#000000\">True</text>\n",
       "</g>\n",
       "<!-- 4 -->\n",
       "<g id=\"node5\" class=\"node\">\n",
       "<title>4</title>\n",
       "<path fill=\"#f3c3a0\" stroke=\"#000000\" d=\"M364.5,-187C364.5,-187 245.5,-187 245.5,-187 239.5,-187 233.5,-181 233.5,-175 233.5,-175 233.5,-116 233.5,-116 233.5,-110 239.5,-104 245.5,-104 245.5,-104 364.5,-104 364.5,-104 370.5,-104 376.5,-110 376.5,-116 376.5,-116 376.5,-175 376.5,-175 376.5,-181 370.5,-187 364.5,-187\"/>\n",
       "<text text-anchor=\"middle\" x=\"305\" y=\"-171.8\" font-family=\"Helvetica,sans-Serif\" font-size=\"14.00\" fill=\"#000000\">km_por_ano &lt;= 24124.006</text>\n",
       "<text text-anchor=\"middle\" x=\"305\" y=\"-156.8\" font-family=\"Helvetica,sans-Serif\" font-size=\"14.00\" fill=\"#000000\">gini = 0.45</text>\n",
       "<text text-anchor=\"middle\" x=\"305\" y=\"-141.8\" font-family=\"Helvetica,sans-Serif\" font-size=\"14.00\" fill=\"#000000\">samples = 5653</text>\n",
       "<text text-anchor=\"middle\" x=\"305\" y=\"-126.8\" font-family=\"Helvetica,sans-Serif\" font-size=\"14.00\" fill=\"#000000\">value = [3716, 1937]</text>\n",
       "<text text-anchor=\"middle\" x=\"305\" y=\"-111.8\" font-family=\"Helvetica,sans-Serif\" font-size=\"14.00\" fill=\"#000000\">class = não</text>\n",
       "</g>\n",
       "<!-- 0&#45;&gt;4 -->\n",
       "<g id=\"edge4\" class=\"edge\">\n",
       "<title>0&#45;&gt;4</title>\n",
       "<path fill=\"none\" stroke=\"#000000\" d=\"M257.5319,-222.8796C262.891,-214.1434 268.5979,-204.8404 274.1282,-195.8253\"/>\n",
       "<polygon fill=\"#000000\" stroke=\"#000000\" points=\"277.1135,-197.6522 279.3592,-187.2981 271.1467,-193.9919 277.1135,-197.6522\"/>\n",
       "<text text-anchor=\"middle\" x=\"285.1839\" y=\"-207.9101\" font-family=\"Helvetica,sans-Serif\" font-size=\"14.00\" fill=\"#000000\">False</text>\n",
       "</g>\n",
       "<!-- 2 -->\n",
       "<g id=\"node3\" class=\"node\">\n",
       "<title>2</title>\n",
       "<path fill=\"#399de5\" stroke=\"#000000\" d=\"M82,-68C82,-68 12,-68 12,-68 6,-68 0,-62 0,-56 0,-56 0,-12 0,-12 0,-6 6,0 12,0 12,0 82,0 82,0 88,0 94,-6 94,-12 94,-12 94,-56 94,-56 94,-62 88,-68 82,-68\"/>\n",
       "<text text-anchor=\"middle\" x=\"47\" y=\"-52.8\" font-family=\"Helvetica,sans-Serif\" font-size=\"14.00\" fill=\"#000000\">gini = 0.0</text>\n",
       "<text text-anchor=\"middle\" x=\"47\" y=\"-37.8\" font-family=\"Helvetica,sans-Serif\" font-size=\"14.00\" fill=\"#000000\">samples = 1935</text>\n",
       "<text text-anchor=\"middle\" x=\"47\" y=\"-22.8\" font-family=\"Helvetica,sans-Serif\" font-size=\"14.00\" fill=\"#000000\">value = [0, 1935]</text>\n",
       "<text text-anchor=\"middle\" x=\"47\" y=\"-7.8\" font-family=\"Helvetica,sans-Serif\" font-size=\"14.00\" fill=\"#000000\">class = sim</text>\n",
       "</g>\n",
       "<!-- 1&#45;&gt;2 -->\n",
       "<g id=\"edge2\" class=\"edge\">\n",
       "<title>1&#45;&gt;2</title>\n",
       "<path fill=\"none\" stroke=\"#000000\" d=\"M117.923,-103.9815C108.4224,-94.607 98.3387,-84.6572 88.8476,-75.2921\"/>\n",
       "<polygon fill=\"#000000\" stroke=\"#000000\" points=\"91.3011,-72.796 81.7246,-68.2637 86.3845,-77.7787 91.3011,-72.796\"/>\n",
       "</g>\n",
       "<!-- 3 -->\n",
       "<g id=\"node4\" class=\"node\">\n",
       "<title>3</title>\n",
       "<path fill=\"#6bb6ec\" stroke=\"#000000\" d=\"M206,-68C206,-68 124,-68 124,-68 118,-68 112,-62 112,-56 112,-56 112,-12 112,-12 112,-6 118,0 124,0 124,0 206,0 206,0 212,0 218,-6 218,-12 218,-12 218,-56 218,-56 218,-62 212,-68 206,-68\"/>\n",
       "<text text-anchor=\"middle\" x=\"165\" y=\"-52.8\" font-family=\"Helvetica,sans-Serif\" font-size=\"14.00\" fill=\"#000000\">gini = 0.321</text>\n",
       "<text text-anchor=\"middle\" x=\"165\" y=\"-37.8\" font-family=\"Helvetica,sans-Serif\" font-size=\"14.00\" fill=\"#000000\">samples = 2412</text>\n",
       "<text text-anchor=\"middle\" x=\"165\" y=\"-22.8\" font-family=\"Helvetica,sans-Serif\" font-size=\"14.00\" fill=\"#000000\">value = [484, 1928]</text>\n",
       "<text text-anchor=\"middle\" x=\"165\" y=\"-7.8\" font-family=\"Helvetica,sans-Serif\" font-size=\"14.00\" fill=\"#000000\">class = sim</text>\n",
       "</g>\n",
       "<!-- 1&#45;&gt;3 -->\n",
       "<g id=\"edge3\" class=\"edge\">\n",
       "<title>1&#45;&gt;3</title>\n",
       "<path fill=\"none\" stroke=\"#000000\" d=\"M161.8618,-103.9815C162.2369,-95.618 162.6324,-86.7965 163.0116,-78.3409\"/>\n",
       "<polygon fill=\"#000000\" stroke=\"#000000\" points=\"166.5119,-78.4105 163.4635,-68.2637 159.519,-78.0968 166.5119,-78.4105\"/>\n",
       "</g>\n",
       "<!-- 5 -->\n",
       "<g id=\"node6\" class=\"node\">\n",
       "<title>5</title>\n",
       "<path fill=\"#fcefe5\" stroke=\"#000000\" d=\"M345,-68C345,-68 257,-68 257,-68 251,-68 245,-62 245,-56 245,-56 245,-12 245,-12 245,-6 251,0 257,0 257,0 345,0 345,0 351,0 357,-6 357,-12 357,-12 357,-56 357,-56 357,-62 351,-68 345,-68\"/>\n",
       "<text text-anchor=\"middle\" x=\"301\" y=\"-52.8\" font-family=\"Helvetica,sans-Serif\" font-size=\"14.00\" fill=\"#000000\">gini = 0.498</text>\n",
       "<text text-anchor=\"middle\" x=\"301\" y=\"-37.8\" font-family=\"Helvetica,sans-Serif\" font-size=\"14.00\" fill=\"#000000\">samples = 3513</text>\n",
       "<text text-anchor=\"middle\" x=\"301\" y=\"-22.8\" font-family=\"Helvetica,sans-Serif\" font-size=\"14.00\" fill=\"#000000\">value = [1879, 1634]</text>\n",
       "<text text-anchor=\"middle\" x=\"301\" y=\"-7.8\" font-family=\"Helvetica,sans-Serif\" font-size=\"14.00\" fill=\"#000000\">class = não</text>\n",
       "</g>\n",
       "<!-- 4&#45;&gt;5 -->\n",
       "<g id=\"edge5\" class=\"edge\">\n",
       "<title>4&#45;&gt;5</title>\n",
       "<path fill=\"none\" stroke=\"#000000\" d=\"M303.5105,-103.9815C303.2105,-95.618 302.894,-86.7965 302.5907,-78.3409\"/>\n",
       "<polygon fill=\"#000000\" stroke=\"#000000\" points=\"306.0855,-78.1317 302.2292,-68.2637 299.09,-78.3828 306.0855,-78.1317\"/>\n",
       "</g>\n",
       "<!-- 6 -->\n",
       "<g id=\"node7\" class=\"node\">\n",
       "<title>6</title>\n",
       "<path fill=\"#e9965a\" stroke=\"#000000\" d=\"M469,-68C469,-68 387,-68 387,-68 381,-68 375,-62 375,-56 375,-56 375,-12 375,-12 375,-6 381,0 387,0 387,0 469,0 469,0 475,0 481,-6 481,-12 481,-12 481,-56 481,-56 481,-62 475,-68 469,-68\"/>\n",
       "<text text-anchor=\"middle\" x=\"428\" y=\"-52.8\" font-family=\"Helvetica,sans-Serif\" font-size=\"14.00\" fill=\"#000000\">gini = 0.243</text>\n",
       "<text text-anchor=\"middle\" x=\"428\" y=\"-37.8\" font-family=\"Helvetica,sans-Serif\" font-size=\"14.00\" fill=\"#000000\">samples = 2140</text>\n",
       "<text text-anchor=\"middle\" x=\"428\" y=\"-22.8\" font-family=\"Helvetica,sans-Serif\" font-size=\"14.00\" fill=\"#000000\">value = [1837, 303]</text>\n",
       "<text text-anchor=\"middle\" x=\"428\" y=\"-7.8\" font-family=\"Helvetica,sans-Serif\" font-size=\"14.00\" fill=\"#000000\">class = não</text>\n",
       "</g>\n",
       "<!-- 4&#45;&gt;6 -->\n",
       "<g id=\"edge6\" class=\"edge\">\n",
       "<title>4&#45;&gt;6</title>\n",
       "<path fill=\"none\" stroke=\"#000000\" d=\"M350.8007,-103.9815C361.2434,-94.5151 372.3333,-84.462 382.7528,-75.0168\"/>\n",
       "<polygon fill=\"#000000\" stroke=\"#000000\" points=\"385.1441,-77.5731 390.2024,-68.2637 380.4428,-72.3868 385.1441,-77.5731\"/>\n",
       "</g>\n",
       "</g>\n",
       "</svg>\n"
      ],
      "text/plain": [
       "<graphviz.files.Source at 0x7fb39d3bcf40>"
      ]
     },
     "execution_count": 16,
     "metadata": {},
     "output_type": "execute_result"
    }
   ],
   "source": [
    "modelo.fit(x_azar, y_azar)\n",
    "\n",
    "features = x_azar.columns\n",
    "\n",
    "dot_data = export_graphviz(modelo, out_file=None, filled=True, rounded=True,\n",
    "                          class_names=[\"não\",\"sim\"],\n",
    "                          feature_names = features)\n",
    "\n",
    "graph = graphviz.Source(dot_data)\n",
    "graph"
   ]
  },
  {
   "cell_type": "code",
   "execution_count": 17,
   "metadata": {
    "colab": {
     "base_uri": "https://localhost:8080/",
     "height": 50
    },
    "colab_type": "code",
    "id": "zdfgLexRPQ54",
    "outputId": "c8c75555-27f2-4ceb-e31b-57d7938723f3"
   },
   "outputs": [
    {
     "name": "stdout",
     "output_type": "stream",
     "text": [
      "Accuracy médio 78.67\n",
      "Intervalo [76.40, 80.94]\n"
     ]
    }
   ],
   "source": [
    "# GroupKFold para analisar como o modelo se comporta com novos grupos\n",
    "\n",
    "SEED = 301\n",
    "np.random.seed(SEED)\n",
    "\n",
    "cv = GroupKFold(n_splits = 10)\n",
    "\n",
    "modelo = DecisionTreeClassifier(max_depth=3)\n",
    "\n",
    "results = cross_validate(modelo, x_azar, y_azar, cv = cv, groups = dados.modelo, return_train_score=False)\n",
    "\n",
    "imprime_resultados(results)"
   ]
  },
  {
   "cell_type": "code",
   "execution_count": 18,
   "metadata": {
    "colab": {
     "base_uri": "https://localhost:8080/",
     "height": 618
    },
    "colab_type": "code",
    "id": "kSe6rPpdQ4Wy",
    "outputId": "e93cc869-3790-4c65-d712-fb1dc82111dc"
   },
   "outputs": [
    {
     "data": {
      "image/svg+xml": [
       "<?xml version=\"1.0\" encoding=\"UTF-8\" standalone=\"no\"?>\n",
       "<!DOCTYPE svg PUBLIC \"-//W3C//DTD SVG 1.1//EN\"\n",
       " \"http://www.w3.org/Graphics/SVG/1.1/DTD/svg11.dtd\">\n",
       "<!-- Generated by graphviz version 2.40.1 (20161225.0304)\n",
       " -->\n",
       "<!-- Title: Tree Pages: 1 -->\n",
       "<svg width=\"712pt\" height=\"433pt\"\n",
       " viewBox=\"0.00 0.00 712.00 433.00\" xmlns=\"http://www.w3.org/2000/svg\" xmlns:xlink=\"http://www.w3.org/1999/xlink\">\n",
       "<g id=\"graph0\" class=\"graph\" transform=\"scale(1 1) rotate(0) translate(4 429)\">\n",
       "<title>Tree</title>\n",
       "<polygon fill=\"#ffffff\" stroke=\"transparent\" points=\"-4,4 -4,-429 708,-429 708,4 -4,4\"/>\n",
       "<!-- 0 -->\n",
       "<g id=\"node1\" class=\"node\">\n",
       "<title>0</title>\n",
       "<path fill=\"#c8e4f8\" stroke=\"#000000\" d=\"M283,-425C283,-425 195,-425 195,-425 189,-425 183,-419 183,-413 183,-413 183,-354 183,-354 183,-348 189,-342 195,-342 195,-342 283,-342 283,-342 289,-342 295,-348 295,-354 295,-354 295,-413 295,-413 295,-419 289,-425 283,-425\"/>\n",
       "<text text-anchor=\"middle\" x=\"239\" y=\"-409.8\" font-family=\"Helvetica,sans-Serif\" font-size=\"14.00\" fill=\"#000000\">preco &lt;= 59982.246</text>\n",
       "<text text-anchor=\"middle\" x=\"239\" y=\"-394.8\" font-family=\"Helvetica,sans-Serif\" font-size=\"14.00\" fill=\"#000000\">gini = 0.487</text>\n",
       "<text text-anchor=\"middle\" x=\"239\" y=\"-379.8\" font-family=\"Helvetica,sans-Serif\" font-size=\"14.00\" fill=\"#000000\">samples = 10000</text>\n",
       "<text text-anchor=\"middle\" x=\"239\" y=\"-364.8\" font-family=\"Helvetica,sans-Serif\" font-size=\"14.00\" fill=\"#000000\">value = [4200, 5800]</text>\n",
       "<text text-anchor=\"middle\" x=\"239\" y=\"-349.8\" font-family=\"Helvetica,sans-Serif\" font-size=\"14.00\" fill=\"#000000\">class = sim</text>\n",
       "</g>\n",
       "<!-- 1 -->\n",
       "<g id=\"node2\" class=\"node\">\n",
       "<title>1</title>\n",
       "<path fill=\"#52a9e8\" stroke=\"#000000\" d=\"M210,-306C210,-306 124,-306 124,-306 118,-306 112,-300 112,-294 112,-294 112,-235 112,-235 112,-229 118,-223 124,-223 124,-223 210,-223 210,-223 216,-223 222,-229 222,-235 222,-235 222,-294 222,-294 222,-300 216,-306 210,-306\"/>\n",
       "<text text-anchor=\"middle\" x=\"167\" y=\"-290.8\" font-family=\"Helvetica,sans-Serif\" font-size=\"14.00\" fill=\"#000000\">preco &lt;= 40083.385</text>\n",
       "<text text-anchor=\"middle\" x=\"167\" y=\"-275.8\" font-family=\"Helvetica,sans-Serif\" font-size=\"14.00\" fill=\"#000000\">gini = 0.198</text>\n",
       "<text text-anchor=\"middle\" x=\"167\" y=\"-260.8\" font-family=\"Helvetica,sans-Serif\" font-size=\"14.00\" fill=\"#000000\">samples = 4347</text>\n",
       "<text text-anchor=\"middle\" x=\"167\" y=\"-245.8\" font-family=\"Helvetica,sans-Serif\" font-size=\"14.00\" fill=\"#000000\">value = [484, 3863]</text>\n",
       "<text text-anchor=\"middle\" x=\"167\" y=\"-230.8\" font-family=\"Helvetica,sans-Serif\" font-size=\"14.00\" fill=\"#000000\">class = sim</text>\n",
       "</g>\n",
       "<!-- 0&#45;&gt;1 -->\n",
       "<g id=\"edge1\" class=\"edge\">\n",
       "<title>0&#45;&gt;1</title>\n",
       "<path fill=\"none\" stroke=\"#000000\" d=\"M213.8179,-341.8796C208.5867,-333.2335 203.0195,-324.0322 197.6177,-315.1042\"/>\n",
       "<polygon fill=\"#000000\" stroke=\"#000000\" points=\"200.4608,-313.0421 192.2896,-306.2981 194.4717,-316.6658 200.4608,-313.0421\"/>\n",
       "<text text-anchor=\"middle\" x=\"186.316\" y=\"-326.8739\" font-family=\"Helvetica,sans-Serif\" font-size=\"14.00\" fill=\"#000000\">True</text>\n",
       "</g>\n",
       "<!-- 6 -->\n",
       "<g id=\"node7\" class=\"node\">\n",
       "<title>6</title>\n",
       "<path fill=\"#f3c3a0\" stroke=\"#000000\" d=\"M417.5,-306C417.5,-306 298.5,-306 298.5,-306 292.5,-306 286.5,-300 286.5,-294 286.5,-294 286.5,-235 286.5,-235 286.5,-229 292.5,-223 298.5,-223 298.5,-223 417.5,-223 417.5,-223 423.5,-223 429.5,-229 429.5,-235 429.5,-235 429.5,-294 429.5,-294 429.5,-300 423.5,-306 417.5,-306\"/>\n",
       "<text text-anchor=\"middle\" x=\"358\" y=\"-290.8\" font-family=\"Helvetica,sans-Serif\" font-size=\"14.00\" fill=\"#000000\">km_por_ano &lt;= 24124.006</text>\n",
       "<text text-anchor=\"middle\" x=\"358\" y=\"-275.8\" font-family=\"Helvetica,sans-Serif\" font-size=\"14.00\" fill=\"#000000\">gini = 0.45</text>\n",
       "<text text-anchor=\"middle\" x=\"358\" y=\"-260.8\" font-family=\"Helvetica,sans-Serif\" font-size=\"14.00\" fill=\"#000000\">samples = 5653</text>\n",
       "<text text-anchor=\"middle\" x=\"358\" y=\"-245.8\" font-family=\"Helvetica,sans-Serif\" font-size=\"14.00\" fill=\"#000000\">value = [3716, 1937]</text>\n",
       "<text text-anchor=\"middle\" x=\"358\" y=\"-230.8\" font-family=\"Helvetica,sans-Serif\" font-size=\"14.00\" fill=\"#000000\">class = não</text>\n",
       "</g>\n",
       "<!-- 0&#45;&gt;6 -->\n",
       "<g id=\"edge6\" class=\"edge\">\n",
       "<title>0&#45;&gt;6</title>\n",
       "<path fill=\"none\" stroke=\"#000000\" d=\"M280.6204,-341.8796C289.8069,-332.6931 299.6202,-322.8798 309.0664,-313.4336\"/>\n",
       "<polygon fill=\"#000000\" stroke=\"#000000\" points=\"311.6057,-315.8441 316.2019,-306.2981 306.6559,-310.8943 311.6057,-315.8441\"/>\n",
       "<text text-anchor=\"middle\" x=\"316.2019\" y=\"-327.5981\" font-family=\"Helvetica,sans-Serif\" font-size=\"14.00\" fill=\"#000000\">False</text>\n",
       "</g>\n",
       "<!-- 2 -->\n",
       "<g id=\"node3\" class=\"node\">\n",
       "<title>2</title>\n",
       "<path fill=\"#399de5\" stroke=\"#000000\" d=\"M82,-179.5C82,-179.5 12,-179.5 12,-179.5 6,-179.5 0,-173.5 0,-167.5 0,-167.5 0,-123.5 0,-123.5 0,-117.5 6,-111.5 12,-111.5 12,-111.5 82,-111.5 82,-111.5 88,-111.5 94,-117.5 94,-123.5 94,-123.5 94,-167.5 94,-167.5 94,-173.5 88,-179.5 82,-179.5\"/>\n",
       "<text text-anchor=\"middle\" x=\"47\" y=\"-164.3\" font-family=\"Helvetica,sans-Serif\" font-size=\"14.00\" fill=\"#000000\">gini = 0.0</text>\n",
       "<text text-anchor=\"middle\" x=\"47\" y=\"-149.3\" font-family=\"Helvetica,sans-Serif\" font-size=\"14.00\" fill=\"#000000\">samples = 1935</text>\n",
       "<text text-anchor=\"middle\" x=\"47\" y=\"-134.3\" font-family=\"Helvetica,sans-Serif\" font-size=\"14.00\" fill=\"#000000\">value = [0, 1935]</text>\n",
       "<text text-anchor=\"middle\" x=\"47\" y=\"-119.3\" font-family=\"Helvetica,sans-Serif\" font-size=\"14.00\" fill=\"#000000\">class = sim</text>\n",
       "</g>\n",
       "<!-- 1&#45;&gt;2 -->\n",
       "<g id=\"edge2\" class=\"edge\">\n",
       "<title>1&#45;&gt;2</title>\n",
       "<path fill=\"none\" stroke=\"#000000\" d=\"M125.0298,-222.8796C113.276,-211.2237 100.5046,-198.5587 88.7628,-186.9148\"/>\n",
       "<polygon fill=\"#000000\" stroke=\"#000000\" points=\"91.1684,-184.3712 81.6033,-179.8149 86.2394,-189.3416 91.1684,-184.3712\"/>\n",
       "</g>\n",
       "<!-- 3 -->\n",
       "<g id=\"node4\" class=\"node\">\n",
       "<title>3</title>\n",
       "<path fill=\"#6bb6ec\" stroke=\"#000000\" d=\"M210,-187C210,-187 124,-187 124,-187 118,-187 112,-181 112,-175 112,-175 112,-116 112,-116 112,-110 118,-104 124,-104 124,-104 210,-104 210,-104 216,-104 222,-110 222,-116 222,-116 222,-175 222,-175 222,-181 216,-187 210,-187\"/>\n",
       "<text text-anchor=\"middle\" x=\"167\" y=\"-171.8\" font-family=\"Helvetica,sans-Serif\" font-size=\"14.00\" fill=\"#000000\">preco &lt;= 41083.029</text>\n",
       "<text text-anchor=\"middle\" x=\"167\" y=\"-156.8\" font-family=\"Helvetica,sans-Serif\" font-size=\"14.00\" fill=\"#000000\">gini = 0.321</text>\n",
       "<text text-anchor=\"middle\" x=\"167\" y=\"-141.8\" font-family=\"Helvetica,sans-Serif\" font-size=\"14.00\" fill=\"#000000\">samples = 2412</text>\n",
       "<text text-anchor=\"middle\" x=\"167\" y=\"-126.8\" font-family=\"Helvetica,sans-Serif\" font-size=\"14.00\" fill=\"#000000\">value = [484, 1928]</text>\n",
       "<text text-anchor=\"middle\" x=\"167\" y=\"-111.8\" font-family=\"Helvetica,sans-Serif\" font-size=\"14.00\" fill=\"#000000\">class = sim</text>\n",
       "</g>\n",
       "<!-- 1&#45;&gt;3 -->\n",
       "<g id=\"edge3\" class=\"edge\">\n",
       "<title>1&#45;&gt;3</title>\n",
       "<path fill=\"none\" stroke=\"#000000\" d=\"M167,-222.8796C167,-214.6838 167,-205.9891 167,-197.5013\"/>\n",
       "<polygon fill=\"#000000\" stroke=\"#000000\" points=\"170.5001,-197.298 167,-187.2981 163.5001,-197.2981 170.5001,-197.298\"/>\n",
       "</g>\n",
       "<!-- 4 -->\n",
       "<g id=\"node5\" class=\"node\">\n",
       "<title>4</title>\n",
       "<path fill=\"#95cbf1\" stroke=\"#000000\" d=\"M83.5,-68C83.5,-68 18.5,-68 18.5,-68 12.5,-68 6.5,-62 6.5,-56 6.5,-56 6.5,-12 6.5,-12 6.5,-6 12.5,0 18.5,0 18.5,0 83.5,0 83.5,0 89.5,0 95.5,-6 95.5,-12 95.5,-12 95.5,-56 95.5,-56 95.5,-62 89.5,-68 83.5,-68\"/>\n",
       "<text text-anchor=\"middle\" x=\"51\" y=\"-52.8\" font-family=\"Helvetica,sans-Serif\" font-size=\"14.00\" fill=\"#000000\">gini = 0.434</text>\n",
       "<text text-anchor=\"middle\" x=\"51\" y=\"-37.8\" font-family=\"Helvetica,sans-Serif\" font-size=\"14.00\" fill=\"#000000\">samples = 110</text>\n",
       "<text text-anchor=\"middle\" x=\"51\" y=\"-22.8\" font-family=\"Helvetica,sans-Serif\" font-size=\"14.00\" fill=\"#000000\">value = [35, 75]</text>\n",
       "<text text-anchor=\"middle\" x=\"51\" y=\"-7.8\" font-family=\"Helvetica,sans-Serif\" font-size=\"14.00\" fill=\"#000000\">class = sim</text>\n",
       "</g>\n",
       "<!-- 3&#45;&gt;4 -->\n",
       "<g id=\"edge4\" class=\"edge\">\n",
       "<title>3&#45;&gt;4</title>\n",
       "<path fill=\"none\" stroke=\"#000000\" d=\"M123.8059,-103.9815C114.0531,-94.607 103.7017,-84.6572 93.9586,-75.2921\"/>\n",
       "<polygon fill=\"#000000\" stroke=\"#000000\" points=\"96.2815,-72.6702 86.6465,-68.2637 91.4306,-77.7169 96.2815,-72.6702\"/>\n",
       "</g>\n",
       "<!-- 5 -->\n",
       "<g id=\"node6\" class=\"node\">\n",
       "<title>5</title>\n",
       "<path fill=\"#69b5eb\" stroke=\"#000000\" d=\"M208,-68C208,-68 126,-68 126,-68 120,-68 114,-62 114,-56 114,-56 114,-12 114,-12 114,-6 120,0 126,0 126,0 208,0 208,0 214,0 220,-6 220,-12 220,-12 220,-56 220,-56 220,-62 214,-68 208,-68\"/>\n",
       "<text text-anchor=\"middle\" x=\"167\" y=\"-52.8\" font-family=\"Helvetica,sans-Serif\" font-size=\"14.00\" fill=\"#000000\">gini = 0.314</text>\n",
       "<text text-anchor=\"middle\" x=\"167\" y=\"-37.8\" font-family=\"Helvetica,sans-Serif\" font-size=\"14.00\" fill=\"#000000\">samples = 2302</text>\n",
       "<text text-anchor=\"middle\" x=\"167\" y=\"-22.8\" font-family=\"Helvetica,sans-Serif\" font-size=\"14.00\" fill=\"#000000\">value = [449, 1853]</text>\n",
       "<text text-anchor=\"middle\" x=\"167\" y=\"-7.8\" font-family=\"Helvetica,sans-Serif\" font-size=\"14.00\" fill=\"#000000\">class = sim</text>\n",
       "</g>\n",
       "<!-- 3&#45;&gt;5 -->\n",
       "<g id=\"edge5\" class=\"edge\">\n",
       "<title>3&#45;&gt;5</title>\n",
       "<path fill=\"none\" stroke=\"#000000\" d=\"M167,-103.9815C167,-95.618 167,-86.7965 167,-78.3409\"/>\n",
       "<polygon fill=\"#000000\" stroke=\"#000000\" points=\"170.5001,-78.2636 167,-68.2637 163.5001,-78.2637 170.5001,-78.2636\"/>\n",
       "</g>\n",
       "<!-- 7 -->\n",
       "<g id=\"node8\" class=\"node\">\n",
       "<title>7</title>\n",
       "<path fill=\"#fcefe5\" stroke=\"#000000\" d=\"M402,-187C402,-187 314,-187 314,-187 308,-187 302,-181 302,-175 302,-175 302,-116 302,-116 302,-110 308,-104 314,-104 314,-104 402,-104 402,-104 408,-104 414,-110 414,-116 414,-116 414,-175 414,-175 414,-181 408,-187 402,-187\"/>\n",
       "<text text-anchor=\"middle\" x=\"358\" y=\"-171.8\" font-family=\"Helvetica,sans-Serif\" font-size=\"14.00\" fill=\"#000000\">preco &lt;= 99974.41</text>\n",
       "<text text-anchor=\"middle\" x=\"358\" y=\"-156.8\" font-family=\"Helvetica,sans-Serif\" font-size=\"14.00\" fill=\"#000000\">gini = 0.498</text>\n",
       "<text text-anchor=\"middle\" x=\"358\" y=\"-141.8\" font-family=\"Helvetica,sans-Serif\" font-size=\"14.00\" fill=\"#000000\">samples = 3513</text>\n",
       "<text text-anchor=\"middle\" x=\"358\" y=\"-126.8\" font-family=\"Helvetica,sans-Serif\" font-size=\"14.00\" fill=\"#000000\">value = [1879, 1634]</text>\n",
       "<text text-anchor=\"middle\" x=\"358\" y=\"-111.8\" font-family=\"Helvetica,sans-Serif\" font-size=\"14.00\" fill=\"#000000\">class = não</text>\n",
       "</g>\n",
       "<!-- 6&#45;&gt;7 -->\n",
       "<g id=\"edge7\" class=\"edge\">\n",
       "<title>6&#45;&gt;7</title>\n",
       "<path fill=\"none\" stroke=\"#000000\" d=\"M358,-222.8796C358,-214.6838 358,-205.9891 358,-197.5013\"/>\n",
       "<polygon fill=\"#000000\" stroke=\"#000000\" points=\"361.5001,-197.298 358,-187.2981 354.5001,-197.2981 361.5001,-197.298\"/>\n",
       "</g>\n",
       "<!-- 10 -->\n",
       "<g id=\"node11\" class=\"node\">\n",
       "<title>10</title>\n",
       "<path fill=\"#e9965a\" stroke=\"#000000\" d=\"M582,-187C582,-187 490,-187 490,-187 484,-187 478,-181 478,-175 478,-175 478,-116 478,-116 478,-110 484,-104 490,-104 490,-104 582,-104 582,-104 588,-104 594,-110 594,-116 594,-116 594,-175 594,-175 594,-181 588,-187 582,-187\"/>\n",
       "<text text-anchor=\"middle\" x=\"536\" y=\"-171.8\" font-family=\"Helvetica,sans-Serif\" font-size=\"14.00\" fill=\"#000000\">preco &lt;= 100076.957</text>\n",
       "<text text-anchor=\"middle\" x=\"536\" y=\"-156.8\" font-family=\"Helvetica,sans-Serif\" font-size=\"14.00\" fill=\"#000000\">gini = 0.243</text>\n",
       "<text text-anchor=\"middle\" x=\"536\" y=\"-141.8\" font-family=\"Helvetica,sans-Serif\" font-size=\"14.00\" fill=\"#000000\">samples = 2140</text>\n",
       "<text text-anchor=\"middle\" x=\"536\" y=\"-126.8\" font-family=\"Helvetica,sans-Serif\" font-size=\"14.00\" fill=\"#000000\">value = [1837, 303]</text>\n",
       "<text text-anchor=\"middle\" x=\"536\" y=\"-111.8\" font-family=\"Helvetica,sans-Serif\" font-size=\"14.00\" fill=\"#000000\">class = não</text>\n",
       "</g>\n",
       "<!-- 6&#45;&gt;10 -->\n",
       "<g id=\"edge10\" class=\"edge\">\n",
       "<title>6&#45;&gt;10</title>\n",
       "<path fill=\"none\" stroke=\"#000000\" d=\"M420.2558,-222.8796C436.2204,-212.2066 453.4508,-200.6874 469.6152,-189.8809\"/>\n",
       "<polygon fill=\"#000000\" stroke=\"#000000\" points=\"471.5905,-192.7704 477.9586,-184.303 467.7,-186.9511 471.5905,-192.7704\"/>\n",
       "</g>\n",
       "<!-- 8 -->\n",
       "<g id=\"node9\" class=\"node\">\n",
       "<title>8</title>\n",
       "<path fill=\"#f9e0ce\" stroke=\"#000000\" d=\"M338,-68C338,-68 250,-68 250,-68 244,-68 238,-62 238,-56 238,-56 238,-12 238,-12 238,-6 244,0 250,0 250,0 338,0 338,0 344,0 350,-6 350,-12 350,-12 350,-56 350,-56 350,-62 344,-68 338,-68\"/>\n",
       "<text text-anchor=\"middle\" x=\"294\" y=\"-52.8\" font-family=\"Helvetica,sans-Serif\" font-size=\"14.00\" fill=\"#000000\">gini = 0.49</text>\n",
       "<text text-anchor=\"middle\" x=\"294\" y=\"-37.8\" font-family=\"Helvetica,sans-Serif\" font-size=\"14.00\" fill=\"#000000\">samples = 2944</text>\n",
       "<text text-anchor=\"middle\" x=\"294\" y=\"-22.8\" font-family=\"Helvetica,sans-Serif\" font-size=\"14.00\" fill=\"#000000\">value = [1682, 1262]</text>\n",
       "<text text-anchor=\"middle\" x=\"294\" y=\"-7.8\" font-family=\"Helvetica,sans-Serif\" font-size=\"14.00\" fill=\"#000000\">class = não</text>\n",
       "</g>\n",
       "<!-- 7&#45;&gt;8 -->\n",
       "<g id=\"edge8\" class=\"edge\">\n",
       "<title>7&#45;&gt;8</title>\n",
       "<path fill=\"none\" stroke=\"#000000\" d=\"M334.1688,-103.9815C329.1044,-95.1585 323.7475,-85.8258 318.6532,-76.9506\"/>\n",
       "<polygon fill=\"#000000\" stroke=\"#000000\" points=\"321.6807,-75.1942 313.667,-68.2637 315.6097,-78.6789 321.6807,-75.1942\"/>\n",
       "</g>\n",
       "<!-- 9 -->\n",
       "<g id=\"node10\" class=\"node\">\n",
       "<title>9</title>\n",
       "<path fill=\"#a2d1f3\" stroke=\"#000000\" d=\"M456,-68C456,-68 380,-68 380,-68 374,-68 368,-62 368,-56 368,-56 368,-12 368,-12 368,-6 374,0 380,0 380,0 456,0 456,0 462,0 468,-6 468,-12 468,-12 468,-56 468,-56 468,-62 462,-68 456,-68\"/>\n",
       "<text text-anchor=\"middle\" x=\"418\" y=\"-52.8\" font-family=\"Helvetica,sans-Serif\" font-size=\"14.00\" fill=\"#000000\">gini = 0.453</text>\n",
       "<text text-anchor=\"middle\" x=\"418\" y=\"-37.8\" font-family=\"Helvetica,sans-Serif\" font-size=\"14.00\" fill=\"#000000\">samples = 569</text>\n",
       "<text text-anchor=\"middle\" x=\"418\" y=\"-22.8\" font-family=\"Helvetica,sans-Serif\" font-size=\"14.00\" fill=\"#000000\">value = [197, 372]</text>\n",
       "<text text-anchor=\"middle\" x=\"418\" y=\"-7.8\" font-family=\"Helvetica,sans-Serif\" font-size=\"14.00\" fill=\"#000000\">class = sim</text>\n",
       "</g>\n",
       "<!-- 7&#45;&gt;9 -->\n",
       "<g id=\"edge9\" class=\"edge\">\n",
       "<title>7&#45;&gt;9</title>\n",
       "<path fill=\"none\" stroke=\"#000000\" d=\"M380.3418,-103.9815C385.0402,-95.2504 390.0071,-86.0202 394.7383,-77.2281\"/>\n",
       "<polygon fill=\"#000000\" stroke=\"#000000\" points=\"397.9056,-78.7282 399.5621,-68.2637 391.7414,-75.4111 397.9056,-78.7282\"/>\n",
       "</g>\n",
       "<!-- 11 -->\n",
       "<g id=\"node12\" class=\"node\">\n",
       "<title>11</title>\n",
       "<path fill=\"#e68742\" stroke=\"#000000\" d=\"M574,-68C574,-68 498,-68 498,-68 492,-68 486,-62 486,-56 486,-56 486,-12 486,-12 486,-6 492,0 498,0 498,0 574,0 574,0 580,0 586,-6 586,-12 586,-12 586,-56 586,-56 586,-62 580,-68 574,-68\"/>\n",
       "<text text-anchor=\"middle\" x=\"536\" y=\"-52.8\" font-family=\"Helvetica,sans-Serif\" font-size=\"14.00\" fill=\"#000000\">gini = 0.082</text>\n",
       "<text text-anchor=\"middle\" x=\"536\" y=\"-37.8\" font-family=\"Helvetica,sans-Serif\" font-size=\"14.00\" fill=\"#000000\">samples = 1809</text>\n",
       "<text text-anchor=\"middle\" x=\"536\" y=\"-22.8\" font-family=\"Helvetica,sans-Serif\" font-size=\"14.00\" fill=\"#000000\">value = [1732, 77]</text>\n",
       "<text text-anchor=\"middle\" x=\"536\" y=\"-7.8\" font-family=\"Helvetica,sans-Serif\" font-size=\"14.00\" fill=\"#000000\">class = não</text>\n",
       "</g>\n",
       "<!-- 10&#45;&gt;11 -->\n",
       "<g id=\"edge11\" class=\"edge\">\n",
       "<title>10&#45;&gt;11</title>\n",
       "<path fill=\"none\" stroke=\"#000000\" d=\"M536,-103.9815C536,-95.618 536,-86.7965 536,-78.3409\"/>\n",
       "<polygon fill=\"#000000\" stroke=\"#000000\" points=\"539.5001,-78.2636 536,-68.2637 532.5001,-78.2637 539.5001,-78.2636\"/>\n",
       "</g>\n",
       "<!-- 12 -->\n",
       "<g id=\"node13\" class=\"node\">\n",
       "<title>12</title>\n",
       "<path fill=\"#95cbf1\" stroke=\"#000000\" d=\"M692,-68C692,-68 616,-68 616,-68 610,-68 604,-62 604,-56 604,-56 604,-12 604,-12 604,-6 610,0 616,0 616,0 692,0 692,0 698,0 704,-6 704,-12 704,-12 704,-56 704,-56 704,-62 698,-68 692,-68\"/>\n",
       "<text text-anchor=\"middle\" x=\"654\" y=\"-52.8\" font-family=\"Helvetica,sans-Serif\" font-size=\"14.00\" fill=\"#000000\">gini = 0.433</text>\n",
       "<text text-anchor=\"middle\" x=\"654\" y=\"-37.8\" font-family=\"Helvetica,sans-Serif\" font-size=\"14.00\" fill=\"#000000\">samples = 331</text>\n",
       "<text text-anchor=\"middle\" x=\"654\" y=\"-22.8\" font-family=\"Helvetica,sans-Serif\" font-size=\"14.00\" fill=\"#000000\">value = [105, 226]</text>\n",
       "<text text-anchor=\"middle\" x=\"654\" y=\"-7.8\" font-family=\"Helvetica,sans-Serif\" font-size=\"14.00\" fill=\"#000000\">class = sim</text>\n",
       "</g>\n",
       "<!-- 10&#45;&gt;12 -->\n",
       "<g id=\"edge12\" class=\"edge\">\n",
       "<title>10&#45;&gt;12</title>\n",
       "<path fill=\"none\" stroke=\"#000000\" d=\"M579.9388,-103.9815C589.8598,-94.607 600.3897,-84.6572 610.3008,-75.2921\"/>\n",
       "<polygon fill=\"#000000\" stroke=\"#000000\" points=\"612.8743,-77.6757 617.7389,-68.2637 608.0666,-72.5878 612.8743,-77.6757\"/>\n",
       "</g>\n",
       "</g>\n",
       "</svg>\n"
      ],
      "text/plain": [
       "<graphviz.files.Source at 0x7fb385492b50>"
      ]
     },
     "execution_count": 18,
     "metadata": {},
     "output_type": "execute_result"
    }
   ],
   "source": [
    "modelo.fit(x_azar, y_azar)\n",
    "\n",
    "features = x_azar.columns\n",
    "\n",
    "dot_data = export_graphviz(modelo, out_file=None, filled=True, rounded=True,\n",
    "                          class_names=[\"não\",\"sim\"],\n",
    "                          feature_names = features)\n",
    "\n",
    "graph = graphviz.Source(dot_data)\n",
    "graph"
   ]
  },
  {
   "cell_type": "code",
   "execution_count": 19,
   "metadata": {
    "colab": {
     "base_uri": "https://localhost:8080/",
     "height": 50
    },
    "colab_type": "code",
    "id": "2mZNqHhCQ7DO",
    "outputId": "e74e04e4-ddf8-442d-f530-ab40b3db04dc"
   },
   "outputs": [
    {
     "name": "stdout",
     "output_type": "stream",
     "text": [
      "Accuracy médio 77.19\n",
      "Intervalo [75.26, 79.13]\n"
     ]
    }
   ],
   "source": [
    "# GroupKFold para analisar como o modelo se comporta com novos grupos\n",
    "\n",
    "SEED = 301\n",
    "np.random.seed(SEED)\n",
    "\n",
    "cv = GroupKFold(n_splits = 10)\n",
    "\n",
    "modelo = DecisionTreeClassifier(max_depth=10)\n",
    "\n",
    "results = cross_validate(modelo, x_azar, y_azar, cv = cv, groups = dados.modelo, return_train_score=False)\n",
    "\n",
    "imprime_resultados(results)"
   ]
  },
  {
   "cell_type": "markdown",
   "metadata": {
    "colab_type": "text",
    "id": "GMXJcGqWTiIp"
   },
   "source": [
    "# Explorando hiper parâmetros em uma dimensão"
   ]
  },
  {
   "cell_type": "code",
   "execution_count": 20,
   "metadata": {
    "colab": {
     "base_uri": "https://localhost:8080/",
     "height": 733
    },
    "colab_type": "code",
    "id": "xTV7Tc4aRFTF",
    "outputId": "a5d355cc-fb81-4c99-d67c-bf445de7d9fc",
    "scrolled": true
   },
   "outputs": [
    {
     "name": "stdout",
     "output_type": "stream",
     "text": [
      "Arvore max_depth = 1, treino = 75.79, teste = 75.78\n",
      "Arvore max_depth = 2, treino = 75.79, teste = 75.78\n",
      "Arvore max_depth = 3, treino = 78.75, teste = 78.67\n",
      "Arvore max_depth = 4, treino = 78.79, teste = 78.63\n",
      "Arvore max_depth = 5, treino = 78.94, teste = 78.56\n",
      "Arvore max_depth = 6, treino = 79.17, teste = 78.12\n",
      "Arvore max_depth = 7, treino = 79.50, teste = 77.96\n",
      "Arvore max_depth = 8, treino = 79.89, teste = 77.86\n",
      "Arvore max_depth = 9, treino = 80.46, teste = 77.38\n",
      "Arvore max_depth = 10, treino = 81.16, teste = 77.19\n",
      "Arvore max_depth = 11, treino = 82.03, teste = 76.97\n",
      "Arvore max_depth = 12, treino = 82.89, teste = 76.49\n",
      "Arvore max_depth = 13, treino = 83.95, teste = 75.81\n",
      "Arvore max_depth = 14, treino = 85.03, teste = 75.66\n",
      "Arvore max_depth = 15, treino = 86.14, teste = 75.16\n",
      "Arvore max_depth = 16, treino = 87.19, teste = 75.11\n",
      "Arvore max_depth = 17, treino = 88.31, teste = 74.74\n",
      "Arvore max_depth = 18, treino = 89.26, teste = 74.33\n",
      "Arvore max_depth = 19, treino = 90.32, teste = 74.34\n",
      "Arvore max_depth = 20, treino = 91.32, teste = 74.22\n",
      "Arvore max_depth = 21, treino = 92.14, teste = 73.80\n",
      "Arvore max_depth = 22, treino = 93.02, teste = 73.81\n",
      "Arvore max_depth = 23, treino = 93.80, teste = 73.38\n",
      "Arvore max_depth = 24, treino = 94.47, teste = 73.43\n",
      "Arvore max_depth = 25, treino = 95.16, teste = 73.14\n",
      "Arvore max_depth = 26, treino = 95.74, teste = 73.04\n",
      "Arvore max_depth = 27, treino = 96.33, teste = 72.91\n",
      "Arvore max_depth = 28, treino = 96.75, teste = 72.66\n",
      "Arvore max_depth = 29, treino = 97.10, teste = 72.73\n",
      "Arvore max_depth = 30, treino = 97.43, teste = 72.81\n",
      "Arvore max_depth = 31, treino = 97.80, teste = 72.86\n",
      "Arvore max_depth = 32, treino = 98.10, teste = 72.52\n"
     ]
    },
    {
     "data": {
      "text/html": [
       "<div>\n",
       "<style scoped>\n",
       "    .dataframe tbody tr th:only-of-type {\n",
       "        vertical-align: middle;\n",
       "    }\n",
       "\n",
       "    .dataframe tbody tr th {\n",
       "        vertical-align: top;\n",
       "    }\n",
       "\n",
       "    .dataframe thead th {\n",
       "        text-align: right;\n",
       "    }\n",
       "</style>\n",
       "<table border=\"1\" class=\"dataframe\">\n",
       "  <thead>\n",
       "    <tr style=\"text-align: right;\">\n",
       "      <th></th>\n",
       "      <th>max_depth</th>\n",
       "      <th>train</th>\n",
       "      <th>test</th>\n",
       "    </tr>\n",
       "  </thead>\n",
       "  <tbody>\n",
       "    <tr>\n",
       "      <th>0</th>\n",
       "      <td>1</td>\n",
       "      <td>75.791169</td>\n",
       "      <td>75.784219</td>\n",
       "    </tr>\n",
       "    <tr>\n",
       "      <th>1</th>\n",
       "      <td>2</td>\n",
       "      <td>75.791169</td>\n",
       "      <td>75.784219</td>\n",
       "    </tr>\n",
       "    <tr>\n",
       "      <th>2</th>\n",
       "      <td>3</td>\n",
       "      <td>78.750993</td>\n",
       "      <td>78.672633</td>\n",
       "    </tr>\n",
       "    <tr>\n",
       "      <th>3</th>\n",
       "      <td>4</td>\n",
       "      <td>78.787628</td>\n",
       "      <td>78.632803</td>\n",
       "    </tr>\n",
       "    <tr>\n",
       "      <th>4</th>\n",
       "      <td>5</td>\n",
       "      <td>78.941007</td>\n",
       "      <td>78.555912</td>\n",
       "    </tr>\n",
       "  </tbody>\n",
       "</table>\n",
       "</div>"
      ],
      "text/plain": [
       "   max_depth      train       test\n",
       "0          1  75.791169  75.784219\n",
       "1          2  75.791169  75.784219\n",
       "2          3  78.750993  78.672633\n",
       "3          4  78.787628  78.632803\n",
       "4          5  78.941007  78.555912"
      ]
     },
     "execution_count": 20,
     "metadata": {},
     "output_type": "execute_result"
    }
   ],
   "source": [
    "def roda_arvore_de_decisao(max_depth):\n",
    "  SEED = 301\n",
    "  np.random.seed(SEED)\n",
    "\n",
    "  cv = GroupKFold(n_splits = 10)\n",
    "  modelo = DecisionTreeClassifier(max_depth=max_depth)\n",
    "  results = cross_validate(modelo, x_azar, y_azar, cv = cv, groups = dados.modelo, return_train_score=True)\n",
    "  train_score = results['train_score'].mean() * 100\n",
    "  test_score = results['test_score'].mean() * 100\n",
    "  print(\"Arvore max_depth = %d, treino = %.2f, teste = %.2f\" % (max_depth, train_score, test_score))\n",
    "  tabela = [max_depth, train_score, test_score]\n",
    "  return tabela\n",
    "  \n",
    "resultados = [roda_arvore_de_decisao(i) for i in range(1,33)]\n",
    "resultados = pd.DataFrame(resultados, columns= [\"max_depth\",\"train\",\"test\"])\n",
    "resultados.head()"
   ]
  },
  {
   "cell_type": "code",
   "execution_count": 21,
   "metadata": {
    "colab": {
     "base_uri": "https://localhost:8080/",
     "height": 301
    },
    "colab_type": "code",
    "id": "6HBLCc7QTsLt",
    "outputId": "5c14e473-e4ac-4913-8e17-89a417896d2a"
   },
   "outputs": [
    {
     "data": {
      "text/plain": [
       "<AxesSubplot:xlabel='max_depth', ylabel='train'>"
      ]
     },
     "execution_count": 21,
     "metadata": {},
     "output_type": "execute_result"
    },
    {
     "data": {
      "image/png": "[encoded data removed]",
      "text/plain": [
       "<Figure size 432x288 with 1 Axes>"
      ]
     },
     "metadata": {
      "needs_background": "light"
     },
     "output_type": "display_data"
    }
   ],
   "source": [
    "sns.lineplot(x = \"max_depth\", y = \"train\", data = resultados)"
   ]
  },
  {
   "cell_type": "markdown",
   "metadata": {
    "colab_type": "text",
    "id": "j-o6VtTrXbhu"
   },
   "source": [
    "# OVERFIT: ficou \"perfeito\" para o treino mas ruim para o teste"
   ]
  },
  {
   "cell_type": "code",
   "execution_count": 22,
   "metadata": {
    "colab": {
     "base_uri": "https://localhost:8080/",
     "height": 301
    },
    "colab_type": "code",
    "id": "OhwJ_FAnWOlq",
    "outputId": "b136f667-4257-48eb-9bc5-b7f0fe53f4fb"
   },
   "outputs": [
    {
     "data": {
      "text/plain": [
       "<matplotlib.legend.Legend at 0x7fb385458af0>"
      ]
     },
     "execution_count": 22,
     "metadata": {},
     "output_type": "execute_result"
    },
    {
     "data": {
      "image/png": "[encoded data removed]",
      "text/plain": [
       "<Figure size 432x288 with 1 Axes>"
      ]
     },
     "metadata": {
      "needs_background": "light"
     },
     "output_type": "display_data"
    }
   ],
   "source": [
    "sns.lineplot(x = \"max_depth\", y = \"train\", data = resultados)\n",
    "sns.lineplot(x = \"max_depth\", y = \"test\", data = resultados)\n",
    "plt.legend([\"Treino\", \"Teste\"])"
   ]
  },
  {
   "cell_type": "code",
   "execution_count": 23,
   "metadata": {
    "colab": {
     "base_uri": "https://localhost:8080/",
     "height": 195
    },
    "colab_type": "code",
    "id": "wXmQpoGaXXqP",
    "outputId": "40f9ea94-6de4-4dff-fff1-d8ebc7739f63"
   },
   "outputs": [
    {
     "data": {
      "text/html": [
       "<div>\n",
       "<style scoped>\n",
       "    .dataframe tbody tr th:only-of-type {\n",
       "        vertical-align: middle;\n",
       "    }\n",
       "\n",
       "    .dataframe tbody tr th {\n",
       "        vertical-align: top;\n",
       "    }\n",
       "\n",
       "    .dataframe thead th {\n",
       "        text-align: right;\n",
       "    }\n",
       "</style>\n",
       "<table border=\"1\" class=\"dataframe\">\n",
       "  <thead>\n",
       "    <tr style=\"text-align: right;\">\n",
       "      <th></th>\n",
       "      <th>max_depth</th>\n",
       "      <th>train</th>\n",
       "      <th>test</th>\n",
       "    </tr>\n",
       "  </thead>\n",
       "  <tbody>\n",
       "    <tr>\n",
       "      <th>2</th>\n",
       "      <td>3</td>\n",
       "      <td>78.750993</td>\n",
       "      <td>78.672633</td>\n",
       "    </tr>\n",
       "    <tr>\n",
       "      <th>3</th>\n",
       "      <td>4</td>\n",
       "      <td>78.787628</td>\n",
       "      <td>78.632803</td>\n",
       "    </tr>\n",
       "    <tr>\n",
       "      <th>4</th>\n",
       "      <td>5</td>\n",
       "      <td>78.941007</td>\n",
       "      <td>78.555912</td>\n",
       "    </tr>\n",
       "    <tr>\n",
       "      <th>5</th>\n",
       "      <td>6</td>\n",
       "      <td>79.170115</td>\n",
       "      <td>78.123266</td>\n",
       "    </tr>\n",
       "    <tr>\n",
       "      <th>6</th>\n",
       "      <td>7</td>\n",
       "      <td>79.496806</td>\n",
       "      <td>77.963185</td>\n",
       "    </tr>\n",
       "  </tbody>\n",
       "</table>\n",
       "</div>"
      ],
      "text/plain": [
       "   max_depth      train       test\n",
       "2          3  78.750993  78.672633\n",
       "3          4  78.787628  78.632803\n",
       "4          5  78.941007  78.555912\n",
       "5          6  79.170115  78.123266\n",
       "6          7  79.496806  77.963185"
      ]
     },
     "execution_count": 23,
     "metadata": {},
     "output_type": "execute_result"
    }
   ],
   "source": [
    "resultados.sort_values(\"test\", ascending=False).head()"
   ]
  },
  {
   "cell_type": "markdown",
   "metadata": {
    "colab_type": "text",
    "id": "SnW9-CTjcpWp"
   },
   "source": [
    "# Explorando hiper parâmetros em 2 dimensões"
   ]
  },
  {
   "cell_type": "code",
   "execution_count": 24,
   "metadata": {
    "colab": {
     "base_uri": "https://localhost:8080/",
     "height": 2346
    },
    "colab_type": "code",
    "id": "Odrf-gsWXl9u",
    "outputId": "5cd04740-d6c5-40f9-9032-21a12a3f0207",
    "scrolled": true
   },
   "outputs": [
    {
     "name": "stdout",
     "output_type": "stream",
     "text": [
      "Arvore max_depth = 1, min_samples_leaf = 32, treino = 75.79, teste = 75.78\n",
      "Arvore max_depth = 1, min_samples_leaf = 64, treino = 75.79, teste = 75.78\n",
      "Arvore max_depth = 1, min_samples_leaf = 128, treino = 75.79, teste = 75.78\n",
      "Arvore max_depth = 1, min_samples_leaf = 256, treino = 75.79, teste = 75.78\n",
      "Arvore max_depth = 2, min_samples_leaf = 32, treino = 75.79, teste = 75.78\n",
      "Arvore max_depth = 2, min_samples_leaf = 64, treino = 75.79, teste = 75.78\n",
      "Arvore max_depth = 2, min_samples_leaf = 128, treino = 75.79, teste = 75.78\n",
      "Arvore max_depth = 2, min_samples_leaf = 256, treino = 75.79, teste = 75.78\n",
      "Arvore max_depth = 3, min_samples_leaf = 32, treino = 78.75, teste = 78.67\n",
      "Arvore max_depth = 3, min_samples_leaf = 64, treino = 78.75, teste = 78.67\n",
      "Arvore max_depth = 3, min_samples_leaf = 128, treino = 78.75, teste = 78.67\n",
      "Arvore max_depth = 3, min_samples_leaf = 256, treino = 78.75, teste = 78.67\n",
      "Arvore max_depth = 4, min_samples_leaf = 32, treino = 78.75, teste = 78.67\n",
      "Arvore max_depth = 4, min_samples_leaf = 64, treino = 78.75, teste = 78.67\n",
      "Arvore max_depth = 4, min_samples_leaf = 128, treino = 78.75, teste = 78.67\n",
      "Arvore max_depth = 4, min_samples_leaf = 256, treino = 78.75, teste = 78.67\n",
      "Arvore max_depth = 5, min_samples_leaf = 32, treino = 78.82, teste = 78.50\n",
      "Arvore max_depth = 5, min_samples_leaf = 64, treino = 78.79, teste = 78.45\n",
      "Arvore max_depth = 5, min_samples_leaf = 128, treino = 78.77, teste = 78.44\n",
      "Arvore max_depth = 5, min_samples_leaf = 256, treino = 78.77, teste = 78.44\n",
      "Arvore max_depth = 6, min_samples_leaf = 32, treino = 78.96, teste = 78.02\n",
      "Arvore max_depth = 6, min_samples_leaf = 64, treino = 78.92, teste = 78.09\n",
      "Arvore max_depth = 6, min_samples_leaf = 128, treino = 78.85, teste = 78.27\n",
      "Arvore max_depth = 6, min_samples_leaf = 256, treino = 78.79, teste = 78.27\n",
      "Arvore max_depth = 7, min_samples_leaf = 32, treino = 79.24, teste = 77.94\n",
      "Arvore max_depth = 7, min_samples_leaf = 64, treino = 79.18, teste = 78.05\n",
      "Arvore max_depth = 7, min_samples_leaf = 128, treino = 79.01, teste = 78.21\n",
      "Arvore max_depth = 7, min_samples_leaf = 256, treino = 78.85, teste = 78.08\n",
      "Arvore max_depth = 8, min_samples_leaf = 32, treino = 79.47, teste = 77.93\n",
      "Arvore max_depth = 8, min_samples_leaf = 64, treino = 79.30, teste = 77.99\n",
      "Arvore max_depth = 8, min_samples_leaf = 128, treino = 79.05, teste = 78.37\n",
      "Arvore max_depth = 8, min_samples_leaf = 256, treino = 78.89, teste = 77.94\n",
      "Arvore max_depth = 9, min_samples_leaf = 32, treino = 79.80, teste = 77.32\n",
      "Arvore max_depth = 9, min_samples_leaf = 64, treino = 79.46, teste = 77.55\n",
      "Arvore max_depth = 9, min_samples_leaf = 128, treino = 79.12, teste = 78.30\n",
      "Arvore max_depth = 9, min_samples_leaf = 256, treino = 78.90, teste = 77.85\n",
      "Arvore max_depth = 10, min_samples_leaf = 32, treino = 80.05, teste = 77.45\n",
      "Arvore max_depth = 10, min_samples_leaf = 64, treino = 79.55, teste = 77.64\n",
      "Arvore max_depth = 10, min_samples_leaf = 128, treino = 79.16, teste = 78.29\n",
      "Arvore max_depth = 10, min_samples_leaf = 256, treino = 78.90, teste = 77.85\n",
      "Arvore max_depth = 11, min_samples_leaf = 32, treino = 80.21, teste = 77.20\n",
      "Arvore max_depth = 11, min_samples_leaf = 64, treino = 79.60, teste = 77.53\n",
      "Arvore max_depth = 11, min_samples_leaf = 128, treino = 79.19, teste = 78.31\n",
      "Arvore max_depth = 11, min_samples_leaf = 256, treino = 78.90, teste = 77.85\n",
      "Arvore max_depth = 12, min_samples_leaf = 32, treino = 80.34, teste = 77.00\n",
      "Arvore max_depth = 12, min_samples_leaf = 64, treino = 79.72, teste = 77.29\n",
      "Arvore max_depth = 12, min_samples_leaf = 128, treino = 79.21, teste = 78.22\n",
      "Arvore max_depth = 12, min_samples_leaf = 256, treino = 78.90, teste = 77.85\n",
      "Arvore max_depth = 13, min_samples_leaf = 32, treino = 80.51, teste = 76.85\n",
      "Arvore max_depth = 13, min_samples_leaf = 64, treino = 79.74, teste = 77.34\n",
      "Arvore max_depth = 13, min_samples_leaf = 128, treino = 79.21, teste = 78.22\n",
      "Arvore max_depth = 13, min_samples_leaf = 256, treino = 78.90, teste = 77.85\n",
      "Arvore max_depth = 14, min_samples_leaf = 32, treino = 80.60, teste = 76.69\n",
      "Arvore max_depth = 14, min_samples_leaf = 64, treino = 79.77, teste = 77.26\n",
      "Arvore max_depth = 14, min_samples_leaf = 128, treino = 79.21, teste = 78.22\n",
      "Arvore max_depth = 14, min_samples_leaf = 256, treino = 78.90, teste = 77.85\n",
      "Arvore max_depth = 15, min_samples_leaf = 32, treino = 80.70, teste = 76.88\n",
      "Arvore max_depth = 15, min_samples_leaf = 64, treino = 79.79, teste = 77.30\n",
      "Arvore max_depth = 15, min_samples_leaf = 128, treino = 79.21, teste = 78.22\n",
      "Arvore max_depth = 15, min_samples_leaf = 256, treino = 78.90, teste = 77.85\n",
      "Arvore max_depth = 16, min_samples_leaf = 32, treino = 80.76, teste = 76.87\n",
      "Arvore max_depth = 16, min_samples_leaf = 64, treino = 79.79, teste = 77.30\n",
      "Arvore max_depth = 16, min_samples_leaf = 128, treino = 79.21, teste = 78.22\n",
      "Arvore max_depth = 16, min_samples_leaf = 256, treino = 78.90, teste = 77.85\n",
      "Arvore max_depth = 17, min_samples_leaf = 32, treino = 80.82, teste = 76.98\n",
      "Arvore max_depth = 17, min_samples_leaf = 64, treino = 79.79, teste = 77.30\n",
      "Arvore max_depth = 17, min_samples_leaf = 128, treino = 79.21, teste = 78.22\n",
      "Arvore max_depth = 17, min_samples_leaf = 256, treino = 78.90, teste = 77.85\n",
      "Arvore max_depth = 18, min_samples_leaf = 32, treino = 80.85, teste = 76.86\n",
      "Arvore max_depth = 18, min_samples_leaf = 64, treino = 79.79, teste = 77.30\n",
      "Arvore max_depth = 18, min_samples_leaf = 128, treino = 79.21, teste = 78.22\n",
      "Arvore max_depth = 18, min_samples_leaf = 256, treino = 78.90, teste = 77.85\n",
      "Arvore max_depth = 19, min_samples_leaf = 32, treino = 80.86, teste = 76.89\n",
      "Arvore max_depth = 19, min_samples_leaf = 64, treino = 79.79, teste = 77.30\n",
      "Arvore max_depth = 19, min_samples_leaf = 128, treino = 79.21, teste = 78.22\n",
      "Arvore max_depth = 19, min_samples_leaf = 256, treino = 78.90, teste = 77.85\n",
      "Arvore max_depth = 20, min_samples_leaf = 32, treino = 80.88, teste = 76.87\n",
      "Arvore max_depth = 20, min_samples_leaf = 64, treino = 79.79, teste = 77.30\n",
      "Arvore max_depth = 20, min_samples_leaf = 128, treino = 79.21, teste = 78.22\n",
      "Arvore max_depth = 20, min_samples_leaf = 256, treino = 78.90, teste = 77.85\n",
      "Arvore max_depth = 21, min_samples_leaf = 32, treino = 80.88, teste = 76.92\n",
      "Arvore max_depth = 21, min_samples_leaf = 64, treino = 79.79, teste = 77.30\n",
      "Arvore max_depth = 21, min_samples_leaf = 128, treino = 79.21, teste = 78.22\n",
      "Arvore max_depth = 21, min_samples_leaf = 256, treino = 78.90, teste = 77.85\n",
      "Arvore max_depth = 22, min_samples_leaf = 32, treino = 80.88, teste = 76.87\n",
      "Arvore max_depth = 22, min_samples_leaf = 64, treino = 79.79, teste = 77.30\n",
      "Arvore max_depth = 22, min_samples_leaf = 128, treino = 79.21, teste = 78.22\n",
      "Arvore max_depth = 22, min_samples_leaf = 256, treino = 78.90, teste = 77.85\n",
      "Arvore max_depth = 23, min_samples_leaf = 32, treino = 80.88, teste = 76.87\n",
      "Arvore max_depth = 23, min_samples_leaf = 64, treino = 79.79, teste = 77.30\n",
      "Arvore max_depth = 23, min_samples_leaf = 128, treino = 79.21, teste = 78.22\n",
      "Arvore max_depth = 23, min_samples_leaf = 256, treino = 78.90, teste = 77.85\n",
      "Arvore max_depth = 24, min_samples_leaf = 32, treino = 80.89, teste = 76.84\n",
      "Arvore max_depth = 24, min_samples_leaf = 64, treino = 79.79, teste = 77.30\n",
      "Arvore max_depth = 24, min_samples_leaf = 128, treino = 79.21, teste = 78.22\n",
      "Arvore max_depth = 24, min_samples_leaf = 256, treino = 78.90, teste = 77.85\n",
      "Arvore max_depth = 25, min_samples_leaf = 32, treino = 80.89, teste = 76.84\n",
      "Arvore max_depth = 25, min_samples_leaf = 64, treino = 79.79, teste = 77.30\n",
      "Arvore max_depth = 25, min_samples_leaf = 128, treino = 79.21, teste = 78.22\n",
      "Arvore max_depth = 25, min_samples_leaf = 256, treino = 78.90, teste = 77.85\n",
      "Arvore max_depth = 26, min_samples_leaf = 32, treino = 80.89, teste = 76.84\n",
      "Arvore max_depth = 26, min_samples_leaf = 64, treino = 79.79, teste = 77.30\n",
      "Arvore max_depth = 26, min_samples_leaf = 128, treino = 79.21, teste = 78.22\n",
      "Arvore max_depth = 26, min_samples_leaf = 256, treino = 78.90, teste = 77.85\n",
      "Arvore max_depth = 27, min_samples_leaf = 32, treino = 80.89, teste = 76.84\n",
      "Arvore max_depth = 27, min_samples_leaf = 64, treino = 79.79, teste = 77.30\n",
      "Arvore max_depth = 27, min_samples_leaf = 128, treino = 79.21, teste = 78.22\n",
      "Arvore max_depth = 27, min_samples_leaf = 256, treino = 78.90, teste = 77.85\n"
     ]
    },
    {
     "name": "stdout",
     "output_type": "stream",
     "text": [
      "Arvore max_depth = 28, min_samples_leaf = 32, treino = 80.89, teste = 76.84\n",
      "Arvore max_depth = 28, min_samples_leaf = 64, treino = 79.79, teste = 77.30\n",
      "Arvore max_depth = 28, min_samples_leaf = 128, treino = 79.21, teste = 78.22\n",
      "Arvore max_depth = 28, min_samples_leaf = 256, treino = 78.90, teste = 77.85\n",
      "Arvore max_depth = 29, min_samples_leaf = 32, treino = 80.89, teste = 76.84\n",
      "Arvore max_depth = 29, min_samples_leaf = 64, treino = 79.79, teste = 77.30\n",
      "Arvore max_depth = 29, min_samples_leaf = 128, treino = 79.21, teste = 78.22\n",
      "Arvore max_depth = 29, min_samples_leaf = 256, treino = 78.90, teste = 77.85\n",
      "Arvore max_depth = 30, min_samples_leaf = 32, treino = 80.89, teste = 76.84\n",
      "Arvore max_depth = 30, min_samples_leaf = 64, treino = 79.79, teste = 77.30\n",
      "Arvore max_depth = 30, min_samples_leaf = 128, treino = 79.21, teste = 78.22\n",
      "Arvore max_depth = 30, min_samples_leaf = 256, treino = 78.90, teste = 77.85\n",
      "Arvore max_depth = 31, min_samples_leaf = 32, treino = 80.89, teste = 76.84\n",
      "Arvore max_depth = 31, min_samples_leaf = 64, treino = 79.79, teste = 77.30\n",
      "Arvore max_depth = 31, min_samples_leaf = 128, treino = 79.21, teste = 78.22\n",
      "Arvore max_depth = 31, min_samples_leaf = 256, treino = 78.90, teste = 77.85\n",
      "Arvore max_depth = 32, min_samples_leaf = 32, treino = 80.89, teste = 76.84\n",
      "Arvore max_depth = 32, min_samples_leaf = 64, treino = 79.79, teste = 77.30\n",
      "Arvore max_depth = 32, min_samples_leaf = 128, treino = 79.21, teste = 78.22\n",
      "Arvore max_depth = 32, min_samples_leaf = 256, treino = 78.90, teste = 77.85\n"
     ]
    },
    {
     "data": {
      "text/html": [
       "<div>\n",
       "<style scoped>\n",
       "    .dataframe tbody tr th:only-of-type {\n",
       "        vertical-align: middle;\n",
       "    }\n",
       "\n",
       "    .dataframe tbody tr th {\n",
       "        vertical-align: top;\n",
       "    }\n",
       "\n",
       "    .dataframe thead th {\n",
       "        text-align: right;\n",
       "    }\n",
       "</style>\n",
       "<table border=\"1\" class=\"dataframe\">\n",
       "  <thead>\n",
       "    <tr style=\"text-align: right;\">\n",
       "      <th></th>\n",
       "      <th>max_depth</th>\n",
       "      <th>min_samples_leaf</th>\n",
       "      <th>train</th>\n",
       "      <th>test</th>\n",
       "    </tr>\n",
       "  </thead>\n",
       "  <tbody>\n",
       "    <tr>\n",
       "      <th>0</th>\n",
       "      <td>1</td>\n",
       "      <td>32</td>\n",
       "      <td>75.791169</td>\n",
       "      <td>75.784219</td>\n",
       "    </tr>\n",
       "    <tr>\n",
       "      <th>1</th>\n",
       "      <td>1</td>\n",
       "      <td>64</td>\n",
       "      <td>75.791169</td>\n",
       "      <td>75.784219</td>\n",
       "    </tr>\n",
       "    <tr>\n",
       "      <th>2</th>\n",
       "      <td>1</td>\n",
       "      <td>128</td>\n",
       "      <td>75.791169</td>\n",
       "      <td>75.784219</td>\n",
       "    </tr>\n",
       "    <tr>\n",
       "      <th>3</th>\n",
       "      <td>1</td>\n",
       "      <td>256</td>\n",
       "      <td>75.791169</td>\n",
       "      <td>75.784219</td>\n",
       "    </tr>\n",
       "    <tr>\n",
       "      <th>4</th>\n",
       "      <td>2</td>\n",
       "      <td>32</td>\n",
       "      <td>75.791169</td>\n",
       "      <td>75.784219</td>\n",
       "    </tr>\n",
       "  </tbody>\n",
       "</table>\n",
       "</div>"
      ],
      "text/plain": [
       "   max_depth  min_samples_leaf      train       test\n",
       "0          1                32  75.791169  75.784219\n",
       "1          1                64  75.791169  75.784219\n",
       "2          1               128  75.791169  75.784219\n",
       "3          1               256  75.791169  75.784219\n",
       "4          2                32  75.791169  75.784219"
      ]
     },
     "execution_count": 24,
     "metadata": {},
     "output_type": "execute_result"
    }
   ],
   "source": [
    "def roda_arvore_de_decisao(max_depth, min_samples_leaf):\n",
    "  SEED = 301\n",
    "  np.random.seed(SEED)\n",
    "\n",
    "  cv = GroupKFold(n_splits = 10)\n",
    "  modelo = DecisionTreeClassifier(max_depth=max_depth, min_samples_leaf = min_samples_leaf)\n",
    "  results = cross_validate(modelo, x_azar, y_azar, cv = cv, groups = dados.modelo, return_train_score=True)\n",
    "  train_score = results['train_score'].mean() * 100\n",
    "  test_score = results['test_score'].mean() * 100\n",
    "  print(\"Arvore max_depth = %d, min_samples_leaf = %d, treino = %.2f, teste = %.2f\" % (max_depth, min_samples_leaf, train_score, test_score))\n",
    "  tabela = [max_depth, min_samples_leaf, train_score, test_score]\n",
    "  return tabela\n",
    "\n",
    "def busca():\n",
    "  resultados = []\n",
    "  for max_depth in range(1,33):\n",
    "    for min_samples_leaf in [32, 64, 128, 256]:\n",
    "      tabela = roda_arvore_de_decisao(max_depth, min_samples_leaf)\n",
    "      resultados.append(tabela)\n",
    "  resultados = pd.DataFrame(resultados, columns= [\"max_depth\",\"min_samples_leaf\",\"train\",\"test\"])\n",
    "  return resultados\n",
    "\n",
    "resultados = busca()\n",
    "resultados.head()"
   ]
  },
  {
   "cell_type": "code",
   "execution_count": 25,
   "metadata": {
    "colab": {
     "base_uri": "https://localhost:8080/",
     "height": 195
    },
    "colab_type": "code",
    "id": "FEl16TSwdQgW",
    "outputId": "fc9d64cb-cdce-4f25-ffa2-682fd581513a"
   },
   "outputs": [
    {
     "data": {
      "text/html": [
       "<div>\n",
       "<style scoped>\n",
       "    .dataframe tbody tr th:only-of-type {\n",
       "        vertical-align: middle;\n",
       "    }\n",
       "\n",
       "    .dataframe tbody tr th {\n",
       "        vertical-align: top;\n",
       "    }\n",
       "\n",
       "    .dataframe thead th {\n",
       "        text-align: right;\n",
       "    }\n",
       "</style>\n",
       "<table border=\"1\" class=\"dataframe\">\n",
       "  <thead>\n",
       "    <tr style=\"text-align: right;\">\n",
       "      <th></th>\n",
       "      <th>max_depth</th>\n",
       "      <th>min_samples_leaf</th>\n",
       "      <th>train</th>\n",
       "      <th>test</th>\n",
       "    </tr>\n",
       "  </thead>\n",
       "  <tbody>\n",
       "    <tr>\n",
       "      <th>15</th>\n",
       "      <td>4</td>\n",
       "      <td>256</td>\n",
       "      <td>78.750993</td>\n",
       "      <td>78.672633</td>\n",
       "    </tr>\n",
       "    <tr>\n",
       "      <th>12</th>\n",
       "      <td>4</td>\n",
       "      <td>32</td>\n",
       "      <td>78.750993</td>\n",
       "      <td>78.672633</td>\n",
       "    </tr>\n",
       "    <tr>\n",
       "      <th>14</th>\n",
       "      <td>4</td>\n",
       "      <td>128</td>\n",
       "      <td>78.750993</td>\n",
       "      <td>78.672633</td>\n",
       "    </tr>\n",
       "    <tr>\n",
       "      <th>13</th>\n",
       "      <td>4</td>\n",
       "      <td>64</td>\n",
       "      <td>78.750993</td>\n",
       "      <td>78.672633</td>\n",
       "    </tr>\n",
       "    <tr>\n",
       "      <th>8</th>\n",
       "      <td>3</td>\n",
       "      <td>32</td>\n",
       "      <td>78.750993</td>\n",
       "      <td>78.672633</td>\n",
       "    </tr>\n",
       "  </tbody>\n",
       "</table>\n",
       "</div>"
      ],
      "text/plain": [
       "    max_depth  min_samples_leaf      train       test\n",
       "15          4               256  78.750993  78.672633\n",
       "12          4                32  78.750993  78.672633\n",
       "14          4               128  78.750993  78.672633\n",
       "13          4                64  78.750993  78.672633\n",
       "8           3                32  78.750993  78.672633"
      ]
     },
     "execution_count": 25,
     "metadata": {},
     "output_type": "execute_result"
    }
   ],
   "source": [
    "resultados.sort_values(\"test\", ascending=False).head()"
   ]
  },
  {
   "cell_type": "code",
   "execution_count": 26,
   "metadata": {
    "colab": {
     "base_uri": "https://localhost:8080/",
     "height": 166
    },
    "colab_type": "code",
    "id": "lZsBCpgRd6Yh",
    "outputId": "31685b91-cbd8-4769-c9ce-aca5ec2cde09"
   },
   "outputs": [
    {
     "data": {
      "text/html": [
       "<div>\n",
       "<style scoped>\n",
       "    .dataframe tbody tr th:only-of-type {\n",
       "        vertical-align: middle;\n",
       "    }\n",
       "\n",
       "    .dataframe tbody tr th {\n",
       "        vertical-align: top;\n",
       "    }\n",
       "\n",
       "    .dataframe thead th {\n",
       "        text-align: right;\n",
       "    }\n",
       "</style>\n",
       "<table border=\"1\" class=\"dataframe\">\n",
       "  <thead>\n",
       "    <tr style=\"text-align: right;\">\n",
       "      <th></th>\n",
       "      <th>max_depth</th>\n",
       "      <th>min_samples_leaf</th>\n",
       "      <th>train</th>\n",
       "      <th>test</th>\n",
       "    </tr>\n",
       "  </thead>\n",
       "  <tbody>\n",
       "    <tr>\n",
       "      <th>max_depth</th>\n",
       "      <td>1.000000e+00</td>\n",
       "      <td>-2.780775e-16</td>\n",
       "      <td>0.536705</td>\n",
       "      <td>-0.027675</td>\n",
       "    </tr>\n",
       "    <tr>\n",
       "      <th>min_samples_leaf</th>\n",
       "      <td>-2.780775e-16</td>\n",
       "      <td>1.000000e+00</td>\n",
       "      <td>-0.409676</td>\n",
       "      <td>0.349011</td>\n",
       "    </tr>\n",
       "    <tr>\n",
       "      <th>train</th>\n",
       "      <td>5.367048e-01</td>\n",
       "      <td>-4.096762e-01</td>\n",
       "      <td>1.000000</td>\n",
       "      <td>0.116466</td>\n",
       "    </tr>\n",
       "    <tr>\n",
       "      <th>test</th>\n",
       "      <td>-2.767507e-02</td>\n",
       "      <td>3.490111e-01</td>\n",
       "      <td>0.116466</td>\n",
       "      <td>1.000000</td>\n",
       "    </tr>\n",
       "  </tbody>\n",
       "</table>\n",
       "</div>"
      ],
      "text/plain": [
       "                     max_depth  min_samples_leaf     train      test\n",
       "max_depth         1.000000e+00     -2.780775e-16  0.536705 -0.027675\n",
       "min_samples_leaf -2.780775e-16      1.000000e+00 -0.409676  0.349011\n",
       "train             5.367048e-01     -4.096762e-01  1.000000  0.116466\n",
       "test             -2.767507e-02      3.490111e-01  0.116466  1.000000"
      ]
     },
     "execution_count": 26,
     "metadata": {},
     "output_type": "execute_result"
    }
   ],
   "source": [
    "corr = resultados.corr()\n",
    "corr"
   ]
  },
  {
   "cell_type": "code",
   "execution_count": 27,
   "metadata": {
    "colab": {
     "base_uri": "https://localhost:8080/",
     "height": 365
    },
    "colab_type": "code",
    "id": "AdxtFwmZfmck",
    "outputId": "ede38ee9-12de-45f4-b2a1-c1986982a8ce"
   },
   "outputs": [
    {
     "data": {
      "text/plain": [
       "<AxesSubplot:>"
      ]
     },
     "execution_count": 27,
     "metadata": {},
     "output_type": "execute_result"
    },
    {
     "data": {
      "image/png": "[encoded data removed]",
      "text/plain": [
       "<Figure size 432x288 with 2 Axes>"
      ]
     },
     "metadata": {
      "needs_background": "light"
     },
     "output_type": "display_data"
    }
   ],
   "source": [
    "sns.heatmap(corr)"
   ]
  },
  {
   "cell_type": "code",
   "execution_count": 35,
   "metadata": {
    "colab": {
     "base_uri": "https://localhost:8080/",
     "height": 845
    },
    "colab_type": "code",
    "id": "UWQaVyE-gKHI",
    "outputId": "5d2fefbe-e789-478f-c464-1f564a09ebc6"
   },
   "outputs": [
    {
     "data": {
      "text/plain": [
       "array([[<AxesSubplot:xlabel='max_depth', ylabel='max_depth'>,\n",
       "        <AxesSubplot:xlabel='min_samples_leaf', ylabel='max_depth'>,\n",
       "        <AxesSubplot:xlabel='train', ylabel='max_depth'>,\n",
       "        <AxesSubplot:xlabel='test', ylabel='max_depth'>],\n",
       "       [<AxesSubplot:xlabel='max_depth', ylabel='min_samples_leaf'>,\n",
       "        <AxesSubplot:xlabel='min_samples_leaf', ylabel='min_samples_leaf'>,\n",
       "        <AxesSubplot:xlabel='train', ylabel='min_samples_leaf'>,\n",
       "        <AxesSubplot:xlabel='test', ylabel='min_samples_leaf'>],\n",
       "       [<AxesSubplot:xlabel='max_depth', ylabel='train'>,\n",
       "        <AxesSubplot:xlabel='min_samples_leaf', ylabel='train'>,\n",
       "        <AxesSubplot:xlabel='train', ylabel='train'>,\n",
       "        <AxesSubplot:xlabel='test', ylabel='train'>],\n",
       "       [<AxesSubplot:xlabel='max_depth', ylabel='test'>,\n",
       "        <AxesSubplot:xlabel='min_samples_leaf', ylabel='test'>,\n",
       "        <AxesSubplot:xlabel='train', ylabel='test'>,\n",
       "        <AxesSubplot:xlabel='test', ylabel='test'>]], dtype=object)"
      ]
     },
     "execution_count": 35,
     "metadata": {},
     "output_type": "execute_result"
    },
    {
     "data": {
      "image/png": "[encoded data removed]",
      "text/plain": [
       "<Figure size 1008x576 with 16 Axes>"
      ]
     },
     "metadata": {},
     "output_type": "display_data"
    }
   ],
   "source": [
    "pd.plotting.scatter_matrix(resultados, figsize = (14, 8), alpha = 0.3)"
   ]
  },
  {
   "cell_type": "code",
   "execution_count": 36,
   "metadata": {
    "colab": {
     "base_uri": "https://localhost:8080/",
     "height": 746
    },
    "colab_type": "code",
    "id": "AcQnhOM3gnJ-",
    "outputId": "87f86d66-792a-4b17-fc84-993c75582a8d"
   },
   "outputs": [
    {
     "data": {
      "text/plain": [
       "<seaborn.axisgrid.PairGrid at 0x7fb387d8a550>"
      ]
     },
     "execution_count": 36,
     "metadata": {},
     "output_type": "execute_result"
    },
    {
     "data": {
      "image/png": "[encoded data removed]",
      "text/plain": [
       "<Figure size 720x720 with 20 Axes>"
      ]
     },
     "metadata": {},
     "output_type": "display_data"
    }
   ],
   "source": [
    "sns.pairplot(resultados)"
   ]
  },
  {
   "cell_type": "code",
   "execution_count": 37,
   "metadata": {
    "colab": {
     "base_uri": "https://localhost:8080/",
     "height": 564
    },
    "colab_type": "code",
    "id": "sH5F3Gd8hAFG",
    "outputId": "bc6efbdc-f2f3-4ee5-9b96-6479fd8ad923",
    "scrolled": true
   },
   "outputs": [
    {
     "name": "stderr",
     "output_type": "stream",
     "text": [
      "/var/folders/01/_r7b02r11p15j0s54gb9x0040000gn/T/ipykernel_11200/1569857682.py:4: DeprecationWarning: `np.bool` is a deprecated alias for the builtin `bool`. To silence this warning, use `bool` by itself. Doing this will not modify any behavior and is safe. If you specifically wanted the numpy scalar type, use `np.bool_` here.\n",
      "Deprecated in NumPy 1.20; for more details and guidance: https://numpy.org/devdocs/release/1.20.0-notes.html#deprecations\n",
      "  mask = np.zeros_like(corr, dtype=np.bool)\n"
     ]
    },
    {
     "ename": "TypeError",
     "evalue": "'float' object cannot be interpreted as an integer",
     "output_type": "error",
     "traceback": [
      "\u001b[0;31m---------------------------------------------------------------------------\u001b[0m",
      "\u001b[0;31mTypeError\u001b[0m                                 Traceback (most recent call last)",
      "Input \u001b[0;32mIn [37]\u001b[0m, in \u001b[0;36m<module>\u001b[0;34m\u001b[0m\n\u001b[1;32m      8\u001b[0m f, ax \u001b[38;5;241m=\u001b[39m plt\u001b[38;5;241m.\u001b[39msubplots(figsize\u001b[38;5;241m=\u001b[39m(\u001b[38;5;241m11\u001b[39m, \u001b[38;5;241m9\u001b[39m))\n\u001b[1;32m     10\u001b[0m \u001b[38;5;66;03m# Generate a custom diverging colormap\u001b[39;00m\n\u001b[0;32m---> 11\u001b[0m cmap \u001b[38;5;241m=\u001b[39m \u001b[43msns\u001b[49m\u001b[38;5;241;43m.\u001b[39;49m\u001b[43mdiverging_palette\u001b[49m\u001b[43m(\u001b[49m\u001b[38;5;241;43m220\u001b[39;49m\u001b[43m,\u001b[49m\u001b[43m \u001b[49m\u001b[38;5;241;43m10\u001b[39;49m\u001b[43m,\u001b[49m\u001b[43m \u001b[49m\u001b[43mas_cmap\u001b[49m\u001b[38;5;241;43m=\u001b[39;49m\u001b[38;5;28;43;01mTrue\u001b[39;49;00m\u001b[43m)\u001b[49m\n\u001b[1;32m     13\u001b[0m \u001b[38;5;66;03m# Draw the heatmap with the mask and correct aspect ratio\u001b[39;00m\n\u001b[1;32m     14\u001b[0m sns\u001b[38;5;241m.\u001b[39mheatmap(corr, mask\u001b[38;5;241m=\u001b[39mmask, cmap\u001b[38;5;241m=\u001b[39mcmap, vmax\u001b[38;5;241m=\u001b[39m\u001b[38;5;241m.3\u001b[39m, center\u001b[38;5;241m=\u001b[39m\u001b[38;5;241m0\u001b[39m,\n\u001b[1;32m     15\u001b[0m             square\u001b[38;5;241m=\u001b[39m\u001b[38;5;28;01mTrue\u001b[39;00m, linewidths\u001b[38;5;241m=\u001b[39m\u001b[38;5;241m.5\u001b[39m, cbar_kws\u001b[38;5;241m=\u001b[39m{\u001b[38;5;124m\"\u001b[39m\u001b[38;5;124mshrink\u001b[39m\u001b[38;5;124m\"\u001b[39m: \u001b[38;5;241m.5\u001b[39m})\n",
      "File \u001b[0;32m~/opt/anaconda3/envs/mlaluranote/lib/python3.8/site-packages/seaborn/palettes.py:744\u001b[0m, in \u001b[0;36mdiverging_palette\u001b[0;34m(h_neg, h_pos, s, l, sep, n, center, as_cmap)\u001b[0m\n\u001b[1;32m    673\u001b[0m \u001b[38;5;124;03m\"\"\"Make a diverging palette between two HUSL colors.\u001b[39;00m\n\u001b[1;32m    674\u001b[0m \n\u001b[1;32m    675\u001b[0m \u001b[38;5;124;03mIf you are using the IPython notebook, you can also choose this palette\u001b[39;00m\n\u001b[0;32m   (...)\u001b[0m\n\u001b[1;32m    741\u001b[0m \n\u001b[1;32m    742\u001b[0m \u001b[38;5;124;03m\"\"\"\u001b[39;00m\n\u001b[1;32m    743\u001b[0m palfunc \u001b[38;5;241m=\u001b[39m dark_palette \u001b[38;5;28;01mif\u001b[39;00m center \u001b[38;5;241m==\u001b[39m \u001b[38;5;124m\"\u001b[39m\u001b[38;5;124mdark\u001b[39m\u001b[38;5;124m\"\u001b[39m \u001b[38;5;28;01melse\u001b[39;00m light_palette\n\u001b[0;32m--> 744\u001b[0m neg \u001b[38;5;241m=\u001b[39m \u001b[43mpalfunc\u001b[49m\u001b[43m(\u001b[49m\u001b[43m(\u001b[49m\u001b[43mh_neg\u001b[49m\u001b[43m,\u001b[49m\u001b[43m \u001b[49m\u001b[43ms\u001b[49m\u001b[43m,\u001b[49m\u001b[43m \u001b[49m\u001b[43ml\u001b[49m\u001b[43m)\u001b[49m\u001b[43m,\u001b[49m\u001b[43m \u001b[49m\u001b[38;5;241;43m128\u001b[39;49m\u001b[43m \u001b[49m\u001b[38;5;241;43m-\u001b[39;49m\u001b[43m \u001b[49m\u001b[43m(\u001b[49m\u001b[43msep\u001b[49m\u001b[43m \u001b[49m\u001b[38;5;241;43m/\u001b[39;49m\u001b[43m \u001b[49m\u001b[38;5;241;43m2\u001b[39;49m\u001b[43m)\u001b[49m\u001b[43m,\u001b[49m\u001b[43m \u001b[49m\u001b[43mreverse\u001b[49m\u001b[38;5;241;43m=\u001b[39;49m\u001b[38;5;28;43;01mTrue\u001b[39;49;00m\u001b[43m,\u001b[49m\u001b[43m \u001b[49m\u001b[38;5;28;43minput\u001b[39;49m\u001b[38;5;241;43m=\u001b[39;49m\u001b[38;5;124;43m\"\u001b[39;49m\u001b[38;5;124;43mhusl\u001b[39;49m\u001b[38;5;124;43m\"\u001b[39;49m\u001b[43m)\u001b[49m\n\u001b[1;32m    745\u001b[0m pos \u001b[38;5;241m=\u001b[39m palfunc((h_pos, s, l), \u001b[38;5;241m128\u001b[39m \u001b[38;5;241m-\u001b[39m (sep \u001b[38;5;241m/\u001b[39m \u001b[38;5;241m2\u001b[39m), \u001b[38;5;28minput\u001b[39m\u001b[38;5;241m=\u001b[39m\u001b[38;5;124m\"\u001b[39m\u001b[38;5;124mhusl\u001b[39m\u001b[38;5;124m\"\u001b[39m)\n\u001b[1;32m    746\u001b[0m midpoint \u001b[38;5;241m=\u001b[39m \u001b[38;5;28mdict\u001b[39m(light\u001b[38;5;241m=\u001b[39m[(\u001b[38;5;241m.95\u001b[39m, \u001b[38;5;241m.95\u001b[39m, \u001b[38;5;241m.95\u001b[39m, \u001b[38;5;241m1.\u001b[39m)],\n\u001b[1;32m    747\u001b[0m                 dark\u001b[38;5;241m=\u001b[39m[(\u001b[38;5;241m.133\u001b[39m, \u001b[38;5;241m.133\u001b[39m, \u001b[38;5;241m.133\u001b[39m, \u001b[38;5;241m1.\u001b[39m)])[center]\n",
      "File \u001b[0;32m~/opt/anaconda3/envs/mlaluranote/lib/python3.8/site-packages/seaborn/palettes.py:641\u001b[0m, in \u001b[0;36mlight_palette\u001b[0;34m(color, n_colors, reverse, as_cmap, input)\u001b[0m\n\u001b[1;32m    639\u001b[0m light \u001b[38;5;241m=\u001b[39m set_hls_values(color, l\u001b[38;5;241m=\u001b[39m\u001b[38;5;241m.95\u001b[39m)  \u001b[38;5;66;03m# noqa\u001b[39;00m\n\u001b[1;32m    640\u001b[0m colors \u001b[38;5;241m=\u001b[39m [color, light] \u001b[38;5;28;01mif\u001b[39;00m reverse \u001b[38;5;28;01melse\u001b[39;00m [light, color]\n\u001b[0;32m--> 641\u001b[0m \u001b[38;5;28;01mreturn\u001b[39;00m \u001b[43mblend_palette\u001b[49m\u001b[43m(\u001b[49m\u001b[43mcolors\u001b[49m\u001b[43m,\u001b[49m\u001b[43m \u001b[49m\u001b[43mn_colors\u001b[49m\u001b[43m,\u001b[49m\u001b[43m \u001b[49m\u001b[43mas_cmap\u001b[49m\u001b[43m)\u001b[49m\n",
      "File \u001b[0;32m~/opt/anaconda3/envs/mlaluranote/lib/python3.8/site-packages/seaborn/palettes.py:777\u001b[0m, in \u001b[0;36mblend_palette\u001b[0;34m(colors, n_colors, as_cmap, input)\u001b[0m\n\u001b[1;32m    775\u001b[0m pal \u001b[38;5;241m=\u001b[39m mpl\u001b[38;5;241m.\u001b[39mcolors\u001b[38;5;241m.\u001b[39mLinearSegmentedColormap\u001b[38;5;241m.\u001b[39mfrom_list(name, colors)\n\u001b[1;32m    776\u001b[0m \u001b[38;5;28;01mif\u001b[39;00m \u001b[38;5;129;01mnot\u001b[39;00m as_cmap:\n\u001b[0;32m--> 777\u001b[0m     pal \u001b[38;5;241m=\u001b[39m _ColorPalette(pal(\u001b[43mnp\u001b[49m\u001b[38;5;241;43m.\u001b[39;49m\u001b[43mlinspace\u001b[49m\u001b[43m(\u001b[49m\u001b[38;5;241;43m0\u001b[39;49m\u001b[43m,\u001b[49m\u001b[43m \u001b[49m\u001b[38;5;241;43m1\u001b[39;49m\u001b[43m,\u001b[49m\u001b[43m \u001b[49m\u001b[43mn_colors\u001b[49m\u001b[43m)\u001b[49m))\n\u001b[1;32m    778\u001b[0m \u001b[38;5;28;01mreturn\u001b[39;00m pal\n",
      "File \u001b[0;32m<__array_function__ internals>:180\u001b[0m, in \u001b[0;36mlinspace\u001b[0;34m(*args, **kwargs)\u001b[0m\n",
      "File \u001b[0;32m~/opt/anaconda3/envs/mlaluranote/lib/python3.8/site-packages/numpy/core/function_base.py:120\u001b[0m, in \u001b[0;36mlinspace\u001b[0;34m(start, stop, num, endpoint, retstep, dtype, axis)\u001b[0m\n\u001b[1;32m     23\u001b[0m \u001b[38;5;129m@array_function_dispatch\u001b[39m(_linspace_dispatcher)\n\u001b[1;32m     24\u001b[0m \u001b[38;5;28;01mdef\u001b[39;00m \u001b[38;5;21mlinspace\u001b[39m(start, stop, num\u001b[38;5;241m=\u001b[39m\u001b[38;5;241m50\u001b[39m, endpoint\u001b[38;5;241m=\u001b[39m\u001b[38;5;28;01mTrue\u001b[39;00m, retstep\u001b[38;5;241m=\u001b[39m\u001b[38;5;28;01mFalse\u001b[39;00m, dtype\u001b[38;5;241m=\u001b[39m\u001b[38;5;28;01mNone\u001b[39;00m,\n\u001b[1;32m     25\u001b[0m              axis\u001b[38;5;241m=\u001b[39m\u001b[38;5;241m0\u001b[39m):\n\u001b[1;32m     26\u001b[0m     \u001b[38;5;124;03m\"\"\"\u001b[39;00m\n\u001b[1;32m     27\u001b[0m \u001b[38;5;124;03m    Return evenly spaced numbers over a specified interval.\u001b[39;00m\n\u001b[1;32m     28\u001b[0m \n\u001b[0;32m   (...)\u001b[0m\n\u001b[1;32m    118\u001b[0m \n\u001b[1;32m    119\u001b[0m \u001b[38;5;124;03m    \"\"\"\u001b[39;00m\n\u001b[0;32m--> 120\u001b[0m     num \u001b[38;5;241m=\u001b[39m \u001b[43moperator\u001b[49m\u001b[38;5;241;43m.\u001b[39;49m\u001b[43mindex\u001b[49m\u001b[43m(\u001b[49m\u001b[43mnum\u001b[49m\u001b[43m)\u001b[49m\n\u001b[1;32m    121\u001b[0m     \u001b[38;5;28;01mif\u001b[39;00m num \u001b[38;5;241m<\u001b[39m \u001b[38;5;241m0\u001b[39m:\n\u001b[1;32m    122\u001b[0m         \u001b[38;5;28;01mraise\u001b[39;00m \u001b[38;5;167;01mValueError\u001b[39;00m(\u001b[38;5;124m\"\u001b[39m\u001b[38;5;124mNumber of samples, \u001b[39m\u001b[38;5;132;01m%s\u001b[39;00m\u001b[38;5;124m, must be non-negative.\u001b[39m\u001b[38;5;124m\"\u001b[39m \u001b[38;5;241m%\u001b[39m num)\n",
      "\u001b[0;31mTypeError\u001b[0m: 'float' object cannot be interpreted as an integer"
     ]
    },
    {
     "data": {
      "image/png": "[encoded data removed]",
      "text/plain": [
       "<Figure size 792x648 with 1 Axes>"
      ]
     },
     "metadata": {},
     "output_type": "display_data"
    }
   ],
   "source": [
    "sns.set(style=\"white\")\n",
    "\n",
    "# Generate a mask for the upper triangle\n",
    "mask = np.zeros_like(corr, dtype=np.bool)\n",
    "mask[np.triu_indices_from(mask)] = True\n",
    "\n",
    "# Set up the matplotlib figure\n",
    "f, ax = plt.subplots(figsize=(11, 9))\n",
    "\n",
    "# Generate a custom diverging colormap\n",
    "cmap = sns.diverging_palette(220, 10, as_cmap=True)\n",
    "\n",
    "# Draw the heatmap with the mask and correct aspect ratio\n",
    "sns.heatmap(corr, mask=mask, cmap=cmap, vmax=.3, center=0,\n",
    "            square=True, linewidths=.5, cbar_kws={\"shrink\": .5})"
   ]
  },
  {
   "cell_type": "code",
   "execution_count": 38,
   "metadata": {
    "colab": {
     "base_uri": "https://localhost:8080/",
     "height": 2346
    },
    "colab_type": "code",
    "id": "fa3AUdNZiBEs",
    "outputId": "ca88efaa-d4e9-4494-85c0-46d404436308",
    "scrolled": true
   },
   "outputs": [
    {
     "name": "stdout",
     "output_type": "stream",
     "text": [
      "Arvore max_depth = 1, min_samples_leaf = 128, treino = 75.79, teste = 75.78\n",
      "Arvore max_depth = 1, min_samples_leaf = 192, treino = 75.79, teste = 75.78\n",
      "Arvore max_depth = 1, min_samples_leaf = 256, treino = 75.79, teste = 75.78\n",
      "Arvore max_depth = 1, min_samples_leaf = 512, treino = 75.79, teste = 75.78\n",
      "Arvore max_depth = 2, min_samples_leaf = 128, treino = 75.79, teste = 75.78\n",
      "Arvore max_depth = 2, min_samples_leaf = 192, treino = 75.79, teste = 75.78\n",
      "Arvore max_depth = 2, min_samples_leaf = 256, treino = 75.79, teste = 75.78\n",
      "Arvore max_depth = 2, min_samples_leaf = 512, treino = 75.79, teste = 75.78\n",
      "Arvore max_depth = 3, min_samples_leaf = 128, treino = 78.75, teste = 78.67\n",
      "Arvore max_depth = 3, min_samples_leaf = 192, treino = 78.75, teste = 78.67\n",
      "Arvore max_depth = 3, min_samples_leaf = 256, treino = 78.75, teste = 78.67\n",
      "Arvore max_depth = 3, min_samples_leaf = 512, treino = 77.53, teste = 77.50\n",
      "Arvore max_depth = 4, min_samples_leaf = 128, treino = 78.75, teste = 78.67\n",
      "Arvore max_depth = 4, min_samples_leaf = 192, treino = 78.75, teste = 78.67\n",
      "Arvore max_depth = 4, min_samples_leaf = 256, treino = 78.75, teste = 78.67\n",
      "Arvore max_depth = 4, min_samples_leaf = 512, treino = 77.53, teste = 77.50\n",
      "Arvore max_depth = 5, min_samples_leaf = 128, treino = 78.77, teste = 78.44\n",
      "Arvore max_depth = 5, min_samples_leaf = 192, treino = 78.77, teste = 78.44\n",
      "Arvore max_depth = 5, min_samples_leaf = 256, treino = 78.77, teste = 78.44\n",
      "Arvore max_depth = 5, min_samples_leaf = 512, treino = 77.53, teste = 77.50\n",
      "Arvore max_depth = 6, min_samples_leaf = 128, treino = 78.85, teste = 78.27\n",
      "Arvore max_depth = 6, min_samples_leaf = 192, treino = 78.79, teste = 78.31\n",
      "Arvore max_depth = 6, min_samples_leaf = 256, treino = 78.79, teste = 78.27\n",
      "Arvore max_depth = 6, min_samples_leaf = 512, treino = 77.53, teste = 77.50\n",
      "Arvore max_depth = 7, min_samples_leaf = 128, treino = 79.01, teste = 78.21\n",
      "Arvore max_depth = 7, min_samples_leaf = 192, treino = 78.92, teste = 78.10\n",
      "Arvore max_depth = 7, min_samples_leaf = 256, treino = 78.85, teste = 78.08\n",
      "Arvore max_depth = 7, min_samples_leaf = 512, treino = 77.53, teste = 77.50\n",
      "Arvore max_depth = 8, min_samples_leaf = 128, treino = 79.05, teste = 78.37\n",
      "Arvore max_depth = 8, min_samples_leaf = 192, treino = 78.98, teste = 78.20\n",
      "Arvore max_depth = 8, min_samples_leaf = 256, treino = 78.89, teste = 77.94\n",
      "Arvore max_depth = 8, min_samples_leaf = 512, treino = 77.53, teste = 77.50\n",
      "Arvore max_depth = 9, min_samples_leaf = 128, treino = 79.12, teste = 78.30\n",
      "Arvore max_depth = 9, min_samples_leaf = 192, treino = 78.99, teste = 78.11\n",
      "Arvore max_depth = 9, min_samples_leaf = 256, treino = 78.90, teste = 77.85\n",
      "Arvore max_depth = 9, min_samples_leaf = 512, treino = 77.53, teste = 77.50\n",
      "Arvore max_depth = 10, min_samples_leaf = 128, treino = 79.16, teste = 78.29\n",
      "Arvore max_depth = 10, min_samples_leaf = 192, treino = 79.01, teste = 78.05\n",
      "Arvore max_depth = 10, min_samples_leaf = 256, treino = 78.90, teste = 77.85\n",
      "Arvore max_depth = 10, min_samples_leaf = 512, treino = 77.53, teste = 77.50\n",
      "Arvore max_depth = 11, min_samples_leaf = 128, treino = 79.19, teste = 78.31\n",
      "Arvore max_depth = 11, min_samples_leaf = 192, treino = 79.01, teste = 78.05\n",
      "Arvore max_depth = 11, min_samples_leaf = 256, treino = 78.90, teste = 77.85\n",
      "Arvore max_depth = 11, min_samples_leaf = 512, treino = 77.53, teste = 77.50\n",
      "Arvore max_depth = 12, min_samples_leaf = 128, treino = 79.21, teste = 78.22\n",
      "Arvore max_depth = 12, min_samples_leaf = 192, treino = 79.01, teste = 78.05\n",
      "Arvore max_depth = 12, min_samples_leaf = 256, treino = 78.90, teste = 77.85\n",
      "Arvore max_depth = 12, min_samples_leaf = 512, treino = 77.53, teste = 77.50\n",
      "Arvore max_depth = 13, min_samples_leaf = 128, treino = 79.21, teste = 78.22\n",
      "Arvore max_depth = 13, min_samples_leaf = 192, treino = 79.01, teste = 78.05\n",
      "Arvore max_depth = 13, min_samples_leaf = 256, treino = 78.90, teste = 77.85\n",
      "Arvore max_depth = 13, min_samples_leaf = 512, treino = 77.53, teste = 77.50\n",
      "Arvore max_depth = 14, min_samples_leaf = 128, treino = 79.21, teste = 78.22\n",
      "Arvore max_depth = 14, min_samples_leaf = 192, treino = 79.01, teste = 78.05\n",
      "Arvore max_depth = 14, min_samples_leaf = 256, treino = 78.90, teste = 77.85\n",
      "Arvore max_depth = 14, min_samples_leaf = 512, treino = 77.53, teste = 77.50\n",
      "Arvore max_depth = 15, min_samples_leaf = 128, treino = 79.21, teste = 78.22\n",
      "Arvore max_depth = 15, min_samples_leaf = 192, treino = 79.01, teste = 78.05\n",
      "Arvore max_depth = 15, min_samples_leaf = 256, treino = 78.90, teste = 77.85\n",
      "Arvore max_depth = 15, min_samples_leaf = 512, treino = 77.53, teste = 77.50\n",
      "Arvore max_depth = 16, min_samples_leaf = 128, treino = 79.21, teste = 78.22\n",
      "Arvore max_depth = 16, min_samples_leaf = 192, treino = 79.01, teste = 78.05\n",
      "Arvore max_depth = 16, min_samples_leaf = 256, treino = 78.90, teste = 77.85\n",
      "Arvore max_depth = 16, min_samples_leaf = 512, treino = 77.53, teste = 77.50\n",
      "Arvore max_depth = 17, min_samples_leaf = 128, treino = 79.21, teste = 78.22\n",
      "Arvore max_depth = 17, min_samples_leaf = 192, treino = 79.01, teste = 78.05\n",
      "Arvore max_depth = 17, min_samples_leaf = 256, treino = 78.90, teste = 77.85\n",
      "Arvore max_depth = 17, min_samples_leaf = 512, treino = 77.53, teste = 77.50\n",
      "Arvore max_depth = 18, min_samples_leaf = 128, treino = 79.21, teste = 78.22\n",
      "Arvore max_depth = 18, min_samples_leaf = 192, treino = 79.01, teste = 78.05\n",
      "Arvore max_depth = 18, min_samples_leaf = 256, treino = 78.90, teste = 77.85\n",
      "Arvore max_depth = 18, min_samples_leaf = 512, treino = 77.53, teste = 77.50\n",
      "Arvore max_depth = 19, min_samples_leaf = 128, treino = 79.21, teste = 78.22\n",
      "Arvore max_depth = 19, min_samples_leaf = 192, treino = 79.01, teste = 78.05\n",
      "Arvore max_depth = 19, min_samples_leaf = 256, treino = 78.90, teste = 77.85\n",
      "Arvore max_depth = 19, min_samples_leaf = 512, treino = 77.53, teste = 77.50\n",
      "Arvore max_depth = 20, min_samples_leaf = 128, treino = 79.21, teste = 78.22\n",
      "Arvore max_depth = 20, min_samples_leaf = 192, treino = 79.01, teste = 78.05\n",
      "Arvore max_depth = 20, min_samples_leaf = 256, treino = 78.90, teste = 77.85\n",
      "Arvore max_depth = 20, min_samples_leaf = 512, treino = 77.53, teste = 77.50\n",
      "Arvore max_depth = 21, min_samples_leaf = 128, treino = 79.21, teste = 78.22\n",
      "Arvore max_depth = 21, min_samples_leaf = 192, treino = 79.01, teste = 78.05\n",
      "Arvore max_depth = 21, min_samples_leaf = 256, treino = 78.90, teste = 77.85\n",
      "Arvore max_depth = 21, min_samples_leaf = 512, treino = 77.53, teste = 77.50\n",
      "Arvore max_depth = 22, min_samples_leaf = 128, treino = 79.21, teste = 78.22\n",
      "Arvore max_depth = 22, min_samples_leaf = 192, treino = 79.01, teste = 78.05\n",
      "Arvore max_depth = 22, min_samples_leaf = 256, treino = 78.90, teste = 77.85\n",
      "Arvore max_depth = 22, min_samples_leaf = 512, treino = 77.53, teste = 77.50\n",
      "Arvore max_depth = 23, min_samples_leaf = 128, treino = 79.21, teste = 78.22\n",
      "Arvore max_depth = 23, min_samples_leaf = 192, treino = 79.01, teste = 78.05\n",
      "Arvore max_depth = 23, min_samples_leaf = 256, treino = 78.90, teste = 77.85\n",
      "Arvore max_depth = 23, min_samples_leaf = 512, treino = 77.53, teste = 77.50\n",
      "Arvore max_depth = 24, min_samples_leaf = 128, treino = 79.21, teste = 78.22\n",
      "Arvore max_depth = 24, min_samples_leaf = 192, treino = 79.01, teste = 78.05\n",
      "Arvore max_depth = 24, min_samples_leaf = 256, treino = 78.90, teste = 77.85\n",
      "Arvore max_depth = 24, min_samples_leaf = 512, treino = 77.53, teste = 77.50\n",
      "Arvore max_depth = 25, min_samples_leaf = 128, treino = 79.21, teste = 78.22\n",
      "Arvore max_depth = 25, min_samples_leaf = 192, treino = 79.01, teste = 78.05\n",
      "Arvore max_depth = 25, min_samples_leaf = 256, treino = 78.90, teste = 77.85\n",
      "Arvore max_depth = 25, min_samples_leaf = 512, treino = 77.53, teste = 77.50\n",
      "Arvore max_depth = 26, min_samples_leaf = 128, treino = 79.21, teste = 78.22\n",
      "Arvore max_depth = 26, min_samples_leaf = 192, treino = 79.01, teste = 78.05\n",
      "Arvore max_depth = 26, min_samples_leaf = 256, treino = 78.90, teste = 77.85\n",
      "Arvore max_depth = 26, min_samples_leaf = 512, treino = 77.53, teste = 77.50\n",
      "Arvore max_depth = 27, min_samples_leaf = 128, treino = 79.21, teste = 78.22\n",
      "Arvore max_depth = 27, min_samples_leaf = 192, treino = 79.01, teste = 78.05\n",
      "Arvore max_depth = 27, min_samples_leaf = 256, treino = 78.90, teste = 77.85\n",
      "Arvore max_depth = 27, min_samples_leaf = 512, treino = 77.53, teste = 77.50\n"
     ]
    },
    {
     "name": "stdout",
     "output_type": "stream",
     "text": [
      "Arvore max_depth = 28, min_samples_leaf = 128, treino = 79.21, teste = 78.22\n",
      "Arvore max_depth = 28, min_samples_leaf = 192, treino = 79.01, teste = 78.05\n",
      "Arvore max_depth = 28, min_samples_leaf = 256, treino = 78.90, teste = 77.85\n",
      "Arvore max_depth = 28, min_samples_leaf = 512, treino = 77.53, teste = 77.50\n",
      "Arvore max_depth = 29, min_samples_leaf = 128, treino = 79.21, teste = 78.22\n",
      "Arvore max_depth = 29, min_samples_leaf = 192, treino = 79.01, teste = 78.05\n",
      "Arvore max_depth = 29, min_samples_leaf = 256, treino = 78.90, teste = 77.85\n",
      "Arvore max_depth = 29, min_samples_leaf = 512, treino = 77.53, teste = 77.50\n",
      "Arvore max_depth = 30, min_samples_leaf = 128, treino = 79.21, teste = 78.22\n",
      "Arvore max_depth = 30, min_samples_leaf = 192, treino = 79.01, teste = 78.05\n",
      "Arvore max_depth = 30, min_samples_leaf = 256, treino = 78.90, teste = 77.85\n",
      "Arvore max_depth = 30, min_samples_leaf = 512, treino = 77.53, teste = 77.50\n",
      "Arvore max_depth = 31, min_samples_leaf = 128, treino = 79.21, teste = 78.22\n",
      "Arvore max_depth = 31, min_samples_leaf = 192, treino = 79.01, teste = 78.05\n",
      "Arvore max_depth = 31, min_samples_leaf = 256, treino = 78.90, teste = 77.85\n",
      "Arvore max_depth = 31, min_samples_leaf = 512, treino = 77.53, teste = 77.50\n",
      "Arvore max_depth = 32, min_samples_leaf = 128, treino = 79.21, teste = 78.22\n",
      "Arvore max_depth = 32, min_samples_leaf = 192, treino = 79.01, teste = 78.05\n",
      "Arvore max_depth = 32, min_samples_leaf = 256, treino = 78.90, teste = 77.85\n",
      "Arvore max_depth = 32, min_samples_leaf = 512, treino = 77.53, teste = 77.50\n"
     ]
    },
    {
     "data": {
      "text/html": [
       "<div>\n",
       "<style scoped>\n",
       "    .dataframe tbody tr th:only-of-type {\n",
       "        vertical-align: middle;\n",
       "    }\n",
       "\n",
       "    .dataframe tbody tr th {\n",
       "        vertical-align: top;\n",
       "    }\n",
       "\n",
       "    .dataframe thead th {\n",
       "        text-align: right;\n",
       "    }\n",
       "</style>\n",
       "<table border=\"1\" class=\"dataframe\">\n",
       "  <thead>\n",
       "    <tr style=\"text-align: right;\">\n",
       "      <th></th>\n",
       "      <th>max_depth</th>\n",
       "      <th>min_samples_leaf</th>\n",
       "      <th>train</th>\n",
       "      <th>test</th>\n",
       "    </tr>\n",
       "  </thead>\n",
       "  <tbody>\n",
       "    <tr>\n",
       "      <th>0</th>\n",
       "      <td>1</td>\n",
       "      <td>128</td>\n",
       "      <td>75.791169</td>\n",
       "      <td>75.784219</td>\n",
       "    </tr>\n",
       "    <tr>\n",
       "      <th>1</th>\n",
       "      <td>1</td>\n",
       "      <td>192</td>\n",
       "      <td>75.791169</td>\n",
       "      <td>75.784219</td>\n",
       "    </tr>\n",
       "    <tr>\n",
       "      <th>2</th>\n",
       "      <td>1</td>\n",
       "      <td>256</td>\n",
       "      <td>75.791169</td>\n",
       "      <td>75.784219</td>\n",
       "    </tr>\n",
       "    <tr>\n",
       "      <th>3</th>\n",
       "      <td>1</td>\n",
       "      <td>512</td>\n",
       "      <td>75.791169</td>\n",
       "      <td>75.784219</td>\n",
       "    </tr>\n",
       "    <tr>\n",
       "      <th>4</th>\n",
       "      <td>2</td>\n",
       "      <td>128</td>\n",
       "      <td>75.791169</td>\n",
       "      <td>75.784219</td>\n",
       "    </tr>\n",
       "  </tbody>\n",
       "</table>\n",
       "</div>"
      ],
      "text/plain": [
       "   max_depth  min_samples_leaf      train       test\n",
       "0          1               128  75.791169  75.784219\n",
       "1          1               192  75.791169  75.784219\n",
       "2          1               256  75.791169  75.784219\n",
       "3          1               512  75.791169  75.784219\n",
       "4          2               128  75.791169  75.784219"
      ]
     },
     "execution_count": 38,
     "metadata": {},
     "output_type": "execute_result"
    }
   ],
   "source": [
    "def busca():\n",
    "  resultados = []\n",
    "  for max_depth in range(1,33):\n",
    "    for min_samples_leaf in [128, 192, 256, 512]:\n",
    "      tabela = roda_arvore_de_decisao(max_depth, min_samples_leaf)\n",
    "      resultados.append(tabela)\n",
    "  resultados = pd.DataFrame(resultados, columns= [\"max_depth\",\"min_samples_leaf\",\"train\",\"test\"])\n",
    "  return resultados\n",
    "\n",
    "resultados = busca()\n",
    "resultados.head()"
   ]
  },
  {
   "cell_type": "code",
   "execution_count": 39,
   "metadata": {
    "colab": {},
    "colab_type": "code",
    "id": "GLMt71GYii3A"
   },
   "outputs": [],
   "source": [
    "corr = resultados.corr()"
   ]
  },
  {
   "cell_type": "code",
   "execution_count": 40,
   "metadata": {
    "colab": {
     "base_uri": "https://localhost:8080/",
     "height": 564
    },
    "colab_type": "code",
    "id": "3XjB5-HyinEM",
    "outputId": "9a52e183-ddad-426a-c25f-894f9fa421df",
    "scrolled": true
   },
   "outputs": [
    {
     "name": "stderr",
     "output_type": "stream",
     "text": [
      "/var/folders/01/_r7b02r11p15j0s54gb9x0040000gn/T/ipykernel_11200/1569857682.py:4: DeprecationWarning: `np.bool` is a deprecated alias for the builtin `bool`. To silence this warning, use `bool` by itself. Doing this will not modify any behavior and is safe. If you specifically wanted the numpy scalar type, use `np.bool_` here.\n",
      "Deprecated in NumPy 1.20; for more details and guidance: https://numpy.org/devdocs/release/1.20.0-notes.html#deprecations\n",
      "  mask = np.zeros_like(corr, dtype=np.bool)\n"
     ]
    },
    {
     "ename": "TypeError",
     "evalue": "'float' object cannot be interpreted as an integer",
     "output_type": "error",
     "traceback": [
      "\u001b[0;31m---------------------------------------------------------------------------\u001b[0m",
      "\u001b[0;31mTypeError\u001b[0m                                 Traceback (most recent call last)",
      "Input \u001b[0;32mIn [40]\u001b[0m, in \u001b[0;36m<module>\u001b[0;34m\u001b[0m\n\u001b[1;32m      8\u001b[0m f, ax \u001b[38;5;241m=\u001b[39m plt\u001b[38;5;241m.\u001b[39msubplots(figsize\u001b[38;5;241m=\u001b[39m(\u001b[38;5;241m11\u001b[39m, \u001b[38;5;241m9\u001b[39m))\n\u001b[1;32m     10\u001b[0m \u001b[38;5;66;03m# Generate a custom diverging colormap\u001b[39;00m\n\u001b[0;32m---> 11\u001b[0m cmap \u001b[38;5;241m=\u001b[39m \u001b[43msns\u001b[49m\u001b[38;5;241;43m.\u001b[39;49m\u001b[43mdiverging_palette\u001b[49m\u001b[43m(\u001b[49m\u001b[38;5;241;43m220\u001b[39;49m\u001b[43m,\u001b[49m\u001b[43m \u001b[49m\u001b[38;5;241;43m10\u001b[39;49m\u001b[43m,\u001b[49m\u001b[43m \u001b[49m\u001b[43mas_cmap\u001b[49m\u001b[38;5;241;43m=\u001b[39;49m\u001b[38;5;28;43;01mTrue\u001b[39;49;00m\u001b[43m)\u001b[49m\n\u001b[1;32m     13\u001b[0m \u001b[38;5;66;03m# Draw the heatmap with the mask and correct aspect ratio\u001b[39;00m\n\u001b[1;32m     14\u001b[0m sns\u001b[38;5;241m.\u001b[39mheatmap(corr, mask\u001b[38;5;241m=\u001b[39mmask, cmap\u001b[38;5;241m=\u001b[39mcmap, vmax\u001b[38;5;241m=\u001b[39m\u001b[38;5;241m.3\u001b[39m, center\u001b[38;5;241m=\u001b[39m\u001b[38;5;241m0\u001b[39m,\n\u001b[1;32m     15\u001b[0m             square\u001b[38;5;241m=\u001b[39m\u001b[38;5;28;01mTrue\u001b[39;00m, linewidths\u001b[38;5;241m=\u001b[39m\u001b[38;5;241m.5\u001b[39m, cbar_kws\u001b[38;5;241m=\u001b[39m{\u001b[38;5;124m\"\u001b[39m\u001b[38;5;124mshrink\u001b[39m\u001b[38;5;124m\"\u001b[39m: \u001b[38;5;241m.5\u001b[39m})\n",
      "File \u001b[0;32m~/opt/anaconda3/envs/mlaluranote/lib/python3.8/site-packages/seaborn/palettes.py:744\u001b[0m, in \u001b[0;36mdiverging_palette\u001b[0;34m(h_neg, h_pos, s, l, sep, n, center, as_cmap)\u001b[0m\n\u001b[1;32m    673\u001b[0m \u001b[38;5;124;03m\"\"\"Make a diverging palette between two HUSL colors.\u001b[39;00m\n\u001b[1;32m    674\u001b[0m \n\u001b[1;32m    675\u001b[0m \u001b[38;5;124;03mIf you are using the IPython notebook, you can also choose this palette\u001b[39;00m\n\u001b[0;32m   (...)\u001b[0m\n\u001b[1;32m    741\u001b[0m \n\u001b[1;32m    742\u001b[0m \u001b[38;5;124;03m\"\"\"\u001b[39;00m\n\u001b[1;32m    743\u001b[0m palfunc \u001b[38;5;241m=\u001b[39m dark_palette \u001b[38;5;28;01mif\u001b[39;00m center \u001b[38;5;241m==\u001b[39m \u001b[38;5;124m\"\u001b[39m\u001b[38;5;124mdark\u001b[39m\u001b[38;5;124m\"\u001b[39m \u001b[38;5;28;01melse\u001b[39;00m light_palette\n\u001b[0;32m--> 744\u001b[0m neg \u001b[38;5;241m=\u001b[39m \u001b[43mpalfunc\u001b[49m\u001b[43m(\u001b[49m\u001b[43m(\u001b[49m\u001b[43mh_neg\u001b[49m\u001b[43m,\u001b[49m\u001b[43m \u001b[49m\u001b[43ms\u001b[49m\u001b[43m,\u001b[49m\u001b[43m \u001b[49m\u001b[43ml\u001b[49m\u001b[43m)\u001b[49m\u001b[43m,\u001b[49m\u001b[43m \u001b[49m\u001b[38;5;241;43m128\u001b[39;49m\u001b[43m \u001b[49m\u001b[38;5;241;43m-\u001b[39;49m\u001b[43m \u001b[49m\u001b[43m(\u001b[49m\u001b[43msep\u001b[49m\u001b[43m \u001b[49m\u001b[38;5;241;43m/\u001b[39;49m\u001b[43m \u001b[49m\u001b[38;5;241;43m2\u001b[39;49m\u001b[43m)\u001b[49m\u001b[43m,\u001b[49m\u001b[43m \u001b[49m\u001b[43mreverse\u001b[49m\u001b[38;5;241;43m=\u001b[39;49m\u001b[38;5;28;43;01mTrue\u001b[39;49;00m\u001b[43m,\u001b[49m\u001b[43m \u001b[49m\u001b[38;5;28;43minput\u001b[39;49m\u001b[38;5;241;43m=\u001b[39;49m\u001b[38;5;124;43m\"\u001b[39;49m\u001b[38;5;124;43mhusl\u001b[39;49m\u001b[38;5;124;43m\"\u001b[39;49m\u001b[43m)\u001b[49m\n\u001b[1;32m    745\u001b[0m pos \u001b[38;5;241m=\u001b[39m palfunc((h_pos, s, l), \u001b[38;5;241m128\u001b[39m \u001b[38;5;241m-\u001b[39m (sep \u001b[38;5;241m/\u001b[39m \u001b[38;5;241m2\u001b[39m), \u001b[38;5;28minput\u001b[39m\u001b[38;5;241m=\u001b[39m\u001b[38;5;124m\"\u001b[39m\u001b[38;5;124mhusl\u001b[39m\u001b[38;5;124m\"\u001b[39m)\n\u001b[1;32m    746\u001b[0m midpoint \u001b[38;5;241m=\u001b[39m \u001b[38;5;28mdict\u001b[39m(light\u001b[38;5;241m=\u001b[39m[(\u001b[38;5;241m.95\u001b[39m, \u001b[38;5;241m.95\u001b[39m, \u001b[38;5;241m.95\u001b[39m, \u001b[38;5;241m1.\u001b[39m)],\n\u001b[1;32m    747\u001b[0m                 dark\u001b[38;5;241m=\u001b[39m[(\u001b[38;5;241m.133\u001b[39m, \u001b[38;5;241m.133\u001b[39m, \u001b[38;5;241m.133\u001b[39m, \u001b[38;5;241m1.\u001b[39m)])[center]\n",
      "File \u001b[0;32m~/opt/anaconda3/envs/mlaluranote/lib/python3.8/site-packages/seaborn/palettes.py:641\u001b[0m, in \u001b[0;36mlight_palette\u001b[0;34m(color, n_colors, reverse, as_cmap, input)\u001b[0m\n\u001b[1;32m    639\u001b[0m light \u001b[38;5;241m=\u001b[39m set_hls_values(color, l\u001b[38;5;241m=\u001b[39m\u001b[38;5;241m.95\u001b[39m)  \u001b[38;5;66;03m# noqa\u001b[39;00m\n\u001b[1;32m    640\u001b[0m colors \u001b[38;5;241m=\u001b[39m [color, light] \u001b[38;5;28;01mif\u001b[39;00m reverse \u001b[38;5;28;01melse\u001b[39;00m [light, color]\n\u001b[0;32m--> 641\u001b[0m \u001b[38;5;28;01mreturn\u001b[39;00m \u001b[43mblend_palette\u001b[49m\u001b[43m(\u001b[49m\u001b[43mcolors\u001b[49m\u001b[43m,\u001b[49m\u001b[43m \u001b[49m\u001b[43mn_colors\u001b[49m\u001b[43m,\u001b[49m\u001b[43m \u001b[49m\u001b[43mas_cmap\u001b[49m\u001b[43m)\u001b[49m\n",
      "File \u001b[0;32m~/opt/anaconda3/envs/mlaluranote/lib/python3.8/site-packages/seaborn/palettes.py:777\u001b[0m, in \u001b[0;36mblend_palette\u001b[0;34m(colors, n_colors, as_cmap, input)\u001b[0m\n\u001b[1;32m    775\u001b[0m pal \u001b[38;5;241m=\u001b[39m mpl\u001b[38;5;241m.\u001b[39mcolors\u001b[38;5;241m.\u001b[39mLinearSegmentedColormap\u001b[38;5;241m.\u001b[39mfrom_list(name, colors)\n\u001b[1;32m    776\u001b[0m \u001b[38;5;28;01mif\u001b[39;00m \u001b[38;5;129;01mnot\u001b[39;00m as_cmap:\n\u001b[0;32m--> 777\u001b[0m     pal \u001b[38;5;241m=\u001b[39m _ColorPalette(pal(\u001b[43mnp\u001b[49m\u001b[38;5;241;43m.\u001b[39;49m\u001b[43mlinspace\u001b[49m\u001b[43m(\u001b[49m\u001b[38;5;241;43m0\u001b[39;49m\u001b[43m,\u001b[49m\u001b[43m \u001b[49m\u001b[38;5;241;43m1\u001b[39;49m\u001b[43m,\u001b[49m\u001b[43m \u001b[49m\u001b[43mn_colors\u001b[49m\u001b[43m)\u001b[49m))\n\u001b[1;32m    778\u001b[0m \u001b[38;5;28;01mreturn\u001b[39;00m pal\n",
      "File \u001b[0;32m<__array_function__ internals>:180\u001b[0m, in \u001b[0;36mlinspace\u001b[0;34m(*args, **kwargs)\u001b[0m\n",
      "File \u001b[0;32m~/opt/anaconda3/envs/mlaluranote/lib/python3.8/site-packages/numpy/core/function_base.py:120\u001b[0m, in \u001b[0;36mlinspace\u001b[0;34m(start, stop, num, endpoint, retstep, dtype, axis)\u001b[0m\n\u001b[1;32m     23\u001b[0m \u001b[38;5;129m@array_function_dispatch\u001b[39m(_linspace_dispatcher)\n\u001b[1;32m     24\u001b[0m \u001b[38;5;28;01mdef\u001b[39;00m \u001b[38;5;21mlinspace\u001b[39m(start, stop, num\u001b[38;5;241m=\u001b[39m\u001b[38;5;241m50\u001b[39m, endpoint\u001b[38;5;241m=\u001b[39m\u001b[38;5;28;01mTrue\u001b[39;00m, retstep\u001b[38;5;241m=\u001b[39m\u001b[38;5;28;01mFalse\u001b[39;00m, dtype\u001b[38;5;241m=\u001b[39m\u001b[38;5;28;01mNone\u001b[39;00m,\n\u001b[1;32m     25\u001b[0m              axis\u001b[38;5;241m=\u001b[39m\u001b[38;5;241m0\u001b[39m):\n\u001b[1;32m     26\u001b[0m     \u001b[38;5;124;03m\"\"\"\u001b[39;00m\n\u001b[1;32m     27\u001b[0m \u001b[38;5;124;03m    Return evenly spaced numbers over a specified interval.\u001b[39;00m\n\u001b[1;32m     28\u001b[0m \n\u001b[0;32m   (...)\u001b[0m\n\u001b[1;32m    118\u001b[0m \n\u001b[1;32m    119\u001b[0m \u001b[38;5;124;03m    \"\"\"\u001b[39;00m\n\u001b[0;32m--> 120\u001b[0m     num \u001b[38;5;241m=\u001b[39m \u001b[43moperator\u001b[49m\u001b[38;5;241;43m.\u001b[39;49m\u001b[43mindex\u001b[49m\u001b[43m(\u001b[49m\u001b[43mnum\u001b[49m\u001b[43m)\u001b[49m\n\u001b[1;32m    121\u001b[0m     \u001b[38;5;28;01mif\u001b[39;00m num \u001b[38;5;241m<\u001b[39m \u001b[38;5;241m0\u001b[39m:\n\u001b[1;32m    122\u001b[0m         \u001b[38;5;28;01mraise\u001b[39;00m \u001b[38;5;167;01mValueError\u001b[39;00m(\u001b[38;5;124m\"\u001b[39m\u001b[38;5;124mNumber of samples, \u001b[39m\u001b[38;5;132;01m%s\u001b[39;00m\u001b[38;5;124m, must be non-negative.\u001b[39m\u001b[38;5;124m\"\u001b[39m \u001b[38;5;241m%\u001b[39m num)\n",
      "\u001b[0;31mTypeError\u001b[0m: 'float' object cannot be interpreted as an integer"
     ]
    },
    {
     "data": {
      "image/png": "[encoded data removed]",
      "text/plain": [
       "<Figure size 792x648 with 1 Axes>"
      ]
     },
     "metadata": {},
     "output_type": "display_data"
    }
   ],
   "source": [
    "sns.set(style=\"white\")\n",
    "\n",
    "# Generate a mask for the upper triangle\n",
    "mask = np.zeros_like(corr, dtype=np.bool)\n",
    "mask[np.triu_indices_from(mask)] = True\n",
    "\n",
    "# Set up the matplotlib figure\n",
    "f, ax = plt.subplots(figsize=(11, 9))\n",
    "\n",
    "# Generate a custom diverging colormap\n",
    "cmap = sns.diverging_palette(220, 10, as_cmap=True)\n",
    "\n",
    "# Draw the heatmap with the mask and correct aspect ratio\n",
    "sns.heatmap(corr, mask=mask, cmap=cmap, vmax=.3, center=0,\n",
    "            square=True, linewidths=.5, cbar_kws={\"shrink\": .5})"
   ]
  },
  {
   "cell_type": "code",
   "execution_count": 41,
   "metadata": {
    "colab": {
     "base_uri": "https://localhost:8080/",
     "height": 195
    },
    "colab_type": "code",
    "id": "7_yHHDkEiqCC",
    "outputId": "5569f2aa-acf9-4a40-89f0-45e56ed70a21"
   },
   "outputs": [
    {
     "data": {
      "text/html": [
       "<div>\n",
       "<style scoped>\n",
       "    .dataframe tbody tr th:only-of-type {\n",
       "        vertical-align: middle;\n",
       "    }\n",
       "\n",
       "    .dataframe tbody tr th {\n",
       "        vertical-align: top;\n",
       "    }\n",
       "\n",
       "    .dataframe thead th {\n",
       "        text-align: right;\n",
       "    }\n",
       "</style>\n",
       "<table border=\"1\" class=\"dataframe\">\n",
       "  <thead>\n",
       "    <tr style=\"text-align: right;\">\n",
       "      <th></th>\n",
       "      <th>max_depth</th>\n",
       "      <th>min_samples_leaf</th>\n",
       "      <th>train</th>\n",
       "      <th>test</th>\n",
       "    </tr>\n",
       "  </thead>\n",
       "  <tbody>\n",
       "    <tr>\n",
       "      <th>13</th>\n",
       "      <td>4</td>\n",
       "      <td>192</td>\n",
       "      <td>78.750993</td>\n",
       "      <td>78.672633</td>\n",
       "    </tr>\n",
       "    <tr>\n",
       "      <th>8</th>\n",
       "      <td>3</td>\n",
       "      <td>128</td>\n",
       "      <td>78.750993</td>\n",
       "      <td>78.672633</td>\n",
       "    </tr>\n",
       "    <tr>\n",
       "      <th>9</th>\n",
       "      <td>3</td>\n",
       "      <td>192</td>\n",
       "      <td>78.750993</td>\n",
       "      <td>78.672633</td>\n",
       "    </tr>\n",
       "    <tr>\n",
       "      <th>10</th>\n",
       "      <td>3</td>\n",
       "      <td>256</td>\n",
       "      <td>78.750993</td>\n",
       "      <td>78.672633</td>\n",
       "    </tr>\n",
       "    <tr>\n",
       "      <th>14</th>\n",
       "      <td>4</td>\n",
       "      <td>256</td>\n",
       "      <td>78.750993</td>\n",
       "      <td>78.672633</td>\n",
       "    </tr>\n",
       "  </tbody>\n",
       "</table>\n",
       "</div>"
      ],
      "text/plain": [
       "    max_depth  min_samples_leaf      train       test\n",
       "13          4               192  78.750993  78.672633\n",
       "8           3               128  78.750993  78.672633\n",
       "9           3               192  78.750993  78.672633\n",
       "10          3               256  78.750993  78.672633\n",
       "14          4               256  78.750993  78.672633"
      ]
     },
     "execution_count": 41,
     "metadata": {},
     "output_type": "execute_result"
    }
   ],
   "source": [
    "resultados.sort_values(\"test\", ascending=False).head()"
   ]
  },
  {
   "cell_type": "markdown",
   "metadata": {
    "colab_type": "text",
    "id": "pwwC1wHakOvC"
   },
   "source": [
    "# Explorando 3 dimensões de hiper parâmetros"
   ]
  },
  {
   "cell_type": "code",
   "execution_count": 42,
   "metadata": {
    "colab": {
     "base_uri": "https://localhost:8080/",
     "height": 195
    },
    "colab_type": "code",
    "id": "jlCg0np0kSsa",
    "outputId": "c4b1c47c-ba31-49a3-a68f-40804b2df126"
   },
   "outputs": [
    {
     "data": {
      "text/html": [
       "<div>\n",
       "<style scoped>\n",
       "    .dataframe tbody tr th:only-of-type {\n",
       "        vertical-align: middle;\n",
       "    }\n",
       "\n",
       "    .dataframe tbody tr th {\n",
       "        vertical-align: top;\n",
       "    }\n",
       "\n",
       "    .dataframe thead th {\n",
       "        text-align: right;\n",
       "    }\n",
       "</style>\n",
       "<table border=\"1\" class=\"dataframe\">\n",
       "  <thead>\n",
       "    <tr style=\"text-align: right;\">\n",
       "      <th></th>\n",
       "      <th>max_depth</th>\n",
       "      <th>min_samples_leaf</th>\n",
       "      <th>min_samples_split</th>\n",
       "      <th>train</th>\n",
       "      <th>test</th>\n",
       "      <th>fit_time</th>\n",
       "      <th>score_time</th>\n",
       "    </tr>\n",
       "  </thead>\n",
       "  <tbody>\n",
       "    <tr>\n",
       "      <th>0</th>\n",
       "      <td>1</td>\n",
       "      <td>32</td>\n",
       "      <td>32</td>\n",
       "      <td>75.791169</td>\n",
       "      <td>75.784219</td>\n",
       "      <td>0.006786</td>\n",
       "      <td>0.002046</td>\n",
       "    </tr>\n",
       "    <tr>\n",
       "      <th>1</th>\n",
       "      <td>1</td>\n",
       "      <td>32</td>\n",
       "      <td>64</td>\n",
       "      <td>75.791169</td>\n",
       "      <td>75.784219</td>\n",
       "      <td>0.005174</td>\n",
       "      <td>0.001778</td>\n",
       "    </tr>\n",
       "    <tr>\n",
       "      <th>2</th>\n",
       "      <td>1</td>\n",
       "      <td>32</td>\n",
       "      <td>128</td>\n",
       "      <td>75.791169</td>\n",
       "      <td>75.784219</td>\n",
       "      <td>0.005549</td>\n",
       "      <td>0.001736</td>\n",
       "    </tr>\n",
       "    <tr>\n",
       "      <th>3</th>\n",
       "      <td>1</td>\n",
       "      <td>32</td>\n",
       "      <td>256</td>\n",
       "      <td>75.791169</td>\n",
       "      <td>75.784219</td>\n",
       "      <td>0.005094</td>\n",
       "      <td>0.001657</td>\n",
       "    </tr>\n",
       "    <tr>\n",
       "      <th>4</th>\n",
       "      <td>1</td>\n",
       "      <td>64</td>\n",
       "      <td>32</td>\n",
       "      <td>75.791169</td>\n",
       "      <td>75.784219</td>\n",
       "      <td>0.005170</td>\n",
       "      <td>0.001769</td>\n",
       "    </tr>\n",
       "  </tbody>\n",
       "</table>\n",
       "</div>"
      ],
      "text/plain": [
       "   max_depth  min_samples_leaf  min_samples_split      train       test  \\\n",
       "0          1                32                 32  75.791169  75.784219   \n",
       "1          1                32                 64  75.791169  75.784219   \n",
       "2          1                32                128  75.791169  75.784219   \n",
       "3          1                32                256  75.791169  75.784219   \n",
       "4          1                64                 32  75.791169  75.784219   \n",
       "\n",
       "   fit_time  score_time  \n",
       "0  0.006786    0.002046  \n",
       "1  0.005174    0.001778  \n",
       "2  0.005549    0.001736  \n",
       "3  0.005094    0.001657  \n",
       "4  0.005170    0.001769  "
      ]
     },
     "execution_count": 42,
     "metadata": {},
     "output_type": "execute_result"
    }
   ],
   "source": [
    "def roda_arvore_de_decisao(max_depth, min_samples_leaf, min_samples_split):\n",
    "  SEED = 301\n",
    "  np.random.seed(SEED)\n",
    "\n",
    "  cv = GroupKFold(n_splits = 10)\n",
    "  modelo = DecisionTreeClassifier(max_depth=max_depth, min_samples_leaf = min_samples_leaf, min_samples_split = min_samples_split)\n",
    "  results = cross_validate(modelo, x_azar, y_azar, cv = cv, groups = dados.modelo, return_train_score=True)\n",
    "  fit_time = results['fit_time'].mean()\n",
    "  score_time = results['score_time'].mean()\n",
    "  train_score = results['train_score'].mean() * 100\n",
    "  test_score = results['test_score'].mean() * 100\n",
    "  tabela = [max_depth, min_samples_leaf, min_samples_split, train_score, test_score, fit_time, score_time]\n",
    "  return tabela\n",
    "\n",
    "def busca():\n",
    "  resultados = []\n",
    "  for max_depth in range(1,33):\n",
    "    for min_samples_leaf in [32, 64, 128, 256]:\n",
    "      for min_samples_split in [32, 64, 128, 256]:\n",
    "        tabela = roda_arvore_de_decisao(max_depth, min_samples_leaf, min_samples_split)\n",
    "        resultados.append(tabela)\n",
    "  resultados = pd.DataFrame(resultados, columns= [\"max_depth\",\"min_samples_leaf\",\"min_samples_split\",\"train\",\"test\", \"fit_time\", \"score_time\"])\n",
    "  return resultados\n",
    "\n",
    "resultados = busca()\n",
    "resultados.head()"
   ]
  },
  {
   "cell_type": "code",
   "execution_count": 43,
   "metadata": {
    "colab": {},
    "colab_type": "code",
    "id": "vUmCKerTkqdS"
   },
   "outputs": [],
   "source": [
    "corr = resultados.corr()"
   ]
  },
  {
   "cell_type": "code",
   "execution_count": 44,
   "metadata": {
    "colab": {
     "base_uri": "https://localhost:8080/",
     "height": 654
    },
    "colab_type": "code",
    "id": "a7d6zbMglbBJ",
    "outputId": "63e661b9-79da-4a7f-f13f-b3b2a8d110ee",
    "scrolled": true
   },
   "outputs": [
    {
     "name": "stderr",
     "output_type": "stream",
     "text": [
      "/var/folders/01/_r7b02r11p15j0s54gb9x0040000gn/T/ipykernel_11200/1569857682.py:4: DeprecationWarning: `np.bool` is a deprecated alias for the builtin `bool`. To silence this warning, use `bool` by itself. Doing this will not modify any behavior and is safe. If you specifically wanted the numpy scalar type, use `np.bool_` here.\n",
      "Deprecated in NumPy 1.20; for more details and guidance: https://numpy.org/devdocs/release/1.20.0-notes.html#deprecations\n",
      "  mask = np.zeros_like(corr, dtype=np.bool)\n"
     ]
    },
    {
     "ename": "TypeError",
     "evalue": "'float' object cannot be interpreted as an integer",
     "output_type": "error",
     "traceback": [
      "\u001b[0;31m---------------------------------------------------------------------------\u001b[0m",
      "\u001b[0;31mTypeError\u001b[0m                                 Traceback (most recent call last)",
      "Input \u001b[0;32mIn [44]\u001b[0m, in \u001b[0;36m<module>\u001b[0;34m\u001b[0m\n\u001b[1;32m      8\u001b[0m f, ax \u001b[38;5;241m=\u001b[39m plt\u001b[38;5;241m.\u001b[39msubplots(figsize\u001b[38;5;241m=\u001b[39m(\u001b[38;5;241m11\u001b[39m, \u001b[38;5;241m9\u001b[39m))\n\u001b[1;32m     10\u001b[0m \u001b[38;5;66;03m# Generate a custom diverging colormap\u001b[39;00m\n\u001b[0;32m---> 11\u001b[0m cmap \u001b[38;5;241m=\u001b[39m \u001b[43msns\u001b[49m\u001b[38;5;241;43m.\u001b[39;49m\u001b[43mdiverging_palette\u001b[49m\u001b[43m(\u001b[49m\u001b[38;5;241;43m220\u001b[39;49m\u001b[43m,\u001b[49m\u001b[43m \u001b[49m\u001b[38;5;241;43m10\u001b[39;49m\u001b[43m,\u001b[49m\u001b[43m \u001b[49m\u001b[43mas_cmap\u001b[49m\u001b[38;5;241;43m=\u001b[39;49m\u001b[38;5;28;43;01mTrue\u001b[39;49;00m\u001b[43m)\u001b[49m\n\u001b[1;32m     13\u001b[0m \u001b[38;5;66;03m# Draw the heatmap with the mask and correct aspect ratio\u001b[39;00m\n\u001b[1;32m     14\u001b[0m sns\u001b[38;5;241m.\u001b[39mheatmap(corr, mask\u001b[38;5;241m=\u001b[39mmask, cmap\u001b[38;5;241m=\u001b[39mcmap, vmax\u001b[38;5;241m=\u001b[39m\u001b[38;5;241m.3\u001b[39m, center\u001b[38;5;241m=\u001b[39m\u001b[38;5;241m0\u001b[39m,\n\u001b[1;32m     15\u001b[0m             square\u001b[38;5;241m=\u001b[39m\u001b[38;5;28;01mTrue\u001b[39;00m, linewidths\u001b[38;5;241m=\u001b[39m\u001b[38;5;241m.5\u001b[39m, cbar_kws\u001b[38;5;241m=\u001b[39m{\u001b[38;5;124m\"\u001b[39m\u001b[38;5;124mshrink\u001b[39m\u001b[38;5;124m\"\u001b[39m: \u001b[38;5;241m.5\u001b[39m})\n",
      "File \u001b[0;32m~/opt/anaconda3/envs/mlaluranote/lib/python3.8/site-packages/seaborn/palettes.py:744\u001b[0m, in \u001b[0;36mdiverging_palette\u001b[0;34m(h_neg, h_pos, s, l, sep, n, center, as_cmap)\u001b[0m\n\u001b[1;32m    673\u001b[0m \u001b[38;5;124;03m\"\"\"Make a diverging palette between two HUSL colors.\u001b[39;00m\n\u001b[1;32m    674\u001b[0m \n\u001b[1;32m    675\u001b[0m \u001b[38;5;124;03mIf you are using the IPython notebook, you can also choose this palette\u001b[39;00m\n\u001b[0;32m   (...)\u001b[0m\n\u001b[1;32m    741\u001b[0m \n\u001b[1;32m    742\u001b[0m \u001b[38;5;124;03m\"\"\"\u001b[39;00m\n\u001b[1;32m    743\u001b[0m palfunc \u001b[38;5;241m=\u001b[39m dark_palette \u001b[38;5;28;01mif\u001b[39;00m center \u001b[38;5;241m==\u001b[39m \u001b[38;5;124m\"\u001b[39m\u001b[38;5;124mdark\u001b[39m\u001b[38;5;124m\"\u001b[39m \u001b[38;5;28;01melse\u001b[39;00m light_palette\n\u001b[0;32m--> 744\u001b[0m neg \u001b[38;5;241m=\u001b[39m \u001b[43mpalfunc\u001b[49m\u001b[43m(\u001b[49m\u001b[43m(\u001b[49m\u001b[43mh_neg\u001b[49m\u001b[43m,\u001b[49m\u001b[43m \u001b[49m\u001b[43ms\u001b[49m\u001b[43m,\u001b[49m\u001b[43m \u001b[49m\u001b[43ml\u001b[49m\u001b[43m)\u001b[49m\u001b[43m,\u001b[49m\u001b[43m \u001b[49m\u001b[38;5;241;43m128\u001b[39;49m\u001b[43m \u001b[49m\u001b[38;5;241;43m-\u001b[39;49m\u001b[43m \u001b[49m\u001b[43m(\u001b[49m\u001b[43msep\u001b[49m\u001b[43m \u001b[49m\u001b[38;5;241;43m/\u001b[39;49m\u001b[43m \u001b[49m\u001b[38;5;241;43m2\u001b[39;49m\u001b[43m)\u001b[49m\u001b[43m,\u001b[49m\u001b[43m \u001b[49m\u001b[43mreverse\u001b[49m\u001b[38;5;241;43m=\u001b[39;49m\u001b[38;5;28;43;01mTrue\u001b[39;49;00m\u001b[43m,\u001b[49m\u001b[43m \u001b[49m\u001b[38;5;28;43minput\u001b[39;49m\u001b[38;5;241;43m=\u001b[39;49m\u001b[38;5;124;43m\"\u001b[39;49m\u001b[38;5;124;43mhusl\u001b[39;49m\u001b[38;5;124;43m\"\u001b[39;49m\u001b[43m)\u001b[49m\n\u001b[1;32m    745\u001b[0m pos \u001b[38;5;241m=\u001b[39m palfunc((h_pos, s, l), \u001b[38;5;241m128\u001b[39m \u001b[38;5;241m-\u001b[39m (sep \u001b[38;5;241m/\u001b[39m \u001b[38;5;241m2\u001b[39m), \u001b[38;5;28minput\u001b[39m\u001b[38;5;241m=\u001b[39m\u001b[38;5;124m\"\u001b[39m\u001b[38;5;124mhusl\u001b[39m\u001b[38;5;124m\"\u001b[39m)\n\u001b[1;32m    746\u001b[0m midpoint \u001b[38;5;241m=\u001b[39m \u001b[38;5;28mdict\u001b[39m(light\u001b[38;5;241m=\u001b[39m[(\u001b[38;5;241m.95\u001b[39m, \u001b[38;5;241m.95\u001b[39m, \u001b[38;5;241m.95\u001b[39m, \u001b[38;5;241m1.\u001b[39m)],\n\u001b[1;32m    747\u001b[0m                 dark\u001b[38;5;241m=\u001b[39m[(\u001b[38;5;241m.133\u001b[39m, \u001b[38;5;241m.133\u001b[39m, \u001b[38;5;241m.133\u001b[39m, \u001b[38;5;241m1.\u001b[39m)])[center]\n",
      "File \u001b[0;32m~/opt/anaconda3/envs/mlaluranote/lib/python3.8/site-packages/seaborn/palettes.py:641\u001b[0m, in \u001b[0;36mlight_palette\u001b[0;34m(color, n_colors, reverse, as_cmap, input)\u001b[0m\n\u001b[1;32m    639\u001b[0m light \u001b[38;5;241m=\u001b[39m set_hls_values(color, l\u001b[38;5;241m=\u001b[39m\u001b[38;5;241m.95\u001b[39m)  \u001b[38;5;66;03m# noqa\u001b[39;00m\n\u001b[1;32m    640\u001b[0m colors \u001b[38;5;241m=\u001b[39m [color, light] \u001b[38;5;28;01mif\u001b[39;00m reverse \u001b[38;5;28;01melse\u001b[39;00m [light, color]\n\u001b[0;32m--> 641\u001b[0m \u001b[38;5;28;01mreturn\u001b[39;00m \u001b[43mblend_palette\u001b[49m\u001b[43m(\u001b[49m\u001b[43mcolors\u001b[49m\u001b[43m,\u001b[49m\u001b[43m \u001b[49m\u001b[43mn_colors\u001b[49m\u001b[43m,\u001b[49m\u001b[43m \u001b[49m\u001b[43mas_cmap\u001b[49m\u001b[43m)\u001b[49m\n",
      "File \u001b[0;32m~/opt/anaconda3/envs/mlaluranote/lib/python3.8/site-packages/seaborn/palettes.py:777\u001b[0m, in \u001b[0;36mblend_palette\u001b[0;34m(colors, n_colors, as_cmap, input)\u001b[0m\n\u001b[1;32m    775\u001b[0m pal \u001b[38;5;241m=\u001b[39m mpl\u001b[38;5;241m.\u001b[39mcolors\u001b[38;5;241m.\u001b[39mLinearSegmentedColormap\u001b[38;5;241m.\u001b[39mfrom_list(name, colors)\n\u001b[1;32m    776\u001b[0m \u001b[38;5;28;01mif\u001b[39;00m \u001b[38;5;129;01mnot\u001b[39;00m as_cmap:\n\u001b[0;32m--> 777\u001b[0m     pal \u001b[38;5;241m=\u001b[39m _ColorPalette(pal(\u001b[43mnp\u001b[49m\u001b[38;5;241;43m.\u001b[39;49m\u001b[43mlinspace\u001b[49m\u001b[43m(\u001b[49m\u001b[38;5;241;43m0\u001b[39;49m\u001b[43m,\u001b[49m\u001b[43m \u001b[49m\u001b[38;5;241;43m1\u001b[39;49m\u001b[43m,\u001b[49m\u001b[43m \u001b[49m\u001b[43mn_colors\u001b[49m\u001b[43m)\u001b[49m))\n\u001b[1;32m    778\u001b[0m \u001b[38;5;28;01mreturn\u001b[39;00m pal\n",
      "File \u001b[0;32m<__array_function__ internals>:180\u001b[0m, in \u001b[0;36mlinspace\u001b[0;34m(*args, **kwargs)\u001b[0m\n",
      "File \u001b[0;32m~/opt/anaconda3/envs/mlaluranote/lib/python3.8/site-packages/numpy/core/function_base.py:120\u001b[0m, in \u001b[0;36mlinspace\u001b[0;34m(start, stop, num, endpoint, retstep, dtype, axis)\u001b[0m\n\u001b[1;32m     23\u001b[0m \u001b[38;5;129m@array_function_dispatch\u001b[39m(_linspace_dispatcher)\n\u001b[1;32m     24\u001b[0m \u001b[38;5;28;01mdef\u001b[39;00m \u001b[38;5;21mlinspace\u001b[39m(start, stop, num\u001b[38;5;241m=\u001b[39m\u001b[38;5;241m50\u001b[39m, endpoint\u001b[38;5;241m=\u001b[39m\u001b[38;5;28;01mTrue\u001b[39;00m, retstep\u001b[38;5;241m=\u001b[39m\u001b[38;5;28;01mFalse\u001b[39;00m, dtype\u001b[38;5;241m=\u001b[39m\u001b[38;5;28;01mNone\u001b[39;00m,\n\u001b[1;32m     25\u001b[0m              axis\u001b[38;5;241m=\u001b[39m\u001b[38;5;241m0\u001b[39m):\n\u001b[1;32m     26\u001b[0m     \u001b[38;5;124;03m\"\"\"\u001b[39;00m\n\u001b[1;32m     27\u001b[0m \u001b[38;5;124;03m    Return evenly spaced numbers over a specified interval.\u001b[39;00m\n\u001b[1;32m     28\u001b[0m \n\u001b[0;32m   (...)\u001b[0m\n\u001b[1;32m    118\u001b[0m \n\u001b[1;32m    119\u001b[0m \u001b[38;5;124;03m    \"\"\"\u001b[39;00m\n\u001b[0;32m--> 120\u001b[0m     num \u001b[38;5;241m=\u001b[39m \u001b[43moperator\u001b[49m\u001b[38;5;241;43m.\u001b[39;49m\u001b[43mindex\u001b[49m\u001b[43m(\u001b[49m\u001b[43mnum\u001b[49m\u001b[43m)\u001b[49m\n\u001b[1;32m    121\u001b[0m     \u001b[38;5;28;01mif\u001b[39;00m num \u001b[38;5;241m<\u001b[39m \u001b[38;5;241m0\u001b[39m:\n\u001b[1;32m    122\u001b[0m         \u001b[38;5;28;01mraise\u001b[39;00m \u001b[38;5;167;01mValueError\u001b[39;00m(\u001b[38;5;124m\"\u001b[39m\u001b[38;5;124mNumber of samples, \u001b[39m\u001b[38;5;132;01m%s\u001b[39;00m\u001b[38;5;124m, must be non-negative.\u001b[39m\u001b[38;5;124m\"\u001b[39m \u001b[38;5;241m%\u001b[39m num)\n",
      "\u001b[0;31mTypeError\u001b[0m: 'float' object cannot be interpreted as an integer"
     ]
    },
    {
     "data": {
      "image/png": "[encoded data removed]",
      "text/plain": [
       "<Figure size 792x648 with 1 Axes>"
      ]
     },
     "metadata": {},
     "output_type": "display_data"
    }
   ],
   "source": [
    "sns.set(style=\"white\")\n",
    "\n",
    "# Generate a mask for the upper triangle\n",
    "mask = np.zeros_like(corr, dtype=np.bool)\n",
    "mask[np.triu_indices_from(mask)] = True\n",
    "\n",
    "# Set up the matplotlib figure\n",
    "f, ax = plt.subplots(figsize=(11, 9))\n",
    "\n",
    "# Generate a custom diverging colormap\n",
    "cmap = sns.diverging_palette(220, 10, as_cmap=True)\n",
    "\n",
    "# Draw the heatmap with the mask and correct aspect ratio\n",
    "sns.heatmap(corr, mask=mask, cmap=cmap, vmax=.3, center=0,\n",
    "            square=True, linewidths=.5, cbar_kws={\"shrink\": .5})"
   ]
  },
  {
   "cell_type": "code",
   "execution_count": 45,
   "metadata": {
    "colab": {
     "base_uri": "https://localhost:8080/",
     "height": 195
    },
    "colab_type": "code",
    "id": "YY5vVBEGlctR",
    "outputId": "855cdcbd-8951-4c90-f307-d35fac841790"
   },
   "outputs": [
    {
     "data": {
      "text/html": [
       "<div>\n",
       "<style scoped>\n",
       "    .dataframe tbody tr th:only-of-type {\n",
       "        vertical-align: middle;\n",
       "    }\n",
       "\n",
       "    .dataframe tbody tr th {\n",
       "        vertical-align: top;\n",
       "    }\n",
       "\n",
       "    .dataframe thead th {\n",
       "        text-align: right;\n",
       "    }\n",
       "</style>\n",
       "<table border=\"1\" class=\"dataframe\">\n",
       "  <thead>\n",
       "    <tr style=\"text-align: right;\">\n",
       "      <th></th>\n",
       "      <th>max_depth</th>\n",
       "      <th>min_samples_leaf</th>\n",
       "      <th>min_samples_split</th>\n",
       "      <th>train</th>\n",
       "      <th>test</th>\n",
       "      <th>fit_time</th>\n",
       "      <th>score_time</th>\n",
       "    </tr>\n",
       "  </thead>\n",
       "  <tbody>\n",
       "    <tr>\n",
       "      <th>63</th>\n",
       "      <td>4</td>\n",
       "      <td>256</td>\n",
       "      <td>256</td>\n",
       "      <td>78.750993</td>\n",
       "      <td>78.672633</td>\n",
       "      <td>0.012273</td>\n",
       "      <td>0.002327</td>\n",
       "    </tr>\n",
       "    <tr>\n",
       "      <th>48</th>\n",
       "      <td>4</td>\n",
       "      <td>32</td>\n",
       "      <td>32</td>\n",
       "      <td>78.750993</td>\n",
       "      <td>78.672633</td>\n",
       "      <td>0.011412</td>\n",
       "      <td>0.001733</td>\n",
       "    </tr>\n",
       "    <tr>\n",
       "      <th>34</th>\n",
       "      <td>3</td>\n",
       "      <td>32</td>\n",
       "      <td>128</td>\n",
       "      <td>78.750993</td>\n",
       "      <td>78.672633</td>\n",
       "      <td>0.009547</td>\n",
       "      <td>0.001914</td>\n",
       "    </tr>\n",
       "    <tr>\n",
       "      <th>35</th>\n",
       "      <td>3</td>\n",
       "      <td>32</td>\n",
       "      <td>256</td>\n",
       "      <td>78.750993</td>\n",
       "      <td>78.672633</td>\n",
       "      <td>0.009522</td>\n",
       "      <td>0.001766</td>\n",
       "    </tr>\n",
       "    <tr>\n",
       "      <th>36</th>\n",
       "      <td>3</td>\n",
       "      <td>64</td>\n",
       "      <td>32</td>\n",
       "      <td>78.750993</td>\n",
       "      <td>78.672633</td>\n",
       "      <td>0.010006</td>\n",
       "      <td>0.001884</td>\n",
       "    </tr>\n",
       "  </tbody>\n",
       "</table>\n",
       "</div>"
      ],
      "text/plain": [
       "    max_depth  min_samples_leaf  min_samples_split      train       test  \\\n",
       "63          4               256                256  78.750993  78.672633   \n",
       "48          4                32                 32  78.750993  78.672633   \n",
       "34          3                32                128  78.750993  78.672633   \n",
       "35          3                32                256  78.750993  78.672633   \n",
       "36          3                64                 32  78.750993  78.672633   \n",
       "\n",
       "    fit_time  score_time  \n",
       "63  0.012273    0.002327  \n",
       "48  0.011412    0.001733  \n",
       "34  0.009547    0.001914  \n",
       "35  0.009522    0.001766  \n",
       "36  0.010006    0.001884  "
      ]
     },
     "execution_count": 45,
     "metadata": {},
     "output_type": "execute_result"
    }
   ],
   "source": [
    "resultados.sort_values(\"test\", ascending=False).head()"
   ]
  },
  {
   "cell_type": "markdown",
   "metadata": {
    "colab_type": "text",
    "id": "at5ydyJOqQMv"
   },
   "source": [
    "# Explorando espaço de hiper parâmetros com GridSearchCV"
   ]
  },
  {
   "cell_type": "code",
   "execution_count": 46,
   "metadata": {
    "colab": {
     "base_uri": "https://localhost:8080/",
     "height": 983
    },
    "colab_type": "code",
    "id": "Zb69KkJwljln",
    "outputId": "5a5b77b6-5659-43de-d7ef-6c0b1bcbe64f",
    "scrolled": true
   },
   "outputs": [
    {
     "data": {
      "text/html": [
       "<div>\n",
       "<style scoped>\n",
       "    .dataframe tbody tr th:only-of-type {\n",
       "        vertical-align: middle;\n",
       "    }\n",
       "\n",
       "    .dataframe tbody tr th {\n",
       "        vertical-align: top;\n",
       "    }\n",
       "\n",
       "    .dataframe thead th {\n",
       "        text-align: right;\n",
       "    }\n",
       "</style>\n",
       "<table border=\"1\" class=\"dataframe\">\n",
       "  <thead>\n",
       "    <tr style=\"text-align: right;\">\n",
       "      <th></th>\n",
       "      <th>mean_fit_time</th>\n",
       "      <th>std_fit_time</th>\n",
       "      <th>mean_score_time</th>\n",
       "      <th>std_score_time</th>\n",
       "      <th>param_criterion</th>\n",
       "      <th>param_max_depth</th>\n",
       "      <th>param_min_samples_leaf</th>\n",
       "      <th>param_min_samples_split</th>\n",
       "      <th>params</th>\n",
       "      <th>split0_test_score</th>\n",
       "      <th>...</th>\n",
       "      <th>split3_test_score</th>\n",
       "      <th>split4_test_score</th>\n",
       "      <th>split5_test_score</th>\n",
       "      <th>split6_test_score</th>\n",
       "      <th>split7_test_score</th>\n",
       "      <th>split8_test_score</th>\n",
       "      <th>split9_test_score</th>\n",
       "      <th>mean_test_score</th>\n",
       "      <th>std_test_score</th>\n",
       "      <th>rank_test_score</th>\n",
       "    </tr>\n",
       "  </thead>\n",
       "  <tbody>\n",
       "    <tr>\n",
       "      <th>0</th>\n",
       "      <td>0.011163</td>\n",
       "      <td>0.002181</td>\n",
       "      <td>0.002033</td>\n",
       "      <td>0.000607</td>\n",
       "      <td>gini</td>\n",
       "      <td>3</td>\n",
       "      <td>32</td>\n",
       "      <td>32</td>\n",
       "      <td>{'criterion': 'gini', 'max_depth': 3, 'min_sam...</td>\n",
       "      <td>0.804757</td>\n",
       "      <td>...</td>\n",
       "      <td>0.78408</td>\n",
       "      <td>0.783181</td>\n",
       "      <td>0.797809</td>\n",
       "      <td>0.762866</td>\n",
       "      <td>0.781818</td>\n",
       "      <td>0.77551</td>\n",
       "      <td>0.790262</td>\n",
       "      <td>0.786726</td>\n",
       "      <td>0.011361</td>\n",
       "      <td>1</td>\n",
       "    </tr>\n",
       "    <tr>\n",
       "      <th>1</th>\n",
       "      <td>0.009763</td>\n",
       "      <td>0.000639</td>\n",
       "      <td>0.001811</td>\n",
       "      <td>0.000182</td>\n",
       "      <td>gini</td>\n",
       "      <td>3</td>\n",
       "      <td>32</td>\n",
       "      <td>64</td>\n",
       "      <td>{'criterion': 'gini', 'max_depth': 3, 'min_sam...</td>\n",
       "      <td>0.804757</td>\n",
       "      <td>...</td>\n",
       "      <td>0.78408</td>\n",
       "      <td>0.783181</td>\n",
       "      <td>0.797809</td>\n",
       "      <td>0.762866</td>\n",
       "      <td>0.781818</td>\n",
       "      <td>0.77551</td>\n",
       "      <td>0.790262</td>\n",
       "      <td>0.786726</td>\n",
       "      <td>0.011361</td>\n",
       "      <td>1</td>\n",
       "    </tr>\n",
       "    <tr>\n",
       "      <th>2</th>\n",
       "      <td>0.009247</td>\n",
       "      <td>0.000293</td>\n",
       "      <td>0.001956</td>\n",
       "      <td>0.000505</td>\n",
       "      <td>gini</td>\n",
       "      <td>3</td>\n",
       "      <td>32</td>\n",
       "      <td>128</td>\n",
       "      <td>{'criterion': 'gini', 'max_depth': 3, 'min_sam...</td>\n",
       "      <td>0.804757</td>\n",
       "      <td>...</td>\n",
       "      <td>0.78408</td>\n",
       "      <td>0.783181</td>\n",
       "      <td>0.797809</td>\n",
       "      <td>0.762866</td>\n",
       "      <td>0.781818</td>\n",
       "      <td>0.77551</td>\n",
       "      <td>0.790262</td>\n",
       "      <td>0.786726</td>\n",
       "      <td>0.011361</td>\n",
       "      <td>1</td>\n",
       "    </tr>\n",
       "    <tr>\n",
       "      <th>3</th>\n",
       "      <td>0.009458</td>\n",
       "      <td>0.000319</td>\n",
       "      <td>0.001746</td>\n",
       "      <td>0.000063</td>\n",
       "      <td>gini</td>\n",
       "      <td>3</td>\n",
       "      <td>64</td>\n",
       "      <td>32</td>\n",
       "      <td>{'criterion': 'gini', 'max_depth': 3, 'min_sam...</td>\n",
       "      <td>0.804757</td>\n",
       "      <td>...</td>\n",
       "      <td>0.78408</td>\n",
       "      <td>0.783181</td>\n",
       "      <td>0.797809</td>\n",
       "      <td>0.762866</td>\n",
       "      <td>0.781818</td>\n",
       "      <td>0.77551</td>\n",
       "      <td>0.790262</td>\n",
       "      <td>0.786726</td>\n",
       "      <td>0.011361</td>\n",
       "      <td>1</td>\n",
       "    </tr>\n",
       "    <tr>\n",
       "      <th>4</th>\n",
       "      <td>0.009508</td>\n",
       "      <td>0.000617</td>\n",
       "      <td>0.002079</td>\n",
       "      <td>0.000562</td>\n",
       "      <td>gini</td>\n",
       "      <td>3</td>\n",
       "      <td>64</td>\n",
       "      <td>64</td>\n",
       "      <td>{'criterion': 'gini', 'max_depth': 3, 'min_sam...</td>\n",
       "      <td>0.804757</td>\n",
       "      <td>...</td>\n",
       "      <td>0.78408</td>\n",
       "      <td>0.783181</td>\n",
       "      <td>0.797809</td>\n",
       "      <td>0.762866</td>\n",
       "      <td>0.781818</td>\n",
       "      <td>0.77551</td>\n",
       "      <td>0.790262</td>\n",
       "      <td>0.786726</td>\n",
       "      <td>0.011361</td>\n",
       "      <td>1</td>\n",
       "    </tr>\n",
       "  </tbody>\n",
       "</table>\n",
       "<p>5 rows × 22 columns</p>\n",
       "</div>"
      ],
      "text/plain": [
       "   mean_fit_time  std_fit_time  mean_score_time  std_score_time  \\\n",
       "0       0.011163      0.002181         0.002033        0.000607   \n",
       "1       0.009763      0.000639         0.001811        0.000182   \n",
       "2       0.009247      0.000293         0.001956        0.000505   \n",
       "3       0.009458      0.000319         0.001746        0.000063   \n",
       "4       0.009508      0.000617         0.002079        0.000562   \n",
       "\n",
       "  param_criterion param_max_depth param_min_samples_leaf  \\\n",
       "0            gini               3                     32   \n",
       "1            gini               3                     32   \n",
       "2            gini               3                     32   \n",
       "3            gini               3                     64   \n",
       "4            gini               3                     64   \n",
       "\n",
       "  param_min_samples_split                                             params  \\\n",
       "0                      32  {'criterion': 'gini', 'max_depth': 3, 'min_sam...   \n",
       "1                      64  {'criterion': 'gini', 'max_depth': 3, 'min_sam...   \n",
       "2                     128  {'criterion': 'gini', 'max_depth': 3, 'min_sam...   \n",
       "3                      32  {'criterion': 'gini', 'max_depth': 3, 'min_sam...   \n",
       "4                      64  {'criterion': 'gini', 'max_depth': 3, 'min_sam...   \n",
       "\n",
       "   split0_test_score  ...  split3_test_score  split4_test_score  \\\n",
       "0           0.804757  ...            0.78408           0.783181   \n",
       "1           0.804757  ...            0.78408           0.783181   \n",
       "2           0.804757  ...            0.78408           0.783181   \n",
       "3           0.804757  ...            0.78408           0.783181   \n",
       "4           0.804757  ...            0.78408           0.783181   \n",
       "\n",
       "   split5_test_score  split6_test_score  split7_test_score  split8_test_score  \\\n",
       "0           0.797809           0.762866           0.781818            0.77551   \n",
       "1           0.797809           0.762866           0.781818            0.77551   \n",
       "2           0.797809           0.762866           0.781818            0.77551   \n",
       "3           0.797809           0.762866           0.781818            0.77551   \n",
       "4           0.797809           0.762866           0.781818            0.77551   \n",
       "\n",
       "   split9_test_score  mean_test_score  std_test_score  rank_test_score  \n",
       "0           0.790262         0.786726        0.011361                1  \n",
       "1           0.790262         0.786726        0.011361                1  \n",
       "2           0.790262         0.786726        0.011361                1  \n",
       "3           0.790262         0.786726        0.011361                1  \n",
       "4           0.790262         0.786726        0.011361                1  \n",
       "\n",
       "[5 rows x 22 columns]"
      ]
     },
     "execution_count": 46,
     "metadata": {},
     "output_type": "execute_result"
    }
   ],
   "source": [
    "SEED=301\n",
    "np.random.seed(SEED)\n",
    "\n",
    "espaco_de_parametros = {\n",
    "    \"max_depth\" : [3, 5],\n",
    "    \"min_samples_split\" : [32, 64, 128],\n",
    "    \"min_samples_leaf\" : [32, 64, 128],\n",
    "    \"criterion\" : [\"gini\", \"entropy\"]\n",
    "}\n",
    "\n",
    "busca = GridSearchCV(DecisionTreeClassifier(),\n",
    "                    espaco_de_parametros,\n",
    "                    cv = GroupKFold(n_splits = 10))\n",
    "busca.fit(x_azar, y_azar, groups = dados.modelo)\n",
    "resultados = pd.DataFrame(busca.cv_results_)\n",
    "resultados.head()"
   ]
  },
  {
   "cell_type": "code",
   "execution_count": 47,
   "metadata": {
    "colab": {
     "base_uri": "https://localhost:8080/",
     "height": 50
    },
    "colab_type": "code",
    "id": "xGEqRLcUrMuF",
    "outputId": "ada074b6-eedf-40eb-bc35-9af10deba1ea"
   },
   "outputs": [
    {
     "name": "stdout",
     "output_type": "stream",
     "text": [
      "{'criterion': 'gini', 'max_depth': 3, 'min_samples_leaf': 32, 'min_samples_split': 32}\n",
      "78.67263337284332\n"
     ]
    }
   ],
   "source": [
    "print(busca.best_params_)\n",
    "print(busca.best_score_ * 100)"
   ]
  },
  {
   "cell_type": "code",
   "execution_count": 48,
   "metadata": {
    "colab": {
     "base_uri": "https://localhost:8080/",
     "height": 118
    },
    "colab_type": "code",
    "id": "EcXir723rbI5",
    "outputId": "46abd9f6-d8f6-4883-f730-478f8a116f6f"
   },
   "outputs": [
    {
     "data": {
      "text/plain": [
       "DecisionTreeClassifier(max_depth=3, min_samples_leaf=32, min_samples_split=32)"
      ]
     },
     "execution_count": 48,
     "metadata": {},
     "output_type": "execute_result"
    }
   ],
   "source": [
    "melhor = busca.best_estimator_\n",
    "melhor"
   ]
  },
  {
   "cell_type": "code",
   "execution_count": 49,
   "metadata": {
    "colab": {
     "base_uri": "https://localhost:8080/",
     "height": 34
    },
    "colab_type": "code",
    "id": "fBUiCF3krkZo",
    "outputId": "4c93a18a-4dd2-4e3d-bd5e-a7be0e881f03"
   },
   "outputs": [
    {
     "name": "stdout",
     "output_type": "stream",
     "text": [
      "Accuracy para os dados foi 78.75%\n"
     ]
    }
   ],
   "source": [
    "# evitar essa abordagem pois estará sendo otimista\n",
    "\n",
    "predicoes = melhor.predict(x_azar)\n",
    "accuracy = accuracy_score(predicoes, y_azar) * 100\n",
    "print(\"Accuracy para os dados foi %.2f%%\" % accuracy)"
   ]
  },
  {
   "cell_type": "markdown",
   "metadata": {
    "colab_type": "text",
    "id": "mM-vg1Mrtj7V"
   },
   "source": [
    "# Como ter uma estimativa sem esse vício nos dados que eu já vi?\n",
    "\n",
    "No caso de cross validation com busca de hiper parâmetros, fazemos uma nova validação cruzada. Chama-se nested cross validation"
   ]
  },
  {
   "cell_type": "code",
   "execution_count": 50,
   "metadata": {
    "colab": {
     "base_uri": "https://localhost:8080/",
     "height": 1980
    },
    "colab_type": "code",
    "id": "cqZznVDKr--h",
    "outputId": "f444dc7b-47ba-493c-deac-a0b618300f3f",
    "scrolled": true
   },
   "outputs": [
    {
     "name": "stderr",
     "output_type": "stream",
     "text": [
      "/Users/marinaramalhetedesouza/opt/anaconda3/envs/mlaluranote/lib/python3.8/site-packages/sklearn/model_selection/_validation.py:372: FitFailedWarning: \n",
      "10 fits failed out of a total of 10.\n",
      "The score on these train-test partitions for these parameters will be set to nan.\n",
      "If these failures are not expected, you can try to debug them by setting error_score='raise'.\n",
      "\n",
      "Below are more details about the failures:\n",
      "--------------------------------------------------------------------------------\n",
      "10 fits failed with the following error:\n",
      "Traceback (most recent call last):\n",
      "  File \"/Users/marinaramalhetedesouza/opt/anaconda3/envs/mlaluranote/lib/python3.8/site-packages/sklearn/model_selection/_validation.py\", line 680, in _fit_and_score\n",
      "    estimator.fit(X_train, y_train, **fit_params)\n",
      "  File \"/Users/marinaramalhetedesouza/opt/anaconda3/envs/mlaluranote/lib/python3.8/site-packages/sklearn/model_selection/_search.py\", line 891, in fit\n",
      "    self._run_search(evaluate_candidates)\n",
      "  File \"/Users/marinaramalhetedesouza/opt/anaconda3/envs/mlaluranote/lib/python3.8/site-packages/sklearn/model_selection/_search.py\", line 1392, in _run_search\n",
      "    evaluate_candidates(ParameterGrid(self.param_grid))\n",
      "  File \"/Users/marinaramalhetedesouza/opt/anaconda3/envs/mlaluranote/lib/python3.8/site-packages/sklearn/model_selection/_search.py\", line 850, in evaluate_candidates\n",
      "    for (cand_idx, parameters), (split_idx, (train, test)) in product(\n",
      "  File \"/Users/marinaramalhetedesouza/opt/anaconda3/envs/mlaluranote/lib/python3.8/site-packages/sklearn/model_selection/_split.py\", line 340, in split\n",
      "    for train, test in super().split(X, y, groups):\n",
      "  File \"/Users/marinaramalhetedesouza/opt/anaconda3/envs/mlaluranote/lib/python3.8/site-packages/sklearn/model_selection/_split.py\", line 86, in split\n",
      "    for test_index in self._iter_test_masks(X, y, groups):\n",
      "  File \"/Users/marinaramalhetedesouza/opt/anaconda3/envs/mlaluranote/lib/python3.8/site-packages/sklearn/model_selection/_split.py\", line 98, in _iter_test_masks\n",
      "    for test_index in self._iter_test_indices(X, y, groups):\n",
      "  File \"/Users/marinaramalhetedesouza/opt/anaconda3/envs/mlaluranote/lib/python3.8/site-packages/sklearn/model_selection/_split.py\", line 510, in _iter_test_indices\n",
      "    raise ValueError(\"The 'groups' parameter should not be None.\")\n",
      "ValueError: The 'groups' parameter should not be None.\n",
      "\n",
      "  warnings.warn(some_fits_failed_message, FitFailedWarning)\n"
     ]
    }
   ],
   "source": [
    "scores = cross_val_score(busca, x_azar, y_azar, cv = GroupKFold(n_splits=10), groups = dados.modelo)"
   ]
  },
  {
   "cell_type": "markdown",
   "metadata": {
    "colab_type": "text",
    "id": "E_MEMPRYuWYT"
   },
   "source": [
    "# Infelizmente como o Pandas não suporta nested validation com group k fold não conseguimos prever o resultado para novos grupos"
   ]
  },
  {
   "cell_type": "code",
   "execution_count": 51,
   "metadata": {
    "colab": {
     "base_uri": "https://localhost:8080/",
     "height": 815
    },
    "colab_type": "code",
    "id": "9aYIMS1At7ZW",
    "outputId": "796c67c2-85f0-43cd-fb4e-439162257201"
   },
   "outputs": [
    {
     "data": {
      "text/html": [
       "<div>\n",
       "<style scoped>\n",
       "    .dataframe tbody tr th:only-of-type {\n",
       "        vertical-align: middle;\n",
       "    }\n",
       "\n",
       "    .dataframe tbody tr th {\n",
       "        vertical-align: top;\n",
       "    }\n",
       "\n",
       "    .dataframe thead th {\n",
       "        text-align: right;\n",
       "    }\n",
       "</style>\n",
       "<table border=\"1\" class=\"dataframe\">\n",
       "  <thead>\n",
       "    <tr style=\"text-align: right;\">\n",
       "      <th></th>\n",
       "      <th>mean_fit_time</th>\n",
       "      <th>std_fit_time</th>\n",
       "      <th>mean_score_time</th>\n",
       "      <th>std_score_time</th>\n",
       "      <th>param_criterion</th>\n",
       "      <th>param_max_depth</th>\n",
       "      <th>param_min_samples_leaf</th>\n",
       "      <th>param_min_samples_split</th>\n",
       "      <th>params</th>\n",
       "      <th>split0_test_score</th>\n",
       "      <th>split1_test_score</th>\n",
       "      <th>split2_test_score</th>\n",
       "      <th>split3_test_score</th>\n",
       "      <th>split4_test_score</th>\n",
       "      <th>mean_test_score</th>\n",
       "      <th>std_test_score</th>\n",
       "      <th>rank_test_score</th>\n",
       "    </tr>\n",
       "  </thead>\n",
       "  <tbody>\n",
       "    <tr>\n",
       "      <th>0</th>\n",
       "      <td>0.011473</td>\n",
       "      <td>0.002139</td>\n",
       "      <td>0.002656</td>\n",
       "      <td>0.000616</td>\n",
       "      <td>gini</td>\n",
       "      <td>3</td>\n",
       "      <td>32</td>\n",
       "      <td>32</td>\n",
       "      <td>{'criterion': 'gini', 'max_depth': 3, 'min_sam...</td>\n",
       "      <td>0.784</td>\n",
       "      <td>0.776</td>\n",
       "      <td>0.8025</td>\n",
       "      <td>0.793</td>\n",
       "      <td>0.7795</td>\n",
       "      <td>0.787</td>\n",
       "      <td>0.009618</td>\n",
       "      <td>1</td>\n",
       "    </tr>\n",
       "    <tr>\n",
       "      <th>1</th>\n",
       "      <td>0.008969</td>\n",
       "      <td>0.000609</td>\n",
       "      <td>0.001858</td>\n",
       "      <td>0.000098</td>\n",
       "      <td>gini</td>\n",
       "      <td>3</td>\n",
       "      <td>32</td>\n",
       "      <td>64</td>\n",
       "      <td>{'criterion': 'gini', 'max_depth': 3, 'min_sam...</td>\n",
       "      <td>0.784</td>\n",
       "      <td>0.776</td>\n",
       "      <td>0.8025</td>\n",
       "      <td>0.793</td>\n",
       "      <td>0.7795</td>\n",
       "      <td>0.787</td>\n",
       "      <td>0.009618</td>\n",
       "      <td>1</td>\n",
       "    </tr>\n",
       "    <tr>\n",
       "      <th>2</th>\n",
       "      <td>0.008602</td>\n",
       "      <td>0.000506</td>\n",
       "      <td>0.002009</td>\n",
       "      <td>0.000294</td>\n",
       "      <td>gini</td>\n",
       "      <td>3</td>\n",
       "      <td>32</td>\n",
       "      <td>128</td>\n",
       "      <td>{'criterion': 'gini', 'max_depth': 3, 'min_sam...</td>\n",
       "      <td>0.784</td>\n",
       "      <td>0.776</td>\n",
       "      <td>0.8025</td>\n",
       "      <td>0.793</td>\n",
       "      <td>0.7795</td>\n",
       "      <td>0.787</td>\n",
       "      <td>0.009618</td>\n",
       "      <td>1</td>\n",
       "    </tr>\n",
       "    <tr>\n",
       "      <th>3</th>\n",
       "      <td>0.008606</td>\n",
       "      <td>0.000350</td>\n",
       "      <td>0.001977</td>\n",
       "      <td>0.000115</td>\n",
       "      <td>gini</td>\n",
       "      <td>3</td>\n",
       "      <td>64</td>\n",
       "      <td>32</td>\n",
       "      <td>{'criterion': 'gini', 'max_depth': 3, 'min_sam...</td>\n",
       "      <td>0.784</td>\n",
       "      <td>0.776</td>\n",
       "      <td>0.8025</td>\n",
       "      <td>0.793</td>\n",
       "      <td>0.7795</td>\n",
       "      <td>0.787</td>\n",
       "      <td>0.009618</td>\n",
       "      <td>1</td>\n",
       "    </tr>\n",
       "    <tr>\n",
       "      <th>4</th>\n",
       "      <td>0.008860</td>\n",
       "      <td>0.000852</td>\n",
       "      <td>0.001832</td>\n",
       "      <td>0.000066</td>\n",
       "      <td>gini</td>\n",
       "      <td>3</td>\n",
       "      <td>64</td>\n",
       "      <td>64</td>\n",
       "      <td>{'criterion': 'gini', 'max_depth': 3, 'min_sam...</td>\n",
       "      <td>0.784</td>\n",
       "      <td>0.776</td>\n",
       "      <td>0.8025</td>\n",
       "      <td>0.793</td>\n",
       "      <td>0.7795</td>\n",
       "      <td>0.787</td>\n",
       "      <td>0.009618</td>\n",
       "      <td>1</td>\n",
       "    </tr>\n",
       "  </tbody>\n",
       "</table>\n",
       "</div>"
      ],
      "text/plain": [
       "   mean_fit_time  std_fit_time  mean_score_time  std_score_time  \\\n",
       "0       0.011473      0.002139         0.002656        0.000616   \n",
       "1       0.008969      0.000609         0.001858        0.000098   \n",
       "2       0.008602      0.000506         0.002009        0.000294   \n",
       "3       0.008606      0.000350         0.001977        0.000115   \n",
       "4       0.008860      0.000852         0.001832        0.000066   \n",
       "\n",
       "  param_criterion param_max_depth param_min_samples_leaf  \\\n",
       "0            gini               3                     32   \n",
       "1            gini               3                     32   \n",
       "2            gini               3                     32   \n",
       "3            gini               3                     64   \n",
       "4            gini               3                     64   \n",
       "\n",
       "  param_min_samples_split                                             params  \\\n",
       "0                      32  {'criterion': 'gini', 'max_depth': 3, 'min_sam...   \n",
       "1                      64  {'criterion': 'gini', 'max_depth': 3, 'min_sam...   \n",
       "2                     128  {'criterion': 'gini', 'max_depth': 3, 'min_sam...   \n",
       "3                      32  {'criterion': 'gini', 'max_depth': 3, 'min_sam...   \n",
       "4                      64  {'criterion': 'gini', 'max_depth': 3, 'min_sam...   \n",
       "\n",
       "   split0_test_score  split1_test_score  split2_test_score  split3_test_score  \\\n",
       "0              0.784              0.776             0.8025              0.793   \n",
       "1              0.784              0.776             0.8025              0.793   \n",
       "2              0.784              0.776             0.8025              0.793   \n",
       "3              0.784              0.776             0.8025              0.793   \n",
       "4              0.784              0.776             0.8025              0.793   \n",
       "\n",
       "   split4_test_score  mean_test_score  std_test_score  rank_test_score  \n",
       "0             0.7795            0.787        0.009618                1  \n",
       "1             0.7795            0.787        0.009618                1  \n",
       "2             0.7795            0.787        0.009618                1  \n",
       "3             0.7795            0.787        0.009618                1  \n",
       "4             0.7795            0.787        0.009618                1  "
      ]
     },
     "execution_count": 51,
     "metadata": {},
     "output_type": "execute_result"
    }
   ],
   "source": [
    "SEED=301\n",
    "np.random.seed(SEED)\n",
    "\n",
    "espaco_de_parametros = {\n",
    "    \"max_depth\" : [3, 5],\n",
    "    \"min_samples_split\" : [32, 64, 128],\n",
    "    \"min_samples_leaf\" : [32, 64, 128],\n",
    "    \"criterion\" : [\"gini\", \"entropy\"]\n",
    "}\n",
    "\n",
    "busca = GridSearchCV(DecisionTreeClassifier(),\n",
    "                    espaco_de_parametros,\n",
    "                    cv = KFold(n_splits = 5, shuffle=True))\n",
    "busca.fit(x_azar, y_azar)\n",
    "resultados = pd.DataFrame(busca.cv_results_)\n",
    "resultados.head()"
   ]
  },
  {
   "cell_type": "code",
   "execution_count": 52,
   "metadata": {
    "colab": {
     "base_uri": "https://localhost:8080/",
     "height": 34
    },
    "colab_type": "code",
    "id": "IHOi-91kulqx",
    "outputId": "8924bf96-8bc2-413b-ae11-2ce40000f072"
   },
   "outputs": [
    {
     "data": {
      "text/plain": [
       "array([0.7895, 0.7825, 0.7905, 0.7715, 0.7995])"
      ]
     },
     "execution_count": 52,
     "metadata": {},
     "output_type": "execute_result"
    }
   ],
   "source": [
    "scores = cross_val_score(busca, x_azar, y_azar, cv = KFold(n_splits=5, shuffle=True))\n",
    "scores"
   ]
  },
  {
   "cell_type": "code",
   "execution_count": 53,
   "metadata": {
    "colab": {},
    "colab_type": "code",
    "id": "Lc5EU1Uou07O"
   },
   "outputs": [],
   "source": [
    "def imprime_score(scores):\n",
    "  media = scores.mean() * 100\n",
    "  desvio = scores.std() * 100\n",
    "  print(\"Accuracy médio %.2f\" % media)\n",
    "  print(\"Intervalo [%.2f, %.2f]\" % (media - 2 * desvio, media + 2 * desvio))"
   ]
  },
  {
   "cell_type": "code",
   "execution_count": 54,
   "metadata": {
    "colab": {
     "base_uri": "https://localhost:8080/",
     "height": 51
    },
    "colab_type": "code",
    "id": "VDRWxxyevJiz",
    "outputId": "42022718-23a6-428b-a265-18107042a0f1"
   },
   "outputs": [
    {
     "name": "stdout",
     "output_type": "stream",
     "text": [
      "Accuracy médio 78.67\n",
      "Intervalo [76.80, 80.54]\n"
     ]
    }
   ],
   "source": [
    "imprime_score(scores)"
   ]
  },
  {
   "cell_type": "code",
   "execution_count": 55,
   "metadata": {
    "colab": {
     "base_uri": "https://localhost:8080/",
     "height": 119
    },
    "colab_type": "code",
    "id": "7fUVmolpvKco",
    "outputId": "4673d25f-b94a-4ba9-c67d-5cc211717a21"
   },
   "outputs": [
    {
     "name": "stdout",
     "output_type": "stream",
     "text": [
      "DecisionTreeClassifier(max_depth=3, min_samples_leaf=32, min_samples_split=32)\n"
     ]
    }
   ],
   "source": [
    "melhor = busca.best_estimator_\n",
    "print(melhor)"
   ]
  },
  {
   "cell_type": "code",
   "execution_count": 57,
   "metadata": {
    "colab": {
     "base_uri": "https://localhost:8080/",
     "height": 618
    },
    "colab_type": "code",
    "id": "eDBL3kBxvPPi",
    "outputId": "0c840ac7-4430-4450-ee9f-90488d10c2c7"
   },
   "outputs": [
    {
     "data": {
      "image/svg+xml": [
       "<?xml version=\"1.0\" encoding=\"UTF-8\" standalone=\"no\"?>\n",
       "<!DOCTYPE svg PUBLIC \"-//W3C//DTD SVG 1.1//EN\"\n",
       " \"http://www.w3.org/Graphics/SVG/1.1/DTD/svg11.dtd\">\n",
       "<!-- Generated by graphviz version 2.40.1 (20161225.0304)\n",
       " -->\n",
       "<!-- Title: Tree Pages: 1 -->\n",
       "<svg width=\"712pt\" height=\"433pt\"\n",
       " viewBox=\"0.00 0.00 712.00 433.00\" xmlns=\"http://www.w3.org/2000/svg\" xmlns:xlink=\"http://www.w3.org/1999/xlink\">\n",
       "<g id=\"graph0\" class=\"graph\" transform=\"scale(1 1) rotate(0) translate(4 429)\">\n",
       "<title>Tree</title>\n",
       "<polygon fill=\"#ffffff\" stroke=\"transparent\" points=\"-4,4 -4,-429 708,-429 708,4 -4,4\"/>\n",
       "<!-- 0 -->\n",
       "<g id=\"node1\" class=\"node\">\n",
       "<title>0</title>\n",
       "<path fill=\"#c8e4f8\" stroke=\"#000000\" d=\"M283,-425C283,-425 195,-425 195,-425 189,-425 183,-419 183,-413 183,-413 183,-354 183,-354 183,-348 189,-342 195,-342 195,-342 283,-342 283,-342 289,-342 295,-348 295,-354 295,-354 295,-413 295,-413 295,-419 289,-425 283,-425\"/>\n",
       "<text text-anchor=\"middle\" x=\"239\" y=\"-409.8\" font-family=\"Helvetica,sans-Serif\" font-size=\"14.00\" fill=\"#000000\">preco &lt;= 59982.246</text>\n",
       "<text text-anchor=\"middle\" x=\"239\" y=\"-394.8\" font-family=\"Helvetica,sans-Serif\" font-size=\"14.00\" fill=\"#000000\">gini = 0.487</text>\n",
       "<text text-anchor=\"middle\" x=\"239\" y=\"-379.8\" font-family=\"Helvetica,sans-Serif\" font-size=\"14.00\" fill=\"#000000\">samples = 10000</text>\n",
       "<text text-anchor=\"middle\" x=\"239\" y=\"-364.8\" font-family=\"Helvetica,sans-Serif\" font-size=\"14.00\" fill=\"#000000\">value = [4200, 5800]</text>\n",
       "<text text-anchor=\"middle\" x=\"239\" y=\"-349.8\" font-family=\"Helvetica,sans-Serif\" font-size=\"14.00\" fill=\"#000000\">class = sim</text>\n",
       "</g>\n",
       "<!-- 1 -->\n",
       "<g id=\"node2\" class=\"node\">\n",
       "<title>1</title>\n",
       "<path fill=\"#52a9e8\" stroke=\"#000000\" d=\"M210,-306C210,-306 124,-306 124,-306 118,-306 112,-300 112,-294 112,-294 112,-235 112,-235 112,-229 118,-223 124,-223 124,-223 210,-223 210,-223 216,-223 222,-229 222,-235 222,-235 222,-294 222,-294 222,-300 216,-306 210,-306\"/>\n",
       "<text text-anchor=\"middle\" x=\"167\" y=\"-290.8\" font-family=\"Helvetica,sans-Serif\" font-size=\"14.00\" fill=\"#000000\">preco &lt;= 40083.385</text>\n",
       "<text text-anchor=\"middle\" x=\"167\" y=\"-275.8\" font-family=\"Helvetica,sans-Serif\" font-size=\"14.00\" fill=\"#000000\">gini = 0.198</text>\n",
       "<text text-anchor=\"middle\" x=\"167\" y=\"-260.8\" font-family=\"Helvetica,sans-Serif\" font-size=\"14.00\" fill=\"#000000\">samples = 4347</text>\n",
       "<text text-anchor=\"middle\" x=\"167\" y=\"-245.8\" font-family=\"Helvetica,sans-Serif\" font-size=\"14.00\" fill=\"#000000\">value = [484, 3863]</text>\n",
       "<text text-anchor=\"middle\" x=\"167\" y=\"-230.8\" font-family=\"Helvetica,sans-Serif\" font-size=\"14.00\" fill=\"#000000\">class = sim</text>\n",
       "</g>\n",
       "<!-- 0&#45;&gt;1 -->\n",
       "<g id=\"edge1\" class=\"edge\">\n",
       "<title>0&#45;&gt;1</title>\n",
       "<path fill=\"none\" stroke=\"#000000\" d=\"M213.8179,-341.8796C208.5867,-333.2335 203.0195,-324.0322 197.6177,-315.1042\"/>\n",
       "<polygon fill=\"#000000\" stroke=\"#000000\" points=\"200.4608,-313.0421 192.2896,-306.2981 194.4717,-316.6658 200.4608,-313.0421\"/>\n",
       "<text text-anchor=\"middle\" x=\"186.316\" y=\"-326.8739\" font-family=\"Helvetica,sans-Serif\" font-size=\"14.00\" fill=\"#000000\">True</text>\n",
       "</g>\n",
       "<!-- 6 -->\n",
       "<g id=\"node7\" class=\"node\">\n",
       "<title>6</title>\n",
       "<path fill=\"#f3c3a0\" stroke=\"#000000\" d=\"M417.5,-306C417.5,-306 298.5,-306 298.5,-306 292.5,-306 286.5,-300 286.5,-294 286.5,-294 286.5,-235 286.5,-235 286.5,-229 292.5,-223 298.5,-223 298.5,-223 417.5,-223 417.5,-223 423.5,-223 429.5,-229 429.5,-235 429.5,-235 429.5,-294 429.5,-294 429.5,-300 423.5,-306 417.5,-306\"/>\n",
       "<text text-anchor=\"middle\" x=\"358\" y=\"-290.8\" font-family=\"Helvetica,sans-Serif\" font-size=\"14.00\" fill=\"#000000\">km_por_ano &lt;= 24124.006</text>\n",
       "<text text-anchor=\"middle\" x=\"358\" y=\"-275.8\" font-family=\"Helvetica,sans-Serif\" font-size=\"14.00\" fill=\"#000000\">gini = 0.45</text>\n",
       "<text text-anchor=\"middle\" x=\"358\" y=\"-260.8\" font-family=\"Helvetica,sans-Serif\" font-size=\"14.00\" fill=\"#000000\">samples = 5653</text>\n",
       "<text text-anchor=\"middle\" x=\"358\" y=\"-245.8\" font-family=\"Helvetica,sans-Serif\" font-size=\"14.00\" fill=\"#000000\">value = [3716, 1937]</text>\n",
       "<text text-anchor=\"middle\" x=\"358\" y=\"-230.8\" font-family=\"Helvetica,sans-Serif\" font-size=\"14.00\" fill=\"#000000\">class = não</text>\n",
       "</g>\n",
       "<!-- 0&#45;&gt;6 -->\n",
       "<g id=\"edge6\" class=\"edge\">\n",
       "<title>0&#45;&gt;6</title>\n",
       "<path fill=\"none\" stroke=\"#000000\" d=\"M280.6204,-341.8796C289.8069,-332.6931 299.6202,-322.8798 309.0664,-313.4336\"/>\n",
       "<polygon fill=\"#000000\" stroke=\"#000000\" points=\"311.6057,-315.8441 316.2019,-306.2981 306.6559,-310.8943 311.6057,-315.8441\"/>\n",
       "<text text-anchor=\"middle\" x=\"316.2019\" y=\"-327.5981\" font-family=\"Helvetica,sans-Serif\" font-size=\"14.00\" fill=\"#000000\">False</text>\n",
       "</g>\n",
       "<!-- 2 -->\n",
       "<g id=\"node3\" class=\"node\">\n",
       "<title>2</title>\n",
       "<path fill=\"#399de5\" stroke=\"#000000\" d=\"M82,-179.5C82,-179.5 12,-179.5 12,-179.5 6,-179.5 0,-173.5 0,-167.5 0,-167.5 0,-123.5 0,-123.5 0,-117.5 6,-111.5 12,-111.5 12,-111.5 82,-111.5 82,-111.5 88,-111.5 94,-117.5 94,-123.5 94,-123.5 94,-167.5 94,-167.5 94,-173.5 88,-179.5 82,-179.5\"/>\n",
       "<text text-anchor=\"middle\" x=\"47\" y=\"-164.3\" font-family=\"Helvetica,sans-Serif\" font-size=\"14.00\" fill=\"#000000\">gini = 0.0</text>\n",
       "<text text-anchor=\"middle\" x=\"47\" y=\"-149.3\" font-family=\"Helvetica,sans-Serif\" font-size=\"14.00\" fill=\"#000000\">samples = 1935</text>\n",
       "<text text-anchor=\"middle\" x=\"47\" y=\"-134.3\" font-family=\"Helvetica,sans-Serif\" font-size=\"14.00\" fill=\"#000000\">value = [0, 1935]</text>\n",
       "<text text-anchor=\"middle\" x=\"47\" y=\"-119.3\" font-family=\"Helvetica,sans-Serif\" font-size=\"14.00\" fill=\"#000000\">class = sim</text>\n",
       "</g>\n",
       "<!-- 1&#45;&gt;2 -->\n",
       "<g id=\"edge2\" class=\"edge\">\n",
       "<title>1&#45;&gt;2</title>\n",
       "<path fill=\"none\" stroke=\"#000000\" d=\"M125.0298,-222.8796C113.276,-211.2237 100.5046,-198.5587 88.7628,-186.9148\"/>\n",
       "<polygon fill=\"#000000\" stroke=\"#000000\" points=\"91.1684,-184.3712 81.6033,-179.8149 86.2394,-189.3416 91.1684,-184.3712\"/>\n",
       "</g>\n",
       "<!-- 3 -->\n",
       "<g id=\"node4\" class=\"node\">\n",
       "<title>3</title>\n",
       "<path fill=\"#6bb6ec\" stroke=\"#000000\" d=\"M210,-187C210,-187 124,-187 124,-187 118,-187 112,-181 112,-175 112,-175 112,-116 112,-116 112,-110 118,-104 124,-104 124,-104 210,-104 210,-104 216,-104 222,-110 222,-116 222,-116 222,-175 222,-175 222,-181 216,-187 210,-187\"/>\n",
       "<text text-anchor=\"middle\" x=\"167\" y=\"-171.8\" font-family=\"Helvetica,sans-Serif\" font-size=\"14.00\" fill=\"#000000\">preco &lt;= 41083.029</text>\n",
       "<text text-anchor=\"middle\" x=\"167\" y=\"-156.8\" font-family=\"Helvetica,sans-Serif\" font-size=\"14.00\" fill=\"#000000\">gini = 0.321</text>\n",
       "<text text-anchor=\"middle\" x=\"167\" y=\"-141.8\" font-family=\"Helvetica,sans-Serif\" font-size=\"14.00\" fill=\"#000000\">samples = 2412</text>\n",
       "<text text-anchor=\"middle\" x=\"167\" y=\"-126.8\" font-family=\"Helvetica,sans-Serif\" font-size=\"14.00\" fill=\"#000000\">value = [484, 1928]</text>\n",
       "<text text-anchor=\"middle\" x=\"167\" y=\"-111.8\" font-family=\"Helvetica,sans-Serif\" font-size=\"14.00\" fill=\"#000000\">class = sim</text>\n",
       "</g>\n",
       "<!-- 1&#45;&gt;3 -->\n",
       "<g id=\"edge3\" class=\"edge\">\n",
       "<title>1&#45;&gt;3</title>\n",
       "<path fill=\"none\" stroke=\"#000000\" d=\"M167,-222.8796C167,-214.6838 167,-205.9891 167,-197.5013\"/>\n",
       "<polygon fill=\"#000000\" stroke=\"#000000\" points=\"170.5001,-197.298 167,-187.2981 163.5001,-197.2981 170.5001,-197.298\"/>\n",
       "</g>\n",
       "<!-- 4 -->\n",
       "<g id=\"node5\" class=\"node\">\n",
       "<title>4</title>\n",
       "<path fill=\"#95cbf1\" stroke=\"#000000\" d=\"M83.5,-68C83.5,-68 18.5,-68 18.5,-68 12.5,-68 6.5,-62 6.5,-56 6.5,-56 6.5,-12 6.5,-12 6.5,-6 12.5,0 18.5,0 18.5,0 83.5,0 83.5,0 89.5,0 95.5,-6 95.5,-12 95.5,-12 95.5,-56 95.5,-56 95.5,-62 89.5,-68 83.5,-68\"/>\n",
       "<text text-anchor=\"middle\" x=\"51\" y=\"-52.8\" font-family=\"Helvetica,sans-Serif\" font-size=\"14.00\" fill=\"#000000\">gini = 0.434</text>\n",
       "<text text-anchor=\"middle\" x=\"51\" y=\"-37.8\" font-family=\"Helvetica,sans-Serif\" font-size=\"14.00\" fill=\"#000000\">samples = 110</text>\n",
       "<text text-anchor=\"middle\" x=\"51\" y=\"-22.8\" font-family=\"Helvetica,sans-Serif\" font-size=\"14.00\" fill=\"#000000\">value = [35, 75]</text>\n",
       "<text text-anchor=\"middle\" x=\"51\" y=\"-7.8\" font-family=\"Helvetica,sans-Serif\" font-size=\"14.00\" fill=\"#000000\">class = sim</text>\n",
       "</g>\n",
       "<!-- 3&#45;&gt;4 -->\n",
       "<g id=\"edge4\" class=\"edge\">\n",
       "<title>3&#45;&gt;4</title>\n",
       "<path fill=\"none\" stroke=\"#000000\" d=\"M123.8059,-103.9815C114.0531,-94.607 103.7017,-84.6572 93.9586,-75.2921\"/>\n",
       "<polygon fill=\"#000000\" stroke=\"#000000\" points=\"96.2815,-72.6702 86.6465,-68.2637 91.4306,-77.7169 96.2815,-72.6702\"/>\n",
       "</g>\n",
       "<!-- 5 -->\n",
       "<g id=\"node6\" class=\"node\">\n",
       "<title>5</title>\n",
       "<path fill=\"#69b5eb\" stroke=\"#000000\" d=\"M208,-68C208,-68 126,-68 126,-68 120,-68 114,-62 114,-56 114,-56 114,-12 114,-12 114,-6 120,0 126,0 126,0 208,0 208,0 214,0 220,-6 220,-12 220,-12 220,-56 220,-56 220,-62 214,-68 208,-68\"/>\n",
       "<text text-anchor=\"middle\" x=\"167\" y=\"-52.8\" font-family=\"Helvetica,sans-Serif\" font-size=\"14.00\" fill=\"#000000\">gini = 0.314</text>\n",
       "<text text-anchor=\"middle\" x=\"167\" y=\"-37.8\" font-family=\"Helvetica,sans-Serif\" font-size=\"14.00\" fill=\"#000000\">samples = 2302</text>\n",
       "<text text-anchor=\"middle\" x=\"167\" y=\"-22.8\" font-family=\"Helvetica,sans-Serif\" font-size=\"14.00\" fill=\"#000000\">value = [449, 1853]</text>\n",
       "<text text-anchor=\"middle\" x=\"167\" y=\"-7.8\" font-family=\"Helvetica,sans-Serif\" font-size=\"14.00\" fill=\"#000000\">class = sim</text>\n",
       "</g>\n",
       "<!-- 3&#45;&gt;5 -->\n",
       "<g id=\"edge5\" class=\"edge\">\n",
       "<title>3&#45;&gt;5</title>\n",
       "<path fill=\"none\" stroke=\"#000000\" d=\"M167,-103.9815C167,-95.618 167,-86.7965 167,-78.3409\"/>\n",
       "<polygon fill=\"#000000\" stroke=\"#000000\" points=\"170.5001,-78.2636 167,-68.2637 163.5001,-78.2637 170.5001,-78.2636\"/>\n",
       "</g>\n",
       "<!-- 7 -->\n",
       "<g id=\"node8\" class=\"node\">\n",
       "<title>7</title>\n",
       "<path fill=\"#fcefe5\" stroke=\"#000000\" d=\"M402,-187C402,-187 314,-187 314,-187 308,-187 302,-181 302,-175 302,-175 302,-116 302,-116 302,-110 308,-104 314,-104 314,-104 402,-104 402,-104 408,-104 414,-110 414,-116 414,-116 414,-175 414,-175 414,-181 408,-187 402,-187\"/>\n",
       "<text text-anchor=\"middle\" x=\"358\" y=\"-171.8\" font-family=\"Helvetica,sans-Serif\" font-size=\"14.00\" fill=\"#000000\">preco &lt;= 99974.41</text>\n",
       "<text text-anchor=\"middle\" x=\"358\" y=\"-156.8\" font-family=\"Helvetica,sans-Serif\" font-size=\"14.00\" fill=\"#000000\">gini = 0.498</text>\n",
       "<text text-anchor=\"middle\" x=\"358\" y=\"-141.8\" font-family=\"Helvetica,sans-Serif\" font-size=\"14.00\" fill=\"#000000\">samples = 3513</text>\n",
       "<text text-anchor=\"middle\" x=\"358\" y=\"-126.8\" font-family=\"Helvetica,sans-Serif\" font-size=\"14.00\" fill=\"#000000\">value = [1879, 1634]</text>\n",
       "<text text-anchor=\"middle\" x=\"358\" y=\"-111.8\" font-family=\"Helvetica,sans-Serif\" font-size=\"14.00\" fill=\"#000000\">class = não</text>\n",
       "</g>\n",
       "<!-- 6&#45;&gt;7 -->\n",
       "<g id=\"edge7\" class=\"edge\">\n",
       "<title>6&#45;&gt;7</title>\n",
       "<path fill=\"none\" stroke=\"#000000\" d=\"M358,-222.8796C358,-214.6838 358,-205.9891 358,-197.5013\"/>\n",
       "<polygon fill=\"#000000\" stroke=\"#000000\" points=\"361.5001,-197.298 358,-187.2981 354.5001,-197.2981 361.5001,-197.298\"/>\n",
       "</g>\n",
       "<!-- 10 -->\n",
       "<g id=\"node11\" class=\"node\">\n",
       "<title>10</title>\n",
       "<path fill=\"#e9965a\" stroke=\"#000000\" d=\"M582,-187C582,-187 490,-187 490,-187 484,-187 478,-181 478,-175 478,-175 478,-116 478,-116 478,-110 484,-104 490,-104 490,-104 582,-104 582,-104 588,-104 594,-110 594,-116 594,-116 594,-175 594,-175 594,-181 588,-187 582,-187\"/>\n",
       "<text text-anchor=\"middle\" x=\"536\" y=\"-171.8\" font-family=\"Helvetica,sans-Serif\" font-size=\"14.00\" fill=\"#000000\">preco &lt;= 100076.957</text>\n",
       "<text text-anchor=\"middle\" x=\"536\" y=\"-156.8\" font-family=\"Helvetica,sans-Serif\" font-size=\"14.00\" fill=\"#000000\">gini = 0.243</text>\n",
       "<text text-anchor=\"middle\" x=\"536\" y=\"-141.8\" font-family=\"Helvetica,sans-Serif\" font-size=\"14.00\" fill=\"#000000\">samples = 2140</text>\n",
       "<text text-anchor=\"middle\" x=\"536\" y=\"-126.8\" font-family=\"Helvetica,sans-Serif\" font-size=\"14.00\" fill=\"#000000\">value = [1837, 303]</text>\n",
       "<text text-anchor=\"middle\" x=\"536\" y=\"-111.8\" font-family=\"Helvetica,sans-Serif\" font-size=\"14.00\" fill=\"#000000\">class = não</text>\n",
       "</g>\n",
       "<!-- 6&#45;&gt;10 -->\n",
       "<g id=\"edge10\" class=\"edge\">\n",
       "<title>6&#45;&gt;10</title>\n",
       "<path fill=\"none\" stroke=\"#000000\" d=\"M420.2558,-222.8796C436.2204,-212.2066 453.4508,-200.6874 469.6152,-189.8809\"/>\n",
       "<polygon fill=\"#000000\" stroke=\"#000000\" points=\"471.5905,-192.7704 477.9586,-184.303 467.7,-186.9511 471.5905,-192.7704\"/>\n",
       "</g>\n",
       "<!-- 8 -->\n",
       "<g id=\"node9\" class=\"node\">\n",
       "<title>8</title>\n",
       "<path fill=\"#f9e0ce\" stroke=\"#000000\" d=\"M338,-68C338,-68 250,-68 250,-68 244,-68 238,-62 238,-56 238,-56 238,-12 238,-12 238,-6 244,0 250,0 250,0 338,0 338,0 344,0 350,-6 350,-12 350,-12 350,-56 350,-56 350,-62 344,-68 338,-68\"/>\n",
       "<text text-anchor=\"middle\" x=\"294\" y=\"-52.8\" font-family=\"Helvetica,sans-Serif\" font-size=\"14.00\" fill=\"#000000\">gini = 0.49</text>\n",
       "<text text-anchor=\"middle\" x=\"294\" y=\"-37.8\" font-family=\"Helvetica,sans-Serif\" font-size=\"14.00\" fill=\"#000000\">samples = 2944</text>\n",
       "<text text-anchor=\"middle\" x=\"294\" y=\"-22.8\" font-family=\"Helvetica,sans-Serif\" font-size=\"14.00\" fill=\"#000000\">value = [1682, 1262]</text>\n",
       "<text text-anchor=\"middle\" x=\"294\" y=\"-7.8\" font-family=\"Helvetica,sans-Serif\" font-size=\"14.00\" fill=\"#000000\">class = não</text>\n",
       "</g>\n",
       "<!-- 7&#45;&gt;8 -->\n",
       "<g id=\"edge8\" class=\"edge\">\n",
       "<title>7&#45;&gt;8</title>\n",
       "<path fill=\"none\" stroke=\"#000000\" d=\"M334.1688,-103.9815C329.1044,-95.1585 323.7475,-85.8258 318.6532,-76.9506\"/>\n",
       "<polygon fill=\"#000000\" stroke=\"#000000\" points=\"321.6807,-75.1942 313.667,-68.2637 315.6097,-78.6789 321.6807,-75.1942\"/>\n",
       "</g>\n",
       "<!-- 9 -->\n",
       "<g id=\"node10\" class=\"node\">\n",
       "<title>9</title>\n",
       "<path fill=\"#a2d1f3\" stroke=\"#000000\" d=\"M456,-68C456,-68 380,-68 380,-68 374,-68 368,-62 368,-56 368,-56 368,-12 368,-12 368,-6 374,0 380,0 380,0 456,0 456,0 462,0 468,-6 468,-12 468,-12 468,-56 468,-56 468,-62 462,-68 456,-68\"/>\n",
       "<text text-anchor=\"middle\" x=\"418\" y=\"-52.8\" font-family=\"Helvetica,sans-Serif\" font-size=\"14.00\" fill=\"#000000\">gini = 0.453</text>\n",
       "<text text-anchor=\"middle\" x=\"418\" y=\"-37.8\" font-family=\"Helvetica,sans-Serif\" font-size=\"14.00\" fill=\"#000000\">samples = 569</text>\n",
       "<text text-anchor=\"middle\" x=\"418\" y=\"-22.8\" font-family=\"Helvetica,sans-Serif\" font-size=\"14.00\" fill=\"#000000\">value = [197, 372]</text>\n",
       "<text text-anchor=\"middle\" x=\"418\" y=\"-7.8\" font-family=\"Helvetica,sans-Serif\" font-size=\"14.00\" fill=\"#000000\">class = sim</text>\n",
       "</g>\n",
       "<!-- 7&#45;&gt;9 -->\n",
       "<g id=\"edge9\" class=\"edge\">\n",
       "<title>7&#45;&gt;9</title>\n",
       "<path fill=\"none\" stroke=\"#000000\" d=\"M380.3418,-103.9815C385.0402,-95.2504 390.0071,-86.0202 394.7383,-77.2281\"/>\n",
       "<polygon fill=\"#000000\" stroke=\"#000000\" points=\"397.9056,-78.7282 399.5621,-68.2637 391.7414,-75.4111 397.9056,-78.7282\"/>\n",
       "</g>\n",
       "<!-- 11 -->\n",
       "<g id=\"node12\" class=\"node\">\n",
       "<title>11</title>\n",
       "<path fill=\"#e68742\" stroke=\"#000000\" d=\"M574,-68C574,-68 498,-68 498,-68 492,-68 486,-62 486,-56 486,-56 486,-12 486,-12 486,-6 492,0 498,0 498,0 574,0 574,0 580,0 586,-6 586,-12 586,-12 586,-56 586,-56 586,-62 580,-68 574,-68\"/>\n",
       "<text text-anchor=\"middle\" x=\"536\" y=\"-52.8\" font-family=\"Helvetica,sans-Serif\" font-size=\"14.00\" fill=\"#000000\">gini = 0.082</text>\n",
       "<text text-anchor=\"middle\" x=\"536\" y=\"-37.8\" font-family=\"Helvetica,sans-Serif\" font-size=\"14.00\" fill=\"#000000\">samples = 1809</text>\n",
       "<text text-anchor=\"middle\" x=\"536\" y=\"-22.8\" font-family=\"Helvetica,sans-Serif\" font-size=\"14.00\" fill=\"#000000\">value = [1732, 77]</text>\n",
       "<text text-anchor=\"middle\" x=\"536\" y=\"-7.8\" font-family=\"Helvetica,sans-Serif\" font-size=\"14.00\" fill=\"#000000\">class = não</text>\n",
       "</g>\n",
       "<!-- 10&#45;&gt;11 -->\n",
       "<g id=\"edge11\" class=\"edge\">\n",
       "<title>10&#45;&gt;11</title>\n",
       "<path fill=\"none\" stroke=\"#000000\" d=\"M536,-103.9815C536,-95.618 536,-86.7965 536,-78.3409\"/>\n",
       "<polygon fill=\"#000000\" stroke=\"#000000\" points=\"539.5001,-78.2636 536,-68.2637 532.5001,-78.2637 539.5001,-78.2636\"/>\n",
       "</g>\n",
       "<!-- 12 -->\n",
       "<g id=\"node13\" class=\"node\">\n",
       "<title>12</title>\n",
       "<path fill=\"#95cbf1\" stroke=\"#000000\" d=\"M692,-68C692,-68 616,-68 616,-68 610,-68 604,-62 604,-56 604,-56 604,-12 604,-12 604,-6 610,0 616,0 616,0 692,0 692,0 698,0 704,-6 704,-12 704,-12 704,-56 704,-56 704,-62 698,-68 692,-68\"/>\n",
       "<text text-anchor=\"middle\" x=\"654\" y=\"-52.8\" font-family=\"Helvetica,sans-Serif\" font-size=\"14.00\" fill=\"#000000\">gini = 0.433</text>\n",
       "<text text-anchor=\"middle\" x=\"654\" y=\"-37.8\" font-family=\"Helvetica,sans-Serif\" font-size=\"14.00\" fill=\"#000000\">samples = 331</text>\n",
       "<text text-anchor=\"middle\" x=\"654\" y=\"-22.8\" font-family=\"Helvetica,sans-Serif\" font-size=\"14.00\" fill=\"#000000\">value = [105, 226]</text>\n",
       "<text text-anchor=\"middle\" x=\"654\" y=\"-7.8\" font-family=\"Helvetica,sans-Serif\" font-size=\"14.00\" fill=\"#000000\">class = sim</text>\n",
       "</g>\n",
       "<!-- 10&#45;&gt;12 -->\n",
       "<g id=\"edge12\" class=\"edge\">\n",
       "<title>10&#45;&gt;12</title>\n",
       "<path fill=\"none\" stroke=\"#000000\" d=\"M579.9388,-103.9815C589.8598,-94.607 600.3897,-84.6572 610.3008,-75.2921\"/>\n",
       "<polygon fill=\"#000000\" stroke=\"#000000\" points=\"612.8743,-77.6757 617.7389,-68.2637 608.0666,-72.5878 612.8743,-77.6757\"/>\n",
       "</g>\n",
       "</g>\n",
       "</svg>\n"
      ],
      "text/plain": [
       "<graphviz.files.Source at 0x7fb389c958b0>"
      ]
     },
     "execution_count": 57,
     "metadata": {},
     "output_type": "execute_result"
    }
   ],
   "source": [
    "features = x_azar.columns\n",
    "dot_data = export_graphviz(melhor, out_file=None, filled=True, rounded=True,\n",
    "                          class_names=[\"não\",\"sim\"],\n",
    "                          feature_names = features)\n",
    "\n",
    "graph = graphviz.Source(dot_data)\n",
    "graph"
   ]
  },
  {
   "cell_type": "code",
   "execution_count": 0,
   "metadata": {
    "colab": {},
    "colab_type": "code",
    "id": "JiW754atvZ8N"
   },
   "outputs": [],
   "source": []
  }
 ],
 "metadata": {
  "colab": {
   "collapsed_sections": [],
   "name": "Introdução_a_Machine_Learning_Otimização.ipynb",
   "provenance": [],
   "version": "0.3.2"
  },
  "kernelspec": {
   "display_name": "Python 3 (ipykernel)",
   "language": "python",
   "name": "python3"
  },
  "language_info": {
   "codemirror_mode": {
    "name": "ipython",
    "version": 3
   },
   "file_extension": ".py",
   "mimetype": "text/x-python",
   "name": "python",
   "nbconvert_exporter": "python",
   "pygments_lexer": "ipython3",
   "version": "3.8.12"
  }
 },
 "nbformat": 4,
 "nbformat_minor": 1
}
